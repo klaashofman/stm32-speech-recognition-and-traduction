{
  "cells": [
    {
      "cell_type": "markdown",
      "metadata": {
        "id": "2-3K2CKr6fP3"
      },
      "source": [
        "# Imports"
      ]
    },
    {
      "cell_type": "code",
      "execution_count": 113,
      "metadata": {
        "colab": {
          "base_uri": "https://localhost:8080/"
        },
        "id": "KE0JjJhC0UQr",
        "outputId": "1239c3d8-937f-4c8f-a136-edbffd849846"
      },
      "outputs": [
        {
          "name": "stderr",
          "output_type": "stream",
          "text": [
            "17622.95s - pydevd: Sending message related to process being replaced timed-out after 5 seconds\n"
          ]
        },
        {
          "name": "stdout",
          "output_type": "stream",
          "text": [
            "Requirement already satisfied: pydub in ./.venv/lib/python3.12/site-packages (0.25.1)\n"
          ]
        }
      ],
      "source": [
        "!pip install pydub"
      ]
    },
    {
      "cell_type": "code",
      "execution_count": 114,
      "metadata": {
        "colab": {
          "base_uri": "https://localhost:8080/"
        },
        "id": "SdavesC1zSrv",
        "outputId": "f18489c0-6aad-402b-bf13-d0da3b8f0617"
      },
      "outputs": [
        {
          "name": "stdout",
          "output_type": "stream",
          "text": [
            "TensorFlow Version: 2.17.0\n"
          ]
        }
      ],
      "source": [
        "import os\n",
        "from os import listdir\n",
        "from pathlib import Path\n",
        "\n",
        "import tensorflow as tf\n",
        "import numpy as np\n",
        "import matplotlib.pyplot as plt\n",
        "import seaborn as sns\n",
        "\n",
        "import itertools\n",
        "import glob\n",
        "import random\n",
        "\n",
        "from IPython.display import Audio, Image\n",
        "from scipy.io import wavfile\n",
        "from os.path import isdir, join\n",
        "\n",
        "import librosa\n",
        "import random\n",
        "import numpy as np\n",
        "import matplotlib.pyplot as plt\n",
        "import seaborn as sbn\n",
        "\n",
        "from tqdm import tqdm\n",
        "\n",
        "import tensorflow_datasets as tfds\n",
        "\n",
        "from pydub import AudioSegment\n",
        "from pydub.playback import play\n",
        "import soundfile as sf\n",
        "\n",
        "import typing as T\n",
        "\n",
        "from sklearn.model_selection import StratifiedKFold\n",
        "from sklearn.model_selection import StratifiedShuffleSplit\n",
        "\n",
        "print(f\"TensorFlow Version: {tf.__version__}\")"
      ]
    },
    {
      "cell_type": "markdown",
      "metadata": {
        "id": "diuZbXxB6i0A"
      },
      "source": [
        "# Download the dataset"
      ]
    },
    {
      "cell_type": "code",
      "execution_count": 115,
      "metadata": {
        "colab": {
          "base_uri": "https://localhost:8080/",
          "height": 299,
          "referenced_widgets": [
            "0d1e0cc4415e4fcfb0c7d25e9367debd",
            "e36e782b71d1498cb496046952d4eec5",
            "403e8036e011443f9f08bcfe64618d29",
            "4273da32cd9a49b3ae700fb3d6fbedd0",
            "d8f638cdf3dd4c5497cb05a8a0fb7ad0",
            "a89873d4c2184e01adaa511d352f6bb5",
            "38a2092df6db406db8be09169b8109cd",
            "3d7d5e1359754bafaf9446af91037330",
            "7a586561029440a09a6e5ecd92228195",
            "70f789b7efc043a2bd905cd3b9edd0a7",
            "ab13cb424ba54b678428e144cac7775a",
            "42b4f020ae3049319466539b5923cffc",
            "ab6f7a1b22a3424cb2b381804bc05751",
            "115ba5781eed486799054a89c6ff95d1",
            "c537623134d94e1ea55a676ee3271f0b",
            "65d260cec9aa44029ef3b0923a2b1e39",
            "5036862f720e465a8634e2ff4f2cee9c",
            "5676bbba7e4547f9ac1cf0779ad472d2",
            "3369732b9149422d80566f4fbc8db7b0",
            "47e79578e3ec407fa7eade747fedec77",
            "082f381ba40f4762803f369f054cc987",
            "7606ff9d1fae4a1d9014b43a61004404",
            "f12b385712c3492b99ea12d9795483d2",
            "ba8e627c2a2249768b81450193bbb919",
            "72e0b17f6ca442b784bc635112a2416f",
            "82a570256dc34d76a7fbf56524d0f3d5",
            "be15ddece2584426a92ad313c5eb779a",
            "df4c61bdd443427fac6693cabc1b0e76",
            "cb77715818bd4be781aa9cafb5f7ac62",
            "1126c99c48ed4c54a42df9e62f1a8b4c",
            "b1a916d2ae1842cd9f42e37f4c4cd7c7",
            "4afdd666bcca43b0ade8d8b714686639",
            "ef6b78adc5994a9696f70a6689555268",
            "a1f6c525c69e4d9282714a6be9d048c1",
            "48fc22d8eab042f3937afd92911d3767",
            "df1fac49d5d045c09df74677a397dde2",
            "cb44cdac87d94b1eac5ec8b17a989c31",
            "3e8892ad45cc4a44b0fb527c7be56c7d",
            "650127bf9679430bbbade80ecf33d2b6",
            "b02f05313faa42569416ae4c3bdc2b00",
            "9eef7276fab14f6d95a30f96fe09f9f3",
            "87d414b67437424a88ea870a04f2c311",
            "08e2daa05c02493fb23b6f22afee9934",
            "05f1416828b8497ea9887c1bed261d20",
            "1ccbdef9fe934b5b90d193dfdce9fe33",
            "2e792dcb3b9c4b37b943f7d48bfe1f47",
            "92988901f8db4863b99a36e980246686",
            "8201474ddf17463eb39311e00d2d01c8",
            "32c9f9fdb7aa49838dd9001e7a51980b",
            "582a01c96fc7485da551d2c1fe68e72a",
            "72db5e3aaa00422e984c6c96594610aa",
            "c4eabbcc50b145679d4cf862aff34476",
            "7dce796c099543ec88b20a62a1b92ef2",
            "26baa2b121854d91a4b3d60353579ae1",
            "5701351a577d4c788a42f72d8f19b33b",
            "21ed5f6ed72146199b23c2f602ef8279",
            "7405f4b6e9a34fe38330dbc713c30ef5",
            "152c72c8d9d14f928794484d9f46ad03",
            "90de478c64894473a07531da446e3700",
            "f28ebbf31972465dabfd5f768577b2d4",
            "e0f06924177e4d2ab42dd20bc9c32148",
            "02f990ddbe864d4da39f5f8149993292",
            "8b1df2c884b44edda758a1172697601a",
            "e7ccd2b99fd340b6b1b51c688ae81728",
            "e925e9563d794cadbea985c038421f53",
            "9afc5e4fa3774f08b35cc815cc665ef7",
            "b36d78e8817645b292ff128ef86b3f5c",
            "f79d7326371248c5bb0f731e2b4f4a15",
            "87e23f3b24bf42a4b649e741752ad96c",
            "4c42c073d17840c8af1d268622f58722",
            "680ce27788ed47559ccbb74fb1b41e46",
            "7bc834feca1f45328ee5ac09fa12fe52",
            "39687c8c6e2f41fd8f072dc8822fe579",
            "adc52c96e75146ddbe9be02b137d090b",
            "77fe1cd73c924f23874607c0f6ea02b3",
            "2cf5d74e292b4b5ba44e2d64aee66276",
            "9f177d751e9f4ca5912ab376112e84af",
            "d99f40914acd40f9bbdb4c75dfd266f4",
            "288f79a7a6aa48fa9905203ccc53f0a0",
            "ea26d0c8fdc04114890f673c9d618c39",
            "926c53d1bea54f1c958eb1623de9f5eb",
            "28b7920d953841c998fc535552ebc430",
            "1763a9e63423494cb26bd7057cdd1100",
            "8502621448a74334b75c82cdf87328bb",
            "6ea7524019344be3a37a519a699589c4",
            "efccef0040b24b488993779905fa145e",
            "169d9d2cc5d148969c484fbb8d507064",
            "4208d65f74f640b1bea63f68b77d2fed"
          ]
        },
        "id": "sBjPSRuuzXIv",
        "outputId": "b693eeac-f3e1-4df8-fc40-e93802b812ea"
      },
      "outputs": [],
      "source": [
        "ds, info = tfds.load('speech_commands',\n",
        "                     split=['train', 'validation'], \n",
        "                     data_dir='dataset', \n",
        "                     with_info=True)"
      ]
    },
    {
      "cell_type": "markdown",
      "metadata": {
        "id": "EEYesmYd--KF"
      },
      "source": [
        "## Extract the dataset"
      ]
    },
    {
      "cell_type": "code",
      "execution_count": 116,
      "metadata": {
        "colab": {
          "base_uri": "https://localhost:8080/"
        },
        "id": "PdErTK7V2RGh",
        "outputId": "645ab971-5dff-4e84-eb62-b6dceda3a161"
      },
      "outputs": [
        {
          "name": "stderr",
          "output_type": "stream",
          "text": [
            "17629.08s - pydevd: Sending message related to process being replaced timed-out after 5 seconds\n",
            "17636.68s - pydevd: Sending message related to process being replaced timed-out after 5 seconds\n"
          ]
        },
        {
          "name": "stdout",
          "output_type": "stream",
          "text": [
            "tar: Error opening archive: Unrecognized archive format\n"
          ]
        },
        {
          "name": "stderr",
          "output_type": "stream",
          "text": [
            "17642.01s - pydevd: Sending message related to process being replaced timed-out after 5 seconds\n",
            "17681.33s - pydevd: Sending message related to process being replaced timed-out after 5 seconds\n"
          ]
        },
        {
          "name": "stdout",
          "output_type": "stream",
          "text": [
            "tar: Error opening archive: Unrecognized archive format\n"
          ]
        }
      ],
      "source": [
        "!tar -xzf \"dataset/downloads/down.tens.org_spee_comm_test_set_v0.2zCoAwRR8IlTpvj-g93nYwXQh3DSbhjZlZ6jt-prNUd8.tar.gz\" -C \"dataset/downloads/extracted\"\n",
        "!tar -xzf \"dataset/downloads/down.tens.org_spee_comm_test_set_v0.2zCoAwRR8IlTpvj-g93nYwXQh3DSbhjZlZ6jt-prNUd8.tar.gz.INFO\" -C \"dataset/downloads/extracted\"\n",
        "!tar -xzf \"dataset/downloads/downloa.tensorf.org_speech_command_v0.2rxRznufcMRRx3pj1-dLJGRsYrt_pV_Sm_3kccJho_1g.tar.gz\" -C \"dataset/downloads/extracted\"\n",
        "!tar -xzf \"dataset/downloads/downloa.tensorf.org_speech_command_v0.2rxRznufcMRRx3pj1-dLJGRsYrt_pV_Sm_3kccJho_1g.tar.gz.INFO\" -C \"dataset/downloads/extracted\""
      ]
    },
    {
      "cell_type": "markdown",
      "metadata": {
        "id": "X1JGrfZth026"
      },
      "source": [
        "## Split the background_noise files into 1 second wav files, because they are longer than 1 second each."
      ]
    },
    {
      "cell_type": "code",
      "execution_count": 117,
      "metadata": {
        "id": "gFO5ZDQwTblP"
      },
      "outputs": [],
      "source": [
        "background_noise_base_dir = \"dataset/downloads/extracted/_background_noise_\"\n",
        "background_noise_path = Path(background_noise_base_dir).rglob(\"*.wav\")\n",
        "\n",
        "for background_noise_audio in background_noise_path:\n",
        "  # Load the file\n",
        "\n",
        "  file_name = background_noise_audio.stem\n",
        "  audio, sr = librosa.load(background_noise_audio, sr=None)\n",
        "\n",
        "  # Split the file by second\n",
        "\n",
        "  for i in range(int(len(audio)/sr)):\n",
        "    sf.write(f\"{background_noise_base_dir}/{file_name}_{i}.wav\", audio[(i*sr):(i+1)*sr], sr)\n",
        "\n",
        "  # Remove the original file since it is not useful anymore\n",
        "\n",
        "  os.system(f\"rm {background_noise_audio}\")"
      ]
    },
    {
      "cell_type": "markdown",
      "metadata": {
        "id": "be0tgsepiNNg"
      },
      "source": [
        "# Create dataset"
      ]
    },
    {
      "cell_type": "code",
      "execution_count": null,
      "metadata": {
        "id": "SXokA_fM0A3W"
      },
      "outputs": [],
      "source": [
        "dataset_path = 'dataset/downloads/extracted'"
      ]
    },
    {
      "cell_type": "code",
      "execution_count": null,
      "metadata": {
        "colab": {
          "base_uri": "https://localhost:8080/"
        },
        "id": "6BtLTryZz-on",
        "outputId": "d1f60edf-9e01-45f7-e2f7-711df57f6e3f"
      },
      "outputs": [
        {
          "name": "stdout",
          "output_type": "stream",
          "text": [
            "['_background_noise_', '_silence_', '_unknown_', 'backward', 'bed', 'bird', 'cat', 'dog', 'down', 'eight', 'five', 'follow', 'forward', 'four', 'go', 'happy', 'house', 'learn', 'left', 'marvin', 'nine', 'no', 'off', 'on', 'one', 'right', 'seven', 'sheila', 'six', 'stop', 'three', 'tree', 'two', 'up', 'visual', 'wow', 'yes', 'zero']\n"
          ]
        }
      ],
      "source": [
        "# Create an all targets list\n",
        "all_targets = [name for name in listdir(dataset_path) if isdir(join(dataset_path, name))]\n",
        "\n",
        "# Sort the files because `listdir` always changes the order of listed files\n",
        "\n",
        "all_targets.sort()\n",
        "\n",
        "print(all_targets)"
      ]
    },
    {
      "cell_type": "code",
      "execution_count": null,
      "metadata": {
        "id": "lWn_ExJu1GhI"
      },
      "outputs": [],
      "source": [
        "# Settings\n",
        "\n",
        "target_list = all_targets\n",
        "feature_sets_file = 'all_targets_mfcc_sets.npz'\n",
        "sample_rate = 16000 # Hz\n",
        "num_mfcc = 16\n",
        "\n",
        "# number of frames\n",
        "len_mfcc = 28"
      ]
    },
    {
      "cell_type": "code",
      "execution_count": null,
      "metadata": {
        "colab": {
          "base_uri": "https://localhost:8080/"
        },
        "id": "c7Bf1waH1AnY",
        "outputId": "2aee3a4f-e86f-4b9d-916f-cb895599c948"
      },
      "outputs": [
        {
          "name": "stdout",
          "output_type": "stream",
          "text": [
            "Total samples: 108296\n"
          ]
        }
      ],
      "source": [
        "# Check the total number of files\n",
        "\n",
        "num_samples = 0\n",
        "for target in all_targets:\n",
        "    num_samples += len(listdir(join(dataset_path, target)))\n",
        "print('Total samples:', num_samples)"
      ]
    },
    {
      "cell_type": "code",
      "execution_count": null,
      "metadata": {
        "colab": {
          "base_uri": "https://localhost:8080/"
        },
        "id": "ohxixVvuxAIw",
        "outputId": "a072f506-8378-4400-c53a-3e033e41a829"
      },
      "outputs": [
        {
          "name": "stdout",
          "output_type": "stream",
          "text": [
            "dataset/downloads/extracted/_background_noise_ , index  0\n",
            "dataset/downloads/extracted/_silence_ , index  1\n",
            "dataset/downloads/extracted/_unknown_ , index  2\n",
            "dataset/downloads/extracted/backward , index  3\n",
            "dataset/downloads/extracted/bed , index  4\n",
            "dataset/downloads/extracted/bird , index  5\n",
            "dataset/downloads/extracted/cat , index  6\n",
            "dataset/downloads/extracted/dog , index  7\n",
            "dataset/downloads/extracted/down , index  8\n",
            "dataset/downloads/extracted/eight , index  9\n",
            "dataset/downloads/extracted/five , index  10\n",
            "dataset/downloads/extracted/follow , index  11\n",
            "dataset/downloads/extracted/forward , index  12\n",
            "dataset/downloads/extracted/four , index  13\n",
            "dataset/downloads/extracted/go , index  14\n",
            "dataset/downloads/extracted/happy , index  15\n",
            "dataset/downloads/extracted/house , index  16\n",
            "dataset/downloads/extracted/learn , index  17\n",
            "dataset/downloads/extracted/left , index  18\n",
            "dataset/downloads/extracted/marvin , index  19\n",
            "dataset/downloads/extracted/nine , index  20\n",
            "dataset/downloads/extracted/no , index  21\n",
            "dataset/downloads/extracted/off , index  22\n",
            "dataset/downloads/extracted/on , index  23\n",
            "dataset/downloads/extracted/one , index  24\n",
            "dataset/downloads/extracted/right , index  25\n",
            "dataset/downloads/extracted/seven , index  26\n",
            "dataset/downloads/extracted/sheila , index  27\n",
            "dataset/downloads/extracted/six , index  28\n",
            "dataset/downloads/extracted/stop , index  29\n",
            "dataset/downloads/extracted/three , index  30\n",
            "dataset/downloads/extracted/tree , index  31\n",
            "dataset/downloads/extracted/two , index  32\n",
            "dataset/downloads/extracted/up , index  33\n",
            "dataset/downloads/extracted/visual , index  34\n",
            "dataset/downloads/extracted/wow , index  35\n",
            "dataset/downloads/extracted/yes , index  36\n",
            "dataset/downloads/extracted/zero , index  37\n"
          ]
        }
      ],
      "source": [
        "# Create list of filenames along with ground truth vector (y)\n",
        "\n",
        "filenames = []\n",
        "y = []\n",
        "\n",
        "for index, target in enumerate(target_list):\n",
        "    print(join(dataset_path, target), \", index \", index)\n",
        "    filenames.append(listdir(join(dataset_path, target)))\n",
        "    y.append(np.ones(len(filenames[index])) * index)"
      ]
    },
    {
      "cell_type": "code",
      "execution_count": null,
      "metadata": {
        "colab": {
          "base_uri": "https://localhost:8080/"
        },
        "id": "skaRXYj_L03a",
        "outputId": "2dfafb60-6391-4860-8715-f9bbff6e4e7c"
      },
      "outputs": [
        {
          "name": "stdout",
          "output_type": "stream",
          "text": [
            "[['running_tap_34_0.wav', 'doing_the_dishes_86_0_0_0_0_0_0.wav', 'running_tap_17_0_0.wav', 'white_noise_10.wav', 'pink_noise_26.wav', 'dude_miaowing_54_0_0_0_0.wav', 'doing_the_dishes_20_0_0_0_0_0_0.wav', 'running_tap_42_0_0_0_0_0_0.wav', 'dude_miaowing_21_0_0_0_0_0_0.wav', 'exercise_bike_48_0.wav', 'doing_the_dishes_85_0_0.wav', 'pink_noise_32.wav', 'white_noise_38.wav', 'exercise_bike_17_0_0_0_0_0_0.wav', 'exercise_bike_8_0_0_0_0.wav', 'white_noise_9_0_0_0_0.wav', 'white_noise_3_0_0_0_0_0_0.wav', 'white_noise_15_0_0.wav', 'dude_miaowing_24_0_0_0_0.wav', 'running_tap_23.wav', 'pink_noise_57_0_0.wav', 'exercise_bike_11_0_0.wav', 'white_noise_16_0_0_0_0.wav', 'running_tap_37.wav', 'pink_noise_47_0_0.wav', 'white_noise_48_0_0_0_0.wav', 'exercise_bike_15_0_0_0_0.wav', 'doing_the_dishes_13_0_0_0_0.wav', 'pink_noise_35_0_0.wav', 'dude_miaowing_54_0.wav', 'pink_noise_25_0_0.wav', 'doing_the_dishes_66.wav', 'pink_noise_27_0_0_0_0_0_0.wav', 'running_tap_57_0_0_0_0.wav', 'pink_noise_27_0_0_0_0.wav', 'doing_the_dishes_72.wav', 'running_tap_38_0_0_0_0_0_0.wav', 'exercise_bike_50_0_0_0_0_0_0.wav', 'white_noise_40_0_0_0_0_0_0.wav', 'doing_the_dishes_7_0_0.wav', 'doing_the_dishes_67_0_0_0_0_0_0.wav', 'exercise_bike_3.wav', 'exercise_bike_34.wav', 'doing_the_dishes_63_0_0_0_0.wav', 'exercise_bike_30_0.wav', 'white_noise_38_0_0_0_0.wav', 'exercise_bike_20.wav', 'dude_miaowing_22.wav', 'running_tap_6.wav', 'pink_noise_57_0_0_0_0.wav', 'running_tap_27_0_0_0_0.wav', 'dude_miaowing_36.wav', 'pink_noise_5_0_0_0_0_0_0.wav', 'doing_the_dishes_13_0.wav', 'doing_the_dishes_82_0_0_0_0.wav', 'dude_miaowing_16_0_0_0_0.wav', 'running_tap_7.wav', 'doing_the_dishes_13_0_0.wav', 'dude_miaowing_37.wav', 'dude_miaowing_23.wav', 'white_noise_24_0_0_0_0.wav', 'running_tap_1_0.wav', 'exercise_bike_21.wav', 'exercise_bike_35.wav', 'dude_miaowing_35_0.wav', 'exercise_bike_2.wav', 'doing_the_dishes_43_0_0_0_0_0_0.wav', 'dude_miaowing_42_0_0_0_0_0_0.wav', 'running_tap_21_0_0_0_0_0_0.wav', 'doing_the_dishes_6_0_0_0_0_0_0.wav', 'dude_miaowing_7_0_0_0_0.wav', 'running_tap_50_0_0_0.wav', 'doing_the_dishes_73.wav', 'dude_miaowing_9_0_0_0_0_0_0.wav', 'doing_the_dishes_67.wav', 'exercise_bike_51_0.wav', 'exercise_bike_2_0_0_0_0_0_0.wav', 'white_noise_59_0_0_0_0_0_0.wav', 'white_noise_54_0_0_0_0.wav', 'running_tap_38_0_0.wav', 'exercise_bike_49_0_0_0_0_0_0.wav', 'running_tap_28_0_0.wav', 'exercise_bike_57_0_0_0_0.wav', 'doing_the_dishes_51_0_0_0_0.wav', 'running_tap_36.wav', 'running_tap_22.wav', 'dude_miaowing_38_0_0_0_0.wav', 'exercise_bike_29_0.wav', 'doing_the_dishes_4_0_0_0_0.wav', 'running_tap_7_0_0.wav', 'running_tap_15_0_0_0_0.wav', 'dude_miaowing_13_0_0.wav', 'dude_miaowing_0_0_0.wav', 'running_tap_55_0.wav', 'doing_the_dishes_21_0_0_0_0.wav', 'exercise_bike_27_0_0_0_0.wav', 'exercise_bike_33_0_0_0_0_0_0.wav', 'white_noise_39.wav', 'white_noise_23_0_0_0_0_0_0.wav', 'pink_noise_33.wav', 'dude_miaowing_48_0_0_0_0.wav', 'doing_the_dishes_71_0_0.wav', 'pink_noise_27.wav', 'pink_noise_15_0_0_0_0.wav', 'white_noise_11.wav', 'doing_the_dishes_61_0_0.wav', 'exercise_bike_8_0_0.wav', 'pink_noise_44_0_0_0_0_0_0.wav', 'white_noise_48_0_0.wav', 'doing_the_dishes_39_0_0_0_0_0_0.wav', 'white_noise_58_0_0.wav', 'dude_miaowing_38_0_0_0_0_0_0.wav', 'dude_miaowing_6_0_0_0_0_0_0.wav', 'running_tap_13_0_0_0_0_0_0.wav', 'exercise_bike_42_0_0_0_0.wav', 'pink_noise_7_0_0_0_0.wav', 'doing_the_dishes_71_0_0_0_0_0_0.wav', 'running_tap_57_0.wav', 'doing_the_dishes_44_0_0_0_0.wav', 'exercise_bike_46_0_0_0_0_0_0.wav', 'white_noise_56_0_0_0_0_0_0.wav', 'pink_noise_31_0_0_0_0_0_0.wav', 'pink_noise_31.wav', 'doing_the_dishes_9_0_0_0_0_0_0.wav', 'white_noise_13.wav', 'pink_noise_25.wav', 'doing_the_dishes_57_0_0.wav', 'white_noise_0_0_0_0_0.wav', 'doing_the_dishes_47_0_0.wav', 'pink_noise_19.wav', 'exercise_bike_1_0_0_0_0.wav', 'doing_the_dishes_34_0_0_0_0.wav', 'exercise_bike_32_0_0_0_0.wav', 'running_tap_34.wav', 'dude_miaowing_25_0_0.wav', 'running_tap_20.wav', 'dude_miaowing_35_0_0.wav', 'white_noise_11_0_0_0_0_0_0.wav', 'running_tap_3_0.wav', 'dude_miaowing_47_0_0.wav', 'dude_miaowing_57_0_0.wav', 'doing_the_dishes_59.wav', 'running_tap_54_0_0_0_0_0_0.wav', 'dude_miaowing_37_0_0_0_0_0_0.wav', 'doing_the_dishes_71.wav', 'doing_the_dishes_36_0_0_0_0_0_0.wav', 'doing_the_dishes_65.wav', 'exercise_bike_0.wav', 'doing_the_dishes_11_0.wav', 'doing_the_dishes_90_0_0_0_0_0_0.wav', 'white_noise_31_0_0_0_0.wav', 'exercise_bike_53_0.wav', 'exercise_bike_23.wav', 'doing_the_dishes_35_0_0.wav', 'doing_the_dishes_25_0_0.wav', 'exercise_bike_37.wav', 'dude_miaowing_35.wav', 'running_tap_5.wav', 'dude_miaowing_21.wav', 'exercise_bike_18_0_0.wav', 'white_noise_41_0_0_0_0.wav', 'doing_the_dishes_70_0.wav', 'running_tap_43_0_0.wav', 'running_tap_53_0_0.wav', 'running_tap_42_0_0_0_0.wav', 'pink_noise_32_0_0_0_0.wav', 'white_noise_2_0_0.wav', 'dude_miaowing_20.wav', 'dude_miaowing_9_0_0.wav', 'dude_miaowing_34.wav', 'running_tap_4.wav', 'exercise_bike_36.wav', 'exercise_bike_22.wav', 'dude_miaowing_56_0.wav', 'pink_noise_52_0_0_0_0_0_0.wav', 'doing_the_dishes_76_0_0_0_0.wav', 'exercise_bike_1.wav', 'exercise_bike_18_0_0_0_0_0_0.wav', 'pink_noise_42_0_0_0_0.wav', 'doing_the_dishes_68_0_0.wav', 'exercise_bike_1_0_0.wav', 'running_tap_32_0_0_0_0.wav', 'pink_noise_2_0_0.wav', 'doing_the_dishes_78_0_0.wav', 'doing_the_dishes_89_0_0_0_0_0_0.wav', 'pink_noise_13_0_0.wav', 'exercise_bike_55_0_0.wav', 'doing_the_dishes_64.wav', 'doing_the_dishes_70.wav', 'dude_miaowing_13_0_0_0_0_0_0.wav', 'exercise_bike_45_0_0.wav', 'doing_the_dishes_12_0_0_0_0_0_0.wav', 'exercise_bike_25_0_0_0_0_0_0.wav', 'white_noise_51_0_0.wav', 'doing_the_dishes_58.wav', 'exercise_bike_32_0.wav', 'white_noise_35_0_0_0_0_0_0.wav', 'white_noise_41_0_0.wav', 'white_noise_33_0_0.wav', 'running_tap_21.wav', 'running_tap_35.wav', 'running_tap_7_0_0_0_0.wav', 'white_noise_23_0_0.wav', 'exercise_bike_37_0_0.wav', 'running_tap_49_0_0_0.wav', 'exercise_bike_27_0_0.wav', 'dude_miaowing_41_0_0_0_0.wav', 'doing_the_dishes_28_0_0_0_0.wav', 'pink_noise_18.wav', 'pink_noise_24.wav', 'doing_the_dishes_68_0_0_0_0_0_0.wav', 'white_noise_12.wav', 'pink_noise_30.wav', 'pink_noise_15_0_0_0_0_0_0.wav', 'dude_miaowing_31_0_0_0_0.wav', 'dude_miaowing_54_0_0_0_0_0_0.wav', 'running_tap_37_0_0_0_0_0_0.wav', 'running_tap_0_0_0_0_0_0_0.wav', 'running_tap_21_0_0.wav', 'doing_the_dishes_55_0_0_0_0_0_0.wav', 'doing_the_dishes_58_0_0_0_0.wav', 'pink_noise_28_0_0_0_0_0_0.wav', 'running_tap_31_0_0.wav', 'doing_the_dishes_52_0_0_0_0_0_0.wav', 'running_tap_7_0_0_0_0_0_0.wav', 'running_tap_30_0_0_0_0_0_0.wav', 'dude_miaowing_53_0_0_0_0_0_0.wav', 'exercise_bike_19_0_0_0_0.wav', 'white_noise_44_0_0_0_0.wav', 'dude_miaowing_34_0_0.wav', 'pink_noise_12_0_0_0_0_0_0.wav', 'dude_miaowing_24_0_0.wav', 'doing_the_dishes_8.wav', 'pink_noise_34.wav', 'exercise_bike_58_0_0_0_0_0_0.wav', 'white_noise_16.wav', 'pink_noise_20.wav', 'white_noise_48_0_0_0_0_0_0.wav', 'dude_miaowing_52_0.wav', 'doing_the_dishes_89_0.wav', 'white_noise_34_0_0_0_0.wav', 'doing_the_dishes_74_0.wav', 'doing_the_dishes_46_0_0.wav', 'running_tap_31.wav', 'doing_the_dishes_92_0_0_0_0.wav', 'doing_the_dishes_31_0.wav', 'running_tap_25.wav', 'doing_the_dishes_56_0_0.wav', 'running_tap_19.wav', 'doing_the_dishes_49_0.wav', 'white_noise_32_0_0_0_0_0_0.wav', 'doing_the_dishes_74.wav', 'doing_the_dishes_60.wav', 'exercise_bike_22_0_0_0_0_0_0.wav', 'doing_the_dishes_24_0_0.wav', 'doing_the_dishes_15_0_0_0_0_0_0.wav', 'doing_the_dishes_48.wav', 'dude_miaowing_14_0_0_0_0_0_0.wav', 'doing_the_dishes_34_0_0.wav', 'exercise_bike_5.wav', 'exercise_bike_19_0_0.wav', 'exercise_bike_4_0_0_0_0.wav', 'exercise_bike_37_0_0_0_0.wav', 'doing_the_dishes_31_0_0_0_0.wav', 'doing_the_dishes_28_0_0_0_0_0_0.wav', 'dude_miaowing_29_0_0_0_0_0_0.wav', 'dude_miaowing_58_0_0_0_0.wav', 'pink_noise_55_0_0_0_0_0_0.wav', 'running_tap_0.wav', 'dude_miaowing_30.wav', 'dude_miaowing_24.wav', 'dude_miaowing_56_0_0.wav', 'exercise_bike_26.wav', 'dude_miaowing_18.wav', 'exercise_bike_32.wav', 'running_tap_32_0.wav', 'dude_miaowing_46_0_0.wav', 'white_noise_5_0_0_0_0.wav', 'pink_noise_2_0_0_0_0.wav', 'doing_the_dishes_41_0_0_0_0.wav', 'exercise_bike_47_0_0_0_0.wav', 'dude_miaowing_28_0_0_0_0.wav', 'running_tap_19_0_0_0_0.wav', 'doing_the_dishes_79_0_0.wav', 'pink_noise_3_0_0.wav', 'doing_the_dishes_69_0_0.wav', 'dude_miaowing_34_0_0_0_0.wav', 'exercise_bike_0_0_0.wav', 'doing_the_dishes_8_0_0_0_0.wav', 'exercise_bike_33.wav', 'dude_miaowing_19.wav', 'white_noise_40_0_0.wav', 'white_noise_50_0_0.wav', 'exercise_bike_27.wav', 'doing_the_dishes_28_0.wav', 'dude_miaowing_25.wav', 'exercise_bike_44_0_0.wav', 'pink_noise_12_0_0.wav', 'exercise_bike_54_0_0.wav', 'running_tap_1.wav', 'dude_miaowing_31.wav', 'pink_noise_19_0_0_0_0.wav', 'dude_miaowing_44_0_0_0_0.wav', 'running_tap_52_0_0.wav', 'exercise_bike_4.wav', 'running_tap_42_0_0.wav', 'doing_the_dishes_31_0_0_0_0_0_0.wav', 'running_tap_16_0.wav', 'running_tap_53_0.wav', 'doing_the_dishes_49.wav', 'running_tap_2_0_0_0_0.wav', 'dude_miaowing_30_0_0_0_0_0_0.wav', 'running_tap_53_0_0_0_0_0_0.wav', 'doing_the_dishes_61.wav', 'dude_miaowing_8_0_0.wav', 'doing_the_dishes_75.wav', 'white_noise_3_0_0.wav', 'white_noise_16_0_0_0_0_0_0.wav', 'running_tap_18.wav', 'running_tap_24.wav', 'running_tap_30.wav', 'exercise_bike_57_0.wav', 'running_tap_30_0_0.wav', 'running_tap_20_0_0.wav', 'white_noise_28_0_0_0_0.wav', 'doing_the_dishes_73_0_0_0_0.wav', 'running_tap_37_0_0_0_0.wav', 'pink_noise_47_0_0_0_0.wav', 'pink_noise_21.wav', 'white_noise_17.wav', 'exercise_bike_26_0_0.wav', 'exercise_bike_36_0_0.wav', 'pink_noise_35.wav', 'doing_the_dishes_9.wav', 'white_noise_22_0_0.wav', 'running_tap_29_0_0_0_0_0_0.wav', 'doing_the_dishes_15_0.wav', 'white_noise_32_0_0.wav', 'pink_noise_36_0_0_0_0_0_0.wav', 'white_noise_51_0_0_0_0_0_0.wav', 'exercise_bike_41_0_0_0_0_0_0.wav', 'dude_miaowing_33_0.wav', 'white_noise_58_0_0_0_0.wav', 'pink_noise_37_0_0_0_0.wav', 'doing_the_dishes_76_0_0_0_0_0_0.wav', 'running_tap_14_0_0_0_0_0_0.wav', 'dude_miaowing_1_0_0_0_0_0_0.wav', 'running_tap_47_0_0_0_0.wav', 'pink_noise_43_0_0_0_0_0_0.wav', 'white_noise_19_0_0_0_0_0_0.wav', 'exercise_bike_55_0.wav', 'pink_noise_46_0_0.wav', 'exercise_bike_60_0_0_0_0.wav', 'doing_the_dishes_66_0_0_0_0.wav', 'white_noise_29.wav', 'pink_noise_56_0_0.wav', 'exercise_bike_10_0_0.wav', 'white_noise_24_0_0_0_0_0_0.wav', 'white_noise_15.wav', 'pink_noise_23.wav', 'exercise_bike_34_0_0_0_0_0_0.wav', 'running_tap_22_0_0_0_0.wav', 'white_noise_14_0_0.wav', 'pink_noise_37.wav', 'pink_noise_52_0_0_0_0.wav', 'running_tap_29_0.wav', 'running_tap_16_0_0.wav', 'doing_the_dishes_16_0_0_0_0.wav', 'running_tap_26.wav', 'exercise_bike_10_0_0_0_0.wav', 'doing_the_dishes_17_0.wav', 'running_tap_32.wav', 'doing_the_dishes_84_0_0.wav', 'pink_noise_22_0_0_0_0.wav', 'doing_the_dishes_94_0_0.wav', 'running_tap_52_0_0_0_0.wav', 'dude_miaowing_21_0_0_0_0.wav', 'doing_the_dishes_63.wav', 'exercise_bike_5_0_0_0_0_0_0.wav', 'doing_the_dishes_77.wav', 'white_noise_13_0_0_0_0.wav', 'doing_the_dishes_48_0_0_0_0.wav', 'doing_the_dishes_79_0_0_0_0_0_0.wav', 'exercise_bike_6.wav', 'pink_noise_39_0_0_0_0_0_0.wav', 'doing_the_dishes_1_0_0_0_0_0_0.wav', 'running_tap_26_0_0_0_0_0_0.wav', 'dude_miaowing_45_0_0_0_0_0_0.wav', 'doing_the_dishes_88.wav', 'doing_the_dishes_44_0_0_0_0_0_0.wav', 'dude_miaowing_49_0.wav', 'dude_miaowing_51_0_0_0_0.wav', 'dude_miaowing_27.wav', 'dude_miaowing_33.wav', 'exercise_bike_19.wav', 'running_tap_3.wav', 'pink_noise_24_0_0.wav', 'doing_the_dishes_38_0_0_0_0.wav', 'exercise_bike_31.wav', 'running_tap_14_0.wav', 'pink_noise_34_0_0.wav', 'exercise_bike_25.wav', 'running_tap_51_0.wav', 'doing_the_dishes_6_0_0.wav', 'pink_noise_2_0_0_0_0_0_0.wav', 'running_tap_29_0_0.wav', 'exercise_bike_24.wav', 'exercise_bike_22_0_0_0_0.wav', 'doing_the_dishes_24_0_0_0_0.wav', 'running_tap_39_0_0.wav', 'exercise_bike_30.wav', 'exercise_bike_18.wav', 'dude_miaowing_32.wav', 'running_tap_2.wav', 'dude_miaowing_60_0_0.wav', 'running_tap_60_0_0_0_0.wav', 'dude_miaowing_26.wav', 'pink_noise_10_0_0_0_0.wav', 'doing_the_dishes_89.wav', 'doing_the_dishes_60_0_0_0_0_0_0.wav', 'white_noise_47_0_0_0_0_0_0.wav', 'exercise_bike_7.wav', 'exercise_bike_57_0_0_0_0_0_0.wav', 'doing_the_dishes_54_0_0_0_0.wav', 'running_tap_8_0_0_0_0_0_0.wav', 'exercise_bike_52_0_0_0_0.wav', 'pink_noise_20_0_0_0_0_0_0.wav', 'doing_the_dishes_1_0_0_0_0.wav', 'doing_the_dishes_76.wav', 'doing_the_dishes_12_0_0.wav', 'running_tap_10_0_0_0_0.wav', 'doing_the_dishes_62.wav', 'doing_the_dishes_60_0_0.wav', 'exercise_bike_9_0_0.wav', 'running_tap_48_0.wav', 'doing_the_dishes_70_0_0.wav', 'white_noise_51_0_0_0_0.wav', 'running_tap_33.wav', 'running_tap_27.wav', 'white_noise_59_0_0.wav', 'white_noise_49_0_0.wav', 'white_noise_4_0_0_0_0_0_0.wav', 'dude_miaowing_2_0_0_0_0.wav', 'dude_miaowing_12_0_0.wav', 'pink_noise_36.wav', 'exercise_bike_10_0_0_0_0_0_0.wav', 'dude_miaowing_13_0_0_0_0.wav', 'running_tap_6_0_0.wav', 'pink_noise_22.wav', 'white_noise_14.wav', 'white_noise_21_0_0_0_0.wav', 'dude_miaowing_26_0_0_0_0_0_0.wav', 'running_tap_45_0_0_0_0_0_0.wav', 'white_noise_28.wav', 'doing_the_dishes_27_0_0_0_0_0_0.wav', 'dude_miaowing_50_0.wav', 'doing_the_dishes_87_0_0_0_0.wav', 'doing_the_dishes_81_0_0_0_0_0_0.wav', 'dude_miaowing_1_0_0.wav', 'doing_the_dishes_14_0_0_0_0_0_0.wav', 'exercise_bike_52_0.wav', 'dude_miaowing_15_0_0_0_0_0_0.wav', 'dude_miaowing_1_0_0_0_0.wav', 'white_noise_33_0_0_0_0_0_0.wav', 'exercise_bike_23_0_0_0_0_0_0.wav', 'doing_the_dishes_36_0_0.wav', 'doing_the_dishes_29_0_0_0_0_0_0.wav', 'white_noise_52_0_0_0_0.wav', 'dude_miaowing_28_0_0_0_0_0_0.wav', 'pink_noise_45.wav', 'white_noise_6.wav', 'pink_noise_51.wav', 'doing_the_dishes_26_0_0.wav', 'pink_noise_54_0_0_0_0_0_0.wav', 'pink_noise_5.wav', 'dude_miaowing_60_0_0_0_0.wav', 'doing_the_dishes_84_0_0_0_0.wav', 'white_noise_22_0_0_0_0.wav', 'dude_miaowing_44_0_0.wav', 'doing_the_dishes_79_0_0_0_0.wav', 'dude_miaowing_54_0_0.wav', 'doing_the_dishes_10_0.wav', 'dude_miaowing_10_0_0_0_0.wav', 'running_tap_40.wav', 'running_tap_54.wav', 'doing_the_dishes_39.wav', 'pink_noise_13_0_0_0_0.wav', 'doing_the_dishes_27_0_0_0_0.wav', 'dude_miaowing_26_0_0.wav', 'exercise_bike_21_0_0_0_0.wav', 'doing_the_dishes_11.wav', 'dude_miaowing_36_0_0.wav', 'doing_the_dishes_53_0_0_0_0_0_0.wav', 'dude_miaowing_52_0_0_0_0_0_0.wav', 'running_tap_31_0_0_0_0_0_0.wav', 'running_tap_6_0_0_0_0_0_0.wav', 'running_tap_8_0_0_0_0.wav', 'exercise_bike_59_0_0_0_0_0_0.wav', 'dude_miaowing_6.wav', 'white_noise_49_0_0_0_0_0_0.wav', 'pink_noise_13_0_0_0_0_0_0.wav', 'doing_the_dishes_2_0_0_0_0.wav', 'exercise_bike_57.wav', 'exercise_bike_43.wav', 'running_tap_13_0_0_0_0.wav', 'running_tap_56_0.wav', 'exercise_bike_51_0_0_0_0.wav', 'doing_the_dishes_54_0_0.wav', 'doing_the_dishes_57_0_0_0_0.wav', 'dude_miaowing_41.wav', 'doing_the_dishes_44_0_0.wav', 'dude_miaowing_55.wav', 'running_tap_22_0_0.wav', 'running_tap_32_0_0.wav', 'dude_miaowing_54.wav', 'pink_noise_8_0_0_0_0.wav', 'white_noise_10_0_0_0_0.wav', 'dude_miaowing_40.wav', 'exercise_bike_42.wav', 'dude_miaowing_22_0_0_0_0.wav', 'exercise_bike_56.wav', 'running_tap_28_0_0_0_0_0_0.wav', 'doing_the_dishes_19_0_0.wav', 'pink_noise_37_0_0_0_0_0_0.wav', 'dude_miaowing_7.wav', 'white_noise_30_0_0.wav', 'doing_the_dishes_77_0_0_0_0_0_0.wav', 'doing_the_dishes_10.wav', 'dude_miaowing_0_0_0_0_0_0_0.wav', 'running_tap_15_0_0_0_0_0_0.wav', 'white_noise_20_0_0.wav', 'dude_miaowing_52_0_0_0_0.wav', 'exercise_bike_34_0_0.wav', 'white_noise_50_0_0_0_0_0_0.wav', 'exercise_bike_24_0_0.wav', 'exercise_bike_40_0_0_0_0_0_0.wav', 'doing_the_dishes_38.wav', 'exercise_bike_56_0_0.wav', 'pink_noise_10_0_0.wav', 'running_tap_55.wav', 'pink_noise_51_0_0_0_0.wav', 'exercise_bike_46_0_0.wav', 'running_tap_21_0_0_0_0.wav', 'running_tap_41.wav', 'white_noise_52_0_0.wav', 'doing_the_dishes_65_0_0_0_0.wav', 'white_noise_42_0_0.wav', 'exercise_bike_2_0_0.wav', 'pink_noise_1_0_0.wav', 'white_noise_1_0_0.wav', 'running_tap_51_0_0_0_0.wav', 'pink_noise_4.wav', 'pink_noise_21_0_0_0_0.wav', 'pink_noise_50.wav', 'white_noise_7.wav', 'exercise_bike_13_0_0_0_0.wav', 'doing_the_dishes_15_0_0_0_0.wav', 'pink_noise_44.wav', 'running_tap_40_0_0.wav', 'running_tap_50_0_0.wav', 'white_noise_17_0_0_0_0_0_0.wav', 'dude_miaowing_19_0_0.wav', 'doing_the_dishes_30_0_0_0_0_0_0.wav', 'dude_miaowing_57_0.wav', 'running_tap_52_0_0_0_0_0_0.wav', 'dude_miaowing_31_0_0_0_0_0_0.wav', 'pink_noise_44_0_0_0_0.wav', 'running_tap_34_0_0_0_0.wav', 'dude_miaowing_19_0_0_0_0.wav', 'doing_the_dishes_78_0_0_0_0_0_0.wav', 'exercise_bike_4_0_0_0_0_0_0.wav', 'doing_the_dishes_70_0_0_0_0.wav', 'pink_noise_38_0_0_0_0_0_0.wav', 'white_noise_5.wav', 'pink_noise_52.wav', 'dude_miaowing_44_0_0_0_0_0_0.wav', 'running_tap_27_0_0_0_0_0_0.wav', 'doing_the_dishes_0_0_0_0_0_0_0.wav', 'pink_noise_46.wav', 'doing_the_dishes_45_0_0_0_0_0_0.wav', 'white_noise_58.wav', 'pink_noise_6.wav', 'running_tap_44_0_0_0_0.wav', 'pink_noise_34_0_0_0_0.wav', 'doing_the_dishes_4_0_0.wav', 'pink_noise_36_0_0.wav', 'exercise_bike_60_0_0.wav', 'pink_noise_26_0_0.wav', 'running_tap_57.wav', 'dude_miaowing_8_0_0_0_0.wav', 'running_tap_43.wav', 'white_noise_16_0_0.wav', 'white_noise_18_0_0_0_0_0_0.wav', 'exercise_bike_12_0_0.wav', 'pink_noise_54_0_0.wav', 'doing_the_dishes_12.wav', 'pink_noise_42_0_0_0_0_0_0.wav', 'pink_noise_44_0_0.wav', 'white_noise_25_0_0_0_0_0_0.wav', 'dude_miaowing_5.wav', 'exercise_bike_35_0_0_0_0_0_0.wav', 'exercise_bike_58_0_0_0_0.wav', 'running_tap_60_0_0_0_0_0_0.wav', 'dude_miaowing_37_0_0_0_0.wav', 'exercise_bike_40.wav', 'doing_the_dishes_86_0_0.wav', 'exercise_bike_54.wav', 'dude_miaowing_56.wav', 'dude_miaowing_42.wav', 'running_tap_1_0_0_0_0.wav', 'exercise_bike_49_0.wav', 'exercise_bike_28_0_0_0_0.wav', 'dude_miaowing_47_0_0_0_0.wav', 'running_tap_14_0_0.wav', 'pink_noise_19_0_0.wav', 'exercise_bike_7_0_0_0_0.wav', 'doing_the_dishes_32_0_0_0_0.wav', 'exercise_bike_34_0_0_0_0.wav', 'dude_miaowing_43.wav', 'white_noise_5_0_0_0_0_0_0.wav', 'dude_miaowing_57.wav', 'exercise_bike_55.wav', 'doing_the_dishes_72_0_0.wav', 'pink_noise_8_0_0.wav', 'doing_the_dishes_62_0_0.wav', 'exercise_bike_41.wav', 'dude_miaowing_3_0_0.wav', 'running_tap_44_0_0_0_0_0_0.wav', 'dude_miaowing_27_0_0_0_0_0_0.wav', 'white_noise_8_0_0.wav', 'doing_the_dishes_26_0_0_0_0_0_0.wav', 'exercise_bike_11_0_0_0_0_0_0.wav', 'white_noise_19_0_0_0_0.wav', 'exercise_bike_44_0_0_0_0.wav', 'pink_noise_1_0_0_0_0.wav', 'doing_the_dishes_42_0_0_0_0.wav', 'dude_miaowing_4.wav', 'doing_the_dishes_80_0_0_0_0_0_0.wav', 'running_tap_59_0_0.wav', 'white_noise_6_0_0_0_0.wav', 'running_tap_49_0_0.wav', 'doing_the_dishes_13.wav', 'running_tap_4_0_0.wav', 'dude_miaowing_10_0_0.wav', 'running_tap_42.wav', 'pink_noise_3_0_0_0_0_0_0.wav', 'running_tap_56.wav', 'white_noise_47_0_0_0_0.wav', 'exercise_bike_15_0.wav', 'pink_noise_28_0_0_0_0.wav', 'exercise_bike_50_0.wav', 'running_tap_58_0_0_0_0.wav', 'doing_the_dishes_10_0_0.wav', 'white_noise_46_0_0_0_0_0_0.wav', 'pink_noise_7.wav', 'exercise_bike_56_0_0_0_0_0_0.wav', 'white_noise_59.wav', 'pink_noise_47.wav', 'doing_the_dishes_91_0_0_0_0.wav', 'dude_miaowing_60_0_0_0_0_0_0.wav', 'doing_the_dishes_61_0_0_0_0_0_0.wav', 'pink_noise_53.wav', 'white_noise_4.wav', 'white_noise_29_0_0.wav', 'white_noise_39_0_0.wav', 'white_noise_37_0_0_0_0.wav', 'running_tap_9_0_0_0_0_0_0.wav', 'running_tap_28_0_0_0_0.wav', 'pink_noise_58_0_0_0_0.wav', 'pink_noise_21_0_0_0_0_0_0.wav', 'pink_noise_26_0_0_0_0_0_0.wav', 'running_tap_39_0_0_0_0_0_0.wav', 'doing_the_dishes_5_0_0.wav', 'running_tap_50_0.wav', 'dude_miaowing_42_0_0_0_0.wav', 'running_tap_15_0.wav', 'pink_noise_3.wav', 'doing_the_dishes_66_0_0_0_0_0_0.wav', 'white_noise_49.wav', 'pink_noise_57.wav', 'white_noise_0.wav', 'exercise_bike_51_0_0_0_0_0_0.wav', 'pink_noise_27_0_0.wav', 'pink_noise_37_0_0.wav', 'white_noise_41_0_0_0_0_0_0.wav', 'pink_noise_43.wav', 'running_tap_4_0_0_0_0.wav', 'dude_miaowing_32_0_0_0_0.wav', 'running_tap_52.wav', 'running_tap_46.wav', 'pink_noise_4_0_0_0_0_0_0.wav', 'dude_miaowing_48_0.wav', 'doing_the_dishes_17.wav', 'doing_the_dishes_87_0_0.wav', 'doing_the_dishes_87_0_0_0_0_0_0.wav', 'doing_the_dishes_16_0.wav', 'pink_noise_31_0_0_0_0.wav', 'running_tap_15_0_0.wav', 'running_tap_41_0_0_0_0.wav', 'exercise_bike_16_0_0_0_0_0_0.wav', 'dude_miaowing_0.wav', 'doing_the_dishes_21_0_0_0_0_0_0.wav', 'dude_miaowing_20_0_0_0_0_0_0.wav', 'running_tap_43_0_0_0_0_0_0.wav', 'dude_miaowing_53.wav', 'doing_the_dishes_88_0_0_0_0.wav', 'pink_noise_45_0_0.wav', 'dude_miaowing_47.wav', 'exercise_bike_13_0_0.wav', 'pink_noise_55_0_0.wav', 'exercise_bike_45.wav', 'white_noise_2_0_0_0_0_0_0.wav', 'white_noise_17_0_0.wav', 'exercise_bike_51.wav', 'running_tap_31_0_0_0_0.wav', 'pink_noise_41_0_0_0_0.wav', 'running_tap_28_0.wav', 'doing_the_dishes_75_0_0_0_0.wav', 'doing_the_dishes_69_0_0_0_0.wav', 'white_noise_32_0_0_0_0.wav', 'white_noise_9_0_0.wav', 'dude_miaowing_2_0_0.wav', 'exercise_bike_50.wav', 'dude_miaowing_11_0_0.wav', 'exercise_bike_44.wav', 'dude_miaowing_51_0.wav', 'running_tap_5_0_0.wav', 'running_tap_48_0_0.wav', 'doing_the_dishes_94_0_0_0_0.wav', 'dude_miaowing_46.wav', 'dude_miaowing_52.wav', 'running_tap_58_0_0.wav', 'white_noise_42_0_0_0_0.wav', 'dude_miaowing_1.wav', 'running_tap_49_0.wav', 'doing_the_dishes_19_0_0_0_0.wav', 'exercise_bike_32_0_0_0_0_0_0.wav', 'pink_noise_18_0_0.wav', 'white_noise_22_0_0_0_0_0_0.wav', 'pink_noise_45_0_0_0_0_0_0.wav', 'doing_the_dishes_63_0_0.wav', 'pink_noise_9_0_0.wav', 'doing_the_dishes_38_0_0_0_0_0_0.wav', 'doing_the_dishes_73_0_0.wav', 'dude_miaowing_39_0_0_0_0_0_0.wav', 'doing_the_dishes_16.wav', 'white_noise_3_0_0_0_0.wav', 'running_tap_47.wav', 'running_tap_53.wav', 'doing_the_dishes_11_0_0.wav', 'white_noise_38_0_0.wav', 'pink_noise_4_0_0_0_0.wav', 'doing_the_dishes_47_0_0_0_0.wav', 'exercise_bike_41_0_0_0_0.wav', 'white_noise_28_0_0.wav', 'pink_noise_42.wav', 'white_noise_1.wav', 'pink_noise_56.wav', 'doing_the_dishes_42_0_0_0_0_0_0.wav', 'pink_noise_2.wav', 'doing_the_dishes_7_0_0_0_0_0_0.wav', 'running_tap_20_0_0_0_0_0_0.wav', 'dude_miaowing_43_0_0_0_0_0_0.wav', 'white_noise_48.wav', 'exercise_bike_3_0_0_0_0_0_0.wav', 'white_noise_58_0_0_0_0_0_0.wav', 'exercise_bike_48_0_0_0_0_0_0.wav', 'exercise_bike_2_0_0_0_0.wav', 'dude_miaowing_8_0_0_0_0_0_0.wav', 'exercise_bike_31_0_0_0_0.wav', 'doing_the_dishes_37_0_0_0_0.wav', 'dude_miaowing_36_0_0_0_0_0_0.wav', 'running_tap_55_0_0_0_0_0_0.wav', 'doing_the_dishes_37_0_0_0_0_0_0.wav', 'white_noise_10_0_0_0_0_0_0.wav', 'doing_the_dishes_7_0_0_0_0.wav', 'pink_noise_0.wav', 'doing_the_dishes_91_0_0_0_0_0_0.wav', 'running_tap_16_0_0_0_0.wav', 'doing_the_dishes_52_0_0_0_0.wav', 'pink_noise_40.wav', 'exercise_bike_54_0_0_0_0.wav', 'dude_miaowing_55_0_0.wav', 'dude_miaowing_45_0_0.wav', 'pink_noise_54.wav', 'white_noise_3.wav', 'running_tap_45.wav', 'running_tap_51.wav', 'pink_noise_16_0_0_0_0.wav', 'exercise_bike_24_0_0_0_0.wav', 'doing_the_dishes_22_0_0_0_0.wav', 'doing_the_dishes_27_0_0.wav', 'doing_the_dishes_37_0_0.wav', 'exercise_bike_47_0_0_0_0_0_0.wav', 'doing_the_dishes_45_0_0.wav', 'white_noise_27_0_0_0_0.wav', 'white_noise_57_0_0_0_0_0_0.wav', 'doing_the_dishes_14.wav', 'doing_the_dishes_55_0_0.wav', 'dude_miaowing_15_0_0_0_0.wav', 'running_tap_12_0_0_0_0_0_0.wav', 'pink_noise_48_0_0_0_0.wav', 'dude_miaowing_7_0_0_0_0_0_0.wav', 'running_tap_38_0_0_0_0.wav', 'doing_the_dishes_28.wav', 'doing_the_dishes_70_0_0_0_0_0_0.wav', 'doing_the_dishes_30_0.wav', 'pink_noise_30_0_0_0_0_0_0.wav', 'doing_the_dishes_8_0_0_0_0_0_0.wav', 'dude_miaowing_3.wav', 'doing_the_dishes_81_0_0_0_0.wav', 'white_noise_57_0_0_0_0.wav', 'dude_miaowing_44.wav', 'dude_miaowing_37_0_0.wav', 'dude_miaowing_27_0_0.wav', 'dude_miaowing_50.wav', 'exercise_bike_52.wav', 'running_tap_48_0_0_0_0.wav', 'pink_noise_38_0_0_0_0.wav', 'exercise_bike_46.wav', 'dude_miaowing_4_0_0_0_0.wav', 'doing_the_dishes_18_0_0.wav', 'exercise_bike_25_0_0.wav', 'exercise_bike_47.wav', 'exercise_bike_53.wav', 'pink_noise_24_0_0_0_0.wav', 'running_tap_54_0_0_0_0.wav', 'exercise_bike_35_0_0.wav', 'doing_the_dishes_10_0_0_0_0.wav', 'dude_miaowing_51.wav', 'exercise_bike_16_0_0_0_0.wav', 'white_noise_21_0_0.wav', 'dude_miaowing_45.wav', 'white_noise_31_0_0.wav', 'doing_the_dishes_69_0_0_0_0_0_0.wav', 'running_tap_33_0_0.wav', 'dude_miaowing_2.wav', 'pink_noise_14_0_0_0_0_0_0.wav', 'running_tap_23_0_0.wav', 'running_tap_1_0_0_0_0_0_0.wav', 'running_tap_36_0_0_0_0_0_0.wav', 'dude_miaowing_55_0_0_0_0_0_0.wav', 'doing_the_dishes_29.wav', 'doing_the_dishes_54_0_0_0_0_0_0.wav', 'running_tap_24_0_0_0_0.wav', 'pink_noise_29_0_0_0_0_0_0.wav', 'pink_noise_54_0_0_0_0.wav', 'doing_the_dishes_60_0_0_0_0.wav', 'doing_the_dishes_15.wav', 'exercise_bike_38_0_0_0_0.wav', 'dude_miaowing_57_0_0_0_0.wav', 'running_tap_50.wav', 'white_noise_0_0_0.wav', 'running_tap_44.wav', 'dude_miaowing_18_0_0.wav', 'running_tap_17_0.wav', 'running_tap_51_0_0.wav', 'running_tap_41_0_0.wav', 'exercise_bike_19_0_0_0_0_0_0.wav', 'exercise_bike_48_0_0_0_0.wav', 'white_noise_15_0_0_0_0.wav', 'white_noise_43_0_0.wav', 'white_noise_2.wav', 'pink_noise_55.wav', 'pink_noise_41.wav', 'white_noise_53_0_0.wav', 'dude_miaowing_27_0_0_0_0.wav', 'pink_noise_53_0_0_0_0_0_0.wav', 'exercise_bike_47_0_0.wav', 'exercise_bike_57_0_0.wav', 'pink_noise_11_0_0.wav', 'pink_noise_1.wav', 'exercise_bike_24_0_0_0_0_0_0.wav', 'pink_noise_0_0_0.wav', 'white_noise_34_0_0_0_0_0_0.wav', 'exercise_bike_3_0_0.wav', 'doing_the_dishes_88_0_0_0_0_0_0.wav', 'dude_miaowing_12_0_0_0_0_0_0.wav', 'doing_the_dishes_13_0_0_0_0_0_0.wav', 'running_tap_11_0_0_0_0.wav', 'exercise_bike_30_0_0.wav', 'doing_the_dishes_0_0_0_0_0.wav', 'exercise_bike_20_0_0.wav', 'white_noise_34_0_0.wav', 'doing_the_dishes_55_0_0_0_0.wav', 'white_noise_24_0_0.wav', 'exercise_bike_53_0_0_0_0.wav', 'white_noise_52.wav', 'white_noise_46.wav', 'pink_noise_58.wav', 'dude_miaowing_2_0_0_0_0_0_0.wav', 'running_tap_17_0_0_0_0_0_0.wav', 'pink_noise_11_0_0_0_0.wav', 'doing_the_dishes_75_0_0_0_0_0_0.wav', 'white_noise_52_0_0_0_0_0_0.wav', 'exercise_bike_9_0_0_0_0_0_0.wav', 'exercise_bike_23_0_0_0_0.wav', 'exercise_bike_42_0_0_0_0_0_0.wav', 'doing_the_dishes_25_0_0_0_0.wav', 'dude_miaowing_49_0_0_0_0_0_0.wav', 'running_tap_26_0_0.wav', 'doing_the_dishes_48_0_0_0_0_0_0.wav', 'running_tap_49.wav', 'pink_noise_35_0_0_0_0_0_0.wav', 'running_tap_36_0_0.wav', 'doing_the_dishes_25_0.wav', 'README.md', 'doing_the_dishes_18.wav', 'running_tap_9_0_0.wav', 'doing_the_dishes_24.wav', 'running_tap_44_0_0.wav', 'doing_the_dishes_86_0_0_0_0.wav', 'doing_the_dishes_30.wav', 'running_tap_54_0_0.wav', 'white_noise_20_0_0_0_0.wav', 'white_noise_5_0_0.wav', 'dude_miaowing_12_0_0_0_0.wav', 'dude_miaowing_3_0_0_0_0.wav', 'exercise_bike_6_0_0.wav', 'white_noise_15_0_0_0_0_0_0.wav', 'pink_noise_5_0_0.wav', 'dude_miaowing_48.wav', 'dude_miaowing_60.wav', 'dude_miaowing_33_0_0_0_0_0_0.wav', 'running_tap_50_0_0_0_0_0_0.wav', 'doing_the_dishes_32_0_0_0_0_0_0.wav', 'exercise_bike_38_0_0_0_0_0_0.wav', 'white_noise_56_0_0.wav', 'white_noise_28_0_0_0_0_0_0.wav', 'white_noise_50_0_0_0_0.wav', 'white_noise_46_0_0.wav', 'doing_the_dishes_94_0_0_0_0_0_0.wav', 'pink_noise_14_0_0.wav', 'exercise_bike_52_0_0.wav', 'exercise_bike_42_0_0.wav', 'running_tap_49_0_0_0_0_0_0.wav', 'pink_noise_23_0_0_0_0.wav', 'running_tap_19_0_0.wav', 'running_tap_53_0_0_0_0.wav', 'pink_noise_56_0_0_0_0_0_0.wav', 'dude_miaowing_40_0_0.wav', 'doing_the_dishes_17_0_0_0_0.wav', 'dude_miaowing_50_0_0.wav', 'exercise_bike_11_0_0_0_0.wav', 'dude_miaowing_17_0_0_0_0_0_0.wav', 'doing_the_dishes_16_0_0_0_0_0_0.wav', 'dude_miaowing_49.wav', 'white_noise_31_0_0_0_0_0_0.wav', 'exercise_bike_21_0_0_0_0_0_0.wav', 'running_tap_23_0_0_0_0.wav', 'pink_noise_53_0_0_0_0.wav', 'doing_the_dishes_32_0_0.wav', 'doing_the_dishes_67_0_0_0_0.wav', 'doing_the_dishes_22_0_0.wav', 'white_noise_8_0_0_0_0_0_0.wav', 'doing_the_dishes_31.wav', 'pink_noise_49_0_0.wav', 'pink_noise_59_0_0.wav', 'doing_the_dishes_25.wav', 'doing_the_dishes_19.wav', 'running_tap_60.wav', 'pink_noise_11_0_0_0_0_0_0.wav', 'running_tap_48.wav', 'doing_the_dishes_50_0_0.wav', 'doing_the_dishes_39_0_0_0_0.wav', 'doing_the_dishes_9_0_0.wav', 'doing_the_dishes_40_0_0.wav', 'running_tap_33_0_0_0_0_0_0.wav', 'dude_miaowing_50_0_0_0_0_0_0.wav', 'running_tap_4_0_0_0_0_0_0.wav', 'dude_miaowing_50_0_0_0_0.wav', 'doing_the_dishes_51_0_0_0_0_0_0.wav', 'pink_noise_59.wav', 'white_noise_47.wav', 'white_noise_53.wav', 'dude_miaowing_22_0_0.wav', 'white_noise_12_0_0_0_0.wav', 'dude_miaowing_32_0_0.wav', 'doing_the_dishes_49_0_0_0_0.wav', 'dude_miaowing_20_0_0_0_0.wav', 'running_tap_0_0_0.wav', 'dude_miaowing_14_0_0.wav', 'white_noise_7_0_0_0_0_0_0.wav', 'running_tap_3_0_0_0_0.wav', 'white_noise_45.wav', 'white_noise_51.wav', 'dude_miaowing_45_0_0_0_0.wav', 'pink_noise_18_0_0_0_0.wav', 'dude_miaowing_7_0_0.wav', 'doing_the_dishes_82_0_0_0_0_0_0.wav', 'doing_the_dishes_76_0_0.wav', 'doing_the_dishes_19_0_0_0_0_0_0.wav', 'doing_the_dishes_66_0_0.wav', 'dude_miaowing_18_0_0_0_0_0_0.wav', 'pink_noise_59_0_0_0_0_0_0.wav', 'doing_the_dishes_24_0_0_0_0_0_0.wav', 'dude_miaowing_25_0_0_0_0_0_0.wav', 'running_tap_46_0_0_0_0_0_0.wav', 'dude_miaowing_35_0_0_0_0.wav', 'exercise_bike_13_0_0_0_0_0_0.wav', 'doing_the_dishes_9_0_0_0_0.wav', 'running_tap_18_0_0_0_0.wav', 'exercise_bike_29_0_0.wav', 'pink_noise_36_0_0_0_0.wav', 'running_tap_46_0_0_0_0.wav', 'exercise_bike_39_0_0.wav', 'white_noise_59_0_0_0_0.wav', 'doing_the_dishes_33.wav', 'doing_the_dishes_27.wav', 'pink_noise_1_0_0_0_0_0_0.wav', 'doing_the_dishes_14_0_0.wav', 'running_tap_36_0_0_0_0.wav', 'pink_noise_46_0_0_0_0.wav', 'white_noise_29_0_0_0_0.wav', 'doing_the_dishes_72_0_0_0_0.wav', 'exercise_bike_49.wav', 'pink_noise_23_0_0_0_0_0_0.wav', 'white_noise_44_0_0_0_0_0_0.wav', 'exercise_bike_54_0_0_0_0_0_0.wav', 'doing_the_dishes_63_0_0_0_0_0_0.wav', 'doing_the_dishes_47_0_0_0_0_0_0.wav', 'running_tap_25_0_0_0_0_0_0.wav', 'dude_miaowing_46_0_0_0_0_0_0.wav', 'doing_the_dishes_2_0_0_0_0_0_0.wav', 'pink_noise_32_0_0.wav', 'doing_the_dishes_93_0_0_0_0.wav', 'pink_noise_22_0_0.wav', 'exercise_bike_48.wav', 'white_noise_35_0_0_0_0.wav', 'doing_the_dishes_0_0_0.wav', 'doing_the_dishes_49_0_0.wav', 'running_tap_18_0_0_0_0_0_0.wav', 'doing_the_dishes_59_0_0.wav', 'exercise_bike_6_0_0_0_0_0_0.wav', 'exercise_bike_60.wav', 'exercise_bike_58_0.wav', 'white_noise_45_0_0_0_0.wav', 'exercise_bike_18_0_0_0_0.wav', 'doing_the_dishes_26.wav', 'doing_the_dishes_32.wav', 'dude_miaowing_29_0_0_0_0.wav', 'white_noise_27_0_0_0_0_0_0.wav', 'running_tap_10_0_0.wav', 'exercise_bike_37_0_0_0_0_0_0.wav', 'doing_the_dishes_40_0_0_0_0.wav', 'pink_noise_3_0_0_0_0.wav', 'dude_miaowing_59_0_0.wav', 'exercise_bike_46_0_0_0_0.wav', 'dude_miaowing_49_0_0.wav', 'white_noise_4_0_0_0_0.wav', 'doing_the_dishes_92_0_0.wav', 'pink_noise_40_0_0_0_0_0_0.wav', 'doing_the_dishes_82_0_0.wav', 'dude_miaowing_59_0_0_0_0.wav', 'exercise_bike_36_0_0_0_0.wav', 'white_noise_50.wav', 'doing_the_dishes_30_0_0_0_0.wav', 'white_noise_44.wav', 'exercise_bike_5_0_0_0_0.wav', 'pink_noise_50_0_0.wav', 'exercise_bike_16_0_0.wav', 'pink_noise_40_0_0.wav', 'white_noise_12_0_0.wav', 'doing_the_dishes_67_0_0.wav', 'doing_the_dishes_77_0_0.wav', 'pink_noise_43_0_0_0_0.wav', 'running_tap_33_0_0_0_0.wav', 'white_noise_9.wav', 'doing_the_dishes_77_0_0_0_0.wav', 'white_noise_40.wav', 'white_noise_54.wav', 'pink_noise_47_0_0_0_0_0_0.wav', 'running_tap_58_0_0_0_0_0_0.wav', 'dude_miaowing_15_0_0.wav', 'running_tap_1_0_0.wav', 'dude_miaowing_6_0_0.wav', 'running_tap_43_0_0_0_0.wav', 'pink_noise_33_0_0_0_0.wav', 'exercise_bike_30_0_0_0_0_0_0.wav', 'white_noise_20_0_0_0_0_0_0.wav', 'doing_the_dishes_59_0_0_0_0.wav', 'doing_the_dishes_36.wav', 'doing_the_dishes_22.wav', 'dude_miaowing_30_0_0_0_0.wav', 'dude_miaowing_9.wav', 'exercise_bike_58.wav', 'exercise_bike_1_0_0_0_0_0_0.wav', 'doing_the_dishes_29_0_0_0_0.wav', 'exercise_bike_38_0_0.wav', 'dude_miaowing_40_0_0_0_0.wav', 'exercise_bike_28_0_0.wav', 'running_tap_58_0.wav', 'doing_the_dishes_15_0_0.wav', 'doing_the_dishes_5_0_0_0_0_0_0.wav', 'running_tap_6_0_0_0_0.wav', 'dude_miaowing_41_0_0_0_0_0_0.wav', 'running_tap_22_0_0_0_0_0_0.wav', 'doing_the_dishes_40_0_0_0_0_0_0.wav', 'pink_noise_19_0_0_0_0_0_0.wav', 'doing_the_dishes_64_0_0_0_0_0_0.wav', 'exercise_bike_53_0_0_0_0_0_0.wav', 'white_noise_43_0_0_0_0_0_0.wav', 'pink_noise_24_0_0_0_0_0_0.wav', 'dude_miaowing_58_0_0_0_0_0_0.wav', 'doing_the_dishes_59_0_0_0_0_0_0.wav', 'doing_the_dishes_35_0_0_0_0.wav', 'exercise_bike_33_0_0_0_0.wav', 'exercise_bike_59.wav', 'exercise_bike_0_0_0_0_0.wav', 'pink_noise_23_0_0.wav', 'white_noise_1_0_0_0_0.wav', 'pink_noise_33_0_0.wav', 'dude_miaowing_8.wav', 'pink_noise_6_0_0_0_0_0_0.wav', 'doing_the_dishes_58_0_0.wav', 'exercise_bike_43_0_0_0_0.wav', 'doing_the_dishes_45_0_0_0_0.wav', 'pink_noise_6_0_0_0_0.wav', 'doing_the_dishes_23.wav', 'doing_the_dishes_1_0_0.wav', 'doing_the_dishes_37.wav', 'doing_the_dishes_48_0_0.wav', 'white_noise_40_0_0_0_0.wav', 'exercise_bike_14_0_0_0_0_0_0.wav', 'running_tap_41_0_0_0_0_0_0.wav', 'dude_miaowing_22_0_0_0_0_0_0.wav', 'doing_the_dishes_23_0_0_0_0_0_0.wav', 'white_noise_39_0_0_0_0_0_0.wav', 'white_noise_13_0_0.wav', 'exercise_bike_29_0_0_0_0_0_0.wav', 'pink_noise_41_0_0.wav', 'pink_noise_51_0_0.wav', 'doing_the_dishes_85_0_0_0_0_0_0.wav', 'exercise_bike_17_0_0.wav', 'white_noise_30_0_0_0_0.wav', 'dude_miaowing_48_0_0.wav', 'white_noise_55.wav', 'white_noise_41.wav', 'dude_miaowing_58_0_0.wav', 'running_tap_11_0_0.wav', 'white_noise_8.wav', 'doing_the_dishes_83_0_0.wav', 'doing_the_dishes_93_0_0.wav', 'white_noise_0_0_0_0_0_0_0.wav', 'white_noise_55_0_0_0_0.wav', 'dude_miaowing_6_0_0_0_0.wav', 'pink_noise_49.wav', 'white_noise_57.wav', 'pink_noise_9_0_0_0_0_0_0.wav', 'running_tap_37_0_0.wav', 'running_tap_27_0_0.wav', 'pink_noise_9.wav', 'white_noise_43.wav', 'white_noise_25_0_0.wav', 'doing_the_dishes_56_0_0_0_0_0_0.wav', 'running_tap_3_0_0_0_0_0_0.wav', 'dude_miaowing_57_0_0_0_0_0_0.wav', 'running_tap_34_0_0_0_0_0_0.wav', 'white_noise_35_0_0.wav', 'white_noise_25_0_0_0_0.wav', 'exercise_bike_21_0_0.wav', 'exercise_bike_31_0_0.wav', 'dude_miaowing_17_0_0_0_0.wav', 'pink_noise_16_0_0_0_0_0_0.wav', 'doing_the_dishes_83_0_0_0_0.wav', 'running_tap_58.wav', 'doing_the_dishes_21.wav', 'doing_the_dishes_35.wav', 'pink_noise_4_0_0.wav', 'exercise_bike_7_0_0.wav', 'exercise_bike_43_0_0.wav', 'pink_noise_14_0_0_0_0.wav', 'pink_noise_15_0_0.wav', 'exercise_bike_53_0_0.wav', 'dude_miaowing_49_0_0_0_0.wav', 'white_noise_47_0_0.wav', 'white_noise_57_0_0.wav', 'doing_the_dishes_20_0_0_0_0.wav', 'exercise_bike_26_0_0_0_0.wav', 'running_tap_55_0_0.wav', 'exercise_bike_26_0_0_0_0_0_0.wav', 'running_tap_45_0_0.wav', 'white_noise_36_0_0_0_0_0_0.wav', 'running_tap_8_0_0.wav', 'dude_miaowing_59.wav', 'doing_the_dishes_11_0_0_0_0_0_0.wav', 'dude_miaowing_10_0_0_0_0_0_0.wav', 'running_tap_14_0_0_0_0.wav', 'dude_miaowing_39_0_0_0_0.wav', 'white_noise_4_0_0.wav', 'doing_the_dishes_5_0_0_0_0.wav', 'pink_noise_51_0_0_0_0_0_0.wav', 'exercise_bike_56_0_0_0_0.wav', 'doing_the_dishes_50_0_0_0_0.wav', 'doing_the_dishes_23_0_0.wav', 'doing_the_dishes_33_0_0.wav', 'white_noise_17_0_0_0_0.wav', 'doing_the_dishes_93_0_0_0_0_0_0.wav', 'dude_miaowing_25_0_0_0_0.wav', 'doing_the_dishes_35_0_0_0_0_0_0.wav', 'running_tap_57_0_0_0_0_0_0.wav', 'dude_miaowing_34_0_0_0_0_0_0.wav', 'dude_miaowing_58.wav', 'pink_noise_48_0_0_0_0_0_0.wav', 'pink_noise_58_0_0.wav', 'white_noise_12_0_0_0_0_0_0.wav', 'pink_noise_48_0_0.wav', 'white_noise_8_0_0_0_0.wav', 'dude_miaowing_51_0_0.wav', 'exercise_bike_9_0_0_0_0.wav', 'dude_miaowing_41_0_0.wav', 'running_tap_18_0_0.wav', 'dude_miaowing_55_0_0_0_0.wav', 'doing_the_dishes_34.wav', 'doing_the_dishes_20.wav', 'running_tap_59.wav', 'pink_noise_32_0_0_0_0_0_0.wav', 'pink_noise_56_0_0_0_0.wav', 'exercise_bike_45_0_0_0_0_0_0.wav', 'running_tap_26_0_0_0_0.wav', 'white_noise_55_0_0_0_0_0_0.wav', 'dude_miaowing_33_0_0.wav', 'dude_miaowing_23_0_0.wav', 'doing_the_dishes_62_0_0_0_0.wav', 'doing_the_dishes_72_0_0_0_0_0_0.wav', 'running_tap_10_0_0_0_0_0_0.wav', 'dude_miaowing_5_0_0_0_0_0_0.wav', 'white_noise_39_0_0_0_0.wav', 'pink_noise_8.wav', 'white_noise_42.wav', 'white_noise_56.wav', 'pink_noise_48.wav', 'running_tap_56_0_0_0_0.wav', 'pink_noise_26_0_0_0_0.wav', 'doing_the_dishes_8_0_0.wav', 'doing_the_dishes_41_0_0.wav', 'exercise_bike_14_0_0_0_0.wav', 'doing_the_dishes_51_0_0.wav', 'white_noise_49_0_0_0_0.wav', 'doing_the_dishes_12_0_0_0_0.wav', 'doing_the_dishes_61_0_0_0_0.wav', 'running_tap_25_0_0_0_0.wav', 'pink_noise_55_0_0_0_0.wav', 'white_noise_31.wav', 'white_noise_25.wav', 'pink_noise_13.wav', 'doing_the_dishes_7.wav', 'white_noise_19.wav', 'doing_the_dishes_11_0_0_0_0.wav', 'exercise_bike_17_0_0_0_0.wav', 'exercise_bike_0_0_0_0_0_0_0.wav', 'pink_noise_25_0_0_0_0.wav', 'doing_the_dishes_17_0_0.wav', 'running_tap_55_0_0_0_0.wav', 'running_tap_23_0_0_0_0_0_0.wav', 'dude_miaowing_40_0_0_0_0_0_0.wav', 'doing_the_dishes_4_0_0_0_0_0_0.wav', 'doing_the_dishes_41_0_0_0_0_0_0.wav', 'running_tap_16.wav', 'doing_the_dishes_47.wav', 'exercise_bike_48_0_0.wav', 'exercise_bike_58_0_0.wav', 'doing_the_dishes_53.wav', 'doing_the_dishes_75_0_0.wav', 'dude_miaowing_26_0_0_0_0.wav', 'doing_the_dishes_65_0_0.wav', 'doing_the_dishes_84.wav', 'white_noise_14_0_0_0_0.wav', 'exercise_bike_49_0_0_0_0.wav', 'doing_the_dishes_90.wav', 'exercise_bike_15.wav', 'pink_noise_46_0_0_0_0_0_0.wav', 'exercise_bike_29.wav', 'dude_miaowing_4_0_0.wav', 'running_tap_59_0_0_0_0_0_0.wav', 'dude_miaowing_17.wav', 'exercise_bike_31_0_0_0_0_0_0.wav', 'running_tap_3_0_0.wav', 'dude_miaowing_17_0_0.wav', 'white_noise_21_0_0_0_0_0_0.wav', 'dude_miaowing_56_0_0_0_0.wav', 'exercise_bike_39_0_0_0_0.wav', 'dude_miaowing_23_0_0_0_0_0_0.wav', 'running_tap_40_0_0_0_0_0_0.wav', 'exercise_bike_15_0_0.wav', 'pink_noise_53_0_0.wav', 'doing_the_dishes_22_0_0_0_0_0_0.wav', 'pink_noise_43_0_0.wav', 'exercise_bike_25_0_0_0_0.wav', 'doing_the_dishes_23_0_0_0_0.wav', 'white_noise_11_0_0.wav', 'pink_noise_17_0_0_0_0.wav', 'exercise_bike_15_0_0_0_0_0_0.wav', 'dude_miaowing_16.wav', 'doing_the_dishes_84_0_0_0_0_0_0.wav', 'exercise_bike_28.wav', 'white_noise_38_0_0_0_0_0_0.wav', 'doing_the_dishes_28_0_0.wav', 'exercise_bike_14.wav', 'doing_the_dishes_38_0_0.wav', 'exercise_bike_28_0_0_0_0_0_0.wav', 'doing_the_dishes_91.wav', 'doing_the_dishes_85.wav', 'doing_the_dishes_53_0_0_0_0.wav', 'exercise_bike_55_0_0_0_0.wav', 'doing_the_dishes_91_0_0.wav', 'running_tap_17_0_0_0_0.wav', 'doing_the_dishes_81_0_0.wav', 'doing_the_dishes_6_0_0_0_0.wav', 'white_noise_1_0_0_0_0_0_0.wav', 'doing_the_dishes_52.wav', 'doing_the_dishes_46.wav', 'running_tap_13_0_0.wav', 'dude_miaowing_38_0_0.wav', 'exercise_bike_52_0_0_0_0_0_0.wav', 'running_tap_17.wav', 'dude_miaowing_28_0_0.wav', 'white_noise_42_0_0_0_0_0_0.wav', 'pink_noise_18_0_0_0_0_0_0.wav', 'dude_miaowing_5_0_0_0_0.wav', 'doing_the_dishes_65_0_0_0_0_0_0.wav', 'running_tap_49_0_0_0_0.wav', 'pink_noise_39_0_0_0_0.wav', 'pink_noise_25_0_0_0_0_0_0.wav', 'white_noise_56_0_0_0_0.wav', 'dude_miaowing_59_0_0_0_0_0_0.wav', 'doing_the_dishes_58_0_0_0_0_0_0.wav', 'doing_the_dishes_3_0_0.wav', 'white_noise_18.wav', 'doing_the_dishes_80_0_0_0_0.wav', 'doing_the_dishes_6.wav', 'pink_noise_7_0_0_0_0_0_0.wav', 'pink_noise_12.wav', 'white_noise_24.wav', 'white_noise_30.wav', 'pink_noise_49_0_0_0_0.wav', 'running_tap_39_0_0_0_0.wav', 'dude_miaowing_14_0_0_0_0.wav', 'pink_noise_31_0_0.wav', 'pink_noise_21_0_0.wav', 'white_noise_26_0_0_0_0.wav', 'white_noise_55_0_0.wav', 'white_noise_45_0_0.wav', 'exercise_bike_51_0_0.wav', 'pink_noise_17_0_0.wav', 'exercise_bike_41_0_0.wav', 'white_noise_26.wav', 'exercise_bike_5_0_0.wav', 'pink_noise_10.wav', 'pink_noise_6_0_0.wav', 'white_noise_32.wav', 'white_noise_43_0_0_0_0.wav', 'doing_the_dishes_18_0_0_0_0.wav', 'doing_the_dishes_4.wav', 'pink_noise_38.wav', 'doing_the_dishes_10_0_0_0_0_0_0.wav', 'dude_miaowing_11_0_0_0_0_0_0.wav', 'white_noise_6_0_0.wav', 'exercise_bike_27_0_0_0_0_0_0.wav', 'white_noise_37_0_0_0_0_0_0.wav', 'running_tap_29.wav', 'pink_noise_50_0_0_0_0_0_0.wav', 'running_tap_15.wav', 'running_tap_47_0_0.wav', 'doing_the_dishes_68_0_0_0_0.wav', 'white_noise_33_0_0_0_0.wav', 'running_tap_57_0_0.wav', 'exercise_bike_30_0_0_0_0.wav', 'running_tap_25_0_0.wav', 'doing_the_dishes_36_0_0_0_0.wav', 'running_tap_35_0_0.wav', 'doing_the_dishes_78.wav', 'exercise_bike_3_0_0_0_0.wav', 'doing_the_dishes_50.wav', 'doing_the_dishes_44.wav', 'pink_noise_8_0_0_0_0_0_0.wav', 'exercise_bike_9.wav', 'doing_the_dishes_93.wav', 'doing_the_dishes_87.wav', 'doing_the_dishes_46_0_0_0_0.wav', 'dude_miaowing_28.wav', 'pink_noise_5_0_0_0_0.wav', 'exercise_bike_40_0_0_0_0.wav', 'exercise_bike_60_0_0_0_0_0_0.wav', 'exercise_bike_16.wav', 'doing_the_dishes_57_0_0_0_0_0_0.wav', 'dude_miaowing_14.wav', 'running_tap_35_0_0_0_0_0_0.wav', 'dude_miaowing_56_0_0_0_0_0_0.wav', 'running_tap_2_0_0_0_0_0_0.wav', 'exercise_bike_33_0_0.wav', 'exercise_bike_23_0_0.wav', 'white_noise_37_0_0.wav', 'white_noise_2_0_0_0_0.wav', 'white_noise_27_0_0.wav', 'pink_noise_17_0_0_0_0_0_0.wav', 'dude_miaowing_21_0_0.wav', 'pink_noise_33_0_0_0_0_0_0.wav', 'dude_miaowing_31_0_0.wav', 'dude_miaowing_33_0_0_0_0.wav', 'dude_miaowing_15.wav', 'doing_the_dishes_73_0_0_0_0_0_0.wav', 'dude_miaowing_4_0_0_0_0_0_0.wav', 'running_tap_11_0_0_0_0_0_0.wav', 'exercise_bike_17.wav', 'exercise_bike_44_0_0_0_0_0_0.wav', 'dude_miaowing_29.wav', 'white_noise_54_0_0_0_0_0_0.wav', 'doing_the_dishes_53_0_0.wav', 'running_tap_5_0_0_0_0.wav', 'doing_the_dishes_86.wav', 'doing_the_dishes_92.wav', 'doing_the_dishes_43_0_0.wav', 'exercise_bike_8.wav', 'dude_miaowing_43_0_0_0_0.wav', 'doing_the_dishes_45.wav', 'doing_the_dishes_51.wav', 'pink_noise_28_0_0.wav', 'doing_the_dishes_79.wav', 'pink_noise_38_0_0.wav', 'doing_the_dishes_74_0_0_0_0.wav', 'running_tap_14.wav', 'running_tap_30_0_0_0_0.wav', 'running_tap_28.wav', 'white_noise_18_0_0.wav', 'pink_noise_40_0_0_0_0.wav', 'doing_the_dishes_92_0_0_0_0_0_0.wav', 'white_noise_13_0_0_0_0_0_0.wav', 'doing_the_dishes_31_0_0.wav', 'doing_the_dishes_34_0_0_0_0_0_0.wav', 'dude_miaowing_35_0_0_0_0_0_0.wav', 'running_tap_56_0_0_0_0_0_0.wav', 'doing_the_dishes_89_0_0_0_0.wav', 'doing_the_dishes_21_0_0.wav', 'pink_noise_49_0_0_0_0_0_0.wav', 'pink_noise_39.wav', 'doing_the_dishes_5.wav', 'doing_the_dishes_88_0_0.wav', 'white_noise_33.wav', 'pink_noise_30_0_0_0_0.wav', 'pink_noise_11.wav', 'white_noise_27.wav', 'running_tap_40_0_0_0_0.wav', 'dude_miaowing_43_0_0.wav', 'dude_miaowing_53_0_0.wav', 'white_noise_7_0_0.wav', 'white_noise_7_0_0_0_0.wav', 'exercise_bike_45_0_0_0_0.wav', 'white_noise_18_0_0_0_0.wav', 'doing_the_dishes_43_0_0_0_0.wav', 'pink_noise_0_0_0_0_0.wav', 'pink_noise_29.wav', 'running_tap_56_0_0.wav', 'doing_the_dishes_1.wav', 'running_tap_46_0_0.wav', 'white_noise_23.wav', 'pink_noise_15.wav', 'white_noise_37.wav', 'exercise_bike_40_0_0.wav', 'running_tap_51_0_0_0_0_0_0.wav', 'dude_miaowing_32_0_0_0_0_0_0.wav', 'exercise_bike_50_0_0.wav', 'doing_the_dishes_33_0_0_0_0_0_0.wav', 'pink_noise_16_0_0.wav', 'white_noise_44_0_0.wav', 'white_noise_14_0_0_0_0_0_0.wav', 'white_noise_54_0_0.wav', 'doing_the_dishes_33_0_0_0_0.wav', 'exercise_bike_35_0_0_0_0.wav', 'running_tap_10.wav', 'exercise_bike_6_0_0_0_0.wav', 'pink_noise_7_0_0.wav', 'exercise_bike_39_0_0_0_0_0_0.wav', 'running_tap_38.wav', 'white_noise_29_0_0_0_0_0_0.wav', 'exercise_bike_4_0_0.wav', 'doing_the_dishes_55.wav', 'running_tap_29_0_0_0_0.wav', 'doing_the_dishes_41.wav', 'pink_noise_59_0_0_0_0.wav', 'white_noise_36_0_0_0_0.wav', 'doing_the_dishes_69.wav', 'white_noise_26_0_0.wav', 'doing_the_dishes_90_0_0_0_0.wav', 'doing_the_dishes_82.wav', 'white_noise_36_0_0.wav', 'exercise_bike_22_0_0.wav', 'exercise_bike_32_0_0.wav', 'white_noise_53_0_0_0_0_0_0.wav', 'exercise_bike_8_0_0_0_0_0_0.wav', 'dude_miaowing_11.wav', 'pink_noise_29_0_0_0_0.wav', 'exercise_bike_43_0_0_0_0_0_0.wav', 'running_tap_59_0_0_0_0.wav', 'running_tap_16_0_0_0_0_0_0.wav', 'dude_miaowing_3_0_0_0_0_0_0.wav', 'white_noise_46_0_0_0_0.wav', 'running_tap_34_0_0.wav', 'doing_the_dishes_74_0_0_0_0_0_0.wav', 'dude_miaowing_39.wav', 'exercise_bike_13.wav', 'running_tap_9.wav', 'running_tap_24_0_0.wav', 'dude_miaowing_48_0_0_0_0_0_0.wav', 'doing_the_dishes_49_0_0_0_0_0_0.wav', 'pink_noise_34_0_0_0_0_0_0.wav', 'pink_noise_10_0_0_0_0_0_0.wav', 'dude_miaowing_9_0_0_0_0.wav', 'doing_the_dishes_42_0_0.wav', 'doing_the_dishes_52_0_0.wav', 'exercise_bike_12.wav', 'dude_miaowing_38.wav', 'running_tap_8.wav', 'pink_noise_39_0_0.wav', 'running_tap_5_0_0_0_0_0_0.wav', 'dude_miaowing_51_0_0_0_0_0_0.wav', 'running_tap_32_0_0_0_0_0_0.wav', 'doing_the_dishes_50_0_0_0_0_0_0.wav', 'pink_noise_29_0_0.wav', 'running_tap_45_0_0_0_0.wav', 'dude_miaowing_10.wav', 'pink_noise_35_0_0_0_0.wav', 'doing_the_dishes_83.wav', 'dude_miaowing_30_0_0.wav', 'dude_miaowing_20_0_0.wav', 'doing_the_dishes_71_0_0_0_0.wav', 'doing_the_dishes_68.wav', 'doing_the_dishes_40.wav', 'dude_miaowing_18_0_0_0_0.wav', 'pink_noise_45_0_0_0_0.wav', 'running_tap_35_0_0_0_0.wav', 'doing_the_dishes_54.wav', 'dude_miaowing_46_0_0_0_0.wav', 'running_tap_39.wav', 'doing_the_dishes_89_0_0.wav', 'running_tap_48_0_0_0_0_0_0.wav', 'exercise_bike_29_0_0_0_0.wav', 'pink_noise_57_0_0_0_0_0_0.wav', 'running_tap_11.wav', 'running_tap_0_0_0_0_0.wav', 'white_noise_30_0_0_0_0_0_0.wav', 'dude_miaowing_52_0_0.wav', 'exercise_bike_20_0_0_0_0_0_0.wav', 'dude_miaowing_42_0_0.wav', 'dude_miaowing_16_0_0_0_0_0_0.wav', 'doing_the_dishes_17_0_0_0_0_0_0.wav', 'white_noise_36.wav', 'dude_miaowing_36_0_0_0_0.wav', 'white_noise_19_0_0.wav', 'pink_noise_14.wav', 'white_noise_22.wav', 'doing_the_dishes_0.wav', 'exercise_bike_59_0_0_0_0.wav', 'pink_noise_28.wav', 'doing_the_dishes_20_0_0.wav', 'doing_the_dishes_30_0_0.wav', 'white_noise_9_0_0_0_0_0_0.wav', 'dude_miaowing_53_0_0_0_0.wav', 'doing_the_dishes_16_0_0.wav', 'doing_the_dishes_2.wav', 'pink_noise_0_0_0_0_0_0_0.wav', 'white_noise_34.wav', 'white_noise_20.wav', 'pink_noise_16.wav', 'dude_miaowing_23_0_0_0_0.wav', 'pink_noise_22_0_0_0_0_0_0.wav', 'pink_noise_9_0_0_0_0.wav', 'white_noise_11_0_0_0_0.wav', 'doing_the_dishes_62_0_0_0_0_0_0.wav', 'running_tap_13.wav', 'white_noise_45_0_0_0_0_0_0.wav', 'exercise_bike_55_0_0_0_0_0_0.wav', 'dude_miaowing_5_0_0.wav', 'doing_the_dishes_42.wav', 'doing_the_dishes_56.wav', 'white_noise_6_0_0_0_0_0_0.wav', 'doing_the_dishes_81.wav', 'exercise_bike_12_0_0_0_0.wav', 'doing_the_dishes_14_0_0_0_0.wav', 'running_tap_50_0_0_0_0.wav', 'pink_noise_20_0_0_0_0.wav', 'dude_miaowing_16_0_0.wav', 'running_tap_2_0_0.wav', 'exercise_bike_59_0_0.wav', 'dude_miaowing_12.wav', 'exercise_bike_38.wav', 'exercise_bike_49_0_0.wav', 'doing_the_dishes_83_0_0_0_0_0_0.wav', 'exercise_bike_10.wav', 'doing_the_dishes_18_0_0_0_0_0_0.wav', 'dude_miaowing_19_0_0_0_0_0_0.wav', 'exercise_bike_12_0_0_0_0_0_0.wav', 'doing_the_dishes_64_0_0_0_0.wav', 'pink_noise_50_0_0_0_0.wav', 'pink_noise_58_0_0_0_0_0_0.wav', 'doing_the_dishes_64_0_0.wav', 'running_tap_20_0_0_0_0.wav', 'doing_the_dishes_25_0_0_0_0_0_0.wav', 'doing_the_dishes_74_0_0.wav', 'running_tap_47_0_0_0_0_0_0.wav', 'dude_miaowing_24_0_0_0_0_0_0.wav', 'doing_the_dishes_80_0_0.wav', 'dude_miaowing_11_0_0_0_0.wav', 'doing_the_dishes_90_0_0.wav', 'white_noise_26_0_0_0_0_0_0.wav', 'white_noise_23_0_0_0_0.wav', 'exercise_bike_36_0_0_0_0_0_0.wav', 'doing_the_dishes_78_0_0_0_0.wav', 'doing_the_dishes_85_0_0_0_0.wav', 'exercise_bike_11.wav', 'pink_noise_41_0_0_0_0_0_0.wav', 'exercise_bike_39.wav', 'dude_miaowing_13.wav', 'running_tap_12_0_0.wav', 'white_noise_10_0_0.wav', 'doing_the_dishes_94.wav', 'pink_noise_42_0_0.wav', 'exercise_bike_14_0_0.wav', 'doing_the_dishes_80.wav', 'white_noise_53_0_0_0_0.wav', 'pink_noise_52_0_0.wav', 'doing_the_dishes_39_0_0.wav', 'doing_the_dishes_29_0_0.wav', 'dude_miaowing_0_0_0_0_0.wav', 'doing_the_dishes_57.wav', 'doing_the_dishes_43.wav', 'running_tap_12.wav', 'doing_the_dishes_46_0_0_0_0_0_0.wav', 'doing_the_dishes_3_0_0_0_0_0_0.wav', 'doing_the_dishes_2_0_0.wav', 'dude_miaowing_47_0_0_0_0_0_0.wav', 'running_tap_24_0_0_0_0_0_0.wav', 'pink_noise_20_0_0.wav', 'exercise_bike_50_0_0_0_0.wav', 'pink_noise_30_0_0.wav', 'exercise_bike_7_0_0_0_0_0_0.wav', 'doing_the_dishes_56_0_0_0_0.wav', 'running_tap_12_0_0_0_0.wav', 'running_tap_19_0_0_0_0_0_0.wav', 'doing_the_dishes_3_0_0_0_0.wav', 'pink_noise_17.wav', 'white_noise_21.wav', 'white_noise_35.wav', 'running_tap_60_0_0.wav', 'dude_miaowing_29_0_0.wav', 'dude_miaowing_39_0_0.wav', 'running_tap_9_0_0_0_0.wav', 'doing_the_dishes_3.wav', 'doing_the_dishes_26_0_0_0_0.wav', 'exercise_bike_20_0_0_0_0.wav', 'pink_noise_12_0_0_0_0.wav'], ['4100.wav', '2203.wav', '1050.wav', '2559.wav', '2015.wav', '4458.wav', '1520.wav', '2968.wav', '3519.wav', '842.wav', '856.wav', '2613.wav', '895.wav', '1656.wav', '1642.wav', '1695.wav', '301.wav', '2388.wav', '1680.wav', '3083.wav', '466.wav', '3915.wav', '3040.wav', '1131.wav', '2612.wav', '2941.wav', '704.wav', '2982.wav', '2014.wav', '3685.wav', '4698.wav', '3861.wav', '1904.wav', '3120.wav', '3136.wav', '4881.wav', '4467.wav', '2980.wav', '3446.wav', '1245.wav', '909.wav', '1292.wav', '706.wav', '4498.wav', '2604.wav', '1443.wav', '1127.wav', '1682.wav', '3081.wav', '3725.wav', '3043.wav', '2349.wav', '3282.wav', '1442.wav', '3269.wav', '1287.wav', '2942.wav', '2995.wav', '1250.wav', '4466.wav', '4300.wav', '4472.wav', '3123.wav', '4102.wav', '4664.wav', '1708.wav', '2239.wav', '267.wav', '1254.wav', '3331.wav', '924.wav', '1136.wav', '3709.wav', '4066.wav', '4072.wav', '3084.wav', '474.wav', '2833.wav', '716.wav', '3442.wav', '3867.wav', '3697.wav', '266.wav', '2576.wav', '1043.wav', '1057.wav', '1041.wav', '3859.wav', '1257.wav', '700.wav', '3246.wav', '4529.wav', '3534.wav', '2170.wav', '660.wav', '884.wav', '2428.wav', '3911.wav', '1685.wav', '463.wav', '1849.wav', '2367.wav', '2824.wav', '2603.wav', '3535.wav', '1336.wav', '1295.wav', '926.wav', '3469.wav', '3441.wav', '3333.wav', '1915.wav', '1901.wav', '1929.wav', '1097.wav', '3858.wav', '1083.wav', '2575.wav', '3125.wav', '3657.wav', '3131.wav', '1769.wav', '2506.wav', '216.wav', '3181.wav', '799.wav', '835.wav', '2894.wav', '2843.wav', '3591.wav', '4771.wav', '4759.wav', '2467.wav', '2301.wav', '834.wav', '2117.wav', '4214.wav', '4374.wav', '2711.wav', '1024.wav', '1540.wav', '836.wav', '1420.wav', '3551.wav', '89.wav', '406.wav', '3746.wav', '4029.wav', '4767.wav', '1421.wav', '189.wav', '2935.wav', '3183.wav', '4834.wav', '4149.wav', '599.wav', '2262.wav', '1753.wav', '3622.wav', '3839.wav', '3420.wav', '3434.wav', '947.wav', '3391.wav', '1357.wav', '73.wav', '2689.wav', '172.wav', '98.wav', '1141.wav', '4010.wav', '4776.wav', '3025.wav', '4038.wav', '2878.wav', '167.wav', '2105.wav', '1342.wav', '2924.wav', '946.wav', '3347.wav', '4825.wav', '1791.wav', '3838.wav', '1746.wav', '4600.wav', '2265.wav', '561.wav', '788.wav', '58.wav', '3231.wav', '3219.wav', '2846.wav', '617.wav', '4748.wav', '1156.wav', '1181.wav', '1816.wav', '3967.wav', '4775.wav', '158.wav', '3595.wav', '2847.wav', '1427.wav', '3542.wav', '2927.wav', '2700.wav', '4173.wav', '1037.wav', '3634.wav', '1953.wav', '579.wav', '960.wav', '4383.wav', '747.wav', '6.wav', '1370.wav', '2321.wav', '3942.wav', '3956.wav', '424.wav', '1615.wav', '381.wav', '4023.wav', '2320.wav', '3228.wav', '41.wav', '2724.wav', '4427.wav', '1952.wav', '1775.wav', '3176.wav', '2240.wav', '1749.wav', '4157.wav', '2254.wav', '4196.wav', '2281.wav', '4431.wav', '1561.wav', '778.wav', '4223.wav', '3558.wav', '3941.wav', '1818.wav', '2486.wav', '3767.wav', '2874.wav', '1366.wav', '3571.wav', '2647.wav', '1428.wav', '4.wav', '1212.wav', '4424.wav', '4815.wav', '3820.wav', '4197.wav', '1951.wav', '580.wav', '1766.wav', '4811.wav', '1941.wav', '3373.wav', '796.wav', '4352.wav', '4568.wav', '2870.wav', '4583.wav', '4597.wav', '1389.wav', '4742.wav', '4024.wav', '2482.wav', '1835.wav', '2865.wav', '4541.wav', '2905.wav', '740.wav', '973.wav', '4435.wav', '3831.wav', '2291.wav', '4804.wav', '3616.wav', '4609.wav', '781.wav', '971.wav', '3.wav', '811.wav', '3589.wav', '92.wav', '1177.wav', '3774.wav', '1605.wav', '352.wav', '1836.wav', '3947.wav', '1837.wav', '2443.wav', '93.wav', '2682.wav', '2872.wav', '623.wav', '2.wav', '2655.wav', '2641.wav', '3211.wav', '4344.wav', '3826.wav', '2523.wav', '4848.wav', '4860.wav', '2752.wav', '4243.wav', '2197.wav', '1105.wav', '335.wav', '1845.wav', '1676.wav', '2419.wav', '651.wav', '4518.wav', '4256.wav', '4487.wav', '3471.wav', '2009.wav', '4691.wav', '3101.wav', '282.wav', '4888.wav', '2221.wav', '3659.wav', '3665.wav', '1099.wav', '3329.wav', '1270.wav', '1516.wav', '3498.wav', '2792.wav', '2962.wav', '727.wav', '3513.wav', '3507.wav', '4042.wav', '445.wav', '4719.wav', '2368.wav', '2340.wav', '1649.wav', '1477.wav', '861.wav', '35.wav', '4490.wav', '3314.wav', '2778.wav', '2750.wav', '2744.wav', '1926.wav', '4123.wav', '4669.wav', '2224.wav', '252.wav', '1936.wav', '1922.wav', '3853.wav', '3258.wav', '4537.wav', '3932.wav', '2345.wav', '1894.wav', '1328.wav', '2609.wav', '737.wav', '2741.wav', '4683.wav', '521.wav', '4126.wav', '3885.wav', '3661.wav', '1060.wav', '2555.wav', '251.wav', '4865.wav', '2582.wav', '906.wav', '2025.wav', '2794.wav', '4534.wav', '127.wav', '2810.wav', '1114.wav', '3059.wav', '443.wav', '325.wav', '319.wav', '2390.wav', '1115.wav', '2193.wav', '33.wav', '27.wav', '4496.wav', '720.wav', '3474.wav', '2583.wav', '3879.wav', '522.wav', '2554.wav'], ['wow_5744b6a7_nohash_1.wav.wav', 'two_fce96bac_nohash_1.wav.wav', 'learn_475b61f1_nohash_0.wav.wav', 'zero_c22d3f18_nohash_2.wav.wav', 'seven_fb7eb481_nohash_1.wav.wav', 'sheila_cfde27ba_nohash_0.wav.wav', 'bed_fe1916ba_nohash_0.wav.wav', 'follow_4c6167ca_nohash_3.wav.wav', 'house_84d1e469_nohash_0.wav.wav', 'bed_893705bb_nohash_2.wav.wav', 'forward_4c6167ca_nohash_4.wav.wav', 'house_6e916de8_nohash_0.wav.wav', 'eight_97f4c236_nohash_3.wav.wav', 'bed_0ea0e2f4_nohash_1.wav.wav', 'forward_c7dc7278_nohash_2.wav.wav', 'two_4fd1443e_nohash_1.wav.wav', 'five_a6f2fd71_nohash_0.wav.wav', 'six_d9e9f554_nohash_0.wav.wav', 'eight_837a0f64_nohash_4.wav.wav', 'happy_893705bb_nohash_1.wav.wav', 'three_b97c9f77_nohash_4.wav.wav', 'one_4fd1443e_nohash_2.wav.wav', 'house_b11a05d2_nohash_0.wav.wav', 'nine_fb7eb481_nohash_0.wav.wav', 'follow_b7e9f841_nohash_2.wav.wav', 'tree_7add4c5f_nohash_0.wav.wav', 'six_dfdabe19_nohash_0.wav.wav', 'forward_f2e59fea_nohash_1.wav.wav', 'eight_4fd1443e_nohash_2.wav.wav', 'six_3659fc1c_nohash_0.wav.wav', 'bird_b97c9f77_nohash_0.wav.wav', 'wow_3b4f8f24_nohash_0.wav.wav', 'forward_893705bb_nohash_4.wav.wav', 'three_7192fddc_nohash_0.wav.wav', 'nine_893705bb_nohash_0.wav.wav', 'zero_d962e5ac_nohash_4.wav.wav', 'nine_b97c9f77_nohash_0.wav.wav', 'two_aa80f517_nohash_3.wav.wav', 'three_e9901cf0_nohash_1.wav.wav', 'six_c9b5ff26_nohash_0.wav.wav', 'wow_dc75148d_nohash_0.wav.wav', 'forward_d5b963aa_nohash_3.wav.wav', 'seven_cd85758f_nohash_3.wav.wav', 'learn_220ee1ef_nohash_0.wav.wav', 'sheila_bed06fac_nohash_0.wav.wav', 'wow_90b94017_nohash_0.wav.wav', 'six_3efef882_nohash_0.wav.wav', 'nine_fb7eb481_nohash_1.wav.wav', 'wow_af405b69_nohash_0.wav.wav', 'one_4845bb10_nohash_0.wav.wav', 'six_a80f9f53_nohash_0.wav.wav', 'dog_43fc47a7_nohash_0.wav.wav', 'three_4c7c95de_nohash_0.wav.wav', 'eight_893705bb_nohash_9.wav.wav', 'forward_f9643d42_nohash_2.wav.wav', 'tree_4a0e2c16_nohash_0.wav.wav', 'two_87070229_nohash_1.wav.wav', 'zero_0fa1e7a9_nohash_2.wav.wav', 'dog_d1a4fb3f_nohash_0.wav.wav', 'bird_5c8af87a_nohash_0.wav.wav', 'tree_0fa1e7a9_nohash_1.wav.wav', 'eight_fb7eb481_nohash_0.wav.wav', 'follow_63f7a489_nohash_1.wav.wav', 'backward_a6f2fd71_nohash_3.wav.wav', 'one_9a69672b_nohash_0.wav.wav', 'sheila_ca48dc76_nohash_1.wav.wav', 'one_27c30960_nohash_1.wav.wav', 'zero_563aa4e6_nohash_2.wav.wav', 'cat_c518d1b1_nohash_0.wav.wav', 'house_e1469561_nohash_0.wav.wav', 'three_f428ca69_nohash_0.wav.wav', 'sheila_a1533da4_nohash_1.wav.wav', 'eight_893705bb_nohash_0.wav.wav', 'five_2aa787cf_nohash_1.wav.wav', 'forward_3b4f8f24_nohash_2.wav.wav', 'bed_cfbedff9_nohash_0.wav.wav', 'zero_9d171fee_nohash_1.wav.wav', 'forward_4c6167ca_nohash_5.wav.wav', 'zero_5e3dde6b_nohash_2.wav.wav', 'four_caedb73a_nohash_1.wav.wav', 'visual_8769c34c_nohash_2.wav.wav', 'tree_a4e8a997_nohash_1.wav.wav', 'tree_4620dc14_nohash_0.wav.wav', 'four_db24628d_nohash_1.wav.wav', 'cat_105a0eea_nohash_0.wav.wav', 'three_e41a903b_nohash_0.wav.wav', 'nine_b1f8326d_nohash_0.wav.wav', 'five_798f702a_nohash_0.wav.wav', 'three_c9b5ff26_nohash_0.wav.wav', 'nine_4f8ef132_nohash_1.wav.wav', 'four_cfbedff9_nohash_0.wav.wav', 'house_ca48dc76_nohash_0.wav.wav', 'visual_91b03183_nohash_4.wav.wav', 'four_bfd26d6b_nohash_0.wav.wav', 'bird_c7124b73_nohash_0.wav.wav', 'zero_1b4c9b89_nohash_3.wav.wav', 'happy_1fe4c891_nohash_1.wav.wav', 'follow_aa80f517_nohash_0.wav.wav', 'eight_db24628d_nohash_2.wav.wav', 'seven_5f814c23_nohash_0.wav.wav', 'one_0cb74144_nohash_1.wav.wav', 'six_d5b963aa_nohash_3.wav.wav', 'three_a80f9f53_nohash_0.wav.wav', 'four_b49caed3_nohash_0.wav.wav', 'marvin_105a0eea_nohash_0.wav.wav', 'nine_f9643d42_nohash_4.wav.wav', 'wow_4290ca61_nohash_1.wav.wav', 'two_0ea0e2f4_nohash_2.wav.wav', 'five_3b4f8f24_nohash_0.wav.wav', 'house_2aa787cf_nohash_1.wav.wav', 'dog_4c6167ca_nohash_1.wav.wav', 'one_692a88e6_nohash_1.wav.wav', 'marvin_af130f12_nohash_0.wav.wav', 'happy_b1f8326d_nohash_1.wav.wav', 'visual_ca4d5368_nohash_5.wav.wav', 'one_1f3bece8_nohash_1.wav.wav', 'nine_563aa4e6_nohash_4.wav.wav', 'eight_fe1916ba_nohash_0.wav.wav', 'marvin_f297e878_nohash_0.wav.wav', 'three_c7dc7278_nohash_1.wav.wav', 'five_a80f9f53_nohash_0.wav.wav', 'six_4c6167ca_nohash_5.wav.wav', 'happy_a7216980_nohash_0.wav.wav', 'one_7257420c_nohash_0.wav.wav', 'eight_94de6a6a_nohash_3.wav.wav', 'two_8769c34c_nohash_4.wav.wav', 'six_f428ca69_nohash_0.wav.wav', 'nine_4fd1443e_nohash_0.wav.wav', 'visual_8769c34c_nohash_0.wav.wav', 'seven_91b03183_nohash_3.wav.wav', 'zero_c7dc7278_nohash_1.wav.wav', 'eight_bb05582b_nohash_3.wav.wav', 'eight_9d4bab4f_nohash_1.wav.wav', 'six_964e8cfd_nohash_2.wav.wav', 'eight_7257420c_nohash_0.wav.wav', 'follow_893705bb_nohash_9.wav.wav', 'seven_bfd26d6b_nohash_1.wav.wav', 'sheila_d9e9f554_nohash_0.wav.wav', 'one_42beb5eb_nohash_1.wav.wav', 'zero_837a0f64_nohash_3.wav.wav', 'eight_67961766_nohash_0.wav.wav', 'happy_4fd1443e_nohash_0.wav.wav', 'house_7e1054e7_nohash_1.wav.wav', 'wow_a591c2ea_nohash_0.wav.wav', 'one_cfbedff9_nohash_0.wav.wav', 'bed_ca4d5368_nohash_0.wav.wav', 'one_d962e5ac_nohash_3.wav.wav', 'tree_0c40e715_nohash_2.wav.wav', 'forward_8fe67225_nohash_3.wav.wav', 'one_b97c9f77_nohash_3.wav.wav', 'happy_d1a4fb3f_nohash_0.wav.wav', 'eight_c0e0f834_nohash_0.wav.wav', 'house_412c675c_nohash_0.wav.wav', 'eight_97f4c236_nohash_1.wav.wav', 'three_370844f7_nohash_1.wav.wav', 'seven_9d4bab4f_nohash_0.wav.wav', 'three_8fe67225_nohash_3.wav.wav', 'dog_b97c9f77_nohash_0.wav.wav', 'two_4fd1443e_nohash_3.wav.wav', 'five_c9b5ff26_nohash_1.wav.wav', 'zero_3b4f8f24_nohash_1.wav.wav', 'tree_aef8dcf5_nohash_0.wav.wav', 'eight_cfbedff9_nohash_0.wav.wav', 'eight_7257420c_nohash_1.wav.wav', 'marvin_4f8ef132_nohash_0.wav.wav', 'bird_653a48f5_nohash_0.wav.wav', 'four_63f7a489_nohash_1.wav.wav', 'zero_5170b77f_nohash_1.wav.wav', 'tree_f428ca69_nohash_0.wav.wav', 'follow_b7e9f841_nohash_0.wav.wav', 'sheila_8fe52b97_nohash_0.wav.wav', 'cat_105a0eea_nohash_1.wav.wav', 'seven_cd85758f_nohash_0.wav.wav', 'nine_b1f8326d_nohash_1.wav.wav', 'sheila_af405b69_nohash_1.wav.wav', 'eight_cd85758f_nohash_0.wav.wav', 'eight_82b99576_nohash_0.wav.wav', 'three_87070229_nohash_4.wav.wav', 'backward_0c540988_nohash_0.wav.wav', 'sheila_370844f7_nohash_0.wav.wav', 'four_bfd26d6b_nohash_1.wav.wav', 'two_91b03183_nohash_1.wav.wav', 'house_8c7f81df_nohash_1.wav.wav', 'bird_a4383927_nohash_0.wav.wav', 'backward_f9643d42_nohash_3.wav.wav', 'nine_7257420c_nohash_0.wav.wav', 'two_893705bb_nohash_0.wav.wav', 'wow_6e916de8_nohash_3.wav.wav', 'happy_d91a159e_nohash_0.wav.wav', 'five_c7dc7278_nohash_0.wav.wav', 'bed_28497c5b_nohash_0.wav.wav', 'one_2796ac50_nohash_0.wav.wav', 'eight_a7216980_nohash_1.wav.wav', 'eight_80c45ed6_nohash_1.wav.wav', 'learn_0cb74144_nohash_1.wav.wav', 'zero_cfbedff9_nohash_0.wav.wav', 'one_37dca74f_nohash_2.wav.wav', 'forward_cfbedff9_nohash_0.wav.wav', 'zero_893705bb_nohash_3.wav.wav', 'learn_e49428d9_nohash_4.wav.wav', 'wow_d7467392_nohash_0.wav.wav', 'one_837a0f64_nohash_3.wav.wav', 'happy_f6af2457_nohash_0.wav.wav', 'marvin_6379c6a2_nohash_0.wav.wav', 'backward_bfd26d6b_nohash_2.wav.wav', 'bird_0fa1e7a9_nohash_0.wav.wav', 'one_692a88e6_nohash_5.wav.wav', 'marvin_587f3271_nohash_0.wav.wav', 'zero_44260689_nohash_1.wav.wav', 'three_b1f8326d_nohash_0.wav.wav', 'backward_f2e59fea_nohash_4.wav.wav', 'seven_563aa4e6_nohash_1.wav.wav', 'zero_d0faf7e4_nohash_4.wav.wav', 'four_0c40e715_nohash_0.wav.wav', 'happy_37fc5d97_nohash_1.wav.wav', 'forward_fb7eb481_nohash_3.wav.wav', 'six_9a69672b_nohash_1.wav.wav', 'marvin_3b4f8f24_nohash_0.wav.wav', 'zero_81dc4a94_nohash_1.wav.wav', 'sheila_283d7a53_nohash_0.wav.wav', 'seven_b83c1acf_nohash_3.wav.wav', 'six_5c8af87a_nohash_0.wav.wav', 'bed_837a0f64_nohash_0.wav.wav', 'wow_a2473d62_nohash_1.wav.wav', 'visual_ea37ca08_nohash_0.wav.wav', 'three_87070229_nohash_1.wav.wav', 'seven_964e8cfd_nohash_1.wav.wav', 'five_964e8cfd_nohash_4.wav.wav', 'eight_18f8afd5_nohash_3.wav.wav', 'six_1acc97de_nohash_2.wav.wav', 'happy_8494fba8_nohash_0.wav.wav', 'happy_e49428d9_nohash_0.wav.wav', 'eight_f292725f_nohash_1.wav.wav', 'zero_5170b77f_nohash_4.wav.wav', 'one_d0faf7e4_nohash_1.wav.wav', 'four_8769c34c_nohash_2.wav.wav', 'sheila_44260689_nohash_0.wav.wav', 'one_d5b963aa_nohash_0.wav.wav', 'six_8fe67225_nohash_4.wav.wav', 'five_42beb5eb_nohash_0.wav.wav', 'zero_db24628d_nohash_3.wav.wav', 'follow_e49428d9_nohash_2.wav.wav', 'six_a7216980_nohash_3.wav.wav', 'five_c7124b73_nohash_0.wav.wav', 'sheila_4f8ef132_nohash_0.wav.wav', 'marvin_0c40e715_nohash_0.wav.wav', 'bed_4c7c95de_nohash_0.wav.wav', 'backward_0cb74144_nohash_2.wav.wav', 'nine_6b889021_nohash_0.wav.wav', 'backward_8fe67225_nohash_4.wav.wav', 'wow_aa80f517_nohash_0.wav.wav', 'two_964e8cfd_nohash_2.wav.wav', 'six_db24628d_nohash_0.wav.wav', 'forward_4fd1443e_nohash_1.wav.wav', 'one_82d0d3ba_nohash_0.wav.wav', 'five_9d4bab4f_nohash_1.wav.wav', 'six_9dc1889e_nohash_1.wav.wav', 'three_6736bc64_nohash_2.wav.wav', 'eight_f292725f_nohash_0.wav.wav', 'three_692a88e6_nohash_1.wav.wav', 'eight_0c40e715_nohash_0.wav.wav', 'bird_e71b4ce6_nohash_0.wav.wav', 'six_a6f2fd71_nohash_4.wav.wav', 'cat_4620dc14_nohash_0.wav.wav', 'two_e1469561_nohash_3.wav.wav', 'nine_e49428d9_nohash_0.wav.wav', 'five_0d53e045_nohash_0.wav.wav', 'happy_5828dfa2_nohash_1.wav.wav', 'nine_af405b69_nohash_0.wav.wav', 'four_c7dc7278_nohash_0.wav.wav', 'nine_964e8cfd_nohash_1.wav.wav', 'one_dfdabe19_nohash_1.wav.wav', 'eight_f2e59fea_nohash_2.wav.wav', 'two_8769c34c_nohash_1.wav.wav', 'three_8c0e5970_nohash_0.wav.wav', 'five_4fd1443e_nohash_1.wav.wav', 'backward_87070229_nohash_2.wav.wav', 'learn_0cb74144_nohash_0.wav.wav', 'three_ca4d5368_nohash_2.wav.wav', 'zero_bfd26d6b_nohash_1.wav.wav', 'zero_44260689_nohash_0.wav.wav', 'one_8fe52b97_nohash_0.wav.wav', 'three_fb7eb481_nohash_2.wav.wav', 'learn_1acc97de_nohash_0.wav.wav', 'four_a8e25ebb_nohash_2.wav.wav', 'one_3b4f8f24_nohash_0.wav.wav', 'happy_e0c782d5_nohash_0.wav.wav', 'five_c22d3f18_nohash_4.wav.wav', 'six_27c30960_nohash_1.wav.wav', 'marvin_7add4c5f_nohash_1.wav.wav', 'bird_d5b963aa_nohash_0.wav.wav', 'eight_2d82a556_nohash_1.wav.wav', 'cat_2d82a556_nohash_0.wav.wav', 'bed_bed06fac_nohash_0.wav.wav', 'nine_a591c2ea_nohash_3.wav.wav', 'nine_1b4c9b89_nohash_2.wav.wav', 'three_91b03183_nohash_3.wav.wav', 'eight_e49428d9_nohash_1.wav.wav', 'two_5e3dde6b_nohash_1.wav.wav', 'three_692a88e6_nohash_3.wav.wav', 'six_0cb74144_nohash_1.wav.wav', 'eight_f9643d42_nohash_2.wav.wav', 'dog_2c6d3924_nohash_2.wav.wav', 'two_84d1e469_nohash_0.wav.wav', 'visual_e49428d9_nohash_4.wav.wav', 'learn_b7e9f841_nohash_0.wav.wav', 'seven_e0c782d5_nohash_2.wav.wav', 'forward_a7216980_nohash_2.wav.wav', 'happy_6b889021_nohash_2.wav.wav', 'five_d962e5ac_nohash_0.wav.wav', 'sheila_4c841771_nohash_1.wav.wav', 'nine_3df9a3d4_nohash_0.wav.wav', 'zero_af7a8296_nohash_0.wav.wav', 'five_4c841771_nohash_0.wav.wav', 'marvin_b2e2773a_nohash_0.wav.wav', 'happy_8fe67225_nohash_0.wav.wav', 'cat_6f2f57c1_nohash_0.wav.wav', 'four_4c6167ca_nohash_4.wav.wav', 'nine_24ad3ebe_nohash_0.wav.wav', 'two_e49428d9_nohash_0.wav.wav', 'cat_7192fddc_nohash_0.wav.wav', 'seven_a1533da4_nohash_0.wav.wav', 'six_653a48f5_nohash_0.wav.wav', 'five_fb7eb481_nohash_0.wav.wav', 'follow_e0c782d5_nohash_0.wav.wav', 'four_a591c2ea_nohash_1.wav.wav', 'follow_bfd26d6b_nohash_4.wav.wav', 'cat_83957201_nohash_0.wav.wav', 'two_e0c782d5_nohash_1.wav.wav', 'eight_c7dc7278_nohash_3.wav.wav', 'happy_7bae88ed_nohash_0.wav.wav', 'sheila_4c6167ca_nohash_1.wav.wav', 'three_ef2a3cfb_nohash_0.wav.wav', 'tree_ffb86d3c_nohash_0.wav.wav', 'one_8769c34c_nohash_0.wav.wav', 'bird_2c6d3924_nohash_0.wav.wav', 'four_c9b5ff26_nohash_3.wav.wav', 'nine_26b28ea7_nohash_0.wav.wav', 'five_7dc95912_nohash_1.wav.wav', 'three_d962e5ac_nohash_0.wav.wav', 'cat_d5ca80c6_nohash_0.wav.wav', 'seven_7e1054e7_nohash_0.wav.wav', 'seven_8a325749_nohash_0.wav.wav', 'eight_798f702a_nohash_2.wav.wav', 'zero_af8b2f2c_nohash_0.wav.wav', 'eight_b83c1acf_nohash_0.wav.wav', 'dog_bed06fac_nohash_2.wav.wav', 'seven_e49428d9_nohash_3.wav.wav', 'eight_964e8cfd_nohash_2.wav.wav', 'seven_563aa4e6_nohash_2.wav.wav', 'sheila_881583a6_nohash_0.wav.wav', 'five_893705bb_nohash_8.wav.wav', 'learn_1acc97de_nohash_3.wav.wav', 'zero_bfd26d6b_nohash_2.wav.wav', 'one_d5ca80c6_nohash_0.wav.wav', 'two_18f8afd5_nohash_2.wav.wav', 'one_a6f2fd71_nohash_0.wav.wav', 'six_b49caed3_nohash_0.wav.wav', 'happy_a8e25ebb_nohash_0.wav.wav', 'wow_653a48f5_nohash_0.wav.wav', 'tree_8ea6dec6_nohash_0.wav.wav', 'six_b1f8326d_nohash_0.wav.wav', 'seven_d1bf406b_nohash_1.wav.wav', 'zero_bb05582b_nohash_0.wav.wav', 'bed_5e3dde6b_nohash_0.wav.wav', 'dog_85d2ac4b_nohash_2.wav.wav', 'three_9a69672b_nohash_1.wav.wav', 'happy_1f653d27_nohash_1.wav.wav', 'three_27c30960_nohash_0.wav.wav', 'four_18f8afd5_nohash_0.wav.wav', 'bird_cfde27ba_nohash_0.wav.wav', 'marvin_d1bf406b_nohash_0.wav.wav', 'nine_ca48dc76_nohash_0.wav.wav', 'two_a4e8a997_nohash_0.wav.wav', 'five_0cb74144_nohash_2.wav.wav', 'sheila_6021f08b_nohash_0.wav.wav', 'five_837a0f64_nohash_4.wav.wav', 'cat_8fe67225_nohash_0.wav.wav', 'eight_8a325749_nohash_1.wav.wav', 'six_b97c9f77_nohash_3.wav.wav', 'nine_d0faf7e4_nohash_2.wav.wav', 'sheila_af130f12_nohash_3.wav.wav', 'wow_a4383927_nohash_0.wav.wav', 'learn_ca4d5368_nohash_0.wav.wav', 'six_63f7a489_nohash_0.wav.wav', 'happy_24ad3ebe_nohash_0.wav.wav', 'four_8ec6dab6_nohash_1.wav.wav', 'three_fa446c16_nohash_0.wav.wav', 'backward_5170b77f_nohash_4.wav.wav', 'sheila_5b1db3ee_nohash_1.wav.wav', 'five_97f4c236_nohash_3.wav.wav', 'six_692a88e6_nohash_0.wav.wav', 'happy_f17d21b5_nohash_0.wav.wav', 'six_1acc97de_nohash_0.wav.wav', 'nine_8769c34c_nohash_0.wav.wav', 'six_43fc47a7_nohash_0.wav.wav', 'happy_3df9a3d4_nohash_0.wav.wav', 'five_aa80f517_nohash_1.wav.wav', 'four_5170b77f_nohash_2.wav.wav', 'nine_964e8cfd_nohash_2.wav.wav', 'seven_9b3ea809_nohash_0.wav.wav', 'learn_964c7c9e_nohash_0.wav.wav', 'four_d1bf406b_nohash_0.wav.wav', 'wow_4f8ef132_nohash_0.wav.wav', 'wow_81dc4a94_nohash_0.wav.wav', 'two_e49428d9_nohash_1.wav.wav', 'house_cd85758f_nohash_0.wav.wav', 'two_d5ca80c6_nohash_3.wav.wav'], ['8e523821_nohash_2.wav', 'bb05582b_nohash_3.wav', '7e7ca854_nohash_0.wav', '62ccd358_nohash_0.wav', '6aa8def4_nohash_1.wav', '1b18600d_nohash_0.wav', 'f2e59fea_nohash_3.wav', '3d794813_nohash_1.wav', 'c9b5ff26_nohash_4.wav', 'ca4912b6_nohash_1.wav', '0d6d7360_nohash_4.wav', '3d9bbe2d_nohash_1.wav', 'bd76a7fd_nohash_4.wav', '18f8afd5_nohash_3.wav', '508e30ee_nohash_1.wav', 'b0f5b16d_nohash_3.wav', '1c84a139_nohash_2.wav', '1b42b551_nohash_1.wav', 'e3e0f145_nohash_3.wav', 'da93deb7_nohash_0.wav', '5ebc1cda_nohash_5.wav', '62f05757_nohash_1.wav', 'ff2b842e_nohash_3.wav', '2fee065a_nohash_4.wav', 'ff4ed4f3_nohash_3.wav', '2927c601_nohash_4.wav', '54aecbd5_nohash_0.wav', '96d8bb6f_nohash_3.wav', 'b528edb3_nohash_4.wav', 'b76f6088_nohash_3.wav', '1e9e6bdd_nohash_4.wav', '2aca1e72_nohash_1.wav', 'b5cf6ea8_nohash_5.wav', '837a0f64_nohash_1.wav', 'b69002d4_nohash_3.wav', 'e49428d9_nohash_0.wav', '113b3fbc_nohash_1.wav', '332d33b1_nohash_3.wav', 'cd671b5f_nohash_4.wav', '08ab231c_nohash_2.wav', '98ea0818_nohash_1.wav', '61e2f74f_nohash_3.wav', '5b32733e_nohash_0.wav', '08ab231c_nohash_3.wav', '61e2f74f_nohash_2.wav', '98ea0818_nohash_0.wav', '332d33b1_nohash_2.wav', '113b3fbc_nohash_0.wav', 'b69002d4_nohash_2.wav', '837a0f64_nohash_0.wav', 'e49428d9_nohash_1.wav', '2aca1e72_nohash_0.wav', 'b5cf6ea8_nohash_4.wav', '72e382bd_nohash_4.wav', 'b76f6088_nohash_2.wav', '96d8bb6f_nohash_2.wav', 'aa80f517_nohash_4.wav', '54aecbd5_nohash_1.wav', 'ddedba85_nohash_2.wav', 'ff2b842e_nohash_2.wav', 'ff4ed4f3_nohash_2.wav', '62f05757_nohash_0.wav', '5ebc1cda_nohash_4.wav', '20a0d54b_nohash_0.wav', 'e3e0f145_nohash_2.wav', '15dd287d_nohash_4.wav', '1b42b551_nohash_0.wav', '1c84a139_nohash_3.wav', 'b0f5b16d_nohash_2.wav', '508e30ee_nohash_0.wav', '18f8afd5_nohash_2.wav', 'bd76a7fd_nohash_5.wav', '3d9bbe2d_nohash_0.wav', 'ca4912b6_nohash_0.wav', '3d794813_nohash_0.wav', 'f2e59fea_nohash_2.wav', '1b18600d_nohash_1.wav', '6aa8def4_nohash_0.wav', '62ccd358_nohash_1.wav', '7e7ca854_nohash_1.wav', 'bb05582b_nohash_2.wav', '8e523821_nohash_3.wav', 'e2633cf5_nohash_0.wav', '7e7ca854_nohash_3.wav', 'bb05582b_nohash_0.wav', '8e523821_nohash_1.wav', '6aa8def4_nohash_2.wav', '3d794813_nohash_2.wav', '1a994c9f_nohash_4.wav', 'f2e59fea_nohash_0.wav', '578d3efb_nohash_4.wav', '3d9bbe2d_nohash_2.wav', 'ca4912b6_nohash_2.wav', '1b42b551_nohash_2.wav', '1c84a139_nohash_1.wav', 'b0f5b16d_nohash_0.wav', 'ff0e27c3_nohash_1.wav', '18f8afd5_nohash_0.wav', '508e30ee_nohash_2.wav', 'e3e0f145_nohash_0.wav', '5ebc1cda_nohash_6.wav', 'c2657ba5_nohash_1.wav', 'ff4ed4f3_nohash_0.wav', 'ff2b842e_nohash_0.wav', '62f05757_nohash_2.wav', 'ddedba85_nohash_0.wav', '66e8a4ec_nohash_0.wav', '5a98d407_nohash_4.wav', '54aecbd5_nohash_3.wav', '4340d369_nohash_0.wav', '96d8bb6f_nohash_0.wav', 'ea0cf37f_nohash_0.wav', '55feffd5_nohash_0.wav', '88b7c5fa_nohash_0.wav', '879a2b38_nohash_4.wav', 'b5cf6ea8_nohash_6.wav', '2aca1e72_nohash_2.wav', 'd0745d72_nohash_1.wav', 'b76f6088_nohash_0.wav', '113b3fbc_nohash_2.wav', '332d33b1_nohash_0.wav', '837a0f64_nohash_2.wav', 'b69002d4_nohash_0.wav', '98ea0818_nohash_2.wav', '61e2f74f_nohash_0.wav', 'ad526ada_nohash_1.wav', '08ab231c_nohash_1.wav', 'ad526ada_nohash_0.wav', '61e2f74f_nohash_1.wav', '98ea0818_nohash_3.wav', '08ab231c_nohash_0.wav', 'b69002d4_nohash_1.wav', '9448c397_nohash_4.wav', '332d33b1_nohash_1.wav', '113b3fbc_nohash_3.wav', 'c351e611_nohash_4.wav', 'b76f6088_nohash_1.wav', 'd0745d72_nohash_0.wav', 'b5cf6ea8_nohash_7.wav', '2aca1e72_nohash_3.wav', '96d8bb6f_nohash_1.wav', '54aecbd5_nohash_2.wav', 'ddedba85_nohash_1.wav', '61ab8fbc_nohash_4.wav', '62f05757_nohash_3.wav', 'ff4ed4f3_nohash_1.wav', 'ff2b842e_nohash_1.wav', 'c2657ba5_nohash_0.wav', '978240e1_nohash_4.wav', 'e3e0f145_nohash_1.wav', '508e30ee_nohash_3.wav', '18f8afd5_nohash_1.wav', '676f8138_nohash_4.wav', 'f822b9bf_nohash_4.wav', 'ff0e27c3_nohash_0.wav', 'b0f5b16d_nohash_1.wav', '1c84a139_nohash_0.wav', '1b42b551_nohash_3.wav', 'ca4912b6_nohash_3.wav', 'bd76a7fd_nohash_6.wav', '3d9bbe2d_nohash_3.wav', 'fb8c31a9_nohash_4.wav', 'f2e59fea_nohash_1.wav', '3d794813_nohash_3.wav', 'ac9dee0e_nohash_4.wav', '6aa8def4_nohash_3.wav', '8e523821_nohash_0.wav', 'bb05582b_nohash_1.wav', '7e7ca854_nohash_2.wav', '513aeddf_nohash_0.wav', '9f93e408_nohash_1.wav', '89947bd7_nohash_1.wav', 'ac9dee0e_nohash_0.wav', '8e523821_nohash_4.wav', '578d3efb_nohash_1.wav', '1a994c9f_nohash_1.wav', 'ae32324a_nohash_0.wav', '1c84a139_nohash_4.wav', '15dd287d_nohash_3.wav', 'cfbedff9_nohash_2.wav', '676f8138_nohash_0.wav', 'f822b9bf_nohash_0.wav', 'b91b718c_nohash_3.wav', '3bb68054_nohash_0.wav', '9b02d503_nohash_2.wav', 'fb8c31a9_nohash_0.wav', 'bd76a7fd_nohash_2.wav', 'c9b5ff26_nohash_2.wav', '54ad8f22_nohash_2.wav', '0d6d7360_nohash_2.wav', '5ebc1cda_nohash_3.wav', '45692b02_nohash_0.wav', '978240e1_nohash_0.wav', '42398aab_nohash_0.wav', '61ab8fbc_nohash_0.wav', '70880cc6_nohash_1.wav', '5a98d407_nohash_1.wav', '2fee065a_nohash_2.wav', '3cc595de_nohash_2.wav', 'aa80f517_nohash_3.wav', '2927c601_nohash_2.wav', '3a53b856_nohash_0.wav', '2aca1e72_nohash_7.wav', '879a2b38_nohash_1.wav', 'b5cf6ea8_nohash_3.wav', '72e382bd_nohash_3.wav', '1e9e6bdd_nohash_2.wav', 'b528edb3_nohash_2.wav', 'f2f0d244_nohash_1.wav', '08ab231c_nohash_4.wav', '3d86b69a_nohash_1.wav', '5f5eef60_nohash_0.wav', 'c351e611_nohash_0.wav', '40738a2d_nohash_2.wav', 'cd671b5f_nohash_2.wav', '9448c397_nohash_0.wav', 'b69002d4_nohash_4.wav', '9448c397_nohash_1.wav', 'cd671b5f_nohash_3.wav', 'c351e611_nohash_1.wav', '5f5eef60_nohash_1.wav', '3d86b69a_nohash_0.wav', 'f2f0d244_nohash_0.wav', 'b528edb3_nohash_3.wav', '72e382bd_nohash_2.wav', '1e9e6bdd_nohash_3.wav', '2aca1e72_nohash_6.wav', '3a53b856_nohash_1.wav', 'b5cf6ea8_nohash_2.wav', '879a2b38_nohash_0.wav', '2927c601_nohash_3.wav', '96d8bb6f_nohash_4.wav', 'aa80f517_nohash_2.wav', 'ff2b842e_nohash_4.wav', '3cc595de_nohash_3.wav', '2fee065a_nohash_3.wav', '5a98d407_nohash_0.wav', '42398aab_nohash_1.wav', '70880cc6_nohash_0.wav', '61ab8fbc_nohash_1.wav', 'e3e0f145_nohash_4.wav', '978240e1_nohash_1.wav', '45692b02_nohash_1.wav', '5ebc1cda_nohash_2.wav', '54ad8f22_nohash_3.wav', 'c9b5ff26_nohash_3.wav', '0d6d7360_nohash_3.wav', 'fb8c31a9_nohash_1.wav', '9b02d503_nohash_3.wav', '3bb68054_nohash_1.wav', 'b91b718c_nohash_2.wav', 'bd76a7fd_nohash_3.wav', 'f822b9bf_nohash_1.wav', '676f8138_nohash_1.wav', 'cfbedff9_nohash_3.wav', '18f8afd5_nohash_4.wav', '15dd287d_nohash_2.wav', 'b0f5b16d_nohash_4.wav', 'f2e59fea_nohash_4.wav', '1a994c9f_nohash_0.wav', '578d3efb_nohash_0.wav', 'bb05582b_nohash_4.wav', 'ac9dee0e_nohash_1.wav', '89947bd7_nohash_0.wav', '9f93e408_nohash_0.wav', '513aeddf_nohash_1.wav', '244cc3a5_nohash_0.wav', 'bc999754_nohash_0.wav', '89947bd7_nohash_2.wav', 'ac9dee0e_nohash_3.wav', '9f93e408_nohash_2.wav', '513aeddf_nohash_3.wav', '6aa8def4_nohash_4.wav', '578d3efb_nohash_2.wav', '1f3e4139_nohash_0.wav', 'ec9b830b_nohash_1.wav', '1a994c9f_nohash_2.wav', '3d794813_nohash_4.wav', '508e30ee_nohash_4.wav', 'cfbedff9_nohash_1.wav', '676f8138_nohash_3.wav', 'f822b9bf_nohash_3.wav', '1b42b551_nohash_4.wav', '15dd287d_nohash_0.wav', '0d6d7360_nohash_1.wav', 'ca4912b6_nohash_4.wav', 'c9b5ff26_nohash_1.wav', '54ad8f22_nohash_1.wav', '3d9bbe2d_nohash_4.wav', 'bd76a7fd_nohash_1.wav', 'b91b718c_nohash_0.wav', '3bb68054_nohash_3.wav', '9b02d503_nohash_1.wav', 'fb8c31a9_nohash_3.wav', '79b37d3a_nohash_0.wav', '5ebc1cda_nohash_0.wav', '978240e1_nohash_3.wav', '5d4e3bb8_nohash_0.wav', '5a98d407_nohash_2.wav', '61ab8fbc_nohash_3.wav', '62f05757_nohash_4.wav', '2fee065a_nohash_1.wav', '3cc595de_nohash_1.wav', 'ace82a68_nohash_0.wav', 'aa80f517_nohash_0.wav', '1474273a_nohash_1.wav', '2927c601_nohash_1.wav', '1e9e6bdd_nohash_1.wav', '72e382bd_nohash_0.wav', '879a2b38_nohash_2.wav', 'b5cf6ea8_nohash_0.wav', '2aca1e72_nohash_4.wav', 'b528edb3_nohash_1.wav', '3d86b69a_nohash_2.wav', '98ea0818_nohash_4.wav', '5f5eef60_nohash_3.wav', 'f2f0d244_nohash_2.wav', '9448c397_nohash_3.wav', '113b3fbc_nohash_4.wav', 'c351e611_nohash_3.wav', 'cd671b5f_nohash_1.wav', '40738a2d_nohash_1.wav', 'cd671b5f_nohash_0.wav', '40738a2d_nohash_0.wav', 'c351e611_nohash_2.wav', '9448c397_nohash_2.wav', 'f2f0d244_nohash_3.wav', '5f5eef60_nohash_2.wav', '3d86b69a_nohash_3.wav', '98ea0818_nohash_5.wav', 'b528edb3_nohash_0.wav', 'b5cf6ea8_nohash_1.wav', '879a2b38_nohash_3.wav', '2aca1e72_nohash_5.wav', '1e9e6bdd_nohash_0.wav', '72e382bd_nohash_1.wav', '1474273a_nohash_0.wav', '2927c601_nohash_0.wav', 'aa80f517_nohash_1.wav', '3cc595de_nohash_0.wav', '2fee065a_nohash_0.wav', 'ace82a68_nohash_1.wav', '61ab8fbc_nohash_2.wav', '5a98d407_nohash_3.wav', '5d4e3bb8_nohash_1.wav', '978240e1_nohash_2.wav', '5ebc1cda_nohash_1.wav', '45692b02_nohash_2.wav', 'bd76a7fd_nohash_0.wav', 'fb8c31a9_nohash_2.wav', '9b02d503_nohash_0.wav', '3bb68054_nohash_2.wav', 'b91b718c_nohash_1.wav', '0d6d7360_nohash_0.wav', '54ad8f22_nohash_0.wav', 'c9b5ff26_nohash_0.wav', '15dd287d_nohash_1.wav', 'f822b9bf_nohash_2.wav', '676f8138_nohash_2.wav', 'cfbedff9_nohash_0.wav', '1a994c9f_nohash_3.wav', 'ec9b830b_nohash_0.wav', '578d3efb_nohash_3.wav', '7e7ca854_nohash_4.wav', '513aeddf_nohash_2.wav', '9f93e408_nohash_3.wav', 'ac9dee0e_nohash_2.wav', '559bc36a_nohash_1.wav', '4fd1443e_nohash_0.wav', 'b8874962_nohash_4.wav', 'a1cf7fd8_nohash_0.wav', '0a2b400e_nohash_1.wav', 'f30285c8_nohash_0.wav', 'b414c653_nohash_0.wav', '0ba018fc_nohash_0.wav', '3a929277_nohash_0.wav', 'd21fd169_nohash_3.wav', '14c7b073_nohash_0.wav', '171edea9_nohash_2.wav', 'acfd5b5e_nohash_1.wav', '1496195a_nohash_2.wav', 'ceef6d96_nohash_1.wav', '23da904f_nohash_4.wav', '7fb8d703_nohash_0.wav', '460209ac_nohash_3.wav', 'c50f55b8_nohash_14.wav', 'f568162b_nohash_0.wav', 'a77fbcfd_nohash_4.wav', 'ec32860c_nohash_0.wav', '3291330e_nohash_1.wav', '1e02ffc5_nohash_4.wav', 'ed032775_nohash_1.wav', '74241b28_nohash_2.wav', '9a76f8c3_nohash_0.wav', 'f0659908_nohash_2.wav', 'e882abb2_nohash_3.wav', '728be664_nohash_0.wav', 'a55105d0_nohash_0.wav', '435695e3_nohash_3.wav', 'cc8b3228_nohash_1.wav', 'bbf38549_nohash_3.wav', '1c76f5f3_nohash_0.wav', 'a16013b7_nohash_3.wav', '2b5e346d_nohash_0.wav', '90e72357_nohash_2.wav', 'eaa83485_nohash_3.wav', '779de043_nohash_4.wav', 'a045368c_nohash_3.wav', 'd4dddb92_nohash_2.wav', '51c5601d_nohash_1.wav', 'd962e5ac_nohash_3.wav', '322d17d3_nohash_2.wav', 'af6fbbf5_nohash_1.wav', 'ebdd0f59_nohash_1.wav', 'fd9c7413_nohash_0.wav', 'b29f8b23_nohash_2.wav', 'ef77b778_nohash_0.wav', '3a3ee7ed_nohash_3.wav', '95fd5a0f_nohash_2.wav', '472b8045_nohash_0.wav', '472b8045_nohash_1.wav', '3a3ee7ed_nohash_2.wav', '95fd5a0f_nohash_3.wav', 'ef77b778_nohash_1.wav', 'fd9c7413_nohash_1.wav', 'b29f8b23_nohash_3.wav', 'f1d8a638_nohash_2.wav', 'af6fbbf5_nohash_0.wav', 'ebdd0f59_nohash_0.wav', '29229c21_nohash_4.wav', 'd962e5ac_nohash_2.wav', '322d17d3_nohash_3.wav', '85ac0c1b_nohash_0.wav', 'a045368c_nohash_2.wav', '51c5601d_nohash_0.wav', 'd4dddb92_nohash_3.wav', 'a16013b7_nohash_2.wav', 'eaa83485_nohash_2.wav', '90e72357_nohash_3.wav', '2b5e346d_nohash_1.wav', 'bbf38549_nohash_2.wav', 'ab46af55_nohash_4.wav', '435695e3_nohash_2.wav', 'cc8b3228_nohash_0.wav', 'a55105d0_nohash_1.wav', '728be664_nohash_1.wav', 'e882abb2_nohash_2.wav', 'f0659908_nohash_3.wav', '333d7ddb_nohash_4.wav', 'ed032775_nohash_0.wav', '9a76f8c3_nohash_1.wav', '74241b28_nohash_3.wav', '3291330e_nohash_0.wav', '7fb8d703_nohash_1.wav', 'f568162b_nohash_1.wav', 'c50f55b8_nohash_15.wav', '460209ac_nohash_2.wav', 'ceef6d96_nohash_0.wav', '1496195a_nohash_3.wav', '171edea9_nohash_3.wav', '14c7b073_nohash_1.wav', 'acfd5b5e_nohash_0.wav', 'd21fd169_nohash_2.wav', '525eaa62_nohash_4.wav', '3a929277_nohash_1.wav', 'b414c653_nohash_1.wav', '0ba018fc_nohash_1.wav', '312b96ec_nohash_0.wav', 'f30285c8_nohash_1.wav', 'a1cf7fd8_nohash_1.wav', '0a2b400e_nohash_0.wav', '4fd1443e_nohash_1.wav', '559bc36a_nohash_0.wav', '0a2b400e_nohash_2.wav', '4c6944d6_nohash_4.wav', '9bfd6a9d_nohash_0.wav', '559bc36a_nohash_2.wav', '4fd1443e_nohash_3.wav', '0ba018fc_nohash_3.wav', 'b414c653_nohash_3.wav', 'f30285c8_nohash_3.wav', '3a929277_nohash_3.wav', 'a04817c2_nohash_4.wav', 'd21fd169_nohash_0.wav', 'a73be046_nohash_1.wav', 'acfd5b5e_nohash_2.wav', '14c7b073_nohash_3.wav', '171edea9_nohash_1.wav', 'a928cc5b_nohash_0.wav', '0165e0e8_nohash_0.wav', '30060aba_nohash_0.wav', '1496195a_nohash_1.wav', 'ceef6d96_nohash_2.wav', '3291330e_nohash_2.wav', '460209ac_nohash_0.wav', 'c50f55b8_nohash_17.wav', '7fb8d703_nohash_3.wav', 'c0cb43d6_nohash_1.wav', '74241b28_nohash_1.wav', '9a76f8c3_nohash_3.wav', '3a69f765_nohash_4.wav', 'ed032775_nohash_2.wav', '7a49163e_nohash_0.wav', 'f0659908_nohash_1.wav', 'a55105d0_nohash_3.wav', 'e882abb2_nohash_0.wav', 'cc8b3228_nohash_2.wav', '3e6e5b0f_nohash_0.wav', '435695e3_nohash_0.wav', '050170cb_nohash_4.wav', '90e72357_nohash_1.wav', '7f208e83_nohash_1.wav', 'eaa83485_nohash_0.wav', 'a16013b7_nohash_0.wav', 'bbf38549_nohash_0.wav', 'd4dddb92_nohash_1.wav', '51c5601d_nohash_2.wav', 'a045368c_nohash_0.wav', 'd0fb9ff4_nohash_0.wav', '322d17d3_nohash_1.wav', 'd962e5ac_nohash_0.wav', 'f1d8a638_nohash_0.wav', 'b29f8b23_nohash_1.wav', '890cc926_nohash_4.wav', 'ef77b778_nohash_3.wav', 'af6fbbf5_nohash_2.wav', '472b8045_nohash_3.wav', '95fd5a0f_nohash_1.wav', '3a3ee7ed_nohash_0.wav', '95fd5a0f_nohash_0.wav', '3a3ee7ed_nohash_1.wav', '472b8045_nohash_2.wav', 'ef77b778_nohash_2.wav', 'b29f8b23_nohash_0.wav', 'f1d8a638_nohash_1.wav', '322d17d3_nohash_0.wav', 'd962e5ac_nohash_1.wav', '856eb138_nohash_4.wav', '51c5601d_nohash_3.wav', 'd4dddb92_nohash_0.wav', 'a045368c_nohash_1.wav', 'bbf38549_nohash_1.wav', 'eaa83485_nohash_1.wav', '7f208e83_nohash_0.wav', '2b5e346d_nohash_2.wav', '90e72357_nohash_0.wav', 'a16013b7_nohash_1.wav', 'a9ca1818_nohash_4.wav', 'cc8b3228_nohash_3.wav', '435695e3_nohash_1.wav', '9a2e5b3c_nohash_0.wav', 'e882abb2_nohash_1.wav', 'a55105d0_nohash_2.wav', 'bdd22e4d_nohash_4.wav', 'f0659908_nohash_0.wav', '7a49163e_nohash_1.wav', '9a76f8c3_nohash_2.wav', '211b928a_nohash_4.wav', '74241b28_nohash_0.wav', 'ed032775_nohash_3.wav', 'c50f55b8_nohash_16.wav', '460209ac_nohash_1.wav', 'c0cb43d6_nohash_0.wav', '7fb8d703_nohash_2.wav', '3291330e_nohash_3.wav', '256c0a05_nohash_4.wav', 'ceef6d96_nohash_3.wav', '9151f184_nohash_4.wav', '1496195a_nohash_0.wav', '30060aba_nohash_1.wav', 'a928cc5b_nohash_1.wav', 'acfd5b5e_nohash_3.wav', '171edea9_nohash_0.wav', '14c7b073_nohash_2.wav', 'a73be046_nohash_0.wav', 'd21fd169_nohash_1.wav', '3a929277_nohash_2.wav', '6c9a1ac2_nohash_0.wav', 'f30285c8_nohash_2.wav', '0ba018fc_nohash_2.wav', 'b414c653_nohash_2.wav', '4fd1443e_nohash_2.wav', '0a2b400e_nohash_3.wav', '4c6944d6_nohash_5.wav', '2fcb6397_nohash_4.wav', '7c86c03e_nohash_0.wav', '236b6113_nohash_0.wav', '2fcb6397_nohash_0.wav', '4c6944d6_nohash_1.wav', 'c7dc7278_nohash_3.wav', '365908bd_nohash_1.wav', '3589bc72_nohash_2.wav', 'b8874962_nohash_2.wav', 'a04817c2_nohash_1.wav', 'cc3b5b62_nohash_3.wav', '03401e93_nohash_1.wav', '525eaa62_nohash_3.wav', 'a1e71565_nohash_3.wav', '5f01c798_nohash_1.wav', '8b367d88_nohash_0.wav', 'e71a9381_nohash_2.wav', '23da904f_nohash_2.wav', '9151f184_nohash_0.wav', '7f581e94_nohash_0.wav', '171edea9_nohash_4.wav', '4e61bf96_nohash_0.wav', '4c6167ca_nohash_1.wav', '3a69f765_nohash_1.wav', '333d7ddb_nohash_3.wav', '893b3c11_nohash_0.wav', '211b928a_nohash_0.wav', '74241b28_nohash_4.wav', '1e02ffc5_nohash_2.wav', 'bbc30633_nohash_1.wav', '256c0a05_nohash_0.wav', 'c50f55b8_nohash_12.wav', 'a77fbcfd_nohash_2.wav', '2aca1e72_nohash_13.wav', 'fbb2f6cc_nohash_2.wav', 'f0659908_nohash_4.wav', 'bdd22e4d_nohash_0.wav', '87070229_nohash_3.wav', '050170cb_nohash_1.wav', '779de043_nohash_2.wav', 'ab46af55_nohash_3.wav', '6379c6a2_nohash_0.wav', '0d85a428_nohash_0.wav', 'a9ca1818_nohash_0.wav', '856eb138_nohash_0.wav', '9be15e93_nohash_1.wav', '7d4beb11_nohash_0.wav', '29229c21_nohash_3.wav', 'b6573c88_nohash_1.wav', '95fd5a0f_nohash_4.wav', '890cc926_nohash_1.wav', 'c5a1e46c_nohash_0.wav', '674ca5ea_nohash_0.wav', '893705bb_nohash_8.wav', 'c5a1e46c_nohash_1.wav', '674ca5ea_nohash_1.wav', '890cc926_nohash_0.wav', '3a3ee7ed_nohash_4.wav', '95fd5a0f_nohash_5.wav', 'b6573c88_nohash_0.wav', 'a045368c_nohash_4.wav', '29229c21_nohash_2.wav', 'd962e5ac_nohash_4.wav', '9be15e93_nohash_0.wav', '856eb138_nohash_1.wav', 'a9ca1818_nohash_1.wav', 'bbf38549_nohash_4.wav', 'ab46af55_nohash_2.wav', '80be36a2_nohash_0.wav', 'a16013b7_nohash_4.wav', '779de043_nohash_3.wav', '050170cb_nohash_0.wav', 'bdd22e4d_nohash_1.wav', '87070229_nohash_2.wav', '5f1253e9_nohash_0.wav', 'fbb2f6cc_nohash_3.wav', 'e882abb2_nohash_4.wav', '2aca1e72_nohash_12.wav', 'a77fbcfd_nohash_3.wav', 'c50f55b8_nohash_13.wav', '256c0a05_nohash_1.wav', 'bbc30633_nohash_0.wav', '1e02ffc5_nohash_3.wav', '333d7ddb_nohash_2.wav', '3a69f765_nohash_0.wav', '13dce503_nohash_2.wav', '4c6167ca_nohash_0.wav', '211b928a_nohash_1.wav', '4e61bf96_nohash_1.wav', '9151f184_nohash_1.wav', 'e71a9381_nohash_3.wav', '23da904f_nohash_3.wav', '5f01c798_nohash_0.wav', '525eaa62_nohash_2.wav', 'a1e71565_nohash_2.wav', '03401e93_nohash_0.wav', 'cc3b5b62_nohash_2.wav', 'a04817c2_nohash_0.wav', 'd21fd169_nohash_4.wav', '3589bc72_nohash_3.wav', 'b8874962_nohash_3.wav', '4c6944d6_nohash_0.wav', '2fcb6397_nohash_1.wav', '365908bd_nohash_0.wav', 'c7dc7278_nohash_2.wav', '7c86c03e_nohash_1.wav', 'c98bbbd3_nohash_2.wav', 'c98bbbd3_nohash_0.wav', 'b8874962_nohash_1.wav', '3589bc72_nohash_1.wav', '0a2b400e_nohash_4.wav', '365908bd_nohash_2.wav', 'c7dc7278_nohash_0.wav', '2fcb6397_nohash_3.wav', '4c6944d6_nohash_2.wav', 'cc3b5b62_nohash_0.wav', 'a04817c2_nohash_2.wav', '18ffa72d_nohash_0.wav', 'a1e71565_nohash_0.wav', '525eaa62_nohash_0.wav', 'ceef6d96_nohash_4.wav', '9151f184_nohash_3.wav', '23da904f_nohash_1.wav', 'e71a9381_nohash_1.wav', '5c43ac9f_nohash_0.wav', 'c50f55b8_nohash_9.wav', 'acfd5b5e_nohash_4.wav', '1e02ffc5_nohash_1.wav', 'bbc30633_nohash_2.wav', '211b928a_nohash_3.wav', '13dce503_nohash_0.wav', 'ed032775_nohash_4.wav', '3a69f765_nohash_2.wav', '333d7ddb_nohash_0.wav', 'c50f55b8_nohash_11.wav', 'a77fbcfd_nohash_1.wav', '3291330e_nohash_4.wav', '256c0a05_nohash_3.wav', 'fbb2f6cc_nohash_1.wav', '2aca1e72_nohash_10.wav', 'd3d8fcd0_nohash_0.wav', '87070229_nohash_0.wav', 'bdd22e4d_nohash_3.wav', 'ab46af55_nohash_0.wav', '050170cb_nohash_2.wav', '779de043_nohash_1.wav', 'b089169d_nohash_0.wav', 'a9ca1818_nohash_3.wav', '29229c21_nohash_0.wav', '4d763ca4_nohash_0.wav', '856eb138_nohash_3.wav', '4fce7686_nohash_0.wav', '9be15e93_nohash_2.wav', '51c5601d_nohash_4.wav', '674ca5ea_nohash_3.wav', '5bf1f1cb_nohash_0.wav', 'c5a1e46c_nohash_3.wav', '890cc926_nohash_2.wav', '890cc926_nohash_3.wav', 'ef77b778_nohash_4.wav', '674ca5ea_nohash_2.wav', 'c5a1e46c_nohash_2.wav', '472b8045_nohash_4.wav', '4d763ca4_nohash_1.wav', '9be15e93_nohash_3.wav', '4fce7686_nohash_1.wav', '856eb138_nohash_2.wav', '29229c21_nohash_1.wav', '86f3558f_nohash_0.wav', 'a9ca1818_nohash_2.wav', '779de043_nohash_0.wav', '050170cb_nohash_3.wav', 'ab46af55_nohash_1.wav', '87070229_nohash_1.wav', 'd3d8fcd0_nohash_1.wav', 'bdd22e4d_nohash_2.wav', '2aca1e72_nohash_11.wav', 'be0f2293_nohash_0.wav', 'a55105d0_nohash_4.wav', 'fbb2f6cc_nohash_0.wav', 'a293e285_nohash_0.wav', '256c0a05_nohash_2.wav', 'a77fbcfd_nohash_0.wav', 'c50f55b8_nohash_10.wav', '368bedd4_nohash_0.wav', '7fb8d703_nohash_4.wav', '9a76f8c3_nohash_4.wav', '211b928a_nohash_2.wav', '333d7ddb_nohash_1.wav', '3a69f765_nohash_3.wav', '13dce503_nohash_1.wav', 'bbc30633_nohash_3.wav', '1e02ffc5_nohash_0.wav', '14c7b073_nohash_4.wav', 'c50f55b8_nohash_8.wav', '23da904f_nohash_0.wav', 'e71a9381_nohash_0.wav', '9151f184_nohash_2.wav', 'a1e71565_nohash_1.wav', '30f6e665_nohash_0.wav', '525eaa62_nohash_1.wav', 'a04817c2_nohash_3.wav', 'cc3b5b62_nohash_1.wav', 'c7dc7278_nohash_1.wav', '365908bd_nohash_3.wav', '4c6944d6_nohash_3.wav', '2fcb6397_nohash_2.wav', 'b8874962_nohash_0.wav', '4fd1443e_nohash_4.wav', '3589bc72_nohash_0.wav', 'f30285c8_nohash_4.wav', 'c98bbbd3_nohash_1.wav', 'ef3367d9_nohash_5.wav', 'd9aa8c90_nohash_2.wav', '067f61e2_nohash_4.wav', '42f81601_nohash_4.wav', 'a7acbbeb_nohash_1.wav', 'dd664d92_nohash_0.wav', '1a0f9c63_nohash_0.wav', '4c3cddb8_nohash_1.wav', 'd1dd03ed_nohash_3.wav', '18e910f4_nohash_1.wav', '3f45a0cf_nohash_1.wav', '64e48f55_nohash_1.wav', 'f68160c0_nohash_1.wav', '7c83c5f6_nohash_2.wav', 'a489191a_nohash_3.wav', '30276d03_nohash_2.wav', '57152045_nohash_1.wav', '87d5e978_nohash_4.wav', 'f5626af6_nohash_3.wav', '878befa7_nohash_1.wav', 'c50f55b8_nohash_5.wav', '8f447c3e_nohash_1.wav', 'f01a0d63_nohash_2.wav', 'c50f55b8_nohash_21.wav', '0e6e36c9_nohash_0.wav', 'ccca5655_nohash_4.wav', '2a1f4853_nohash_4.wav', 'beb458a4_nohash_1.wav', '3102f006_nohash_3.wav', 'eeaf97c3_nohash_3.wav', '19a1e5c7_nohash_0.wav', '1b627376_nohash_0.wav', '1dc86f91_nohash_4.wav', '24a3e589_nohash_2.wav', '645ed69d_nohash_3.wav', 'cdee383b_nohash_4.wav', 'e9bc5cc2_nohash_2.wav', '7f9eb952_nohash_0.wav', 'bcf614a2_nohash_4.wav', '9fac5701_nohash_4.wav', 'f736ab63_nohash_1.wav', '8b25410a_nohash_3.wav', 'a05a90c1_nohash_2.wav', '9b8a7439_nohash_1.wav', '51f7a034_nohash_3.wav', '4e6902d0_nohash_1.wav', '72242187_nohash_1.wav', 'dae01802_nohash_3.wav', 'e9abfe31_nohash_1.wav', '7213ed54_nohash_4.wav', '0ea9c8ce_nohash_2.wav', '234d6a48_nohash_3.wav', '1acc97de_nohash_1.wav', 'cb72dfb6_nohash_0.wav', 'ace072ba_nohash_3.wav', '3b4f8f24_nohash_3.wav', '94d370bf_nohash_1.wav', 'b69fe0e2_nohash_2.wav', '893705bb_nohash_7.wav', 'a929f9b9_nohash_2.wav', 'a929f9b9_nohash_3.wav', '893705bb_nohash_6.wav', '94d370bf_nohash_0.wav', 'b69fe0e2_nohash_3.wav', 'ace072ba_nohash_2.wav', '3b4f8f24_nohash_2.wav', '234d6a48_nohash_2.wav', 'cb72dfb6_nohash_1.wav', '1acc97de_nohash_0.wav', 'e9abfe31_nohash_0.wav', '91b03183_nohash_2.wav', '0ea9c8ce_nohash_3.wav', '72242187_nohash_0.wav', '4e6902d0_nohash_0.wav', 'dae01802_nohash_2.wav', '51f7a034_nohash_2.wav', '6fb3d5a7_nohash_4.wav', '9b8a7439_nohash_0.wav', '0a396ff2_nohash_0.wav', 'a05a90c1_nohash_3.wav', '8b25410a_nohash_2.wav', 'f736ab63_nohash_0.wav', '85851131_nohash_4.wav', '7f9eb952_nohash_1.wav', '24a3e589_nohash_3.wav', 'c2dccf38_nohash_2.wav', '13a93b33_nohash_0.wav', '645ed69d_nohash_2.wav', 'eeaf97c3_nohash_2.wav', '3102f006_nohash_2.wav', 'ab9b93e4_nohash_2.wav', 'beb458a4_nohash_0.wav', '0e6e36c9_nohash_1.wav', 'c50f55b8_nohash_20.wav', 'c1cc6e95_nohash_0.wav', 'f01a0d63_nohash_3.wav', 'f5626af6_nohash_2.wav', 'c50f55b8_nohash_4.wav', '878befa7_nohash_0.wav', '8f447c3e_nohash_0.wav', 'a489191a_nohash_2.wav', '57152045_nohash_0.wav', '7c83c5f6_nohash_3.wav', '3f45a0cf_nohash_0.wav', 'f68160c0_nohash_0.wav', '64e48f55_nohash_0.wav', '18e910f4_nohash_0.wav', '4c3cddb8_nohash_0.wav', 'de89e2ca_nohash_4.wav', 'a6f2fd71_nohash_4.wav', 'd1dd03ed_nohash_2.wav', '1a0f9c63_nohash_1.wav', 'a7acbbeb_nohash_0.wav', 'ef3367d9_nohash_4.wav', '0f46028a_nohash_4.wav', '8dc18a75_nohash_4.wav', 'd9aa8c90_nohash_3.wav', 'd9aa8c90_nohash_1.wav', 'ef3367d9_nohash_6.wav', 'd1dd03ed_nohash_0.wav', '4c3cddb8_nohash_2.wav', 'a7acbbeb_nohash_2.wav', '64e48f55_nohash_2.wav', 'f68160c0_nohash_2.wav', '3f45a0cf_nohash_2.wav', '18e910f4_nohash_2.wav', '542f38a2_nohash_0.wav', '30276d03_nohash_1.wav', '57152045_nohash_2.wav', 'a489191a_nohash_0.wav', '7c83c5f6_nohash_1.wav', 'ffea4a57_nohash_0.wav', '878befa7_nohash_2.wav', 'c50f55b8_nohash_6.wav', 'f5626af6_nohash_0.wav', 'de3fe344_nohash_4.wav', 'c50f55b8_nohash_22.wav', 'f01a0d63_nohash_1.wav', '0e6e36c9_nohash_3.wav', 'beb458a4_nohash_2.wav', 'ab9b93e4_nohash_0.wav', '3102f006_nohash_0.wav', '645ed69d_nohash_0.wav', 'e9bc5cc2_nohash_1.wav', 'c2dccf38_nohash_0.wav', '24a3e589_nohash_1.wav', 'eeaf97c3_nohash_0.wav', '9b8a7439_nohash_2.wav', '262d7a03_nohash_0.wav', 'f736ab63_nohash_2.wav', '8b25410a_nohash_0.wav', 'a05a90c1_nohash_1.wav', 'dae01802_nohash_0.wav', '4e6902d0_nohash_2.wav', '72242187_nohash_2.wav', '51f7a034_nohash_0.wav', '1acc97de_nohash_2.wav', 'cb72dfb6_nohash_3.wav', '234d6a48_nohash_0.wav', '3659fc1c_nohash_0.wav', '0ea9c8ce_nohash_1.wav', '91b03183_nohash_0.wav', 'e9abfe31_nohash_2.wav', '3b4f8f24_nohash_0.wav', 'ace072ba_nohash_0.wav', '893705bb_nohash_4.wav', 'a929f9b9_nohash_1.wav', 'b69fe0e2_nohash_1.wav', '94d370bf_nohash_2.wav', 'b69fe0e2_nohash_0.wav', '94d370bf_nohash_3.wav', 'a929f9b9_nohash_0.wav', '893705bb_nohash_5.wav', 'fa52ddf6_nohash_4.wav', '3b4f8f24_nohash_1.wav', 'ace072ba_nohash_1.wav', '91b03183_nohash_1.wav', '0ea9c8ce_nohash_0.wav', 'e9abfe31_nohash_3.wav', '85c60942_nohash_0.wav', 'cb72dfb6_nohash_2.wav', '1acc97de_nohash_3.wav', '234d6a48_nohash_1.wav', '51f7a034_nohash_1.wav', 'dae01802_nohash_1.wav', '72242187_nohash_3.wav', '4e6902d0_nohash_3.wav', 'a05a90c1_nohash_0.wav', '8b25410a_nohash_1.wav', 'f736ab63_nohash_3.wav', '9b8a7439_nohash_3.wav', '262d7a03_nohash_1.wav', '73f20b00_nohash_4.wav', 'eeaf97c3_nohash_1.wav', 'c2dccf38_nohash_1.wav', 'e9bc5cc2_nohash_0.wav', '645ed69d_nohash_1.wav', '24a3e589_nohash_0.wav', '3102f006_nohash_1.wav', 'ab9b93e4_nohash_1.wav', 'beb458a4_nohash_3.wav', '1a73dcd1_nohash_0.wav', '0e6e36c9_nohash_2.wav', 'db24628d_nohash_4.wav', 'f01a0d63_nohash_0.wav', '5170b77f_nohash_4.wav', 'fb7eb481_nohash_4.wav', '983577be_nohash_0.wav', '617aeb6c_nohash_4.wav', 'c50f55b8_nohash_7.wav', '878befa7_nohash_3.wav', 'f5626af6_nohash_1.wav', '9307154f_nohash_0.wav', 'c53e1048_nohash_0.wav', '7c83c5f6_nohash_0.wav', '57152045_nohash_3.wav', '30276d03_nohash_0.wav', 'a489191a_nohash_1.wav', '542f38a2_nohash_1.wav', '18e910f4_nohash_3.wav', '7d6b4b10_nohash_4.wav', 'f68160c0_nohash_3.wav', '64e48f55_nohash_3.wav', 'd1dd03ed_nohash_1.wav', '4c3cddb8_nohash_3.wav', 'd9aa8c90_nohash_0.wav', 'ef3367d9_nohash_7.wav', 'de89e2ca_nohash_3.wav', 'a6f2fd71_nohash_3.wav', '42f81601_nohash_2.wav', 'ee1d8d49_nohash_1.wav', 'ef3367d9_nohash_3.wav', '8dc18a75_nohash_3.wav', 'd9aa8c90_nohash_4.wav', '067f61e2_nohash_2.wav', '0f46028a_nohash_3.wav', 'eda072b5_nohash_0.wav', '042a8dde_nohash_2.wav', '7c83c5f6_nohash_4.wav', '7d6b4b10_nohash_0.wav', '90735d8b_nohash_0.wav', '18d84076_nohash_0.wav', 'c50f55b8_nohash_3.wav', '617aeb6c_nohash_0.wav', 'de3fe344_nohash_1.wav', 'fb7eb481_nohash_0.wav', '87d5e978_nohash_2.wav', 'ccca5655_nohash_2.wav', '5170b77f_nohash_0.wav', 'f01a0d63_nohash_4.wav', '9e92ef0c_nohash_0.wav', 'db24628d_nohash_0.wav', 'cdee383b_nohash_2.wav', '31db232b_nohash_1.wav', '1dc86f91_nohash_2.wav', '2a1f4853_nohash_2.wav', '0d90d8e1_nohash_0.wav', '9fac5701_nohash_2.wav', 'a05a90c1_nohash_4.wav', 'bcf614a2_nohash_2.wav', '85851131_nohash_3.wav', '73f20b00_nohash_0.wav', 'e1acea44_nohash_0.wav', 'c633a455_nohash_0.wav', '7213ed54_nohash_2.wav', '0ea9c8ce_nohash_4.wav', '6124b431_nohash_1.wav', 'c0e3ff37_nohash_1.wav', '6fb3d5a7_nohash_3.wav', 'f5341341_nohash_1.wav', 'a929f9b9_nohash_4.wav', '893705bb_nohash_1.wav', '2f0ce4d9_nohash_0.wav', 'b69fe0e2_nohash_4.wav', 'fa52ddf6_nohash_0.wav', '0d82fd99_nohash_1.wav', '0d82fd99_nohash_0.wav', 'fa52ddf6_nohash_1.wav', '3b4f8f24_nohash_4.wav', '2f0ce4d9_nohash_1.wav', '893705bb_nohash_0.wav', 'f5341341_nohash_0.wav', '51f7a034_nohash_4.wav', '67bdbf56_nohash_0.wav', '6fb3d5a7_nohash_2.wav', '6124b431_nohash_0.wav', 'c0e3ff37_nohash_0.wav', '82951cf0_nohash_0.wav', '7213ed54_nohash_3.wav', '73f20b00_nohash_1.wav', '85851131_nohash_2.wav', 'bcf614a2_nohash_3.wav', '9fac5701_nohash_3.wav', '8b25410a_nohash_4.wav', '8ea6dec6_nohash_0.wav', '2a1f4853_nohash_3.wav', '0d90d8e1_nohash_1.wav', 'b2ae3928_nohash_2.wav', 'eeaf97c3_nohash_4.wav', '1dc86f91_nohash_3.wav', '31db232b_nohash_0.wav', '645ed69d_nohash_4.wav', 'cdee383b_nohash_3.wav', '7464b22e_nohash_0.wav', 'ca4d5368_nohash_2.wav', 'db24628d_nohash_1.wav', '5170b77f_nohash_1.wav', 'ccca5655_nohash_3.wav', '87d5e978_nohash_3.wav', 'de3fe344_nohash_0.wav', '617aeb6c_nohash_1.wav', 'fb7eb481_nohash_1.wav', 'c50f55b8_nohash_2.wav', '7d6b4b10_nohash_1.wav', 'ae5578f4_nohash_0.wav', '042a8dde_nohash_3.wav', 'ef3367d9_nohash_2.wav', 'ee1d8d49_nohash_0.wav', '0f46028a_nohash_2.wav', '067f61e2_nohash_3.wav', '8dc18a75_nohash_2.wav', '42f81601_nohash_3.wav', 'de89e2ca_nohash_2.wav', 'a6f2fd71_nohash_2.wav', 'd1dd03ed_nohash_4.wav', 'a6f2fd71_nohash_0.wav', 'de89e2ca_nohash_0.wav', '8dc18a75_nohash_0.wav', '0f46028a_nohash_0.wav', '067f61e2_nohash_1.wav', 'ee1d8d49_nohash_2.wav', 'ef3367d9_nohash_0.wav', '42f81601_nohash_1.wav', '57152045_nohash_4.wav', '042a8dde_nohash_1.wav', 'f1eaff75_nohash_0.wav', '7d6b4b10_nohash_3.wav', 'f68160c0_nohash_4.wav', 'fb7eb481_nohash_3.wav', '617aeb6c_nohash_3.wav', 'de3fe344_nohash_2.wav', 'c50f55b8_nohash_0.wav', '87d5e978_nohash_1.wav', '1970b130_nohash_0.wav', 'ccca5655_nohash_1.wav', 'c50f55b8_nohash_18.wav', 'db24628d_nohash_3.wav', 'ca4d5368_nohash_0.wav', '5170b77f_nohash_3.wav', '1dc86f91_nohash_1.wav', 'cdee383b_nohash_1.wav', '0d90d8e1_nohash_3.wav', 'b2ae3928_nohash_0.wav', '2a1f4853_nohash_1.wav', 'beb458a4_nohash_4.wav', 'a56859ea_nohash_0.wav', 'f736ab63_nohash_4.wav', '9fac5701_nohash_1.wav', '9b8a7439_nohash_4.wav', 'c91dbe66_nohash_0.wav', '73f20b00_nohash_3.wav', 'bcf614a2_nohash_1.wav', '85851131_nohash_0.wav', '7213ed54_nohash_1.wav', 'e9abfe31_nohash_4.wav', '6fb3d5a7_nohash_0.wav', '72242187_nohash_4.wav', '4e6902d0_nohash_4.wav', '6124b431_nohash_2.wav', 'f5341341_nohash_2.wav', '893705bb_nohash_2.wav', 'fa52ddf6_nohash_3.wav', '0d82fd99_nohash_2.wav', '0d82fd99_nohash_3.wav', 'fa52ddf6_nohash_2.wav', '893705bb_nohash_3.wav', '2f0ce4d9_nohash_2.wav', '6124b431_nohash_3.wav', '6fb3d5a7_nohash_1.wav', 'cb72dfb6_nohash_4.wav', '39b5fdab_nohash_0.wav', '7213ed54_nohash_0.wav', '85851131_nohash_1.wav', 'bcf614a2_nohash_0.wav', '73f20b00_nohash_2.wav', 'af54ec46_nohash_0.wav', '9fac5701_nohash_0.wav', 'a56859ea_nohash_1.wav', 'b2ae3928_nohash_1.wav', '0d90d8e1_nohash_2.wav', '2a1f4853_nohash_0.wav', 'cdee383b_nohash_0.wav', '1dc86f91_nohash_0.wav', '5170b77f_nohash_2.wav', 'db24628d_nohash_2.wav', 'ca4d5368_nohash_1.wav', 'ccca5655_nohash_0.wav', '0e6e36c9_nohash_4.wav', 'f603e3f9_nohash_0.wav', 'c50f55b8_nohash_19.wav', '87d5e978_nohash_0.wav', '1970b130_nohash_1.wav', 'c50f55b8_nohash_1.wav', 'fb7eb481_nohash_2.wav', 'de3fe344_nohash_3.wav', '617aeb6c_nohash_2.wav', '7d6b4b10_nohash_2.wav', '57152045_nohash_5.wav', '042a8dde_nohash_0.wav', '42f81601_nohash_0.wav', '067f61e2_nohash_0.wav', '0f46028a_nohash_1.wav', '8dc18a75_nohash_1.wav', 'ef3367d9_nohash_1.wav', 'ee1d8d49_nohash_3.wav', 'a6f2fd71_nohash_1.wav', 'de89e2ca_nohash_1.wav', 'b308773d_nohash_1.wav', 'a7216980_nohash_2.wav', 'ce0cb033_nohash_0.wav', '2e75d37a_nohash_3.wav', '1ed0b13d_nohash_1.wav', 'd070ea86_nohash_2.wav', '845f8553_nohash_0.wav', '017c4098_nohash_1.wav', '25e95412_nohash_5.wav', 'cc4f9250_nohash_2.wav', '773e26f7_nohash_3.wav', '64df20d8_nohash_2.wav', '24cab2cb_nohash_1.wav', 'e11fbc6e_nohash_0.wav', 'fc3ba625_nohash_4.wav', '195c120a_nohash_1.wav', '2356b88d_nohash_0.wav', '6565a81d_nohash_1.wav', '6ef407da_nohash_1.wav', '6bf5baf3_nohash_3.wav', '3b195250_nohash_3.wav', 'fb7008b0_nohash_1.wav', '79903546_nohash_1.wav', '27c24504_nohash_2.wav', 'c4e00ee9_nohash_2.wav', 'f2898d06_nohash_1.wav', 'd394ef8e_nohash_2.wav', 'f8ba7c0e_nohash_1.wav', 'a4383927_nohash_0.wav', '0f7266cf_nohash_0.wav', 'da040491_nohash_2.wav', '91ffb786_nohash_0.wav', '833d9f56_nohash_2.wav', '0b7ee1a0_nohash_3.wav', 'bde0f20a_nohash_2.wav', '3b3d2f59_nohash_5.wav', '02ade946_nohash_3.wav', 'f0522ff4_nohash_2.wav', 'f798ac78_nohash_4.wav', '39833acb_nohash_2.wav', '7622d95b_nohash_1.wav', '4995d875_nohash_0.wav', '2aca1e72_nohash_8.wav', '6969e51a_nohash_0.wav', 'bb6d4301_nohash_0.wav', 'fd5ccd39_nohash_4.wav', '5769c5ab_nohash_1.wav', 'fbb56351_nohash_1.wav', 'a7200079_nohash_3.wav', 'b44007bc_nohash_1.wav', '235b444f_nohash_3.wav', '69a1a79f_nohash_0.wav', '81332c92_nohash_1.wav', '32ad5b65_nohash_4.wav', '81332c92_nohash_0.wav', '235b444f_nohash_2.wav', 'b44007bc_nohash_0.wav', '69a1a79f_nohash_1.wav', 'a7200079_nohash_2.wav', '5769c5ab_nohash_0.wav', '4f558007_nohash_0.wav', 'fbb56351_nohash_0.wav', '6969e51a_nohash_1.wav', 'bb6d4301_nohash_1.wav', '4995d875_nohash_1.wav', '7622d95b_nohash_0.wav', '39833acb_nohash_3.wav', '2aca1e72_nohash_9.wav', 'f0522ff4_nohash_3.wav', '70b0ccf4_nohash_0.wav', 'c41d9052_nohash_0.wav', '02ade946_nohash_2.wav', '3b3d2f59_nohash_4.wav', 'bde0f20a_nohash_3.wav', '0b7ee1a0_nohash_2.wav', '0f7266cf_nohash_1.wav', '833d9f56_nohash_3.wav', '91ffb786_nohash_1.wav', 'da040491_nohash_3.wav', 'f8ba7c0e_nohash_0.wav', 'a4383927_nohash_1.wav', 'd394ef8e_nohash_3.wav', 'f2898d06_nohash_0.wav', 'fb7008b0_nohash_0.wav', '79903546_nohash_0.wav', 'b4ea0d9a_nohash_4.wav', '3b195250_nohash_2.wav', '6ef407da_nohash_0.wav', '6bf5baf3_nohash_2.wav', '6565a81d_nohash_0.wav', '0c540988_nohash_0.wav', '195c120a_nohash_0.wav', 'e11fbc6e_nohash_1.wav', '24cab2cb_nohash_0.wav', '017c4098_nohash_0.wav', '773e26f7_nohash_2.wav', '25e95412_nohash_4.wav', 'cc4f9250_nohash_3.wav', '845f8553_nohash_1.wav', 'ce0cb033_nohash_1.wav', 'd070ea86_nohash_3.wav', '1ed0b13d_nohash_0.wav', '2e75d37a_nohash_2.wav', 'a7216980_nohash_3.wav', 'b308773d_nohash_0.wav', 'cb62dbf1_nohash_4.wav', '2e75d37a_nohash_0.wav', '1ed0b13d_nohash_2.wav', 'd070ea86_nohash_1.wav', 'ce0cb033_nohash_3.wav', 'b308773d_nohash_2.wav', 'a7216980_nohash_1.wav', 'cc4f9250_nohash_1.wav', '773e26f7_nohash_0.wav', '017c4098_nohash_2.wav', '845f8553_nohash_3.wav', 'f2e9b610_nohash_4.wav', 'f035e2ea_nohash_5.wav', 'ec989d6d_nohash_4.wav', 'e11fbc6e_nohash_3.wav', '64df20d8_nohash_1.wav', '8fe67225_nohash_4.wav', '3c4aa5ef_nohash_4.wav', '6565a81d_nohash_2.wav', '195c120a_nohash_2.wav', '6bf5baf3_nohash_0.wav', '6ef407da_nohash_2.wav', '6640fdc0_nohash_1.wav', '27c24504_nohash_1.wav', '8e080ece_nohash_0.wav', '3b195250_nohash_0.wav', 'f8ba7c0e_nohash_2.wav', '88d009d2_nohash_0.wav', 'f2898d06_nohash_2.wav', 'd394ef8e_nohash_1.wav', 'c4e00ee9_nohash_1.wav', 'da040491_nohash_1.wav', '616420be_nohash_4.wav', '833d9f56_nohash_1.wav', '5f9cd2eb_nohash_4.wav', '06f6c194_nohash_4.wav', '63f7a489_nohash_4.wav', '0f7266cf_nohash_3.wav', 'bde0f20a_nohash_1.wav', '0e8ec1cb_nohash_0.wav', '0b7ee1a0_nohash_0.wav', '02ade946_nohash_0.wav', 'f0522ff4_nohash_1.wav', '0a5636ca_nohash_0.wav', 'bb6d4301_nohash_3.wav', '39833acb_nohash_1.wav', '7622d95b_nohash_2.wav', 'fbb56351_nohash_2.wav', '5769c5ab_nohash_2.wav', '608473c9_nohash_1.wav', '69a1a79f_nohash_3.wav', '235b444f_nohash_0.wav', 'a7200079_nohash_0.wav', '821b64cc_nohash_4.wav', '81332c92_nohash_2.wav', '81332c92_nohash_3.wav', 'a7200079_nohash_1.wav', '69a1a79f_nohash_2.wav', '235b444f_nohash_1.wav', '608473c9_nohash_0.wav', 'fbb56351_nohash_3.wav', '5769c5ab_nohash_3.wav', '4995d875_nohash_2.wav', '39833acb_nohash_0.wav', 'e6327279_nohash_4.wav', 'bb6d4301_nohash_2.wav', '6969e51a_nohash_2.wav', 'f0522ff4_nohash_0.wav', '02ade946_nohash_1.wav', 'd5b963aa_nohash_4.wav', '0b7ee1a0_nohash_1.wav', 'bde0f20a_nohash_0.wav', '833d9f56_nohash_0.wav', 'da040491_nohash_0.wav', '131e738d_nohash_4.wav', '0f7266cf_nohash_2.wav', '5f9cd2eb_nohash_5.wav', 'd394ef8e_nohash_0.wav', 'f2898d06_nohash_3.wav', 'c4e00ee9_nohash_0.wav', '88d009d2_nohash_1.wav', 'f8ba7c0e_nohash_3.wav', '3b195250_nohash_1.wav', '27c24504_nohash_0.wav', 'f9643d42_nohash_4.wav', '6bf5baf3_nohash_1.wav', '6640fdc0_nohash_0.wav', '6ef407da_nohash_3.wav', '5087f68b_nohash_0.wav', 'e4be0cf6_nohash_4.wav', '0585b66d_nohash_4.wav', 'e7bcee8a_nohash_0.wav', '6565a81d_nohash_3.wav', '64df20d8_nohash_0.wav', 'f035e2ea_nohash_4.wav', '189cbabe_nohash_4.wav', 'e11fbc6e_nohash_2.wav', 'fa57ab3b_nohash_4.wav', '845f8553_nohash_2.wav', '5a5721f8_nohash_4.wav', '773e26f7_nohash_1.wav', 'cc4f9250_nohash_0.wav', '017c4098_nohash_3.wav', 'a7216980_nohash_0.wav', 'b308773d_nohash_3.wav', 'd070ea86_nohash_0.wav', '1ed0b13d_nohash_3.wav', '2e75d37a_nohash_1.wav', 'ce0cb033_nohash_2.wav', '25e95412_nohash_3.wav', 'cc4f9250_nohash_4.wav', 'b5eb4f9b_nohash_0.wav', '5a5721f8_nohash_0.wav', 'f2e9b610_nohash_1.wav', '29dce108_nohash_2.wav', 'd264f7b6_nohash_3.wav', 'd070ea86_nohash_4.wav', 'a7216980_nohash_4.wav', '2748cce7_nohash_1.wav', 'cb62dbf1_nohash_3.wav', '3ce4910e_nohash_1.wav', '8769c34c_nohash_1.wav', '3108acca_nohash_1.wav', 'c678e0b3_nohash_0.wav', '8fe67225_nohash_1.wav', 'fc3ba625_nohash_2.wav', '3c4aa5ef_nohash_1.wav', 'd3831f6a_nohash_3.wav', 'fa57ab3b_nohash_0.wav', 'ec989d6d_nohash_1.wav', '189cbabe_nohash_0.wav', '52162b51_nohash_0.wav', 'f035e2ea_nohash_0.wav', '23add12a_nohash_1.wav', '31f01a8d_nohash_2.wav', 'e4be0cf6_nohash_0.wav', '0585b66d_nohash_0.wav', '5cf1ecce_nohash_0.wav', '4cee0c60_nohash_1.wav', 'd394ef8e_nohash_4.wav', 'f9643d42_nohash_0.wav', 'b4ea0d9a_nohash_3.wav', 'd1526c4e_nohash_0.wav', '0cb74144_nohash_2.wav', 'bde0f20a_nohash_4.wav', '226537ab_nohash_3.wav', '679463fc_nohash_0.wav', 'd5b963aa_nohash_0.wav', '5f9cd2eb_nohash_1.wav', '63f7a489_nohash_1.wav', '06f6c194_nohash_1.wav', '131e738d_nohash_0.wav', 'da040491_nohash_4.wav', '616420be_nohash_1.wav', '833d9f56_nohash_4.wav', 'f0522ff4_nohash_4.wav', 'f798ac78_nohash_2.wav', '42a99aec_nohash_3.wav', '3b3d2f59_nohash_3.wav', 'a2cc5444_nohash_2.wav', 'bfd26d6b_nohash_1.wav', 'fd5ccd39_nohash_2.wav', '2005ca25_nohash_0.wav', 'e6327279_nohash_0.wav', '39833acb_nohash_4.wav', '32ad5b65_nohash_3.wav', '821b64cc_nohash_1.wav', '88e730cd_nohash_1.wav', '339f2c5c_nohash_0.wav', '88e730cd_nohash_0.wav', 'a7200079_nohash_4.wav', '821b64cc_nohash_0.wav', '32ad5b65_nohash_2.wav', 'e6327279_nohash_1.wav', 'fd5ccd39_nohash_3.wav', 'bfd26d6b_nohash_0.wav', '02ade946_nohash_4.wav', '3b3d2f59_nohash_2.wav', '42a99aec_nohash_2.wav', 'a2cc5444_nohash_3.wav', 'f798ac78_nohash_3.wav', 'e0c782d5_nohash_2.wav', '131e738d_nohash_1.wav', '63f7a489_nohash_0.wav', '06f6c194_nohash_0.wav', '5f9cd2eb_nohash_0.wav', '616420be_nohash_0.wav', '0b7ee1a0_nohash_4.wav', 'd5b963aa_nohash_1.wav', '679463fc_nohash_1.wav', '226537ab_nohash_2.wav', '0cb74144_nohash_3.wav', 'b4ea0d9a_nohash_2.wav', 'd1526c4e_nohash_1.wav', '3b195250_nohash_4.wav', 'f9643d42_nohash_1.wav', '4cee0c60_nohash_0.wav', '5cf1ecce_nohash_1.wav', '0585b66d_nohash_1.wav', 'e4be0cf6_nohash_1.wav', '967ad5ef_nohash_0.wav', '6bf5baf3_nohash_4.wav', '31f01a8d_nohash_3.wav', '23add12a_nohash_0.wav', 'ec989d6d_nohash_0.wav', 'fa57ab3b_nohash_1.wav', 'f035e2ea_nohash_1.wav', '189cbabe_nohash_1.wav', '3c4aa5ef_nohash_0.wav', 'fc3ba625_nohash_3.wav', 'd3831f6a_nohash_2.wav', '8fe67225_nohash_0.wav', '3108acca_nohash_0.wav', '2748cce7_nohash_0.wav', '8769c34c_nohash_0.wav', '3ce4910e_nohash_0.wav', 'cb62dbf1_nohash_2.wav', 'd264f7b6_nohash_2.wav', 'f2e9b610_nohash_0.wav', '29dce108_nohash_3.wav', '5a5721f8_nohash_1.wav', '773e26f7_nohash_4.wav', '25e95412_nohash_2.wav', '29dce108_nohash_1.wav', 'f2e9b610_nohash_2.wav', '25e95412_nohash_0.wav', '5a5721f8_nohash_3.wav', '017c4098_nohash_4.wav', 'cb62dbf1_nohash_0.wav', '3ce4910e_nohash_2.wav', '8769c34c_nohash_2.wav', 'b308773d_nohash_4.wav', '2748cce7_nohash_2.wav', 'd264f7b6_nohash_0.wav', '1ed0b13d_nohash_4.wav', 'd3831f6a_nohash_0.wav', 'fc3ba625_nohash_1.wav', '3c4aa5ef_nohash_2.wav', '3108acca_nohash_2.wav', '8fe67225_nohash_2.wav', '189cbabe_nohash_3.wav', 'f035e2ea_nohash_3.wav', 'fa57ab3b_nohash_3.wav', 'ec989d6d_nohash_2.wav', 'af790082_nohash_1.wav', 'a2d61879_nohash_0.wav', '6ef407da_nohash_4.wav', '31f01a8d_nohash_1.wav', 'e4be0cf6_nohash_3.wav', '0585b66d_nohash_3.wav', '5cf1ecce_nohash_3.wav', '6565a81d_nohash_4.wav', 'f2898d06_nohash_4.wav', '4e99c1b7_nohash_0.wav', '4cee0c60_nohash_2.wav', 'f8ba7c0e_nohash_4.wav', '1589451d_nohash_0.wav', 'b4ea0d9a_nohash_0.wav', 'f9643d42_nohash_3.wav', '679463fc_nohash_3.wav', 'd5b963aa_nohash_3.wav', '0cb74144_nohash_1.wav', '226537ab_nohash_0.wav', '85d2ac4b_nohash_1.wav', '616420be_nohash_2.wav', '5f9cd2eb_nohash_2.wav', '06f6c194_nohash_2.wav', '63f7a489_nohash_2.wav', '9fa86a74_nohash_0.wav', '131e738d_nohash_3.wav', 'e0c782d5_nohash_0.wav', 'f798ac78_nohash_1.wav', 'bfd26d6b_nohash_2.wav', '64a80906_nohash_0.wav', 'a2cc5444_nohash_1.wav', '42a99aec_nohash_0.wav', '3b3d2f59_nohash_0.wav', '63ae15e4_nohash_0.wav', 'fbb56351_nohash_4.wav', 'fd5ccd39_nohash_1.wav', '5769c5ab_nohash_4.wav', '80768fa5_nohash_0.wav', 'b5cf6ea8_nohash_9.wav', 'e6327279_nohash_3.wav', '821b64cc_nohash_2.wav', '81332c92_nohash_4.wav', '32ad5b65_nohash_0.wav', 'acb9db68_nohash_0.wav', '69a1a79f_nohash_4.wav', 'acb9db68_nohash_1.wav', '32ad5b65_nohash_1.wav', '821b64cc_nohash_3.wav', 'bb6d4301_nohash_4.wav', 'e6327279_nohash_2.wav', 'b5cf6ea8_nohash_8.wav', 'fd5ccd39_nohash_0.wav', '63ae15e4_nohash_1.wav', 'a2cc5444_nohash_0.wav', '3b3d2f59_nohash_1.wav', '42a99aec_nohash_1.wav', '64a80906_nohash_1.wav', 'bfd26d6b_nohash_3.wav', 'e0c782d5_nohash_1.wav', 'f798ac78_nohash_0.wav', '7ce8df21_nohash_0.wav', '616420be_nohash_3.wav', '85d2ac4b_nohash_0.wav', '131e738d_nohash_2.wav', '9fa86a74_nohash_1.wav', '06f6c194_nohash_3.wav', '63f7a489_nohash_3.wav', '5f9cd2eb_nohash_3.wav', 'ee23b031_nohash_0.wav', '226537ab_nohash_1.wav', '0cb74144_nohash_0.wav', 'd5b963aa_nohash_2.wav', '679463fc_nohash_2.wav', 'f9643d42_nohash_2.wav', 'b4ea0d9a_nohash_1.wav', '1589451d_nohash_1.wav', '4e99c1b7_nohash_1.wav', '5cf1ecce_nohash_2.wav', '0585b66d_nohash_2.wav', 'e4be0cf6_nohash_2.wav', '31f01a8d_nohash_0.wav', 'f250345e_nohash_0.wav', 'af790082_nohash_0.wav', '8d5e1dc0_nohash_0.wav', 'f035e2ea_nohash_2.wav', '189cbabe_nohash_2.wav', 'ec989d6d_nohash_3.wav', 'fa57ab3b_nohash_2.wav', '8fe67225_nohash_3.wav', '3108acca_nohash_3.wav', 'd3831f6a_nohash_1.wav', '3c4aa5ef_nohash_3.wav', 'fc3ba625_nohash_0.wav', 'd264f7b6_nohash_1.wav', '8769c34c_nohash_3.wav', '3ce4910e_nohash_3.wav', 'cb62dbf1_nohash_1.wav', '5a5721f8_nohash_2.wav', '25e95412_nohash_1.wav', '92521ccc_nohash_0.wav', '29dce108_nohash_0.wav', 'f2e9b610_nohash_3.wav'], ['988e2f9a_nohash_0.wav', '6d818f6c_nohash_2.wav', '93ec8b84_nohash_0.wav', '7e7ca854_nohash_0.wav', 'a9abc695_nohash_1.wav', '62ccd358_nohash_0.wav', 'a8cb6dda_nohash_0.wav', 'e4a2cf79_nohash_0.wav', '265bd13a_nohash_1.wav', 'dabf67d9_nohash_0.wav', '62581901_nohash_0.wav', '708a9569_nohash_1.wav', '7ff085e1_nohash_0.wav', 'd9b50b8b_nohash_1.wav', 'a5609cce_nohash_0.wav', '409c962a_nohash_1.wav', '26e573a9_nohash_0.wav', '31583d30_nohash_0.wav', '8134f43f_nohash_0.wav', '3f170018_nohash_0.wav', '65d844fc_nohash_0.wav', '5b1db3ee_nohash_3.wav', 'b43c8f2f_nohash_1.wav', '7257420c_nohash_1.wav', 'e3e49931_nohash_0.wav', '3143fdff_nohash_0.wav', '11b1df78_nohash_1.wav', 'b0f24c9b_nohash_1.wav', 'd9d6559e_nohash_0.wav', '20a0d54b_nohash_1.wav', 'ea9f8e11_nohash_0.wav', '0e17f595_nohash_1.wav', '1b755c65_nohash_0.wav', '5c8af87a_nohash_0.wav', 'b66f4f93_nohash_0.wav', 'aa48c94a_nohash_0.wav', 'c7e02d9c_nohash_0.wav', '3aa6f4e2_nohash_0.wav', '84bf12ff_nohash_0.wav', '9a4d12fd_nohash_1.wav', 'ddedba85_nohash_3.wav', '591d32f3_nohash_0.wav', '31d68957_nohash_0.wav', 'ac7840d8_nohash_0.wav', '52bfbce8_nohash_1.wav', '54aecbd5_nohash_0.wav', 'f104f742_nohash_1.wav', 'b0bad4a9_nohash_0.wav', '850e2222_nohash_0.wav', 'ce9410da_nohash_0.wav', '6d1dcca6_nohash_0.wav', 'f5e5e8b0_nohash_2.wav', '9e6bb505_nohash_0.wav', 'ae04cdbe_nohash_0.wav', '2aca1e72_nohash_1.wav', 'd1bf406b_nohash_0.wav', '2aec99ec_nohash_0.wav', 'be91a00a_nohash_0.wav', '620ff0fa_nohash_0.wav', 'c7124b73_nohash_0.wav', '5b32733e_nohash_0.wav', '1df483c0_nohash_0.wav', '5b32733e_nohash_1.wav', 'c7124b73_nohash_1.wav', 'bc065a17_nohash_2.wav', '2aec99ec_nohash_1.wav', '9d4bab4f_nohash_0.wav', '113b3fbc_nohash_0.wav', '837a0f64_nohash_0.wav', '6b81fead_nohash_2.wav', '28497c5b_nohash_0.wav', '2aca1e72_nohash_0.wav', '90b0b91a_nohash_0.wav', '4cb874bb_nohash_0.wav', 'b087aa0e_nohash_0.wav', 'e1f1eadc_nohash_0.wav', '6ace4fe1_nohash_0.wav', '9e6bb505_nohash_1.wav', '2cf28b70_nohash_0.wav', '6d1dcca6_nohash_1.wav', 'ce9410da_nohash_1.wav', 'eb3f7d82_nohash_0.wav', '9d8ac38b_nohash_0.wav', '6f5eea74_nohash_0.wav', 'b25b6065_nohash_0.wav', '850e2222_nohash_1.wav', 'f104f742_nohash_0.wav', 'cb164eea_nohash_0.wav', '52bfbce8_nohash_0.wav', '012187a4_nohash_0.wav', '9a4d12fd_nohash_0.wav', '591d32f3_nohash_1.wav', 'ddedba85_nohash_2.wav', 'aa48c94a_nohash_1.wav', '62f05757_nohash_0.wav', '810c99be_nohash_0.wav', 'b66f4f93_nohash_1.wav', '1b755c65_nohash_1.wav', '0e17f595_nohash_0.wav', '20a0d54b_nohash_0.wav', '9aa21fa9_nohash_0.wav', 'b0f24c9b_nohash_0.wav', '92b2bf59_nohash_2.wav', 'e3e49931_nohash_1.wav', 'e1469561_nohash_0.wav', '11b1df78_nohash_0.wav', '1b63157b_nohash_0.wav', 'b43c8f2f_nohash_0.wav', '57376a4c_nohash_0.wav', '1b42b551_nohash_0.wav', '7257420c_nohash_0.wav', 'e77d88fc_nohash_0.wav', '508e30ee_nohash_0.wav', '5b1db3ee_nohash_2.wav', 'a6d586b7_nohash_0.wav', 'dd086776_nohash_0.wav', '3d9bbe2d_nohash_0.wav', '31583d30_nohash_1.wav', 'ca4912b6_nohash_0.wav', '4beff0c5_nohash_2.wav', 'cab100c9_nohash_0.wav', '65f2531f_nohash_0.wav', '409c962a_nohash_0.wav', '686d030b_nohash_0.wav', 'd9b50b8b_nohash_0.wav', '7ff085e1_nohash_1.wav', '3d794813_nohash_0.wav', '708a9569_nohash_0.wav', 'a8ee11c7_nohash_0.wav', '265bd13a_nohash_0.wav', 'e4a2cf79_nohash_1.wav', '6aa8def4_nohash_0.wav', '68dd409e_nohash_0.wav', '62581901_nohash_1.wav', 'a9abc695_nohash_0.wav', 'b87bdb22_nohash_0.wav', 'a8cb6dda_nohash_1.wav', '62ccd358_nohash_1.wav', '93ec8b84_nohash_1.wav', '988e2f9a_nohash_1.wav', '37e8db82_nohash_0.wav', 'bfb10243_nohash_0.wav', 'c518d1b1_nohash_0.wav', 'bb05582b_nohash_0.wav', '6d818f6c_nohash_1.wav', '742d6431_nohash_0.wav', '2a0b413e_nohash_0.wav', '6b7d5101_nohash_0.wav', '62ff07ef_nohash_0.wav', '86402da1_nohash_0.wav', '229978fd_nohash_0.wav', 'f852895b_nohash_1.wav', 'b487da60_nohash_0.wav', 'a24582a0_nohash_0.wav', 'adebe223_nohash_0.wav', 'f2e59fea_nohash_0.wav', '8a28231e_nohash_0.wav', '65c73b55_nohash_0.wav', '4beff0c5_nohash_0.wav', '409c962a_nohash_2.wav', '590750e8_nohash_1.wav', '84d1e469_nohash_0.wav', '9b402bc2_nohash_0.wav', '1a4259c3_nohash_1.wav', 'b0f5b16d_nohash_0.wav', '18f8afd5_nohash_0.wav', '5b1db3ee_nohash_0.wav', '92b2bf59_nohash_0.wav', 'e3e0f145_nohash_0.wav', '44260689_nohash_0.wav', '8b775397_nohash_0.wav', 'c2657ba5_nohash_1.wav', 'ff4ed4f3_nohash_0.wav', '65ec06e5_nohash_0.wav', 'ff2b842e_nohash_0.wav', '9f63152b_nohash_0.wav', 'f9af823e_nohash_1.wav', 'ddedba85_nohash_0.wav', 'ccfd721c_nohash_0.wav', 'b1114e4f_nohash_0.wav', '789e4ee7_nohash_0.wav', '171b56dc_nohash_0.wav', '4340d369_nohash_0.wav', '4407ba92_nohash_0.wav', '96d8bb6f_nohash_0.wav', 'c205e625_nohash_1.wav', 'f104f742_nohash_2.wav', 'fb24c826_nohash_0.wav', 'caa4779f_nohash_0.wav', 'd6360b32_nohash_0.wav', 'ea0cf37f_nohash_0.wav', '0d2bcf9d_nohash_1.wav', '88b7c5fa_nohash_0.wav', 'f5e5e8b0_nohash_1.wav', 'c4500713_nohash_0.wav', 'f0ae7203_nohash_0.wav', 'b76f6088_nohash_0.wav', '5e033479_nohash_0.wav', '6b81fead_nohash_0.wav', 'b69002d4_nohash_0.wav', '17f0e206_nohash_0.wav', 'c39703ec_nohash_0.wav', '881583a6_nohash_0.wav', 'bc065a17_nohash_0.wav', 'bc065a17_nohash_1.wav', '08ab231c_nohash_0.wav', '17f0e206_nohash_1.wav', 'c7124b73_nohash_2.wav', '5e033479_nohash_1.wav', '31fd5cf5_nohash_0.wav', '6b81fead_nohash_1.wav', 'c1e0e8e3_nohash_0.wav', 'df1d5024_nohash_0.wav', 'd37e4bf1_nohash_0.wav', 'f5e5e8b0_nohash_0.wav', 'd0745d72_nohash_0.wav', '8c7f81df_nohash_0.wav', 'ab81c9c8_nohash_0.wav', '0d2bcf9d_nohash_0.wav', '06076b6b_nohash_0.wav', 'c205e625_nohash_0.wav', 'caa4779f_nohash_1.wav', '9beccfc8_nohash_0.wav', '4407ba92_nohash_1.wav', 'c08e5058_nohash_0.wav', 'ddedba85_nohash_1.wav', 'f4386675_nohash_0.wav', 'f9af823e_nohash_0.wav', 'c1eebc0b_nohash_0.wav', 'c2657ba5_nohash_0.wav', '10467b06_nohash_0.wav', '8b775397_nohash_1.wav', 'e3e49931_nohash_2.wav', '3a33d3a4_nohash_0.wav', '92b2bf59_nohash_1.wav', '9acd0254_nohash_0.wav', '5b1db3ee_nohash_1.wav', '712e4d58_nohash_0.wav', '0d393936_nohash_0.wav', 'ff0e27c3_nohash_0.wav', '1c84a139_nohash_0.wav', '1a4259c3_nohash_0.wav', '9b402bc2_nohash_1.wav', '84d1e469_nohash_1.wav', '31583d30_nohash_2.wav', '325a0c39_nohash_0.wav', '590750e8_nohash_0.wav', '8a28231e_nohash_1.wav', '4beff0c5_nohash_1.wav', 'd5cdb23e_nohash_0.wav', 'adebe223_nohash_1.wav', 'fdb5155e_nohash_0.wav', 'a24582a0_nohash_1.wav', '3a7d8872_nohash_0.wav', 'e9901cf0_nohash_0.wav', 'f852895b_nohash_0.wav', '651d108f_nohash_0.wav', 'a8cb6dda_nohash_2.wav', '042186b8_nohash_0.wav', '563aa4e6_nohash_0.wav', '86402da1_nohash_1.wav', '97f4c236_nohash_0.wav', '62ff07ef_nohash_1.wav', '6d818f6c_nohash_0.wav', 'fde2dee7_nohash_0.wav', '4874a7e9_nohash_0.wav', '5f8e50a0_nohash_0.wav', 'c256377f_nohash_0.wav', 'ffb86d3c_nohash_0.wav', '513aeddf_nohash_0.wav', '5d9bb361_nohash_1.wav', 'ac9dee0e_nohash_0.wav', 'c37a72d3_nohash_0.wav', '9dc1889e_nohash_0.wav', '20fd451f_nohash_0.wav', 'f88f97a7_nohash_1.wav', '6a700f9d_nohash_0.wav', '62b7c848_nohash_1.wav', '48463cbc_nohash_0.wav', '8c3c4715_nohash_1.wav', 'be7fa0a3_nohash_0.wav', '7e4fa1d8_nohash_0.wav', '5fadb538_nohash_0.wav', '1a5b9ca4_nohash_1.wav', 'd0ce2418_nohash_0.wav', 'f9bdf10e_nohash_1.wav', 'afb9e62e_nohash_1.wav', '78884794_nohash_1.wav', '1473be6a_nohash_1.wav', '4a294341_nohash_0.wav', 'f822b9bf_nohash_0.wav', '037c445a_nohash_0.wav', '3bb68054_nohash_0.wav', 'fb8c31a9_nohash_0.wav', '5be23def_nohash_0.wav', 'ec545975_nohash_3.wav', '2313e093_nohash_0.wav', '2d82a556_nohash_1.wav', '4abb2400_nohash_1.wav', '3e3b65eb_nohash_0.wav', 'e6515415_nohash_0.wav', '99081f4d_nohash_0.wav', 'ba676390_nohash_0.wav', '09ddc105_nohash_0.wav', 'e9b61425_nohash_2.wav', 'c1d39ce8_nohash_0.wav', '10ace7eb_nohash_0.wav', '42398aab_nohash_0.wav', '89f680f3_nohash_2.wav', '61ab8fbc_nohash_0.wav', '37b03ab1_nohash_1.wav', 'e6db3894_nohash_0.wav', '50ed8a7b_nohash_0.wav', 'e71b4ce6_nohash_0.wav', 'e652590d_nohash_0.wav', '964c7c9e_nohash_0.wav', '8d8d9855_nohash_1.wav', '8c4854bc_nohash_2.wav', '990ebd1f_nohash_0.wav', 'e900b652_nohash_0.wav', 'db9cfc88_nohash_0.wav', '638548d5_nohash_1.wav', 'eb6dab4a_nohash_0.wav', '7ea032f3_nohash_0.wav', 'b7016c27_nohash_0.wav', '65040d9b_nohash_0.wav', 'd2f4f431_nohash_2.wav', 'f3210686_nohash_0.wav', 'f8f60f59_nohash_0.wav', '1cbcc7a7_nohash_0.wav', 'e6e29c47_nohash_0.wav', '5f5eef60_nohash_0.wav', 'c351e611_nohash_0.wav', '9448c397_nohash_0.wav', '3c6d55b3_nohash_0.wav', '48bdc11c_nohash_0.wav', '7fc74fbe_nohash_0.wav', 'e6e29c47_nohash_1.wav', '3d86b69a_nohash_0.wav', '541e4079_nohash_0.wav', '5af0ca83_nohash_0.wav', '2039b9c1_nohash_0.wav', 'd6b155a5_nohash_0.wav', 'eb6dab4a_nohash_1.wav', 'e41a903b_nohash_0.wav', '638548d5_nohash_0.wav', '41474817_nohash_0.wav', '990ebd1f_nohash_1.wav', 'bdee441c_nohash_0.wav', '5ff3f9a1_nohash_0.wav', '879a2b38_nohash_0.wav', 'c0e0f834_nohash_2.wav', '8335f893_nohash_0.wav', '8d8d9855_nohash_0.wav', 'c7aa72e6_nohash_0.wav', '692a88e6_nohash_0.wav', 'ba59cab3_nohash_0.wav', '27b9a84f_nohash_0.wav', '5a98d407_nohash_0.wav', '37b03ab1_nohash_0.wav', '70880cc6_nohash_0.wav', 'a108341b_nohash_0.wav', 'e9b61425_nohash_3.wav', '09ddc105_nohash_1.wav', 'c1d39ce8_nohash_1.wav', '00176480_nohash_0.wav', '82c6d220_nohash_0.wav', 'e6515415_nohash_1.wav', '4abb2400_nohash_0.wav', 'ec545975_nohash_2.wav', '2d82a556_nohash_0.wav', '9ab86dd0_nohash_0.wav', 'ed07d5b7_nohash_0.wav', '2dcb6848_nohash_0.wav', '5b1db3ee_nohash_4.wav', '589bce2c_nohash_0.wav', '72320401_nohash_0.wav', '1473be6a_nohash_0.wav', '1a994c9f_nohash_0.wav', 'afb9e62e_nohash_0.wav', '78884794_nohash_0.wav', 'f9bdf10e_nohash_0.wav', '578d3efb_nohash_0.wav', '1a5b9ca4_nohash_0.wav', '62b7c848_nohash_0.wav', '05b2db80_nohash_0.wav', 'be7fa0a3_nohash_1.wav', '8c3c4715_nohash_0.wav', '48463cbc_nohash_1.wav', 'f88f97a7_nohash_0.wav', 'acfd3bc3_nohash_0.wav', 'af30314d_nohash_0.wav', '3c8dc702_nohash_0.wav', 'bf90a57a_nohash_0.wav', 'c256377f_nohash_1.wav', '5f8e50a0_nohash_1.wav', '5d9bb361_nohash_0.wav', '9f93e408_nohash_0.wav', '244cc3a5_nohash_0.wav', 'cba7f985_nohash_0.wav', 'bc999754_nohash_0.wav', '76e53db9_nohash_0.wav', '1d1fe0a0_nohash_0.wav', 'f35eedd7_nohash_1.wav', 'ec9b830b_nohash_1.wav', '402e2977_nohash_1.wav', '3903b558_nohash_0.wav', '78884794_nohash_2.wav', '89f3ab7d_nohash_1.wav', 'a62f807b_nohash_0.wav', '5f1b1051_nohash_0.wav', '7303215d_nohash_1.wav', 'e4b02540_nohash_1.wav', '96a48d28_nohash_0.wav', 'd5ca80c6_nohash_0.wav', 'ec545975_nohash_0.wav', '01b4757a_nohash_0.wav', 'b1df80c0_nohash_1.wav', 'b91b718c_nohash_0.wav', '1a073312_nohash_0.wav', 'fe11e258_nohash_0.wav', '5ebc1cda_nohash_0.wav', '63996b7c_nohash_1.wav', 'e9b61425_nohash_1.wav', 'fbf3dd31_nohash_1.wav', '39a6b995_nohash_0.wav', '3ef0f3ab_nohash_0.wav', '9e2ce5e3_nohash_0.wav', '89f680f3_nohash_1.wav', '997867e7_nohash_0.wav', '46a153d8_nohash_0.wav', '0b09edd3_nohash_0.wav', 'ace82a68_nohash_0.wav', '1ed557b9_nohash_0.wav', 'aa80f517_nohash_0.wav', '3209ec42_nohash_1.wav', '9e42ae25_nohash_0.wav', '67961766_nohash_1.wav', '8c4854bc_nohash_1.wav', '80c45ed6_nohash_1.wav', 'c0e0f834_nohash_0.wav', '1474273a_nohash_1.wav', '8d8d9855_nohash_2.wav', '5b09db89_nohash_0.wav', '5236848b_nohash_0.wav', '4bb1244f_nohash_1.wav', '72e382bd_nohash_0.wav', 'b5cf6ea8_nohash_0.wav', '981e2a16_nohash_1.wav', '035de8fe_nohash_0.wav', 'd2f4f431_nohash_1.wav', '77f185d3_nohash_1.wav', '3a182c98_nohash_0.wav', 'dcbfe008_nohash_1.wav', '50d1c8e3_nohash_0.wav', 'cb802c63_nohash_1.wav', 'fa44fcf5_nohash_0.wav', '7e783e3f_nohash_0.wav', '5165cf0a_nohash_0.wav', '937b433e_nohash_0.wav', 'd57febf0_nohash_0.wav', '40738a2d_nohash_0.wav', '105e72bb_nohash_0.wav', 'cc6ee39b_nohash_0.wav', 'cb802c63_nohash_0.wav', '888a0c49_nohash_0.wav', 'd2f4f431_nohash_0.wav', 'dcbfe008_nohash_0.wav', '1efdf53f_nohash_0.wav', '77f185d3_nohash_0.wav', 'b528edb3_nohash_0.wav', '981e2a16_nohash_0.wav', 'b5cf6ea8_nohash_1.wav', '9c24bc76_nohash_0.wav', '1e9e6bdd_nohash_0.wav', '197f4153_nohash_0.wav', '1474273a_nohash_0.wav', '4bb1244f_nohash_0.wav', '2927c601_nohash_0.wav', '20174140_nohash_0.wav', '8c4854bc_nohash_0.wav', '67961766_nohash_0.wav', 'c0e0f834_nohash_1.wav', '80c45ed6_nohash_0.wav', '3209ec42_nohash_0.wav', '23ad12d8_nohash_0.wav', '553f1a79_nohash_0.wav', 'afabfa0e_nohash_0.wav', '3cc595de_nohash_0.wav', '2fee065a_nohash_0.wav', 'ace82a68_nohash_1.wav', '89f680f3_nohash_0.wav', 'c634a189_nohash_0.wav', '12529547_nohash_0.wav', 'd98dd124_nohash_0.wav', 'fbf3dd31_nohash_0.wav', '962f27eb_nohash_0.wav', '63996b7c_nohash_0.wav', 'ca58a8c6_nohash_0.wav', 'e9b61425_nohash_0.wav', 'a50a98d2_nohash_0.wav', 'f2b8fc18_nohash_0.wav', '39afb88e_nohash_0.wav', '31d31fa0_nohash_0.wav', 'a84dee7b_nohash_0.wav', 'cce7416f_nohash_0.wav', '625fd898_nohash_0.wav', '6f7724f5_nohash_0.wav', 'bd76a7fd_nohash_0.wav', 'b1df80c0_nohash_0.wav', '1a073312_nohash_1.wav', '0d6d7360_nohash_0.wav', 'ffd2ba2f_nohash_0.wav', '01b4757a_nohash_1.wav', '54ad8f22_nohash_0.wav', 'ec545975_nohash_1.wav', 'c0445658_nohash_0.wav', 'df6bd83f_nohash_0.wav', '446a3161_nohash_0.wav', 'e4b02540_nohash_0.wav', 'cfbedff9_nohash_0.wav', '7303215d_nohash_0.wav', '89f3ab7d_nohash_0.wav', '43b85b64_nohash_0.wav', '402e2977_nohash_0.wav', 'ec9b830b_nohash_0.wav', 'f35eedd7_nohash_0.wav', '48463cbc_nohash_2.wav', 'facd97c0_nohash_0.wav', '9ce7a419_nohash_0.wav', '2796ac50_nohash_0.wav', '50a8ef27_nohash_0.wav', '51055bda_nohash_0.wav', 'f9f9751d_nohash_0.wav', '78102205_nohash_0.wav', '4fd1443e_nohash_0.wav', '652b3da7_nohash_1.wav', '324210dd_nohash_0.wav', '7b2e879e_nohash_0.wav', '364c0853_nohash_1.wav', 'bbb2eb5b_nohash_0.wav', 'f30285c8_nohash_0.wav', 'c38720cb_nohash_1.wav', '215699ff_nohash_0.wav', 'e10e2cbb_nohash_1.wav', '0ba018fc_nohash_0.wav', '8281a2a8_nohash_0.wav', 'd486fb84_nohash_2.wav', '34ba417a_nohash_0.wav', 'f9af0887_nohash_1.wav', '09a7aa2a_nohash_0.wav', '531a5b8a_nohash_0.wav', '4c13fe25_nohash_2.wav', '14c7b073_nohash_0.wav', '07089da9_nohash_0.wav', '98447c43_nohash_0.wav', '9e075bf1_nohash_0.wav', '97e0c576_nohash_2.wav', '312d6d81_nohash_0.wav', 'f568162b_nohash_0.wav', '079dfce3_nohash_2.wav', '413bcfe1_nohash_0.wav', 'ec32860c_nohash_0.wav', '5677ec77_nohash_0.wav', '09bcdc9d_nohash_1.wav', '66cff190_nohash_2.wav', '9a76f8c3_nohash_0.wav', 'c24d96eb_nohash_0.wav', '1746d7b6_nohash_0.wav', '518588b6_nohash_1.wav', '73124b26_nohash_0.wav', 'cf87b736_nohash_0.wav', 'a55105d0_nohash_0.wav', 'efbb27a6_nohash_0.wav', '9587481f_nohash_0.wav', '520b2c17_nohash_0.wav', '682e1687_nohash_1.wav', '17cc40ee_nohash_0.wav', '56eb74ae_nohash_0.wav', 'f6af2457_nohash_0.wav', '2b5e346d_nohash_0.wav', '9637f43f_nohash_0.wav', '848e7f6e_nohash_0.wav', 'dcc012ec_nohash_0.wav', '9ff2d2f4_nohash_0.wav', '83c9e7e6_nohash_0.wav', '8f3f252c_nohash_2.wav', 'fd9c7413_nohash_0.wav', 'ef77b778_nohash_0.wav', '6f5b4d3d_nohash_2.wav', '472b8045_nohash_0.wav', '0c2d2ffa_nohash_1.wav', '234ab0fb_nohash_0.wav', '0c2d2ffa_nohash_0.wav', '6f5b4d3d_nohash_3.wav', 'a7dd45cf_nohash_0.wav', 'fd9c7413_nohash_1.wav', 'b9cccd01_nohash_0.wav', 'af6fbbf5_nohash_0.wav', 'ebdd0f59_nohash_0.wav', '83c9e7e6_nohash_1.wav', '1e412fac_nohash_0.wav', 'dcc012ec_nohash_1.wav', 'b1426003_nohash_0.wav', 'f5d09ebd_nohash_0.wav', '9637f43f_nohash_1.wav', '51c5601d_nohash_0.wav', '6347b393_nohash_2.wav', '03c96658_nohash_0.wav', '682e1687_nohash_0.wav', '91cdef62_nohash_2.wav', '81898f68_nohash_0.wav', 'f875f965_nohash_0.wav', '73124b26_nohash_1.wav', '518588b6_nohash_0.wav', '4290ca61_nohash_0.wav', 'ed032775_nohash_0.wav', '09bcdc9d_nohash_0.wav', '15f04ff8_nohash_0.wav', '919d3c0e_nohash_0.wav', '5677ec77_nohash_1.wav', 'f47d644e_nohash_0.wav', '3291330e_nohash_0.wav', '97e0c576_nohash_3.wav', '4c841771_nohash_0.wav', '016e2c6d_nohash_0.wav', '98447c43_nohash_1.wav', 'acfd5b5e_nohash_0.wav', '9db2bfe9_nohash_0.wav', '02746d24_nohash_0.wav', '531a5b8a_nohash_1.wav', 'cd7f8c1b_nohash_0.wav', 'f9af0887_nohash_0.wav', '34ba417a_nohash_1.wav', '9886d8bf_nohash_0.wav', 'd31d8dd7_nohash_0.wav', '215699ff_nohash_1.wav', 'c38720cb_nohash_0.wav', 'e10e2cbb_nohash_0.wav', '7b2e879e_nohash_1.wav', '364c0853_nohash_0.wav', 'ccb1266b_nohash_0.wav', '652b3da7_nohash_0.wav', '559bc36a_nohash_0.wav', '78102205_nohash_1.wav', 'b2e2773a_nohash_1.wav', 'ef2a3cfb_nohash_0.wav', '652b3da7_nohash_2.wav', 'd486fb84_nohash_1.wav', 'f174517e_nohash_1.wav', 'a527cb3c_nohash_0.wav', '0397ecda_nohash_0.wav', '33903159_nohash_0.wav', 'e5d2e09d_nohash_1.wav', 'db9d52d2_nohash_1.wav', '1e4064b8_nohash_1.wav', '50a7d406_nohash_0.wav', 'e39a8ddc_nohash_0.wav', 'd21fd169_nohash_0.wav', '4c13fe25_nohash_1.wav', '6c0f6493_nohash_0.wav', 'b41a92a3_nohash_1.wav', 'dce5041a_nohash_1.wav', 'fa7895de_nohash_0.wav', '0165e0e8_nohash_0.wav', '38d78313_nohash_0.wav', '97e0c576_nohash_1.wav', '30060aba_nohash_0.wav', 'e8c3c5ca_nohash_1.wav', 'c0fb6812_nohash_0.wav', '35d1b6ee_nohash_0.wav', '079dfce3_nohash_1.wav', '43fc47a7_nohash_0.wav', '460209ac_nohash_0.wav', 'c0cb43d6_nohash_1.wav', '66cff190_nohash_1.wav', '6a1908f8_nohash_0.wav', '518588b6_nohash_2.wav', '161fcca8_nohash_1.wav', 'e0ff1e9c_nohash_0.wav', 'cc71bada_nohash_1.wav', 'f7b43563_nohash_0.wav', '4b3a7ad5_nohash_0.wav', 'ae927455_nohash_0.wav', '1bb574f9_nohash_0.wav', 'e882abb2_nohash_0.wav', '2bfe70ef_nohash_0.wav', 'b5552931_nohash_0.wav', '7f74626f_nohash_0.wav', '91cdef62_nohash_0.wav', '9a2e5b3c_nohash_1.wav', '0474c92a_nohash_0.wav', 'c948d727_nohash_0.wav', '8ec6dab6_nohash_1.wav', 'f4f59743_nohash_0.wav', '7f208e83_nohash_1.wav', 'a16b3102_nohash_0.wav', 'a16013b7_nohash_0.wav', '6347b393_nohash_0.wav', 'bbf38549_nohash_0.wav', 'b72e58c9_nohash_0.wav', 'c33682f0_nohash_0.wav', 'a045368c_nohash_0.wav', 'a5d485dc_nohash_0.wav', 'd0fb9ff4_nohash_0.wav', '2b3f509b_nohash_0.wav', 'cd68e997_nohash_0.wav', 'c885a039_nohash_0.wav', '1995cf9e_nohash_0.wav', '8f3f252c_nohash_1.wav', '6414258b_nohash_0.wav', '11860c84_nohash_0.wav', '6f5b4d3d_nohash_1.wav', '6f5b4d3d_nohash_0.wav', '6414258b_nohash_1.wav', '8f3f252c_nohash_0.wav', 'b29f8b23_nohash_0.wav', 'c885a039_nohash_1.wav', '322d17d3_nohash_0.wav', '86f12ac0_nohash_0.wav', '83c9e7e6_nohash_2.wav', 'd0fb9ff4_nohash_1.wav', 'fad7a69a_nohash_0.wav', 'a8e25ebb_nohash_0.wav', 'bfa63751_nohash_0.wav', '435f9f9e_nohash_0.wav', '9c06a3f3_nohash_0.wav', '3b853f44_nohash_0.wav', 'a16b3102_nohash_1.wav', '7f208e83_nohash_0.wav', 'f4f59743_nohash_1.wav', '6347b393_nohash_1.wav', 'd9ae8983_nohash_0.wav', '750e3e75_nohash_0.wav', '0474c92a_nohash_1.wav', '8ec6dab6_nohash_0.wav', '91cdef62_nohash_1.wav', '9ff1b8b6_nohash_0.wav', '0a7c2a8d_nohash_0.wav', '9a2e5b3c_nohash_0.wav', '4b3a7ad5_nohash_1.wav', 'ec7d1151_nohash_0.wav', 'f7b43563_nohash_1.wav', 'ed3c2d05_nohash_0.wav', '161fcca8_nohash_0.wav', 'f0659908_nohash_0.wav', 'cc71bada_nohash_0.wav', '4c594e0f_nohash_0.wav', 'edc53350_nohash_0.wav', 'b0ae6326_nohash_0.wav', '66cff190_nohash_0.wav', '0fc57d61_nohash_0.wav', 'c0cb43d6_nohash_0.wav', '4845bb10_nohash_0.wav', '079dfce3_nohash_0.wav', '1496195a_nohash_0.wav', 'c0fb6812_nohash_1.wav', 'e8c3c5ca_nohash_0.wav', '97e0c576_nohash_0.wav', 'dce5041a_nohash_0.wav', '171edea9_nohash_0.wav', 'b41a92a3_nohash_0.wav', '982babaf_nohash_0.wav', '824e8ce5_nohash_0.wav', '95218ce8_nohash_0.wav', '4c13fe25_nohash_0.wav', '1e4064b8_nohash_0.wav', 'bbd0bbd0_nohash_0.wav', '220ee1ef_nohash_0.wav', 'db9d52d2_nohash_0.wav', 'e5d2e09d_nohash_0.wav', 'f174517e_nohash_0.wav', 'c4e1f6e0_nohash_0.wav', '72ca6a6d_nohash_0.wav', 'a527cb3c_nohash_1.wav', 'd486fb84_nohash_0.wav', '18a1aab9_nohash_0.wav', 'ecef25ba_nohash_0.wav', '652b3da7_nohash_3.wav', 'b2e2773a_nohash_0.wav', 'b6ebe225_nohash_0.wav', 'b7a6f709_nohash_0.wav', 'bcdaa7a9_nohash_0.wav', '2589f361_nohash_0.wav', '1cb788bc_nohash_0.wav', '365531e2_nohash_0.wav', '60472d26_nohash_0.wav', '172dc2b0_nohash_2.wav', '7d149b38_nohash_0.wav', 'dac8b7f9_nohash_0.wav', '8b367d88_nohash_0.wav', 'da76aa58_nohash_0.wav', '6904f0cb_nohash_0.wav', 'fa70c187_nohash_0.wav', '97ae8b25_nohash_0.wav', 'de650823_nohash_0.wav', 'b3bdded5_nohash_0.wav', '4e61bf96_nohash_0.wav', '7cf14c54_nohash_0.wav', '014f9f65_nohash_0.wav', 'b8897f1c_nohash_0.wav', '211b928a_nohash_0.wav', 'f34e6f44_nohash_2.wav', '876c84d6_nohash_0.wav', '4ca37738_nohash_0.wav', '256c0a05_nohash_0.wav', '95299b6c_nohash_0.wav', '1625acd8_nohash_0.wav', '0717b9f6_nohash_0.wav', 'bdd22e4d_nohash_0.wav', '41777abb_nohash_0.wav', '6adb8ad9_nohash_0.wav', 'a996cf66_nohash_0.wav', '1993db46_nohash_0.wav', '39dce8cc_nohash_0.wav', '856eb138_nohash_0.wav', '88e85150_nohash_2.wav', '57cb3575_nohash_0.wav', 'a1c63f25_nohash_0.wav', '62ef962d_nohash_1.wav', 'd3f22f0e_nohash_2.wav', '6a014b29_nohash_0.wav', '118261a9_nohash_1.wav', '2c6446f7_nohash_0.wav', '30f31e42_nohash_0.wav', 'fffcabd1_nohash_0.wav', 'c5a1e46c_nohash_0.wav', 'ea7ca285_nohash_1.wav', '283d7a53_nohash_0.wav', 'ea7ca285_nohash_0.wav', 'fffcabd1_nohash_1.wav', '44bc77f7_nohash_0.wav', '62ef962d_nohash_0.wav', '118261a9_nohash_0.wav', '3c257192_nohash_0.wav', '88e90bc1_nohash_0.wav', 'fb01a182_nohash_0.wav', 'f00180d0_nohash_0.wav', '533c6564_nohash_0.wav', '9be15e93_nohash_0.wav', '57cb3575_nohash_1.wav', '026290a7_nohash_0.wav', '61482e52_nohash_0.wav', 'a996cf66_nohash_1.wav', '050170cb_nohash_0.wav', 'e91d173e_nohash_0.wav', '28612180_nohash_2.wav', '1625acd8_nohash_1.wav', '4ca37738_nohash_1.wav', '3a69f765_nohash_0.wav', 'b8897f1c_nohash_1.wav', '4c6167ca_nohash_0.wav', '876c84d6_nohash_1.wav', '4e61bf96_nohash_1.wav', 'f06190c1_nohash_0.wav', '97ae8b25_nohash_1.wav', 'b3bdded5_nohash_1.wav', 'a6285644_nohash_0.wav', '3efa7ec4_nohash_2.wav', 'da76aa58_nohash_1.wav', '8b367d88_nohash_1.wav', '9a356ab9_nohash_0.wav', '2f0a410b_nohash_0.wav', '7d149b38_nohash_1.wav', 'a04817c2_nohash_0.wav', '60472d26_nohash_1.wav', '1cb788bc_nohash_1.wav', '210f3aa9_nohash_0.wav', '4c6944d6_nohash_0.wav', '5efb758c_nohash_0.wav', '365908bd_nohash_0.wav', 'a9f38bae_nohash_0.wav', '7dc50b88_nohash_0.wav', 'b7a6f709_nohash_1.wav', 'a19452d5_nohash_2.wav', 'b6ebe225_nohash_1.wav', '21e8c417_nohash_0.wav', '34e8c726_nohash_1.wav', 'baf01c1f_nohash_0.wav', 'c98bbbd3_nohash_0.wav', 'a8f45bdc_nohash_0.wav', 'a19452d5_nohash_0.wav', '569455ff_nohash_0.wav', '0227998e_nohash_0.wav', '3b852f6f_nohash_1.wav', 'c7dc7278_nohash_0.wav', 'cc3b5b62_nohash_0.wav', '0c2ca723_nohash_0.wav', '7910d292_nohash_0.wav', '0a196374_nohash_0.wav', '00f0204f_nohash_0.wav', 'a1e71565_nohash_0.wav', '7d5f87c8_nohash_0.wav', '525eaa62_nohash_0.wav', '172dc2b0_nohash_1.wav', 'd103dd6e_nohash_0.wav', 'cee22275_nohash_0.wav', '9f869f70_nohash_0.wav', '4b25f620_nohash_1.wav', '3efa7ec4_nohash_0.wav', 'ae82c78c_nohash_0.wav', '8781f4c1_nohash_0.wav', '6c429c7b_nohash_0.wav', '24ed94ab_nohash_1.wav', '9efe5140_nohash_1.wav', '173ce2be_nohash_0.wav', 'f34e6f44_nohash_1.wav', '13dce503_nohash_0.wav', '05739450_nohash_0.wav', '333d7ddb_nohash_0.wav', 'ab00c4b2_nohash_1.wav', 'fc94edb0_nohash_0.wav', '28612180_nohash_0.wav', '3eb8764c_nohash_1.wav', '42ccb57a_nohash_0.wav', '6c968bd9_nohash_0.wav', 'd3d8fcd0_nohash_0.wav', '87070229_nohash_0.wav', '31270cb2_nohash_0.wav', '1ecfb537_nohash_0.wav', 'f5c3de1b_nohash_0.wav', 'c79159aa_nohash_0.wav', 'ab46af55_nohash_0.wav', '24befdb3_nohash_0.wav', 'aa753bb9_nohash_0.wav', 'e1aa22e4_nohash_0.wav', '42e3f068_nohash_0.wav', 'ad89eb1e_nohash_0.wav', '1df99a8a_nohash_1.wav', '29229c21_nohash_0.wav', 'da7689f1_nohash_1.wav', '4fce7686_nohash_0.wav', '88e85150_nohash_1.wav', '5f8097e1_nohash_0.wav', '765ffccb_nohash_1.wav', 'f575faf3_nohash_0.wav', 'f9318c93_nohash_0.wav', 'e54a0f16_nohash_0.wav', 'a1dd919f_nohash_0.wav', 'd7467392_nohash_0.wav', 'bda605da_nohash_1.wav', '4a803e67_nohash_1.wav', '118261a9_nohash_2.wav', 'd3f22f0e_nohash_1.wav', '30065f33_nohash_1.wav', '2a89ad5c_nohash_0.wav', '30065f33_nohash_0.wav', 'bab36420_nohash_0.wav', '16d41d07_nohash_0.wav', '4a803e67_nohash_0.wav', '2c5e0347_nohash_0.wav', 'bda605da_nohash_0.wav', 'd3f22f0e_nohash_0.wav', '71f6fed7_nohash_0.wav', '97addd88_nohash_0.wav', '765ffccb_nohash_0.wav', '40115b19_nohash_0.wav', '88e85150_nohash_0.wav', '4fce7686_nohash_1.wav', 'da7689f1_nohash_0.wav', '1df99a8a_nohash_0.wav', '6d7af359_nohash_0.wav', 'b93528e3_nohash_0.wav', '42e3f068_nohash_1.wav', '80fe1dc7_nohash_0.wav', 'b21f0fa4_nohash_0.wav', 'ab46af55_nohash_1.wav', '6e916de8_nohash_0.wav', '31270cb2_nohash_1.wav', '28612180_nohash_1.wav', 'fbb2f6cc_nohash_0.wav', '3eb8764c_nohash_0.wav', 'c2bc4489_nohash_0.wav', 'fc94edb0_nohash_1.wav', '7e1054e7_nohash_0.wav', '146d97db_nohash_0.wav', 'ab00c4b2_nohash_0.wav', 'f34e6f44_nohash_0.wav', 'f9273a21_nohash_0.wav', '13dce503_nohash_1.wav', 'c22ebf46_nohash_0.wav', '1e02ffc5_nohash_0.wav', '173ce2be_nohash_1.wav', '9efe5140_nohash_0.wav', '24ed94ab_nohash_0.wav', '4e61bf96_nohash_2.wav', '23da904f_nohash_0.wav', '3efa7ec4_nohash_1.wav', '4b25f620_nohash_0.wav', 'e71a9381_nohash_0.wav', '499be02e_nohash_0.wav', 'cee22275_nohash_1.wav', '00f0204f_nohash_1.wav', 'd103dd6e_nohash_1.wav', '172dc2b0_nohash_0.wav', '8b367d88_nohash_2.wav', '0c2ca723_nohash_1.wav', '60472d26_nohash_2.wav', '4bc2c2c5_nohash_0.wav', '54412eae_nohash_0.wav', 'b8874962_nohash_0.wav', '3b852f6f_nohash_0.wav', '3ca784ec_nohash_0.wav', 'a8f45bdc_nohash_1.wav', 'a19452d5_nohash_1.wav', '34e8c726_nohash_0.wav', '105a0eea_nohash_0.wav', '274c008f_nohash_0.wav', 'f19279c4_nohash_0.wav', '619b5164_nohash_1.wav', 'b80d6c5e_nohash_0.wav', '1a0f9c63_nohash_0.wav', '825f450d_nohash_2.wav', 'b6091c84_nohash_0.wav', '47565088_nohash_1.wav', 'c9a5100f_nohash_0.wav', '063d48cf_nohash_1.wav', '56eab10e_nohash_2.wav', 'ca6d5cd1_nohash_0.wav', '43f57297_nohash_0.wav', '86648261_nohash_1.wav', '57152045_nohash_1.wav', 'a4baac4e_nohash_1.wav', '2e8c59f7_nohash_0.wav', 'c099668c_nohash_1.wav', 'dabd70c2_nohash_0.wav', '01bcfc0c_nohash_0.wav', 'c50f55b8_nohash_5.wav', '8f447c3e_nohash_1.wav', '826268f8_nohash_0.wav', 'c842b5e4_nohash_0.wav', '6b889021_nohash_2.wav', '9331d34b_nohash_0.wav', '19f9c115_nohash_3.wav', '7eee5973_nohash_1.wav', 'f21893dc_nohash_1.wav', 'c90c0105_nohash_2.wav', '3e3fa7fd_nohash_0.wav', '3565ca83_nohash_0.wav', 'db7c95b0_nohash_0.wav', 'e8d562ca_nohash_0.wav', '34263ab3_nohash_0.wav', '8dd24423_nohash_1.wav', '94e6864f_nohash_0.wav', '8442ea62_nohash_0.wav', '7846fd85_nohash_0.wav', '462e1919_nohash_0.wav', '1c45ceb2_nohash_0.wav', '57b38f48_nohash_0.wav', '66a412a7_nohash_0.wav', '8a0457c9_nohash_0.wav', '7b301939_nohash_0.wav', '0ea0e2f4_nohash_0.wav', '5ef35194_nohash_0.wav', '2be08ce4_nohash_1.wav', 'cb72dfb6_nohash_0.wav', 'c4cfbe43_nohash_0.wav', 'ccea893d_nohash_0.wav', 'a1cff772_nohash_0.wav', 'd8ee4734_nohash_0.wav', '44e9d8d2_nohash_0.wav', '18c54a68_nohash_0.wav', '863880b7_nohash_1.wav', 'fb2f3242_nohash_0.wav', '813b82a6_nohash_0.wav', '6cc28ce5_nohash_0.wav', '18c54a68_nohash_1.wav', '863880b7_nohash_0.wav', '41dce6f5_nohash_0.wav', '05d18852_nohash_0.wav', '21832144_nohash_0.wav', 'ccea893d_nohash_1.wav', '2be08ce4_nohash_0.wav', '1acc97de_nohash_0.wav', 'e9abfe31_nohash_0.wav', 'f0ebef1b_nohash_0.wav', '0ea0e2f4_nohash_1.wav', '72242187_nohash_0.wav', '4e6902d0_nohash_0.wav', '4f256313_nohash_0.wav', 'fafe8101_nohash_0.wav', '57b38f48_nohash_1.wav', '5a9f7324_nohash_0.wav', 'b4604db4_nohash_0.wav', '8a0457c9_nohash_1.wav', 'aeb99b1c_nohash_0.wav', '9b8a7439_nohash_0.wav', '462e1919_nohash_1.wav', '50033893_nohash_2.wav', '61d3e51e_nohash_0.wav', 'f736ab63_nohash_0.wav', '94e6864f_nohash_1.wav', '7be5a0f3_nohash_0.wav', '8442ea62_nohash_1.wav', '8dd24423_nohash_0.wav', '34263ab3_nohash_1.wav', 'bed06fac_nohash_2.wav', 'db7c95b0_nohash_1.wav', 'beb458a4_nohash_0.wav', 'd94eb94f_nohash_0.wav', '5744b6a7_nohash_0.wav', '7eee5973_nohash_0.wav', '19f9c115_nohash_2.wav', 'f21893dc_nohash_0.wav', '0f7dc557_nohash_0.wav', 'c842b5e4_nohash_1.wav', '1942abd7_nohash_0.wav', 'c50f55b8_nohash_4.wav', '8f447c3e_nohash_0.wav', 'c099668c_nohash_0.wav', 'df5457dc_nohash_0.wav', 'a518d1cf_nohash_2.wav', 'a4baac4e_nohash_0.wav', '57152045_nohash_0.wav', '43f57297_nohash_1.wav', '86648261_nohash_0.wav', '3f45a0cf_nohash_0.wav', 'f68160c0_nohash_0.wav', '64e48f55_nohash_0.wav', '063d48cf_nohash_0.wav', '56eab10e_nohash_3.wav', '18e910f4_nohash_0.wav', '80c17118_nohash_2.wav', 'ce49cb60_nohash_2.wav', '1a0f9c63_nohash_1.wav', 'ad1429cf_nohash_0.wav', 'a7acbbeb_nohash_0.wav', '47565088_nohash_0.wav', 'b6091c84_nohash_1.wav', 'b80d6c5e_nohash_1.wav', '619b5164_nohash_0.wav', '3e31dffe_nohash_0.wav', 'e269bac0_nohash_0.wav', 'd1dd03ed_nohash_0.wav', 'ce49cb60_nohash_0.wav', '1c3f50ad_nohash_0.wav', '80c17118_nohash_0.wav', '964e8cfd_nohash_0.wav', '47565088_nohash_2.wav', '6f2f57c1_nohash_1.wav', 'd2eae23d_nohash_0.wav', '825f450d_nohash_1.wav', '004ae714_nohash_0.wav', 'c7aaad67_nohash_0.wav', '56eab10e_nohash_1.wav', '30137d34_nohash_0.wav', 'a518d1cf_nohash_0.wav', 'a8cf01bc_nohash_0.wav', 'c099668c_nohash_2.wav', 'f5626af6_nohash_0.wav', '8523766b_nohash_1.wav', 'f59d0771_nohash_0.wav', 'c6ca5d01_nohash_1.wav', '1afd49bf_nohash_1.wav', '6b889021_nohash_1.wav', '90645155_nohash_0.wav', 'f21893dc_nohash_2.wav', 'c90c0105_nohash_1.wav', '19f9c115_nohash_0.wav', '7eee5973_nohash_2.wav', 'bf5d409d_nohash_1.wav', '5e3dde6b_nohash_0.wav', '3102f006_nohash_0.wav', '3bc21161_nohash_0.wav', 'b3327675_nohash_0.wav', '951cac20_nohash_0.wav', '645ed69d_nohash_0.wav', 'bed06fac_nohash_0.wav', 'eeaf97c3_nohash_0.wav', 'c6ee87a7_nohash_0.wav', '94e6864f_nohash_3.wav', 'd9e9f554_nohash_0.wav', 'dedc7fab_nohash_0.wav', '262d7a03_nohash_0.wav', '8b25410a_nohash_0.wav', 'c120e80e_nohash_0.wav', '50033893_nohash_0.wav', '61e50f62_nohash_1.wav', 'dae01802_nohash_0.wav', '573cdb8a_nohash_0.wav', 'd8521ea0_nohash_0.wav', '6366f61a_nohash_0.wav', '51f7a034_nohash_0.wav', '060cd039_nohash_1.wav', '2be08ce4_nohash_2.wav', '234d6a48_nohash_0.wav', '70a00e98_nohash_0.wav', '91b03183_nohash_0.wav', '71904de3_nohash_0.wav', 'ace072ba_nohash_0.wav', 'cf68fad2_nohash_1.wav', 'd8a5ace5_nohash_0.wav', '18c54a68_nohash_3.wav', '82e7204d_nohash_0.wav', '300384f0_nohash_1.wav', '43691f67_nohash_0.wav', 'b69fe0e2_nohash_0.wav', '300384f0_nohash_0.wav', '23abe1c9_nohash_0.wav', 'e82914c0_nohash_0.wav', 'a929f9b9_nohash_0.wav', '18c54a68_nohash_2.wav', 'd8a5ace5_nohash_1.wav', 'cf68fad2_nohash_0.wav', '2c6d3924_nohash_0.wav', '0ea9c8ce_nohash_0.wav', '87eff300_nohash_0.wav', '060cd039_nohash_0.wav', 'd8521ea0_nohash_1.wav', 'a05a90c1_nohash_0.wav', '6071a214_nohash_0.wav', '07363607_nohash_0.wav', '61e50f62_nohash_0.wav', '50033893_nohash_1.wav', 'db79a764_nohash_0.wav', 'e2362167_nohash_0.wav', '71d0ded4_nohash_0.wav', '9a69672b_nohash_0.wav', '94e6864f_nohash_2.wav', 'bed06fac_nohash_1.wav', '34263ab3_nohash_2.wav', 'e9bc5cc2_nohash_0.wav', '2d92f18b_nohash_0.wav', 'f2a90886_nohash_0.wav', '951cac20_nohash_1.wav', 'b3327675_nohash_1.wav', 'bf5d409d_nohash_0.wav', 'db7c95b0_nohash_2.wav', 'c90c0105_nohash_0.wav', '19f9c115_nohash_1.wav', 'f632210f_nohash_0.wav', 'bca56796_nohash_0.wav', 'bf70feda_nohash_0.wav', '413997c1_nohash_0.wav', '87c62767_nohash_0.wav', 'f01a0d63_nohash_0.wav', '6b889021_nohash_0.wav', '1afd49bf_nohash_0.wav', '0132a06d_nohash_0.wav', '8523766b_nohash_0.wav', 'c6ca5d01_nohash_0.wav', 'c099668c_nohash_3.wav', '7c83c5f6_nohash_0.wav', 'a8cf01bc_nohash_1.wav', '30276d03_nohash_0.wav', 'e7117d00_nohash_0.wav', 'a518d1cf_nohash_1.wav', '56eab10e_nohash_0.wav', '2510c044_nohash_0.wav', 'b843de62_nohash_0.wav', '6f2f57c1_nohash_0.wav', '7192fddc_nohash_0.wav', '004ae714_nohash_1.wav', '825f450d_nohash_0.wav', '80c17118_nohash_1.wav', 'cf8d91cf_nohash_0.wav', 'ce49cb60_nohash_1.wav', '3de53d23_nohash_0.wav', '90804775_nohash_0.wav', 'd9aa8c90_nohash_0.wav', 'aff582a1_nohash_0.wav', 'e269bac0_nohash_1.wav', '39ec87ac_nohash_0.wav', 'dec73123_nohash_0.wav', 'ece1a95a_nohash_0.wav', '54d9ccb5_nohash_0.wav', 'cfde27ba_nohash_1.wav', '10627519_nohash_0.wav', 'edd8bfe3_nohash_0.wav', '26a093e1_nohash_1.wav', '7c9b43f0_nohash_0.wav', '1887fe04_nohash_0.wav', 'a1a59b72_nohash_0.wav', 'f3d06008_nohash_1.wav', '18d84076_nohash_0.wav', 'c50f55b8_nohash_3.wav', '617aeb6c_nohash_0.wav', 'cc3d1613_nohash_1.wav', 'e20be42a_nohash_1.wav', 'fb7eb481_nohash_0.wav', 'd0f7bef5_nohash_0.wav', '9b5815cd_nohash_2.wav', '784e281a_nohash_0.wav', '857366dd_nohash_0.wav', 'c68cf200_nohash_0.wav', '72aa7259_nohash_0.wav', '5170b77f_nohash_0.wav', 'caa7feaf_nohash_0.wav', '837f7378_nohash_0.wav', 'a3255f5c_nohash_0.wav', 'db24628d_nohash_0.wav', '840eab5a_nohash_0.wav', '370844f7_nohash_0.wav', '46114b4e_nohash_0.wav', 'c245d3d7_nohash_0.wav', '16db1582_nohash_0.wav', '0d90d8e1_nohash_0.wav', 'ab5b211a_nohash_0.wav', '3ab9ba07_nohash_0.wav', '8ea6dec6_nohash_1.wav', 'd1a4fb3f_nohash_0.wav', 'cc554de3_nohash_0.wav', '7fa5fa1f_nohash_0.wav', '75b631ff_nohash_0.wav', '48e8b82a_nohash_0.wav', 'ab353673_nohash_0.wav', '73f20b00_nohash_0.wav', 'c392e01d_nohash_0.wav', '815f0f03_nohash_0.wav', '28ef2a01_nohash_0.wav', 'e3411931_nohash_0.wav', '8c7c9168_nohash_0.wav', 'b1f8326d_nohash_1.wav', '893705bb_nohash_1.wav', 'e6be0830_nohash_0.wav', '0b77ee66_nohash_2.wav', '2f0ce4d9_nohash_0.wav', '9bea2ac7_nohash_0.wav', 'b46e8153_nohash_1.wav', '25040e85_nohash_0.wav', '78030270_nohash_0.wav', '6889b21f_nohash_0.wav', 'fa52ddf6_nohash_0.wav', 'f3cee168_nohash_0.wav', 'f3cee168_nohash_1.wav', '0d82fd99_nohash_0.wav', '653a48f5_nohash_0.wav', 'b46e8153_nohash_0.wav', 'fe291fa9_nohash_0.wav', 'fa446c16_nohash_2.wav', '587f3271_nohash_2.wav', '8c888bbb_nohash_0.wav', '89ed36ab_nohash_0.wav', '893705bb_nohash_0.wav', 'b1f8326d_nohash_0.wav', 'e6be0830_nohash_1.wav', 'd7a58714_nohash_0.wav', 'e3411931_nohash_1.wav', '82951cf0_nohash_0.wav', 'b49caed3_nohash_0.wav', '650daf8e_nohash_2.wav', '85b877b5_nohash_0.wav', 'f5733968_nohash_0.wav', '0ff728b5_nohash_0.wav', '8bbd98d0_nohash_0.wav', '1657c9fa_nohash_0.wav', '0b56bcfe_nohash_0.wav', '8ea6dec6_nohash_0.wav', 'e76dd1ce_nohash_0.wav', '305776dd_nohash_2.wav', '3d53244b_nohash_0.wav', '102192fd_nohash_0.wav', '46114b4e_nohash_1.wav', 'c245d3d7_nohash_1.wav', 'caa7feaf_nohash_1.wav', 'a3255f5c_nohash_1.wav', '5aac2efa_nohash_0.wav', 'cd85758f_nohash_0.wav', '7ff4fc72_nohash_0.wav', '9a3f97f8_nohash_0.wav', '87014d40_nohash_0.wav', '042ea76c_nohash_0.wav', 'd2dd5785_nohash_0.wav', '857366dd_nohash_1.wav', 'de3fe344_nohash_0.wav', 'cc3d1613_nohash_0.wav', 'e20be42a_nohash_0.wav', 'c50f55b8_nohash_2.wav', 'f3d06008_nohash_0.wav', '6af4aa07_nohash_0.wav', 'b06c19b0_nohash_0.wav', '26a093e1_nohash_0.wav', '7c9b43f0_nohash_1.wav', 'd3c2470e_nohash_0.wav', 'edd8bfe3_nohash_1.wav', 'ee1d8d49_nohash_0.wav', '58df33b5_nohash_0.wav', '3ec05c3d_nohash_0.wav', '88120683_nohash_0.wav', 'cfde27ba_nohash_0.wav', 'd7529c0c_nohash_0.wav', 'ece1a95a_nohash_1.wav', 'b65f6015_nohash_0.wav', 'dbb7723a_nohash_0.wav', 'a6f2fd71_nohash_0.wav', 'de89e2ca_nohash_0.wav', '6a203e0e_nohash_0.wav', '8dc18a75_nohash_0.wav', '0f46028a_nohash_0.wav', '257e17e0_nohash_0.wav', '948867e7_nohash_0.wav', 'ef3367d9_nohash_0.wav', '7dc95912_nohash_0.wav', 'f4cae173_nohash_1.wav', 'c692524d_nohash_0.wav', '53fd1780_nohash_0.wav', 'e98cb283_nohash_0.wav', 'bd8412df_nohash_0.wav', 'f1eaff75_nohash_0.wav', 'b1edd209_nohash_0.wav', 'a24cf51c_nohash_1.wav', 'fce65496_nohash_0.wav', 'efc5e569_nohash_0.wav', 'e20be42a_nohash_2.wav', 'cc3d1613_nohash_2.wav', 'c50f55b8_nohash_0.wav', '4d9e07cf_nohash_0.wav', '28e47b1a_nohash_0.wav', '1970b130_nohash_0.wav', '1a6eca98_nohash_1.wav', '9b5815cd_nohash_1.wav', 'f84762e5_nohash_0.wav', '37dca74f_nohash_0.wav', 'eb0676ec_nohash_0.wav', '25c14394_nohash_1.wav', '8a744054_nohash_0.wav', 'ca4d5368_nohash_0.wav', '3fb8c268_nohash_0.wav', '627c0bec_nohash_0.wav', 'ab5ae445_nohash_0.wav', '96c67073_nohash_1.wav', 'c2d74084_nohash_0.wav', '6e2ef3d5_nohash_1.wav', '65d81c54_nohash_0.wav', 'f4504600_nohash_1.wav', '81a345a3_nohash_1.wav', '4abefdf5_nohash_0.wav', 'c0c701f1_nohash_0.wav', '305776dd_nohash_0.wav', 'da4ef063_nohash_0.wav', '85851131_nohash_0.wav', '78622c2b_nohash_0.wav', '650daf8e_nohash_0.wav', '1a9afd33_nohash_1.wav', 'b5935410_nohash_0.wav', '6fb3d5a7_nohash_0.wav', '74b73f88_nohash_0.wav', '0b77ee66_nohash_1.wav', '587f3271_nohash_0.wav', 'e53139ad_nohash_0.wav', 'fa446c16_nohash_0.wav', '924c1a04_nohash_0.wav', 'cd8b1781_nohash_0.wav', '893705bb_nohash_2.wav', '7081436f_nohash_0.wav', 'c8771f88_nohash_0.wav', 'be7a5b2d_nohash_0.wav', 'c25a032b_nohash_0.wav', 'd8c52371_nohash_1.wav', '66276b0e_nohash_0.wav', '66276b0e_nohash_1.wav', 'd8c52371_nohash_0.wav', '7081436f_nohash_1.wav', '422d3197_nohash_0.wav', 'cd8b1781_nohash_1.wav', '924c1a04_nohash_1.wav', '18c54a68_nohash_4.wav', 'fa446c16_nohash_1.wav', 'd952a17e_nohash_0.wav', '587f3271_nohash_1.wav', '0b77ee66_nohash_0.wav', '88a487ce_nohash_0.wav', '1a9afd33_nohash_0.wav', '650daf8e_nohash_1.wav', '7213ed54_nohash_0.wav', '84999496_nohash_0.wav', 'fe1916ba_nohash_0.wav', 'd278d8ef_nohash_0.wav', 'adc216c5_nohash_0.wav', 'bcf614a2_nohash_0.wav', '94e6864f_nohash_4.wav', 'da8fa823_nohash_0.wav', 'c7f9ffb5_nohash_0.wav', 'ce7a8e92_nohash_0.wav', '305776dd_nohash_1.wav', 'af54ec46_nohash_0.wav', '81a345a3_nohash_0.wav', 'c0c701f1_nohash_1.wav', 'f4504600_nohash_0.wav', '2a1f4853_nohash_0.wav', '65d81c54_nohash_1.wav', '96c67073_nohash_0.wav', 'ab5ae445_nohash_1.wav', 'cdee383b_nohash_0.wav', '46114b4e_nohash_2.wav', '6e2ef3d5_nohash_0.wav', '627c0bec_nohash_1.wav', '1dc86f91_nohash_0.wav', 'a3255f5c_nohash_2.wav', 'bb31b82b_nohash_0.wav', 'ccca5655_nohash_0.wav', '25c14394_nohash_0.wav', 'c5e3817f_nohash_0.wav', '5a3712c9_nohash_0.wav', '9b5815cd_nohash_0.wav', '17c94b23_nohash_0.wav', '87d5e978_nohash_0.wav', '1a6eca98_nohash_0.wav', '529eda42_nohash_0.wav', 'c50f55b8_nohash_1.wav', 'b00dff7e_nohash_0.wav', 'd84829e0_nohash_0.wav', 'a24cf51c_nohash_0.wav', 'b00c4c53_nohash_0.wav', 'f1eaff75_nohash_1.wav', '7dc95912_nohash_1.wav', '0e5193e6_nohash_0.wav', 'c692524d_nohash_1.wav', 'f44f440f_nohash_0.wav', 'f4cae173_nohash_0.wav', 'c781f251_nohash_0.wav', '5c39594f_nohash_0.wav', '7add4c5f_nohash_0.wav', '067f61e2_nohash_0.wav', 'ece1a95a_nohash_2.wav', 'b3849d6e_nohash_0.wav', '6a203e0e_nohash_1.wav', 'dbb7723a_nohash_1.wav', '6e41a77e_nohash_0.wav', '1365dd89_nohash_0.wav', '3ed3e49a_nohash_1.wav', '18a8f03f_nohash_0.wav', 'ce0cb033_nohash_0.wav', '35c8fa78_nohash_1.wav', '9c59dd28_nohash_0.wav', '845f8553_nohash_0.wav', '902258bb_nohash_1.wav', 'a2b16113_nohash_1.wav', '28460a60_nohash_0.wav', 'e11fbc6e_nohash_0.wav', '52e228e9_nohash_0.wav', '6a2fb9a5_nohash_0.wav', 'b5d1e505_nohash_0.wav', '126a31d2_nohash_0.wav', '13199b79_nohash_0.wav', 'f638a812_nohash_1.wav', '2da58b32_nohash_0.wav', '14872d06_nohash_1.wav', '57de2379_nohash_0.wav', '79903546_nohash_1.wav', 'd53e25ba_nohash_0.wav', 'ab5d7179_nohash_0.wav', '8ea22de7_nohash_0.wav', '5fb88f4c_nohash_0.wav', 'b26343e9_nohash_2.wav', 'b15fc37d_nohash_0.wav', '2bd2cad5_nohash_0.wav', '48a9f771_nohash_1.wav', 'e72aa705_nohash_0.wav', 'da584bc0_nohash_0.wav', '2c727642_nohash_1.wav', '5828dfa2_nohash_1.wav', '69a1a79f_nohash_0.wav', 'ede2f4ee_nohash_1.wav', 'c93d5e22_nohash_0.wav', '77def3ee_nohash_0.wav', '94de6a6a_nohash_0.wav', 'ffbb695d_nohash_0.wav', '77def3ee_nohash_1.wav', 'ede2f4ee_nohash_0.wav', '81332c92_nohash_0.wav', 'dfdabe19_nohash_2.wav', 'c50225fa_nohash_2.wav', '5828dfa2_nohash_0.wav', '5769c5ab_nohash_0.wav', '884ae8e1_nohash_0.wav', '726382d6_nohash_0.wav', '2c727642_nohash_0.wav', 'fbb56351_nohash_0.wav', '129c7d8d_nohash_0.wav', 'e72aa705_nohash_1.wav', '2bd2cad5_nohash_1.wav', '48a9f771_nohash_0.wav', 'b31ad508_nohash_0.wav', '92a9c5e6_nohash_0.wav', '66774579_nohash_0.wav', '94403ad3_nohash_0.wav', '9e46cfa1_nohash_0.wav', '6823565f_nohash_0.wav', '6fca237d_nohash_0.wav', 'dca2797e_nohash_0.wav', '8353fea1_nohash_0.wav', '4620dc14_nohash_0.wav', 'd53e25ba_nohash_1.wav', 'f2898d06_nohash_0.wav', 'a902ce9b_nohash_0.wav', '79903546_nohash_0.wav', '57de2379_nohash_1.wav', 'd0858dce_nohash_0.wav', '97f493b9_nohash_0.wav', '264f471d_nohash_0.wav', '9a7c1f83_nohash_0.wav', 'f638a812_nohash_0.wav', 'e855b8f1_nohash_0.wav', '57b68383_nohash_0.wav', '6ef407da_nohash_0.wav', '14872d06_nohash_0.wav', '6565a81d_nohash_0.wav', '1b4c9b89_nohash_0.wav', '4c432947_nohash_2.wav', '195c120a_nohash_0.wav', '15b0c947_nohash_0.wav', 'b5d1e505_nohash_1.wav', '7211390b_nohash_0.wav', '3cfc6b3a_nohash_0.wav', '179a61b7_nohash_0.wav', '8eb4a1bf_nohash_0.wav', '017c4098_nohash_0.wav', '902258bb_nohash_0.wav', 'a2b16113_nohash_0.wav', 'b12bef84_nohash_2.wav', 'c22d3f18_nohash_0.wav', '18a8f03f_nohash_1.wav', '3ed3e49a_nohash_0.wav', '35c8fa78_nohash_0.wav', '1ed0b13d_nohash_0.wav', 'b308773d_nohash_0.wav', '0137b3f4_nohash_0.wav', '1365dd89_nohash_1.wav', '2e75d37a_nohash_0.wav', '3ed3e49a_nohash_2.wav', '5a0bc987_nohash_0.wav', 'a2b16113_nohash_2.wav', '773e26f7_nohash_0.wav', '21cbe292_nohash_0.wav', 'b12bef84_nohash_0.wav', '66041c69_nohash_1.wav', '605ed0ff_nohash_1.wav', 'fbe51750_nohash_0.wav', '723efc4c_nohash_0.wav', 'a331d9cb_nohash_4.wav', '99fad6a0_nohash_1.wav', '4c432947_nohash_0.wav', '1aed7c6d_nohash_1.wav', '8d5d076d_nohash_0.wav', 'da5dadb9_nohash_0.wav', 'f6617a86_nohash_0.wav', 'c53b335a_nohash_0.wav', 'fac7deca_nohash_0.wav', '6bf5baf3_nohash_0.wav', '3df9a3d4_nohash_1.wav', '3b195250_nohash_0.wav', '4f086393_nohash_1.wav', '64574a99_nohash_0.wav', '012c8314_nohash_0.wav', '637c702a_nohash_0.wav', '88d009d2_nohash_0.wav', 'ad6a46f1_nohash_0.wav', 'eb67fcbc_nohash_1.wav', '2ce7534c_nohash_0.wav', 'b0c0197e_nohash_1.wav', '0b7ee1a0_nohash_0.wav', 'e55a2b20_nohash_1.wav', '989a2213_nohash_1.wav', 'b26343e9_nohash_1.wav', 'd78858d9_nohash_0.wav', '02ade946_nohash_0.wav', '6021f08b_nohash_1.wav', '61abbf52_nohash_0.wav', '99e6cab8_nohash_0.wav', '3d6bee47_nohash_0.wav', 'f953e1af_nohash_0.wav', '92e17cc4_nohash_1.wav', 'd1d3e64d_nohash_0.wav', 'dc2222d7_nohash_1.wav', '311fde72_nohash_0.wav', '611d2b50_nohash_0.wav', '2c727642_nohash_2.wav', 'c08585c1_nohash_0.wav', '64da5281_nohash_1.wav', 'c50225fa_nohash_0.wav', 'dfdabe19_nohash_0.wav', '0362539c_nohash_0.wav', '235b444f_nohash_0.wav', '0bde966a_nohash_1.wav', '8aa35b0c_nohash_0.wav', '0447d7c1_nohash_0.wav', '62605293_nohash_1.wav', '7c1d8533_nohash_0.wav', '62605293_nohash_0.wav', '187af8be_nohash_0.wav', 'f804cbb3_nohash_0.wav', '27b03931_nohash_0.wav', '8aa35b0c_nohash_1.wav', '0bde966a_nohash_0.wav', 'dfdabe19_nohash_1.wav', 'c50225fa_nohash_1.wav', '353b4d33_nohash_0.wav', '0362539c_nohash_1.wav', '64da5281_nohash_0.wav', 'b9f46737_nohash_0.wav', '39833acb_nohash_0.wav', 'd1d3e64d_nohash_1.wav', 'ad5aeec2_nohash_0.wav', 'dc2222d7_nohash_0.wav', '3a789a0d_nohash_0.wav', '92e17cc4_nohash_0.wav', '99e6cab8_nohash_1.wav', '6166ae21_nohash_0.wav', 'f0522ff4_nohash_0.wav', '6021f08b_nohash_0.wav', '989a2213_nohash_0.wav', 'e55a2b20_nohash_0.wav', 'c0f8f4df_nohash_0.wav', 'fb727898_nohash_0.wav', 'b26343e9_nohash_0.wav', 'd78858d9_nohash_1.wav', '953fe1ad_nohash_0.wav', 'e0315cf6_nohash_0.wav', 'bde0f20a_nohash_0.wav', '833d9f56_nohash_0.wav', 'da040491_nohash_0.wav', 'b0c0197e_nohash_0.wav', '2ce7534c_nohash_1.wav', 'eb67fcbc_nohash_0.wav', 'ad6a46f1_nohash_1.wav', 'c4e00ee9_nohash_0.wav', 'ab71c9a7_nohash_0.wav', '3fdafe25_nohash_0.wav', '012c8314_nohash_1.wav', '88d009d2_nohash_1.wav', '4f086393_nohash_0.wav', '27c24504_nohash_0.wav', '3df9a3d4_nohash_0.wav', 'fac7deca_nohash_1.wav', '1aed7c6d_nohash_0.wav', 'a331d9cb_nohash_5.wav', '44c201dd_nohash_0.wav', '4c432947_nohash_1.wav', '73f0c1f7_nohash_0.wav', '99fad6a0_nohash_0.wav', '605ed0ff_nohash_0.wav', '11a022ba_nohash_0.wav', 'aba19127_nohash_0.wav', 'fbe51750_nohash_1.wav', '4a1e736b_nohash_0.wav', '61bcb275_nohash_0.wav', '64df20d8_nohash_0.wav', '66041c69_nohash_0.wav', 'd9b8fab2_nohash_0.wav', '6094340e_nohash_0.wav', 'b12bef84_nohash_1.wav', 'b2fbe484_nohash_0.wav', '5de8f2f0_nohash_0.wav', 'cc4f9250_nohash_0.wav', 'a2b16113_nohash_3.wav', 'd4d898d7_nohash_0.wav', '07c5129e_nohash_0.wav', 'a7216980_nohash_0.wav', 'd926bb17_nohash_0.wav', '18a8f03f_nohash_2.wav', '3ed3e49a_nohash_3.wav', '9190045a_nohash_0.wav', 'bdb90d38_nohash_0.wav', '5a5721f8_nohash_0.wav', 'da2c5f1b_nohash_0.wav', 'b433332a_nohash_0.wav', '1c6e5447_nohash_0.wav', 'c678e0b3_nohash_0.wav', '1bb6ed89_nohash_1.wav', 'fa57ab3b_nohash_0.wav', '189cbabe_nohash_0.wav', 'cc592808_nohash_2.wav', '52162b51_nohash_0.wav', '6205088b_nohash_1.wav', '747e69fd_nohash_0.wav', '23add12a_nohash_1.wav', '54b6d355_nohash_0.wav', '493392c6_nohash_1.wav', '338dacf5_nohash_0.wav', '8a5acefd_nohash_0.wav', '1a892463_nohash_0.wav', '460f2bad_nohash_0.wav', '9b027ecf_nohash_1.wav', '4c7c95de_nohash_1.wav', 'ee07dcb9_nohash_2.wav', 'a331d9cb_nohash_1.wav', '0585b66d_nohash_0.wav', '51995cea_nohash_0.wav', '9712cce0_nohash_0.wav', '479e64cc_nohash_1.wav', '3411cf4b_nohash_1.wav', 'f9643d42_nohash_0.wav', '11321027_nohash_0.wav', '4def68db_nohash_0.wav', 'a3502f15_nohash_0.wav', 'b4aa9fef_nohash_0.wav', 'ead2934a_nohash_2.wav', '679463fc_nohash_0.wav', 'd5b963aa_nohash_0.wav', '5f9cd2eb_nohash_1.wav', '131e738d_nohash_0.wav', '617de221_nohash_0.wav', 'a2473d62_nohash_1.wav', '01648c51_nohash_0.wav', 'fb7c9b3b_nohash_1.wav', '61a9f72a_nohash_0.wav', '69086eb0_nohash_0.wav', 'cce17a61_nohash_1.wav', '47d01978_nohash_0.wav', '3cdecb0b_nohash_1.wav', '3837f3f3_nohash_0.wav', '2005ca25_nohash_0.wav', 'e6327279_nohash_0.wav', 'b83c1acf_nohash_0.wav', '6f342826_nohash_3.wav', '68effe85_nohash_0.wav', '1706c35f_nohash_1.wav', '82b99576_nohash_0.wav', '8e05039f_nohash_0.wav', 'dd6c6806_nohash_1.wav', '0685264e_nohash_0.wav', 'f7879738_nohash_1.wav', 'b55a09be_nohash_0.wav', '772db621_nohash_1.wav', '55d3725a_nohash_0.wav', '339f2c5c_nohash_0.wav', '772db621_nohash_0.wav', 'b55a09be_nohash_1.wav', '55d3725a_nohash_1.wav', 'ee28caac_nohash_0.wav', 'bbaa7946_nohash_0.wav', 'e5e54cee_nohash_0.wav', 'f7879738_nohash_0.wav', '14df1e28_nohash_0.wav', 'dd6c6806_nohash_0.wav', '821b64cc_nohash_0.wav', '1706c35f_nohash_0.wav', 'c578beb0_nohash_0.wav', '19785c4e_nohash_2.wav', '6f342826_nohash_2.wav', '2005ca25_nohash_1.wav', '0135f3f2_nohash_0.wav', '89d6d11e_nohash_0.wav', '3cdecb0b_nohash_0.wav', 'cce17a61_nohash_0.wav', 'bfd26d6b_nohash_0.wav', 'e5afa9b0_nohash_0.wav', 'e2b7d6d6_nohash_0.wav', 'e7334395_nohash_2.wav', 'fb7c9b3b_nohash_0.wav', '28ce0c58_nohash_0.wav', '01648c51_nohash_1.wav', '1a673010_nohash_0.wav', '63f7a489_nohash_0.wav', '06f6c194_nohash_0.wav', '5f9cd2eb_nohash_0.wav', 'a2473d62_nohash_0.wav', '616420be_nohash_0.wav', 'e95c70e2_nohash_0.wav', '3389305e_nohash_0.wav', '81dc4a94_nohash_0.wav', '15c371c7_nohash_0.wav', '3411cf4b_nohash_0.wav', '1890e5c3_nohash_0.wav', '4def68db_nohash_1.wav', 'f19d1738_nohash_0.wav', '4cee0c60_nohash_0.wav', 'b97c9f77_nohash_0.wav', '5f47fdf9_nohash_0.wav', '479e64cc_nohash_0.wav', '099d52ad_nohash_0.wav', '32efce64_nohash_2.wav', '541120c7_nohash_0.wav', 'a331d9cb_nohash_0.wav', 'c9b653a0_nohash_0.wav', '4c7c95de_nohash_0.wav', '9b027ecf_nohash_0.wav', '30a09789_nohash_0.wav', '493392c6_nohash_0.wav', '16fce7de_nohash_0.wav', '23add12a_nohash_0.wav', '6205088b_nohash_0.wav', 'ec989d6d_nohash_0.wav', 'cc592808_nohash_3.wav', '19e246ad_nohash_0.wav', '8fe67225_nohash_0.wav', 'b43de700_nohash_0.wav', '1bb6ed89_nohash_0.wav', 'c678e0b3_nohash_1.wav', '3108acca_nohash_0.wav', '2748cce7_nohash_0.wav', 'af7a8296_nohash_0.wav', 'f297e878_nohash_0.wav', '3ce4910e_nohash_0.wav', '69953f48_nohash_0.wav', 'da2c5f1b_nohash_1.wav', 'bdb90d38_nohash_1.wav', '25e95412_nohash_0.wav', '173ae793_nohash_0.wav', 'cb62dbf1_nohash_0.wav', 'a60a09cf_nohash_0.wav', 'c9e251d2_nohash_0.wav', '64220627_nohash_0.wav', 'd3831f6a_nohash_0.wav', '5ba724a7_nohash_1.wav', '333784b7_nohash_0.wav', '6205088b_nohash_2.wav', '716757ce_nohash_0.wav', 'f292725f_nohash_0.wav', 'cc592808_nohash_1.wav', 'a4e8a997_nohash_0.wav', '7799c9cd_nohash_1.wav', '66aa0f29_nohash_0.wav', '83f9c4ab_nohash_1.wav', 'ee07dcb9_nohash_1.wav', 'a331d9cb_nohash_2.wav', '32efce64_nohash_0.wav', '4f8ef132_nohash_0.wav', 'cb2929ce_nohash_0.wav', '6ceeb9aa_nohash_0.wav', 'f1d36c53_nohash_0.wav', 'cd911ace_nohash_0.wav', 'b52bd596_nohash_0.wav', 'e7ea8b76_nohash_1.wav', '6f9088d7_nohash_0.wav', '9b3ea809_nohash_0.wav', 'd85270c1_nohash_1.wav', 'ead2934a_nohash_1.wav', '85d2ac4b_nohash_1.wav', '9fa86a74_nohash_0.wav', 'b71ebf79_nohash_0.wav', 'f264e0df_nohash_0.wav', '7bf801d1_nohash_0.wav', 'fb7c9b3b_nohash_2.wav', 'e7334395_nohash_0.wav', 'ea356919_nohash_0.wav', '64a80906_nohash_0.wav', 'cce17a61_nohash_2.wav', 'b3bb4dd6_nohash_1.wav', '42a99aec_nohash_0.wav', '3b3d2f59_nohash_0.wav', '42c6fff1_nohash_0.wav', '7a5530c9_nohash_1.wav', '50f55535_nohash_0.wav', '63ae15e4_nohash_0.wav', '6f342826_nohash_0.wav', '1ffd513b_nohash_0.wav', '19785c4e_nohash_0.wav', 'a2fefcb4_nohash_0.wav', '1706c35f_nohash_2.wav', 'c71e3acc_nohash_0.wav', '28ed6bc9_nohash_0.wav', '6846af18_nohash_0.wav', '32ad5b65_nohash_0.wav', '5705a0f9_nohash_1.wav', '1dce06e8_nohash_0.wav', 'efa16ffd_nohash_1.wav', 'c8db14a8_nohash_0.wav', 'efa16ffd_nohash_0.wav', 'a3518e99_nohash_0.wav', '270bfa52_nohash_0.wav', 'b55a09be_nohash_2.wav', '5705a0f9_nohash_0.wav', '1706c35f_nohash_3.wav', '3bfd30e6_nohash_0.wav', 'c71e3acc_nohash_1.wav', 'e805a617_nohash_0.wav', 'bd2db1a5_nohash_0.wav', '6f342826_nohash_1.wav', '19785c4e_nohash_1.wav', '24b82192_nohash_0.wav', '63ae15e4_nohash_1.wav', '418e7158_nohash_0.wav', '2bdbe5f7_nohash_0.wav', 'b3bb4dd6_nohash_0.wav', '7a5530c9_nohash_0.wav', '42c6fff1_nohash_1.wav', '64a80906_nohash_1.wav', 'cce17a61_nohash_3.wav', 'ab7b5acd_nohash_0.wav', 'e48a80ed_nohash_0.wav', 'e7334395_nohash_1.wav', '7c75a504_nohash_0.wav', '538e1856_nohash_0.wav', '85d2ac4b_nohash_0.wav', '9fa86a74_nohash_1.wav', 'd0faf7e4_nohash_0.wav', '0cb74144_nohash_0.wav', 'ead2934a_nohash_0.wav', 'd85270c1_nohash_0.wav', 'b52bd596_nohash_1.wav', 'e7ea8b76_nohash_0.wav', 'f1d36c53_nohash_1.wav', '6ceeb9aa_nohash_1.wav', 'ec201020_nohash_0.wav', '67c7fecb_nohash_0.wav', 'a331d9cb_nohash_3.wav', 'ee07dcb9_nohash_0.wav', '32efce64_nohash_1.wav', '7799c9cd_nohash_0.wav', '83f9c4ab_nohash_0.wav', 'af790082_nohash_0.wav', 'd107dc42_nohash_0.wav', '551e42e8_nohash_0.wav', 'a4e8a997_nohash_1.wav', 'cc592808_nohash_0.wav', 'c2aeb59d_nohash_0.wav', '716757ce_nohash_1.wav', '6205088b_nohash_3.wav', '10c6d873_nohash_0.wav', '5ba724a7_nohash_0.wav', '7cbf645a_nohash_0.wav', 'fc3ba625_nohash_0.wav', '64220627_nohash_1.wav', '30802c5d_nohash_0.wav', 'c9e251d2_nohash_1.wav', '0c40e715_nohash_0.wav', 'f216055e_nohash_0.wav', '238c112c_nohash_0.wav', '2c7c33e8_nohash_0.wav', '173ae793_nohash_1.wav', '25e95412_nohash_1.wav', '29dce108_nohash_0.wav']]\n"
          ]
        }
      ],
      "source": [
        "# Check how filenames are stored\n",
        "\n",
        "print(filenames[0:5])"
      ]
    },
    {
      "cell_type": "code",
      "execution_count": null,
      "metadata": {
        "id": "p6l11Cvr1LN6"
      },
      "outputs": [
        {
          "name": "stdout",
          "output_type": "stream",
          "text": [
            "[array([0., 0., 0., ..., 0., 0., 0.]), array([1., 1., 1., 1., 1., 1., 1., 1., 1., 1., 1., 1., 1., 1., 1., 1., 1.,\n",
            "       1., 1., 1., 1., 1., 1., 1., 1., 1., 1., 1., 1., 1., 1., 1., 1., 1.,\n",
            "       1., 1., 1., 1., 1., 1., 1., 1., 1., 1., 1., 1., 1., 1., 1., 1., 1.,\n",
            "       1., 1., 1., 1., 1., 1., 1., 1., 1., 1., 1., 1., 1., 1., 1., 1., 1.,\n",
            "       1., 1., 1., 1., 1., 1., 1., 1., 1., 1., 1., 1., 1., 1., 1., 1., 1.,\n",
            "       1., 1., 1., 1., 1., 1., 1., 1., 1., 1., 1., 1., 1., 1., 1., 1., 1.,\n",
            "       1., 1., 1., 1., 1., 1., 1., 1., 1., 1., 1., 1., 1., 1., 1., 1., 1.,\n",
            "       1., 1., 1., 1., 1., 1., 1., 1., 1., 1., 1., 1., 1., 1., 1., 1., 1.,\n",
            "       1., 1., 1., 1., 1., 1., 1., 1., 1., 1., 1., 1., 1., 1., 1., 1., 1.,\n",
            "       1., 1., 1., 1., 1., 1., 1., 1., 1., 1., 1., 1., 1., 1., 1., 1., 1.,\n",
            "       1., 1., 1., 1., 1., 1., 1., 1., 1., 1., 1., 1., 1., 1., 1., 1., 1.,\n",
            "       1., 1., 1., 1., 1., 1., 1., 1., 1., 1., 1., 1., 1., 1., 1., 1., 1.,\n",
            "       1., 1., 1., 1., 1., 1., 1., 1., 1., 1., 1., 1., 1., 1., 1., 1., 1.,\n",
            "       1., 1., 1., 1., 1., 1., 1., 1., 1., 1., 1., 1., 1., 1., 1., 1., 1.,\n",
            "       1., 1., 1., 1., 1., 1., 1., 1., 1., 1., 1., 1., 1., 1., 1., 1., 1.,\n",
            "       1., 1., 1., 1., 1., 1., 1., 1., 1., 1., 1., 1., 1., 1., 1., 1., 1.,\n",
            "       1., 1., 1., 1., 1., 1., 1., 1., 1., 1., 1., 1., 1., 1., 1., 1., 1.,\n",
            "       1., 1., 1., 1., 1., 1., 1., 1., 1., 1., 1., 1., 1., 1., 1., 1., 1.,\n",
            "       1., 1., 1., 1., 1., 1., 1., 1., 1., 1., 1., 1., 1., 1., 1., 1., 1.,\n",
            "       1., 1., 1., 1., 1., 1., 1., 1., 1., 1., 1., 1., 1., 1., 1., 1., 1.,\n",
            "       1., 1., 1., 1., 1., 1., 1., 1., 1., 1., 1., 1., 1., 1., 1., 1., 1.,\n",
            "       1., 1., 1., 1., 1., 1., 1., 1., 1., 1., 1., 1., 1., 1., 1., 1., 1.,\n",
            "       1., 1., 1., 1., 1., 1., 1., 1., 1., 1., 1., 1., 1., 1., 1., 1., 1.,\n",
            "       1., 1., 1., 1., 1., 1., 1., 1., 1., 1., 1., 1., 1., 1., 1., 1., 1.]), array([2., 2., 2., 2., 2., 2., 2., 2., 2., 2., 2., 2., 2., 2., 2., 2., 2.,\n",
            "       2., 2., 2., 2., 2., 2., 2., 2., 2., 2., 2., 2., 2., 2., 2., 2., 2.,\n",
            "       2., 2., 2., 2., 2., 2., 2., 2., 2., 2., 2., 2., 2., 2., 2., 2., 2.,\n",
            "       2., 2., 2., 2., 2., 2., 2., 2., 2., 2., 2., 2., 2., 2., 2., 2., 2.,\n",
            "       2., 2., 2., 2., 2., 2., 2., 2., 2., 2., 2., 2., 2., 2., 2., 2., 2.,\n",
            "       2., 2., 2., 2., 2., 2., 2., 2., 2., 2., 2., 2., 2., 2., 2., 2., 2.,\n",
            "       2., 2., 2., 2., 2., 2., 2., 2., 2., 2., 2., 2., 2., 2., 2., 2., 2.,\n",
            "       2., 2., 2., 2., 2., 2., 2., 2., 2., 2., 2., 2., 2., 2., 2., 2., 2.,\n",
            "       2., 2., 2., 2., 2., 2., 2., 2., 2., 2., 2., 2., 2., 2., 2., 2., 2.,\n",
            "       2., 2., 2., 2., 2., 2., 2., 2., 2., 2., 2., 2., 2., 2., 2., 2., 2.,\n",
            "       2., 2., 2., 2., 2., 2., 2., 2., 2., 2., 2., 2., 2., 2., 2., 2., 2.,\n",
            "       2., 2., 2., 2., 2., 2., 2., 2., 2., 2., 2., 2., 2., 2., 2., 2., 2.,\n",
            "       2., 2., 2., 2., 2., 2., 2., 2., 2., 2., 2., 2., 2., 2., 2., 2., 2.,\n",
            "       2., 2., 2., 2., 2., 2., 2., 2., 2., 2., 2., 2., 2., 2., 2., 2., 2.,\n",
            "       2., 2., 2., 2., 2., 2., 2., 2., 2., 2., 2., 2., 2., 2., 2., 2., 2.,\n",
            "       2., 2., 2., 2., 2., 2., 2., 2., 2., 2., 2., 2., 2., 2., 2., 2., 2.,\n",
            "       2., 2., 2., 2., 2., 2., 2., 2., 2., 2., 2., 2., 2., 2., 2., 2., 2.,\n",
            "       2., 2., 2., 2., 2., 2., 2., 2., 2., 2., 2., 2., 2., 2., 2., 2., 2.,\n",
            "       2., 2., 2., 2., 2., 2., 2., 2., 2., 2., 2., 2., 2., 2., 2., 2., 2.,\n",
            "       2., 2., 2., 2., 2., 2., 2., 2., 2., 2., 2., 2., 2., 2., 2., 2., 2.,\n",
            "       2., 2., 2., 2., 2., 2., 2., 2., 2., 2., 2., 2., 2., 2., 2., 2., 2.,\n",
            "       2., 2., 2., 2., 2., 2., 2., 2., 2., 2., 2., 2., 2., 2., 2., 2., 2.,\n",
            "       2., 2., 2., 2., 2., 2., 2., 2., 2., 2., 2., 2., 2., 2., 2., 2., 2.,\n",
            "       2., 2., 2., 2., 2., 2., 2., 2., 2., 2., 2., 2., 2., 2., 2., 2., 2.]), array([3., 3., 3., ..., 3., 3., 3.]), array([4., 4., 4., ..., 4., 4., 4.]), array([5., 5., 5., ..., 5., 5., 5.]), array([6., 6., 6., ..., 6., 6., 6.]), array([7., 7., 7., ..., 7., 7., 7.]), array([8., 8., 8., ..., 8., 8., 8.]), array([9., 9., 9., ..., 9., 9., 9.]), array([10., 10., 10., ..., 10., 10., 10.]), array([11., 11., 11., ..., 11., 11., 11.]), array([12., 12., 12., ..., 12., 12., 12.]), array([13., 13., 13., ..., 13., 13., 13.]), array([14., 14., 14., ..., 14., 14., 14.]), array([15., 15., 15., ..., 15., 15., 15.]), array([16., 16., 16., ..., 16., 16., 16.]), array([17., 17., 17., ..., 17., 17., 17.]), array([18., 18., 18., ..., 18., 18., 18.]), array([19., 19., 19., ..., 19., 19., 19.]), array([20., 20., 20., ..., 20., 20., 20.]), array([21., 21., 21., ..., 21., 21., 21.]), array([22., 22., 22., ..., 22., 22., 22.]), array([23., 23., 23., ..., 23., 23., 23.]), array([24., 24., 24., ..., 24., 24., 24.]), array([25., 25., 25., ..., 25., 25., 25.]), array([26., 26., 26., ..., 26., 26., 26.]), array([27., 27., 27., ..., 27., 27., 27.]), array([28., 28., 28., ..., 28., 28., 28.]), array([29., 29., 29., ..., 29., 29., 29.]), array([30., 30., 30., ..., 30., 30., 30.]), array([31., 31., 31., ..., 31., 31., 31.]), array([32., 32., 32., ..., 32., 32., 32.]), array([33., 33., 33., ..., 33., 33., 33.]), array([34., 34., 34., ..., 34., 34., 34.]), array([35., 35., 35., ..., 35., 35., 35.]), array([36., 36., 36., ..., 36., 36., 36.]), array([37., 37., 37., ..., 37., 37., 37.])]\n"
          ]
        }
      ],
      "source": [
        "# Check ground truth Y vector\n",
        "\n",
        "print(y)"
      ]
    },
    {
      "cell_type": "code",
      "execution_count": null,
      "metadata": {
        "colab": {
          "base_uri": "https://localhost:8080/"
        },
        "id": "QufjXdIr1OmA",
        "outputId": "705a80dc-db90-4ff6-92e3-d4d85696db16"
      },
      "outputs": [],
      "source": [
        "# Flatten filename and y vectors\n",
        "\n",
        "filenames = [item for sublist in filenames for item in sublist]\n",
        "y = [item for sublist in y for item in sublist]"
      ]
    },
    {
      "cell_type": "code",
      "execution_count": null,
      "metadata": {
        "colab": {
          "base_uri": "https://localhost:8080/"
        },
        "id": "YzdQqovv-2sJ",
        "outputId": "f755e77d-d738-4ab9-d5ad-2dcc1d7493d0"
      },
      "outputs": [
        {
          "data": {
            "text/plain": [
              "['running_tap_34_0.wav',\n",
              " 'doing_the_dishes_86_0_0_0_0_0_0.wav',\n",
              " 'running_tap_17_0_0.wav',\n",
              " 'white_noise_10.wav',\n",
              " 'pink_noise_26.wav']"
            ]
          },
          "execution_count": 51,
          "metadata": {},
          "output_type": "execute_result"
        }
      ],
      "source": [
        "filenames[0:5]"
      ]
    },
    {
      "cell_type": "code",
      "execution_count": null,
      "metadata": {
        "colab": {
          "base_uri": "https://localhost:8080/"
        },
        "id": "I_ijSeS1-50V",
        "outputId": "36fa9d2d-efd1-4484-b975-1d4e146e67a3"
      },
      "outputs": [
        {
          "data": {
            "text/plain": [
              "[0.0, 0.0, 0.0, 0.0, 0.0]"
            ]
          },
          "execution_count": 52,
          "metadata": {},
          "output_type": "execute_result"
        }
      ],
      "source": [
        "y[0:5]"
      ]
    },
    {
      "cell_type": "markdown",
      "metadata": {
        "id": "73oPADn6jD4c"
      },
      "source": [
        "## Create variables for C files"
      ]
    },
    {
      "cell_type": "code",
      "execution_count": null,
      "metadata": {
        "colab": {
          "base_uri": "https://localhost:8080/"
        },
        "id": "F5Z4NoWRYDzt",
        "outputId": "ef3a88fc-b231-4594-aa20-a7064493a885"
      },
      "outputs": [
        {
          "name": "stdout",
          "output_type": "stream",
          "text": [
            "_BACKGROUND_NOISE_,_SILENCE_,_UNKNOWN_,BACKWARD,BED,BIRD,CAT,DOG,DOWN,EIGHT,FIVE,FOLLOW,FORWARD,FOUR,GO,HAPPY,HOUSE,LEARN,LEFT,MARVIN,NINE,NO,OFF,ON,ONE,RIGHT,SEVEN,SHEILA,SIX,STOP,THREE,TREE,TWO,UP,VISUAL,WOW,YES,ZERO,"
          ]
        }
      ],
      "source": [
        "# Generate the dictionary\n",
        "\n",
        "for target in all_targets:\n",
        "  print(target.upper(), end = \",\")"
      ]
    },
    {
      "cell_type": "code",
      "execution_count": null,
      "metadata": {
        "colab": {
          "base_uri": "https://localhost:8080/"
        },
        "id": "DcMotmR3jI6S",
        "outputId": "1bba3374-eca9-4de0-d265-a293dfa9ecf4"
      },
      "outputs": [
        {
          "name": "stdout",
          "output_type": "stream",
          "text": [
            "extern const char _BACKGROUND_NOISE_[];\n",
            "extern const char _SILENCE_[];\n",
            "extern const char _UNKNOWN_[];\n",
            "extern const char BACKWARD[];\n",
            "extern const char BED[];\n",
            "extern const char BIRD[];\n",
            "extern const char CAT[];\n",
            "extern const char DOG[];\n",
            "extern const char DOWN[];\n",
            "extern const char EIGHT[];\n",
            "extern const char FIVE[];\n",
            "extern const char FOLLOW[];\n",
            "extern const char FORWARD[];\n",
            "extern const char FOUR[];\n",
            "extern const char GO[];\n",
            "extern const char HAPPY[];\n",
            "extern const char HOUSE[];\n",
            "extern const char LEARN[];\n",
            "extern const char LEFT[];\n",
            "extern const char MARVIN[];\n",
            "extern const char NINE[];\n",
            "extern const char NO[];\n",
            "extern const char OFF[];\n",
            "extern const char ON[];\n",
            "extern const char ONE[];\n",
            "extern const char RIGHT[];\n",
            "extern const char SEVEN[];\n",
            "extern const char SHEILA[];\n",
            "extern const char SIX[];\n",
            "extern const char STOP[];\n",
            "extern const char THREE[];\n",
            "extern const char TREE[];\n",
            "extern const char TWO[];\n",
            "extern const char UP[];\n",
            "extern const char VISUAL[];\n",
            "extern const char WOW[];\n",
            "extern const char YES[];\n",
            "extern const char ZERO[];\n"
          ]
        }
      ],
      "source": [
        "# Create extern constants\n",
        "\n",
        "for w in all_targets:\n",
        "  print(f\"extern const char {w.upper()}[];\")"
      ]
    },
    {
      "cell_type": "code",
      "execution_count": null,
      "metadata": {
        "colab": {
          "base_uri": "https://localhost:8080/"
        },
        "id": "17bUQ2PIX0Vo",
        "outputId": "ef04e41f-569a-440f-a352-c0f887e8d9eb"
      },
      "outputs": [
        {
          "name": "stdout",
          "output_type": "stream",
          "text": [
            "const char _BACKGROUND_NOISE_[] = \"_background_noise_\";\n",
            "const char _SILENCE_[] = \"_silence_\";\n",
            "const char _UNKNOWN_[] = \"_unknown_\";\n",
            "const char BACKWARD[] = \"backward\";\n",
            "const char BED[] = \"bed\";\n",
            "const char BIRD[] = \"bird\";\n",
            "const char CAT[] = \"cat\";\n",
            "const char DOG[] = \"dog\";\n",
            "const char DOWN[] = \"down\";\n",
            "const char EIGHT[] = \"eight\";\n",
            "const char FIVE[] = \"five\";\n",
            "const char FOLLOW[] = \"follow\";\n",
            "const char FORWARD[] = \"forward\";\n",
            "const char FOUR[] = \"four\";\n",
            "const char GO[] = \"go\";\n",
            "const char HAPPY[] = \"happy\";\n",
            "const char HOUSE[] = \"house\";\n",
            "const char LEARN[] = \"learn\";\n",
            "const char LEFT[] = \"left\";\n",
            "const char MARVIN[] = \"marvin\";\n",
            "const char NINE[] = \"nine\";\n",
            "const char NO[] = \"no\";\n",
            "const char OFF[] = \"off\";\n",
            "const char ON[] = \"on\";\n",
            "const char ONE[] = \"one\";\n",
            "const char RIGHT[] = \"right\";\n",
            "const char SEVEN[] = \"seven\";\n",
            "const char SHEILA[] = \"sheila\";\n",
            "const char SIX[] = \"six\";\n",
            "const char STOP[] = \"stop\";\n",
            "const char THREE[] = \"three\";\n",
            "const char TREE[] = \"tree\";\n",
            "const char TWO[] = \"two\";\n",
            "const char UP[] = \"up\";\n",
            "const char VISUAL[] = \"visual\";\n",
            "const char WOW[] = \"wow\";\n",
            "const char YES[] = \"yes\";\n",
            "const char ZERO[] = \"zero\";\n"
          ]
        }
      ],
      "source": [
        "# Create constant strings\n",
        "\n",
        "for w in all_targets:\n",
        "  print(f\"const char {w.upper()}[] = \\\"{w}\\\";\")"
      ]
    },
    {
      "cell_type": "markdown",
      "metadata": {
        "id": "tuGUarmpjpDE"
      },
      "source": [
        "## Training, validation and test splits"
      ]
    },
    {
      "cell_type": "code",
      "execution_count": null,
      "metadata": {
        "id": "MQb2cAjW1RUV"
      },
      "outputs": [],
      "source": [
        "# Associate filenames with true output and shuffle\n",
        "\n",
        "filenames_y = list(zip(filenames, y))\n",
        "random.shuffle(filenames_y)\n",
        "filenames, y = zip(*filenames_y)"
      ]
    },
    {
      "cell_type": "code",
      "execution_count": null,
      "metadata": {
        "id": "ZMWrrQkPNfJV"
      },
      "outputs": [],
      "source": [
        "# Validation and test percentage\n",
        "\n",
        "val_ratio = 0.1\n",
        "test_ratio = 0.1"
      ]
    },
    {
      "cell_type": "code",
      "execution_count": null,
      "metadata": {
        "colab": {
          "base_uri": "https://localhost:8080/"
        },
        "id": "DtHMq0iX1hv1",
        "outputId": "2582f55a-4585-4895-9a9a-b5b997eba63f"
      },
      "outputs": [
        {
          "name": "stdout",
          "output_type": "stream",
          "text": [
            "Validation size 10829\n",
            "tTest set size 10829\n"
          ]
        }
      ],
      "source": [
        "# Calculate validation and test set sizes\n",
        "\n",
        "val_set_size = int(len(filenames) * val_ratio)\n",
        "test_set_size = int(len(filenames) * test_ratio)\n",
        "print(f\"Validation size {val_set_size}\\ntTest set size {test_set_size}\")"
      ]
    },
    {
      "cell_type": "code",
      "execution_count": null,
      "metadata": {
        "id": "eBDcj2YV1kOj"
      },
      "outputs": [],
      "source": [
        "# Break dataset apart into train, validation, and test sets\n",
        "\n",
        "filenames_val = filenames[:val_set_size]\n",
        "filenames_test = filenames[val_set_size:(val_set_size + test_set_size)]\n",
        "filenames_train = filenames[(val_set_size + test_set_size):]"
      ]
    },
    {
      "cell_type": "code",
      "execution_count": null,
      "metadata": {
        "id": "KZNrgVf61mQ3"
      },
      "outputs": [],
      "source": [
        "# Break y apart into train, validation, and test sets\n",
        "\n",
        "y_orig_val = y[:val_set_size]\n",
        "y_orig_test = y[val_set_size:(val_set_size + test_set_size)]\n",
        "y_orig_train = y[(val_set_size + test_set_size):]"
      ]
    },
    {
      "cell_type": "code",
      "execution_count": null,
      "metadata": {
        "id": "yXr8gX9U1oJo"
      },
      "outputs": [],
      "source": [
        "def calc_mfcc(path: str, debug: bool = False) -> np.ndarray:\n",
        "  \"\"\"Creates a matrix of MFCCs from the given input file.\n",
        "  \n",
        "  Args:\n",
        "    path: the path to the file to extract MFCCs from\n",
        "    debug: whenever to print signal shape or sampling rate\n",
        "\n",
        "  Returns:\n",
        "    An ndarray of shape (n_mffc, n_frames)\n",
        "  \"\"\"\n",
        "\n",
        "  signal, fs = librosa.load(path, sr=sample_rate)\n",
        "  if debug:\n",
        "    print(f\"DEBUG (calc_mfcc): signal shape={signal.shape}, sampling rate={fs}\")\n",
        "\n",
        "  # By default, n_fft=2048, hop_length=512\n",
        "  mfccs = librosa.feature.mfcc(signal, \n",
        "                               sr=fs, \n",
        "                               n_mfcc=num_mfcc, \n",
        "                               dct_type=2, \n",
        "                               norm='ortho', \n",
        "                               lifter=0, \n",
        "                               center=False)\n",
        "  \n",
        "  return mfccs"
      ]
    },
    {
      "cell_type": "code",
      "execution_count": null,
      "metadata": {
        "colab": {
          "base_uri": "https://localhost:8080/"
        },
        "id": "a-9nQZqLbLT9",
        "outputId": "dd0b9916-3a93-4fce-9506-536c02140765"
      },
      "outputs": [],
      "source": [
        "# TEST: Construct test set by computing MFCC of each WAV file\n",
        "\n",
        "prob_cnt = 0\n",
        "x_test = []\n",
        "y_test = []\n",
        "max_index_ = 100\n",
        "\n",
        "for index, filename in enumerate(filenames_train):\n",
        "\n",
        "    # Stop after `max_index_` iteration\n",
        "    if index >= max_index_:\n",
        "        break\n",
        "    \n",
        "    # Create path from given filename and target item\n",
        "    def calc_mfcc(path, debug=False):\n",
        "        \"\"\"Creates a matrix of MFCCs from the given input file.\n",
        "      \n",
        "        Args:\n",
        "            path: the path to the file to extract MFCCs from\n",
        "            debug: whether to print signal shape or sampling rate\n",
        "\n",
        "        Returns:\n",
        "            An ndarray of shape (n_mffc, n_frames)\n",
        "        \"\"\"\n",
        "\n",
        "        signal, fs = librosa.load(path, sr=sample_rate)\n",
        "        if debug:\n",
        "            print(f\"DEBUG (calc_mfcc): signal shape={signal.shape}, sampling rate={fs}\")\n",
        "\n",
        "        # By default, n_fft=2048, hop_length=512\n",
        "        # mfccs = librosa.feature.mfcc(signal, \n",
        "        #                              sr=fs, \n",
        "        #                              n_mfcc=num_mfcc, \n",
        "        #                              dct_type=2, \n",
        "        #                              norm='ortho', \n",
        "        #                              lifter=0, \n",
        "        #                              center=False)\n",
        "        mfccs = librosa.feature.mfcc(y=signal,\n",
        "                                      sr=fs, \n",
        "                                      S=None,\n",
        "                                      n_mfcc=num_mfcc, \n",
        "                                      dct_type=2, \n",
        "                                      norm='ortho', \n",
        "                                      lifter=0, \n",
        "                                      center=False)\n",
        "        return mfccs\n"
      ]
    },
    {
      "cell_type": "code",
      "execution_count": null,
      "metadata": {
        "colab": {
          "base_uri": "https://localhost:8080/"
        },
        "id": "Z9uuGpx9bNF3",
        "outputId": "b8c2aca6-af51-40a2-8e38-498665cb9f50"
      },
      "outputs": [
        {
          "name": "stdout",
          "output_type": "stream",
          "text": [
            "% of problematic samples: 0.0\n"
          ]
        }
      ],
      "source": [
        "print('% of problematic samples:', prob_cnt / max_index_)"
      ]
    },
    {
      "cell_type": "code",
      "execution_count": null,
      "metadata": {
        "colab": {
          "base_uri": "https://localhost:8080/",
          "height": 1000
        },
        "id": "pvBLt7d61vJQ",
        "outputId": "54a0348d-10fa-4e3c-88df-57a5bc974a38"
      },
      "outputs": [
        {
          "name": "stdout",
          "output_type": "stream",
          "text": [
            "DEBUG (calc_mfcc): signal shape=(16000,), sampling rate=16000\n",
            "MFCCs: [[-5.39363708e+02 -5.39439331e+02 -5.39626709e+02 -4.96961761e+02\n",
            "  -3.81122620e+02 -3.70465210e+02 -4.46093140e+02 -5.23887695e+02\n",
            "  -5.08169800e+02 -3.73457581e+02 -3.02338898e+02 -2.88350220e+02\n",
            "  -2.28390305e+02 -1.20707474e+02 -9.03266068e+01 -9.30848923e+01\n",
            "  -9.95658875e+01 -1.35467896e+02 -1.64258575e+02 -1.84304337e+02\n",
            "  -1.99667526e+02 -2.19010788e+02 -2.41386734e+02 -2.71957184e+02\n",
            "  -3.24366669e+02 -3.49694305e+02 -3.69385864e+02 -4.23118805e+02]\n",
            " [ 3.59732509e-01  2.56295204e-01  0.00000000e+00 -3.20824203e+01\n",
            "  -7.70745316e+01 -7.83104095e+01 -4.25118866e+01 -1.12731924e+01\n",
            "  -2.73637657e+01  7.50822067e+01  1.22784180e+02  1.59143173e+02\n",
            "   1.85712601e+02  1.64403976e+02  1.48854370e+02  1.44401733e+02\n",
            "   1.84578186e+02  2.31784866e+02  2.44518936e+02  2.29546783e+02\n",
            "   2.11406982e+02  1.91632385e+02  1.84416962e+02  1.86700012e+02\n",
            "   1.70433594e+02  1.48625244e+02  1.26662704e+02  8.83829117e+01]\n",
            " [ 3.23687077e-01  2.30615675e-01  0.00000000e+00 -3.02272749e+00\n",
            "  -6.99873352e+01 -7.71785202e+01 -4.35702171e+01  2.78850484e+00\n",
            "   2.97689514e+01  1.16005615e+02  1.21985100e+02  9.84828262e+01\n",
            "   5.39037285e+01  1.66253319e+01 -2.01150560e+00 -2.64888401e+01\n",
            "  -4.13136978e+01 -5.57647705e+01 -6.29467354e+01 -6.33923302e+01\n",
            "  -6.43538284e+01 -5.60217972e+01 -3.77342911e+01 -1.62213192e+01\n",
            "   6.27113819e+00  6.52783489e+00 -7.09529686e+00 -1.19356737e+01]\n",
            " [ 2.66264617e-01  1.89703032e-01  0.00000000e+00  1.26361847e+01\n",
            "   2.73848000e+01  2.73658600e+01  1.99104023e+01  6.63625765e+00\n",
            "  -5.48188305e+00  1.47875786e+01  6.08826351e+00 -1.22375622e+01\n",
            "  -1.07720127e+01 -6.50159121e+00 -8.28670311e+00 -1.62075443e+01\n",
            "  -2.55390587e+01 -3.11561089e+01 -3.69212990e+01 -3.86280518e+01\n",
            "  -2.76276798e+01 -6.67458534e+00  6.35172367e+00  1.90045595e+00\n",
            "   4.12504244e+00  1.07225001e+00 -1.65598602e+01 -3.28059540e+01]\n",
            " [ 1.91254854e-01  1.36262447e-01  0.00000000e+00 -2.95734005e+01\n",
            "  -3.34204712e+01 -3.05489082e+01 -1.60867519e+01 -8.21354294e+00\n",
            "   2.43552089e-01 -2.38707008e+01 -6.47292480e+01 -8.07035980e+01\n",
            "  -8.88556976e+01 -8.49759674e+01 -8.25852356e+01 -7.59006653e+01\n",
            "  -5.66924896e+01 -2.96742077e+01 -2.26911430e+01 -2.58610764e+01\n",
            "  -2.06623459e+01 -1.64196377e+01 -1.42617741e+01 -5.76380491e+00\n",
            "   8.09714413e+00 -6.23536289e-01 -1.62097282e+01 -2.38772163e+01]\n",
            " [ 1.03614300e-01  7.38210902e-02  0.00000000e+00  3.41702728e+01\n",
            "   6.89249115e+01  7.02640991e+01  4.32501488e+01  1.32980442e+01\n",
            "   1.63379173e+01  1.64143257e+01  2.51378288e+01  2.88599091e+01\n",
            "   2.44395065e+01  1.73961868e+01  1.22419052e+01  1.83465636e+00\n",
            "  -1.46524258e+01 -2.40921326e+01 -2.81714211e+01 -2.35173702e+01\n",
            "  -1.95857773e+01 -1.75875778e+01 -2.48882198e+01 -2.45905914e+01\n",
            "  -2.05004063e+01 -1.03641806e+01 -7.05956459e+00 -1.36427999e-01]\n",
            " [ 9.12968814e-03  6.50469959e-03  0.00000000e+00 -8.07785034e+00\n",
            "  -1.41503305e+01 -1.47014847e+01 -1.27457590e+01 -1.03123322e+01\n",
            "  -1.71544647e+01 -2.99560452e+01 -1.76436577e+01 -1.31954441e+01\n",
            "  -1.53864908e+01 -2.34589233e+01 -2.30473709e+01 -2.09114914e+01\n",
            "  -2.22234840e+01 -2.05542297e+01 -8.18036652e+00 -4.99485397e+00\n",
            "  -4.40037298e+00  5.71036935e-01 -3.03711724e+00 -8.95356369e+00\n",
            "  -1.45022793e+01 -8.61358356e+00 -5.22436619e+00  8.31749201e-01]\n",
            " [-8.59577507e-02 -6.12414926e-02  0.00000000e+00 -2.68408626e-01\n",
            "   1.14123642e+00  2.98989797e+00  1.52365255e+00  6.91502953e+00\n",
            "   1.83267517e+01  9.54250908e+00  9.39582253e+00  5.34648418e+00\n",
            "  -1.30668888e+01 -5.78585911e+00 -2.49975395e+00 -3.17445898e+00\n",
            "  -1.14933624e+01 -2.37989998e+01 -3.34694290e+01 -3.82977753e+01\n",
            "  -4.55004539e+01 -4.20813293e+01 -3.45133247e+01 -2.68234062e+01\n",
            "  -1.94486885e+01 -2.75308533e+01 -3.11439056e+01 -2.23328400e+01]\n",
            " [-1.75367653e-01 -1.24941684e-01  0.00000000e+00 -8.08154678e+00\n",
            "  -2.64535732e+01 -2.70613041e+01 -1.49157429e+01  1.58088076e+00\n",
            "  -1.25693846e+01 -2.29831619e+01 -2.15974541e+01 -2.39812908e+01\n",
            "  -3.09610481e+01 -4.10339355e+01 -3.81336365e+01 -3.59403381e+01\n",
            "  -3.84576187e+01 -3.04956245e+01 -2.15625496e+01 -2.18557453e+01\n",
            "  -2.87172337e+01 -2.55813599e+01 -2.20256233e+01 -2.58480930e+01\n",
            "  -2.84021225e+01 -1.16230869e+01 -4.46547651e+00 -4.51760674e+00]\n",
            " [-2.53195733e-01 -1.80391937e-01  0.00000000e+00 -6.35180664e+00\n",
            "  -7.42219639e+00 -7.75998878e+00 -9.35132790e+00 -8.44448185e+00\n",
            "   2.86300945e+00 -1.65523586e+01 -2.33512650e+01 -2.55958443e+01\n",
            "  -3.09328232e+01 -2.12653446e+01 -1.06541214e+01 -3.94702291e+00\n",
            "  -4.64515114e+00 -5.53850985e+00 -9.92811859e-01  4.02185619e-01\n",
            "  -2.62857056e+00 -4.53020763e+00 -7.49483395e+00 -7.31278133e+00\n",
            "  -2.71847820e+00  1.24420156e+01  1.44908943e+01  8.13173103e+00]\n",
            " [-3.14299911e-01 -2.23927513e-01  0.00000000e+00  1.80219994e+01\n",
            "   2.15753460e+01  2.10229912e+01  2.45978546e+01  1.03483219e+01\n",
            "   3.83346736e-01 -1.06577206e+01 -2.00267601e+01 -1.52240601e+01\n",
            "  -3.35408735e+00 -2.08681965e+00  7.01528668e-01 -3.53665471e+00\n",
            "  -1.56739368e+01 -1.10822411e+01 -8.73344231e+00 -8.41909981e+00\n",
            "  -4.48806095e+00 -2.27835989e+00 -6.16494560e+00 -1.87529933e+00\n",
            "   3.87964559e+00 -1.17520657e+01 -1.66098270e+01 -9.92020988e+00]\n",
            " [-3.54646891e-01 -2.52671897e-01  0.00000000e+00 -1.02362041e+01\n",
            "  -3.62516379e+00 -3.36409712e+00 -6.63861752e+00 -7.08542109e+00\n",
            "  -1.15296707e+01 -1.56952381e+00  1.36051130e+00 -4.92198181e+00\n",
            "  -1.55670471e+01  2.49116945e+00  1.64005470e+01  2.47522469e+01\n",
            "   2.42019653e+01  1.52123737e+01  9.87270927e+00  4.39824867e+00\n",
            "   3.98936939e+00  3.59407997e+00 -1.43966508e+00 -7.79479265e+00\n",
            "  -1.83511696e+01 -1.59717197e+01 -5.40176773e+00 -2.95691919e+00]\n",
            " [-3.71568799e-01 -2.64729679e-01  0.00000000e+00  1.22132521e+01\n",
            "   1.82536354e+01  1.64732380e+01  8.47217751e+00  1.76006544e+00\n",
            "   4.81150055e+00  1.21148281e+01  9.37088203e+00  1.75069141e+00\n",
            "   8.19874382e+00  6.34693050e+00  2.46416593e+00  5.54165936e+00\n",
            "   1.27172928e+01  1.87023449e+01  1.38655872e+01  4.98292732e+00\n",
            "  -7.16068268e+00 -1.92921181e+01 -2.31062775e+01 -2.01271973e+01\n",
            "  -1.32974863e+01  3.33847016e-01  5.89141846e+00 -4.34578085e+00]\n",
            " [-3.63951564e-01 -2.59301096e-01  0.00000000e+00 -1.13912811e+01\n",
            "  -1.73006687e+01 -1.69435215e+01 -1.76526375e+01 -3.20380068e+00\n",
            "  -1.22346525e+01  8.77329051e-01 -4.75000286e+00 -8.74602890e+00\n",
            "   9.41493213e-01  3.43801498e+00  5.61366892e+00  6.60178781e-01\n",
            "  -6.58008862e+00 -6.65597343e+00 -2.38823032e+00 -1.36882198e+00\n",
            "  -2.41170907e+00 -5.39245701e+00 -7.35455227e+00 -3.53995681e+00\n",
            "   2.01295757e+00 -9.85399437e+00 -1.84229012e+01 -1.98282490e+01]\n",
            " [-3.32294494e-01 -2.36748233e-01  0.00000000e+00 -8.64190674e+00\n",
            "  -9.23506069e+00 -7.52287722e+00 -3.85315704e+00 -2.65797663e+00\n",
            "  -1.10710740e+00  4.58858538e+00  4.14398098e+00  5.73497677e+00\n",
            "  -2.36860442e+00 -3.31662607e+00 -3.22870088e+00 -1.72071886e+00\n",
            "  -7.47957039e+00 -1.25374699e+01 -1.46330881e+01 -1.35718250e+01\n",
            "  -5.36887980e+00  2.56528950e+00  4.18046474e+00  3.31372499e+00\n",
            "  -6.42453671e+00 -9.27165985e+00 -7.43965149e+00 -3.62996101e+00]\n",
            " [-2.78692096e-01 -1.98557109e-01  0.00000000e+00  1.47058163e+01\n",
            "   7.89646626e+00  6.74686623e+00  1.08259964e+01  5.55730295e+00\n",
            "  -3.66018844e+00 -2.99912405e+00 -3.98052406e+00 -4.72926426e+00\n",
            "  -4.75710869e+00 -9.46281433e+00 -1.24048223e+01 -8.11746311e+00\n",
            "  -2.26581764e+00 -3.22853756e+00 -9.16989517e+00 -1.55520039e+01\n",
            "  -1.85064297e+01 -1.44871769e+01 -1.15795622e+01 -9.77428913e+00\n",
            "  -7.45498848e+00  2.65617108e+00  7.52112293e+00  5.77122116e+00]]\n",
            "learn\n"
          ]
        },
        {
          "data": {
            "text/html": [
              "\n",
              "                    <audio controls>\n",
              "                        <source src=\"data:audio/mpeg;base64,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\" type=\"audio/mpeg\"/>\n",
              "                        Your browser does not support the audio element.\n",
              "                    </audio>\n",
              "                  "
            ],
            "text/plain": [
              "<pydub.audio_segment.AudioSegment at 0x318b2a0f0>"
            ]
          },
          "execution_count": 64,
          "metadata": {},
          "output_type": "execute_result"
        },
        {
          "data": {
            "image/png": "[encoded data removed]",
            "text/plain": [
              "<Figure size 640x480 with 1 Axes>"
            ]
          },
          "metadata": {},
          "output_type": "display_data"
        }
      ],
      "source": [
        "# TEST: Test shorter MFCC\n",
        "\n",
        "idx = 41\n",
        "\n",
        "# Create path from given filename and target item\n",
        "path = join(dataset_path, \n",
        "            target_list[int(y_orig_train[idx])], \n",
        "            filenames_train[idx])\n",
        "\n",
        "# Create MFCCs\n",
        "mfccs = calc_mfcc(path, debug=True)\n",
        "print(\"MFCCs:\", mfccs)\n",
        "\n",
        "# Plot MFCC\n",
        "fig = plt.figure()\n",
        "plt.imshow(mfccs, cmap='inferno', origin='lower')\n",
        "\n",
        "# Play wav file\n",
        "print(target_list[int(y_orig_train[idx])])\n",
        "AudioSegment.from_file(path, format=\"wav\")"
      ]
    },
    {
      "cell_type": "code",
      "execution_count": null,
      "metadata": {
        "id": "Hha1YUIbC42x"
      },
      "outputs": [],
      "source": [
        "def to_word(out_value):\n",
        "    \"\"\"Converts the outuput value of the model to the corresponding word.\"\"\"\n",
        "\n",
        "    return target_list[int(out_value)]"
      ]
    },
    {
      "cell_type": "code",
      "execution_count": null,
      "metadata": {
        "id": "_SkfEAn11xdB"
      },
      "outputs": [],
      "source": [
        "def extract_features(in_files: T.List[str], \n",
        "                     in_y: T.List[float]) -> T.List[np.ndarray]:\n",
        "    \"\"\"Computes a dataset of MFCC from the given input files, and associate them\n",
        "    with the ground truth values.\n",
        "    \n",
        "    If the size of sample frames is less than the target one, then the sample \n",
        "    will be discarded.\n",
        "\n",
        "    Args:\n",
        "      in_files: list of wav files\n",
        "      in_y: the ground truth values of the files in `in_files`\n",
        "\n",
        "    Returns:\n",
        "      A list of np.ndarray containing the MFCCs extracted from `in_files`\n",
        "    \"\"\"\n",
        "\n",
        "    prob_cnt = 0\n",
        "    out_x = []\n",
        "    out_y = []\n",
        "        \n",
        "    for index, filename in tqdm(enumerate(in_files), total=len(in_files)):\n",
        "      \n",
        "        # Create path from given filename and target item\n",
        "        path = join(dataset_path,\n",
        "                    target_list[int(in_y[index])], \n",
        "                    filename)\n",
        "        \n",
        "        # Check to make sure we're reading a .wav file\n",
        "        if not path.endswith('.wav'):\n",
        "            continue\n",
        "\n",
        "        # Create MFCCs\n",
        "        mfccs = calc_mfcc(path)\n",
        "\n",
        "        # Only keep MFCCs with the correct number of frames\n",
        "        if mfccs.shape[1] == len_mfcc:\n",
        "            out_x.append(mfccs)\n",
        "            out_y.append(in_y[index])\n",
        "        else: \n",
        "            prob_cnt += 1\n",
        "            \n",
        "    return out_x, out_y, prob_cnt"
      ]
    },
    {
      "cell_type": "code",
      "execution_count": null,
      "metadata": {
        "colab": {
          "base_uri": "https://localhost:8080/"
        },
        "id": "7Jj0SqmP1zyz",
        "outputId": "6d91036a-c7e7-41c8-e543-ce2a5e9f69fd"
      },
      "outputs": [
        {
          "name": "stderr",
          "output_type": "stream",
          "text": [
            "  0%|          | 1/86638 [00:00<4:11:18,  5.75it/s]0.01s - Debugger warning: It seems that frozen modules are being used, which may\n",
            "0.00s - make the debugger miss breakpoints. Please pass -Xfrozen_modules=off\n",
            "0.00s - to python to disable frozen modules.\n",
            "0.00s - Note: Debugging will proceed. Set PYDEVD_DISABLE_FILE_VALIDATION=1 to disable this validation.\n",
            "100%|██████████| 86638/86638 [24:19<00:00, 59.35it/s]  \n"
          ]
        },
        {
          "name": "stdout",
          "output_type": "stream",
          "text": [
            "Removed percentage: 0.09610101802904038\n"
          ]
        },
        {
          "name": "stderr",
          "output_type": "stream",
          "text": [
            "100%|██████████| 10829/10829 [02:47<00:00, 64.73it/s] \n"
          ]
        },
        {
          "name": "stdout",
          "output_type": "stream",
          "text": [
            "Removed percentage: 0.09853172038045988\n"
          ]
        },
        {
          "name": "stderr",
          "output_type": "stream",
          "text": [
            "100%|██████████| 10829/10829 [02:27<00:00, 73.27it/s]"
          ]
        },
        {
          "name": "stdout",
          "output_type": "stream",
          "text": [
            "Removed percentage: 0.0952996583248684\n"
          ]
        },
        {
          "name": "stderr",
          "output_type": "stream",
          "text": [
            "\n"
          ]
        }
      ],
      "source": [
        "# Create train, validation, and test sets\n",
        "\n",
        "x_train, y_train, prob = extract_features(filenames_train, \n",
        "                                          y_orig_train)\n",
        "print('Removed percentage:', prob / len(y_orig_train))\n",
        "\n",
        "x_val, y_val, prob = extract_features(filenames_val, y_orig_val)\n",
        "print('Removed percentage:', prob / len(y_orig_val))\n",
        "\n",
        "x_test, y_test, prob = extract_features(filenames_test, y_orig_test)\n",
        "print('Removed percentage:', prob / len(y_orig_test))"
      ]
    },
    {
      "cell_type": "code",
      "execution_count": null,
      "metadata": {
        "id": "n2d7XX9WBEhB"
      },
      "outputs": [],
      "source": [
        "# Save features and truth vector (y) sets to disk\n",
        "\n",
        "np.savez(feature_sets_file, \n",
        "         x_train=x_train, \n",
        "         y_train=y_train, \n",
        "         x_val=x_val, \n",
        "         y_val=y_val, \n",
        "         x_test=x_test, \n",
        "         y_test=y_test)"
      ]
    },
    {
      "cell_type": "markdown",
      "metadata": {
        "id": "PnEChVNKY84K"
      },
      "source": [
        "# Create the model"
      ]
    },
    {
      "cell_type": "markdown",
      "metadata": {
        "id": "37iPMdz0kZaq"
      },
      "source": [
        "## Load dataset back"
      ]
    },
    {
      "cell_type": "code",
      "execution_count": null,
      "metadata": {
        "colab": {
          "base_uri": "https://localhost:8080/"
        },
        "id": "tiUxt5CW13cs",
        "outputId": "fc22ead7-427f-4e43-8078-e474e9332559"
      },
      "outputs": [
        {
          "data": {
            "text/plain": [
              "['x_train', 'y_train', 'x_val', 'y_val', 'x_test', 'y_test']"
            ]
          },
          "execution_count": 69,
          "metadata": {},
          "output_type": "execute_result"
        }
      ],
      "source": [
        "# Load features\n",
        "\n",
        "feature_sets = np.load(feature_sets_file)\n",
        "feature_sets.files"
      ]
    },
    {
      "cell_type": "code",
      "execution_count": null,
      "metadata": {
        "id": "v5LTEeLI2LhJ"
      },
      "outputs": [],
      "source": [
        "# Assign feature sets\n",
        "\n",
        "x_train = feature_sets['x_train']\n",
        "y_train = feature_sets['y_train']\n",
        "x_val = feature_sets['x_val']\n",
        "y_val = feature_sets['y_val']\n",
        "x_test = feature_sets['x_test']\n",
        "y_test = feature_sets['y_test']"
      ]
    },
    {
      "cell_type": "code",
      "execution_count": null,
      "metadata": {
        "colab": {
          "base_uri": "https://localhost:8080/"
        },
        "id": "spXEP7Bz4KkB",
        "outputId": "f49bfbb0-be88-44a5-b142-fa368fd69fd2"
      },
      "outputs": [
        {
          "name": "stdout",
          "output_type": "stream",
          "text": [
            "X shape: (88073, 16, 28), y shape: (88073,)\n"
          ]
        }
      ],
      "source": [
        "# Concatenate training and validation sets, since they will be splitted in\n",
        "# stratified manner in the next steps\n",
        "\n",
        "X = np.concatenate((x_train, x_val))\n",
        "y = np.concatenate((y_train, y_val))\n",
        "\n",
        "print(f\"X shape: {X.shape}, y shape: {y.shape}\")"
      ]
    },
    {
      "cell_type": "code",
      "execution_count": null,
      "metadata": {
        "colab": {
          "base_uri": "https://localhost:8080/"
        },
        "id": "A24dbEDdOlqE",
        "outputId": "d8fab765-5b9b-4597-a741-5f3ea905f78c"
      },
      "outputs": [
        {
          "data": {
            "text/plain": [
              "38"
            ]
          },
          "execution_count": 72,
          "metadata": {},
          "output_type": "execute_result"
        }
      ],
      "source": [
        "# Number of unique labels. When the whole dataset is loaded, it should be 38.\n",
        "\n",
        "n_labels = np.max([len(np.unique(y_test)), \n",
        "                   len(np.unique(y))])\n",
        "\n",
        "n_labels"
      ]
    },
    {
      "cell_type": "code",
      "execution_count": null,
      "metadata": {
        "id": "aHXFpAhh9riv"
      },
      "outputs": [],
      "source": [
        "# Settings\n",
        "\n",
        "model_filename = 'speech-commands-model.h5'\n",
        "keras_model_filename = 'speech-commands-model.h5'\n",
        "tflite_filename = 'speech-commands-model.tflite'"
      ]
    },
    {
      "cell_type": "code",
      "execution_count": null,
      "metadata": {
        "colab": {
          "base_uri": "https://localhost:8080/"
        },
        "id": "sziKLpyV2aRF",
        "outputId": "6cd9ca79-4a8a-412f-bed7-00a32519359c"
      },
      "outputs": [
        {
          "name": "stdout",
          "output_type": "stream",
          "text": [
            "(9797, 16, 28, 1)\n",
            "(88073, 16, 28, 1)\n"
          ]
        }
      ],
      "source": [
        "# CNN for TF expects (batch, height, width, channels)\n",
        "# So we reshape the input tensors with a \"color\" channel of 1\n",
        "\n",
        "x_test = x_test.reshape(x_test.shape[0], \n",
        "                        x_test.shape[1], \n",
        "                        x_test.shape[2], \n",
        "                        1)\n",
        "\n",
        "X = X.reshape(X.shape[0], \n",
        "              X.shape[1], \n",
        "              X.shape[2], \n",
        "              1)\n",
        "\n",
        "print(x_test.shape)\n",
        "print(X.shape)"
      ]
    },
    {
      "cell_type": "code",
      "execution_count": null,
      "metadata": {
        "colab": {
          "base_uri": "https://localhost:8080/"
        },
        "id": "2Duh8HLz2f5P",
        "outputId": "c66f44ad-5fb4-4d67-cf38-2403ad041ca8"
      },
      "outputs": [
        {
          "name": "stdout",
          "output_type": "stream",
          "text": [
            "(16, 28, 1)\n"
          ]
        }
      ],
      "source": [
        "# Input shape for CNN is size of MFCC of 1 sample\n",
        "\n",
        "input_shape = X.shape[1:]\n",
        "print(input_shape)"
      ]
    },
    {
      "cell_type": "markdown",
      "metadata": {
        "id": "08jkNIrukgmD"
      },
      "source": [
        "## Define the model"
      ]
    },
    {
      "cell_type": "code",
      "execution_count": null,
      "metadata": {
        "id": "R0eI_3q6-H7H"
      },
      "outputs": [],
      "source": [
        "from tensorflow.keras import layers, models, regularizers"
      ]
    },
    {
      "cell_type": "code",
      "execution_count": null,
      "metadata": {
        "id": "5TR19Jvol42h"
      },
      "outputs": [],
      "source": [
        "def create_model(verbose: int =0):\n",
        "  \"\"\"Creates and build a CNN model.\n",
        "\n",
        "  Args:\n",
        "    verbose: the verbosity of the output\n",
        "\n",
        "  Returns:\n",
        "    the CNN model already complied.\n",
        "  \"\"\"\n",
        "  # build network\n",
        "  model = models.Sequential()\n",
        "\n",
        "  # conv layer 1\n",
        "  model.add(layers.Conv2D(8,\n",
        "                          (3, 3), \n",
        "                          activation=\"relu\", \n",
        "                          input_shape=input_shape))\n",
        "  # conv layer 2\n",
        "  model.add(layers.Conv2D(8,\n",
        "                          (3, 3), \n",
        "                          activation=\"relu\"))\n",
        "  model.add(layers.MaxPool2D((2,2)))\n",
        "  model.add(layers.Dropout(0.1))\n",
        "\n",
        "  model.add(layers.Flatten())\n",
        "\n",
        "  model.add(layers.Dense(64))\n",
        "  model.add(layers.Dropout(0.16))\n",
        "  model.add(layers.Activation(\"relu\"))\n",
        "\n",
        "  model.add(layers.Dense(64))\n",
        "  model.add(layers.Dropout(0.12))\n",
        "  model.add(layers.Activation(\"relu\"))\n",
        "\n",
        "  #softmax classifier\n",
        "  model.add(layers.Dense(n_labels))\n",
        "  model.add(layers.Activation(\"softmax\"))\n",
        "\n",
        "  #compile model\n",
        "  model.compile(\n",
        "      optimizer=tf.keras.optimizers.Adam(), \n",
        "      loss=tf.keras.losses.SparseCategoricalCrossentropy(), \n",
        "      metrics=[\"accuracy\"],\n",
        "  ) \n",
        "\n",
        "  if verbose > 0:\n",
        "    model.summary()\n",
        "\n",
        "  return model"
      ]
    },
    {
      "cell_type": "markdown",
      "metadata": {
        "id": "R7sIs5ySxXSq"
      },
      "source": [
        "## Cross Validation"
      ]
    },
    {
      "cell_type": "code",
      "execution_count": null,
      "metadata": {
        "id": "PmAB8isB5l6o"
      },
      "outputs": [],
      "source": [
        "def cross_validate(\n",
        "    model_fn: T.Callable[[int], models.Model], \n",
        "    X: np.ndarray, \n",
        "    y: np.ndarray,\n",
        "    n_splits: int = 5,\n",
        "    batch_size: int = 100,\n",
        "    epochs: int = 40,\n",
        "    verbose: int = 0,\n",
        ") -> T.Tuple[T.List[float], T.List[T.Dict]]:\n",
        "  \"\"\"Computes the cross validation of the input model.\n",
        "\n",
        "  By default, it will split the input dataset in a stratified manner.\n",
        "\n",
        "  `model_fn` should be a function that returns a keras Model, with a single \n",
        "  input parameter which specifies the verbosity.\n",
        "\n",
        "  Args:\n",
        "    model_fn: a function to create a Keras model\n",
        "    X: training set\n",
        "    y: labels for the training set\n",
        "    n_splits: the number of folds for the stratified cross validation\n",
        "    batch_size: the size of the batch during training\n",
        "    epochs: the number of epochs to train the model\n",
        "    verbose: the levl of verbosity\n",
        "\n",
        "  Returns:\n",
        "    A tuple with values (accuracy scores, metric histories) obtained during the\n",
        "    different trainings in the folds.\n",
        "  \"\"\"\n",
        "  \n",
        "  # Hold the history of each model trained during different folds\n",
        "  histories = []\n",
        "\n",
        "  # Maximum accuracy scored during the training in each fold\n",
        "  accuracy_scores = []\n",
        "\n",
        "  # Prevent multiple printing of the model summary\n",
        "  print_model = 1\n",
        "\n",
        "  # Stratified splitter\n",
        "  skf = StratifiedKFold(n_splits=n_splits)\n",
        "\n",
        "  for fold, (train_idx, test_idx) in tqdm(\n",
        "      enumerate(skf.split(X, y)), \n",
        "      total=skf.get_n_splits(),\n",
        "  ):\n",
        "\n",
        "    # Get training and test sets from the split\n",
        "    X_train_, X_test_ = X[train_idx], X[test_idx]\n",
        "    y_train_, y_test_ = y[train_idx], y[test_idx]\n",
        "\n",
        "    # Create a fresh model\n",
        "    model = model_fn(print_model)\n",
        "    \n",
        "    print_model=0\n",
        "\n",
        "    # Train the model\n",
        "\n",
        "    history = model.fit(X_train_,\n",
        "                        y_train_,\n",
        "                        batch_size=batch_size,\n",
        "                        epochs=epochs,\n",
        "                        validation_data=(X_test_, y_test_),\n",
        "                        verbose=verbose,\n",
        "                        callbacks=[tf.keras.callbacks.EarlyStopping(\n",
        "                          monitor='val_accuracy',\n",
        "                          patience=5,\n",
        "                          min_delta=0.001,\n",
        "                          mode='max',\n",
        "                          restore_best_weights=True\n",
        "                        )])\n",
        "\n",
        "\n",
        "    # Save metrics \n",
        "\n",
        "    histories.append(history.history)\n",
        "    accuracy_scores.append(np.max(history.history['val_accuracy']))\n",
        "    print(f\"Max validation accuracy for fold {fold}: \"\n",
        "          f\"{np.max(history.history['val_accuracy'])}\")\n",
        "\n",
        "  return (accuracy_scores, histories)\n"
      ]
    },
    {
      "cell_type": "code",
      "execution_count": null,
      "metadata": {
        "id": "YZi3cgse2pAD"
      },
      "outputs": [],
      "source": [
        "def plot_metrics(history: T.Dict):\n",
        "  \"\"\"Plots the training history.\n",
        "\n",
        "  The input should be the dictionary inside the History object returned by the \n",
        "  fit method of Tensorflow.\n",
        "\n",
        "  Args: \n",
        "    history: dictionary of the history metrics of the trained model\n",
        "\n",
        "  Returns:\n",
        "    None\n",
        "  \"\"\"\n",
        "  \n",
        "  acc = history['accuracy']\n",
        "  loss = history['loss']\n",
        "  val_acc = history['val_accuracy']\n",
        "  val_loss = history['val_loss']\n",
        "\n",
        "  epochs = range(1, len(acc) + 1)\n",
        "\n",
        "  plt.plot(epochs, acc, 'r', label='Training acc')\n",
        "  plt.plot(epochs, val_acc, 'b', label='Validation acc')\n",
        "  plt.title('Training and validation accuracy')\n",
        "  plt.legend()\n",
        "\n",
        "  plt.figure()\n",
        "\n",
        "  plt.plot(epochs, loss, 'r', label='Training loss')\n",
        "  plt.plot(epochs, val_loss, 'b', label='Validation loss')\n",
        "  plt.title('Training and validation loss')\n",
        "  plt.legend()\n",
        "\n",
        "  plt.show()"
      ]
    },
    {
      "cell_type": "code",
      "execution_count": null,
      "metadata": {
        "colab": {
          "base_uri": "https://localhost:8080/"
        },
        "id": "iawW2w58EkNZ",
        "outputId": "0070c308-9d13-425a-ed1c-9fd65ed92cd5"
      },
      "outputs": [
        {
          "name": "stderr",
          "output_type": "stream",
          "text": [
            "  0%|          | 0/5 [00:00<?, ?it/s]/Users/klaashofman/Development/Rimshot/sandbox/stm32/stm32-speech-recognition-and-traduction/.venv/lib/python3.12/site-packages/keras/src/layers/convolutional/base_conv.py:107: UserWarning: Do not pass an `input_shape`/`input_dim` argument to a layer. When using Sequential models, prefer using an `Input(shape)` object as the first layer in the model instead.\n",
            "  super().__init__(activity_regularizer=activity_regularizer, **kwargs)\n"
          ]
        },
        {
          "data": {
            "text/html": [
              "<pre style=\"white-space:pre;overflow-x:auto;line-height:normal;font-family:Menlo,'DejaVu Sans Mono',consolas,'Courier New',monospace\"><span style=\"font-weight: bold\">Model: \"sequential\"</span>\n",
              "</pre>\n"
            ],
            "text/plain": [
              "\u001b[1mModel: \"sequential\"\u001b[0m\n"
            ]
          },
          "metadata": {},
          "output_type": "display_data"
        },
        {
          "data": {
            "text/html": [
              "<pre style=\"white-space:pre;overflow-x:auto;line-height:normal;font-family:Menlo,'DejaVu Sans Mono',consolas,'Courier New',monospace\">┏━━━━━━━━━━━━━━━━━━━━━━━━━━━━━━━━━┳━━━━━━━━━━━━━━━━━━━━━━━━┳━━━━━━━━━━━━━━━┓\n",
              "┃<span style=\"font-weight: bold\"> Layer (type)                    </span>┃<span style=\"font-weight: bold\"> Output Shape           </span>┃<span style=\"font-weight: bold\">       Param # </span>┃\n",
              "┡━━━━━━━━━━━━━━━━━━━━━━━━━━━━━━━━━╇━━━━━━━━━━━━━━━━━━━━━━━━╇━━━━━━━━━━━━━━━┩\n",
              "│ conv2d (<span style=\"color: #0087ff; text-decoration-color: #0087ff\">Conv2D</span>)                 │ (<span style=\"color: #00d7ff; text-decoration-color: #00d7ff\">None</span>, <span style=\"color: #00af00; text-decoration-color: #00af00\">14</span>, <span style=\"color: #00af00; text-decoration-color: #00af00\">26</span>, <span style=\"color: #00af00; text-decoration-color: #00af00\">8</span>)      │            <span style=\"color: #00af00; text-decoration-color: #00af00\">80</span> │\n",
              "├─────────────────────────────────┼────────────────────────┼───────────────┤\n",
              "│ conv2d_1 (<span style=\"color: #0087ff; text-decoration-color: #0087ff\">Conv2D</span>)               │ (<span style=\"color: #00d7ff; text-decoration-color: #00d7ff\">None</span>, <span style=\"color: #00af00; text-decoration-color: #00af00\">12</span>, <span style=\"color: #00af00; text-decoration-color: #00af00\">24</span>, <span style=\"color: #00af00; text-decoration-color: #00af00\">8</span>)      │           <span style=\"color: #00af00; text-decoration-color: #00af00\">584</span> │\n",
              "├─────────────────────────────────┼────────────────────────┼───────────────┤\n",
              "│ max_pooling2d (<span style=\"color: #0087ff; text-decoration-color: #0087ff\">MaxPooling2D</span>)    │ (<span style=\"color: #00d7ff; text-decoration-color: #00d7ff\">None</span>, <span style=\"color: #00af00; text-decoration-color: #00af00\">6</span>, <span style=\"color: #00af00; text-decoration-color: #00af00\">12</span>, <span style=\"color: #00af00; text-decoration-color: #00af00\">8</span>)       │             <span style=\"color: #00af00; text-decoration-color: #00af00\">0</span> │\n",
              "├─────────────────────────────────┼────────────────────────┼───────────────┤\n",
              "│ dropout (<span style=\"color: #0087ff; text-decoration-color: #0087ff\">Dropout</span>)               │ (<span style=\"color: #00d7ff; text-decoration-color: #00d7ff\">None</span>, <span style=\"color: #00af00; text-decoration-color: #00af00\">6</span>, <span style=\"color: #00af00; text-decoration-color: #00af00\">12</span>, <span style=\"color: #00af00; text-decoration-color: #00af00\">8</span>)       │             <span style=\"color: #00af00; text-decoration-color: #00af00\">0</span> │\n",
              "├─────────────────────────────────┼────────────────────────┼───────────────┤\n",
              "│ flatten (<span style=\"color: #0087ff; text-decoration-color: #0087ff\">Flatten</span>)               │ (<span style=\"color: #00d7ff; text-decoration-color: #00d7ff\">None</span>, <span style=\"color: #00af00; text-decoration-color: #00af00\">576</span>)            │             <span style=\"color: #00af00; text-decoration-color: #00af00\">0</span> │\n",
              "├─────────────────────────────────┼────────────────────────┼───────────────┤\n",
              "│ dense (<span style=\"color: #0087ff; text-decoration-color: #0087ff\">Dense</span>)                   │ (<span style=\"color: #00d7ff; text-decoration-color: #00d7ff\">None</span>, <span style=\"color: #00af00; text-decoration-color: #00af00\">64</span>)             │        <span style=\"color: #00af00; text-decoration-color: #00af00\">36,928</span> │\n",
              "├─────────────────────────────────┼────────────────────────┼───────────────┤\n",
              "│ dropout_1 (<span style=\"color: #0087ff; text-decoration-color: #0087ff\">Dropout</span>)             │ (<span style=\"color: #00d7ff; text-decoration-color: #00d7ff\">None</span>, <span style=\"color: #00af00; text-decoration-color: #00af00\">64</span>)             │             <span style=\"color: #00af00; text-decoration-color: #00af00\">0</span> │\n",
              "├─────────────────────────────────┼────────────────────────┼───────────────┤\n",
              "│ activation (<span style=\"color: #0087ff; text-decoration-color: #0087ff\">Activation</span>)         │ (<span style=\"color: #00d7ff; text-decoration-color: #00d7ff\">None</span>, <span style=\"color: #00af00; text-decoration-color: #00af00\">64</span>)             │             <span style=\"color: #00af00; text-decoration-color: #00af00\">0</span> │\n",
              "├─────────────────────────────────┼────────────────────────┼───────────────┤\n",
              "│ dense_1 (<span style=\"color: #0087ff; text-decoration-color: #0087ff\">Dense</span>)                 │ (<span style=\"color: #00d7ff; text-decoration-color: #00d7ff\">None</span>, <span style=\"color: #00af00; text-decoration-color: #00af00\">64</span>)             │         <span style=\"color: #00af00; text-decoration-color: #00af00\">4,160</span> │\n",
              "├─────────────────────────────────┼────────────────────────┼───────────────┤\n",
              "│ dropout_2 (<span style=\"color: #0087ff; text-decoration-color: #0087ff\">Dropout</span>)             │ (<span style=\"color: #00d7ff; text-decoration-color: #00d7ff\">None</span>, <span style=\"color: #00af00; text-decoration-color: #00af00\">64</span>)             │             <span style=\"color: #00af00; text-decoration-color: #00af00\">0</span> │\n",
              "├─────────────────────────────────┼────────────────────────┼───────────────┤\n",
              "│ activation_1 (<span style=\"color: #0087ff; text-decoration-color: #0087ff\">Activation</span>)       │ (<span style=\"color: #00d7ff; text-decoration-color: #00d7ff\">None</span>, <span style=\"color: #00af00; text-decoration-color: #00af00\">64</span>)             │             <span style=\"color: #00af00; text-decoration-color: #00af00\">0</span> │\n",
              "├─────────────────────────────────┼────────────────────────┼───────────────┤\n",
              "│ dense_2 (<span style=\"color: #0087ff; text-decoration-color: #0087ff\">Dense</span>)                 │ (<span style=\"color: #00d7ff; text-decoration-color: #00d7ff\">None</span>, <span style=\"color: #00af00; text-decoration-color: #00af00\">38</span>)             │         <span style=\"color: #00af00; text-decoration-color: #00af00\">2,470</span> │\n",
              "├─────────────────────────────────┼────────────────────────┼───────────────┤\n",
              "│ activation_2 (<span style=\"color: #0087ff; text-decoration-color: #0087ff\">Activation</span>)       │ (<span style=\"color: #00d7ff; text-decoration-color: #00d7ff\">None</span>, <span style=\"color: #00af00; text-decoration-color: #00af00\">38</span>)             │             <span style=\"color: #00af00; text-decoration-color: #00af00\">0</span> │\n",
              "└─────────────────────────────────┴────────────────────────┴───────────────┘\n",
              "</pre>\n"
            ],
            "text/plain": [
              "┏━━━━━━━━━━━━━━━━━━━━━━━━━━━━━━━━━┳━━━━━━━━━━━━━━━━━━━━━━━━┳━━━━━━━━━━━━━━━┓\n",
              "┃\u001b[1m \u001b[0m\u001b[1mLayer (type)                   \u001b[0m\u001b[1m \u001b[0m┃\u001b[1m \u001b[0m\u001b[1mOutput Shape          \u001b[0m\u001b[1m \u001b[0m┃\u001b[1m \u001b[0m\u001b[1m      Param #\u001b[0m\u001b[1m \u001b[0m┃\n",
              "┡━━━━━━━━━━━━━━━━━━━━━━━━━━━━━━━━━╇━━━━━━━━━━━━━━━━━━━━━━━━╇━━━━━━━━━━━━━━━┩\n",
              "│ conv2d (\u001b[38;5;33mConv2D\u001b[0m)                 │ (\u001b[38;5;45mNone\u001b[0m, \u001b[38;5;34m14\u001b[0m, \u001b[38;5;34m26\u001b[0m, \u001b[38;5;34m8\u001b[0m)      │            \u001b[38;5;34m80\u001b[0m │\n",
              "├─────────────────────────────────┼────────────────────────┼───────────────┤\n",
              "│ conv2d_1 (\u001b[38;5;33mConv2D\u001b[0m)               │ (\u001b[38;5;45mNone\u001b[0m, \u001b[38;5;34m12\u001b[0m, \u001b[38;5;34m24\u001b[0m, \u001b[38;5;34m8\u001b[0m)      │           \u001b[38;5;34m584\u001b[0m │\n",
              "├─────────────────────────────────┼────────────────────────┼───────────────┤\n",
              "│ max_pooling2d (\u001b[38;5;33mMaxPooling2D\u001b[0m)    │ (\u001b[38;5;45mNone\u001b[0m, \u001b[38;5;34m6\u001b[0m, \u001b[38;5;34m12\u001b[0m, \u001b[38;5;34m8\u001b[0m)       │             \u001b[38;5;34m0\u001b[0m │\n",
              "├─────────────────────────────────┼────────────────────────┼───────────────┤\n",
              "│ dropout (\u001b[38;5;33mDropout\u001b[0m)               │ (\u001b[38;5;45mNone\u001b[0m, \u001b[38;5;34m6\u001b[0m, \u001b[38;5;34m12\u001b[0m, \u001b[38;5;34m8\u001b[0m)       │             \u001b[38;5;34m0\u001b[0m │\n",
              "├─────────────────────────────────┼────────────────────────┼───────────────┤\n",
              "│ flatten (\u001b[38;5;33mFlatten\u001b[0m)               │ (\u001b[38;5;45mNone\u001b[0m, \u001b[38;5;34m576\u001b[0m)            │             \u001b[38;5;34m0\u001b[0m │\n",
              "├─────────────────────────────────┼────────────────────────┼───────────────┤\n",
              "│ dense (\u001b[38;5;33mDense\u001b[0m)                   │ (\u001b[38;5;45mNone\u001b[0m, \u001b[38;5;34m64\u001b[0m)             │        \u001b[38;5;34m36,928\u001b[0m │\n",
              "├─────────────────────────────────┼────────────────────────┼───────────────┤\n",
              "│ dropout_1 (\u001b[38;5;33mDropout\u001b[0m)             │ (\u001b[38;5;45mNone\u001b[0m, \u001b[38;5;34m64\u001b[0m)             │             \u001b[38;5;34m0\u001b[0m │\n",
              "├─────────────────────────────────┼────────────────────────┼───────────────┤\n",
              "│ activation (\u001b[38;5;33mActivation\u001b[0m)         │ (\u001b[38;5;45mNone\u001b[0m, \u001b[38;5;34m64\u001b[0m)             │             \u001b[38;5;34m0\u001b[0m │\n",
              "├─────────────────────────────────┼────────────────────────┼───────────────┤\n",
              "│ dense_1 (\u001b[38;5;33mDense\u001b[0m)                 │ (\u001b[38;5;45mNone\u001b[0m, \u001b[38;5;34m64\u001b[0m)             │         \u001b[38;5;34m4,160\u001b[0m │\n",
              "├─────────────────────────────────┼────────────────────────┼───────────────┤\n",
              "│ dropout_2 (\u001b[38;5;33mDropout\u001b[0m)             │ (\u001b[38;5;45mNone\u001b[0m, \u001b[38;5;34m64\u001b[0m)             │             \u001b[38;5;34m0\u001b[0m │\n",
              "├─────────────────────────────────┼────────────────────────┼───────────────┤\n",
              "│ activation_1 (\u001b[38;5;33mActivation\u001b[0m)       │ (\u001b[38;5;45mNone\u001b[0m, \u001b[38;5;34m64\u001b[0m)             │             \u001b[38;5;34m0\u001b[0m │\n",
              "├─────────────────────────────────┼────────────────────────┼───────────────┤\n",
              "│ dense_2 (\u001b[38;5;33mDense\u001b[0m)                 │ (\u001b[38;5;45mNone\u001b[0m, \u001b[38;5;34m38\u001b[0m)             │         \u001b[38;5;34m2,470\u001b[0m │\n",
              "├─────────────────────────────────┼────────────────────────┼───────────────┤\n",
              "│ activation_2 (\u001b[38;5;33mActivation\u001b[0m)       │ (\u001b[38;5;45mNone\u001b[0m, \u001b[38;5;34m38\u001b[0m)             │             \u001b[38;5;34m0\u001b[0m │\n",
              "└─────────────────────────────────┴────────────────────────┴───────────────┘\n"
            ]
          },
          "metadata": {},
          "output_type": "display_data"
        },
        {
          "data": {
            "text/html": [
              "<pre style=\"white-space:pre;overflow-x:auto;line-height:normal;font-family:Menlo,'DejaVu Sans Mono',consolas,'Courier New',monospace\"><span style=\"font-weight: bold\"> Total params: </span><span style=\"color: #00af00; text-decoration-color: #00af00\">44,222</span> (172.74 KB)\n",
              "</pre>\n"
            ],
            "text/plain": [
              "\u001b[1m Total params: \u001b[0m\u001b[38;5;34m44,222\u001b[0m (172.74 KB)\n"
            ]
          },
          "metadata": {},
          "output_type": "display_data"
        },
        {
          "data": {
            "text/html": [
              "<pre style=\"white-space:pre;overflow-x:auto;line-height:normal;font-family:Menlo,'DejaVu Sans Mono',consolas,'Courier New',monospace\"><span style=\"font-weight: bold\"> Trainable params: </span><span style=\"color: #00af00; text-decoration-color: #00af00\">44,222</span> (172.74 KB)\n",
              "</pre>\n"
            ],
            "text/plain": [
              "\u001b[1m Trainable params: \u001b[0m\u001b[38;5;34m44,222\u001b[0m (172.74 KB)\n"
            ]
          },
          "metadata": {},
          "output_type": "display_data"
        },
        {
          "data": {
            "text/html": [
              "<pre style=\"white-space:pre;overflow-x:auto;line-height:normal;font-family:Menlo,'DejaVu Sans Mono',consolas,'Courier New',monospace\"><span style=\"font-weight: bold\"> Non-trainable params: </span><span style=\"color: #00af00; text-decoration-color: #00af00\">0</span> (0.00 B)\n",
              "</pre>\n"
            ],
            "text/plain": [
              "\u001b[1m Non-trainable params: \u001b[0m\u001b[38;5;34m0\u001b[0m (0.00 B)\n"
            ]
          },
          "metadata": {},
          "output_type": "display_data"
        },
        {
          "name": "stderr",
          "output_type": "stream",
          "text": [
            " 20%|██        | 1/5 [02:41<10:45, 161.48s/it]"
          ]
        },
        {
          "name": "stdout",
          "output_type": "stream",
          "text": [
            "Max validation accuracy for fold 0: 0.7775759100914001\n"
          ]
        },
        {
          "name": "stderr",
          "output_type": "stream",
          "text": [
            " 40%|████      | 2/5 [05:28<08:13, 164.56s/it]"
          ]
        },
        {
          "name": "stdout",
          "output_type": "stream",
          "text": [
            "Max validation accuracy for fold 1: 0.7921090126037598\n"
          ]
        },
        {
          "name": "stderr",
          "output_type": "stream",
          "text": [
            " 60%|██████    | 3/5 [10:35<07:39, 229.78s/it]"
          ]
        },
        {
          "name": "stdout",
          "output_type": "stream",
          "text": [
            "Max validation accuracy for fold 2: 0.7436276078224182\n"
          ]
        },
        {
          "name": "stderr",
          "output_type": "stream",
          "text": [
            " 80%|████████  | 4/5 [15:18<04:10, 250.67s/it]"
          ]
        },
        {
          "name": "stdout",
          "output_type": "stream",
          "text": [
            "Max validation accuracy for fold 3: 0.7841489911079407\n"
          ]
        },
        {
          "name": "stderr",
          "output_type": "stream",
          "text": [
            "100%|██████████| 5/5 [20:16<00:00, 243.20s/it]"
          ]
        },
        {
          "name": "stdout",
          "output_type": "stream",
          "text": [
            "Max validation accuracy for fold 4: 0.789939820766449\n"
          ]
        },
        {
          "name": "stderr",
          "output_type": "stream",
          "text": [
            "\n"
          ]
        }
      ],
      "source": [
        "# Cross validate the model\n",
        "\n",
        "acc, hist = cross_validate(create_model, \n",
        "                           X,\n",
        "                           y,\n",
        "                           epochs=100, \n",
        "                           verbose=0)"
      ]
    },
    {
      "cell_type": "code",
      "execution_count": null,
      "metadata": {
        "colab": {
          "base_uri": "https://localhost:8080/",
          "height": 562
        },
        "id": "v2QUCNyOXBqA",
        "outputId": "79097318-840b-4c19-cad3-57663b9bd05d"
      },
      "outputs": [
        {
          "name": "stdout",
          "output_type": "stream",
          "text": [
            "Mean accuracy: 0.7774802684783936, Max accuracy: 0.7921090126037598\n"
          ]
        },
        {
          "data": {
            "image/png": "[encoded data removed]",
            "text/plain": [
              "<Figure size 640x480 with 1 Axes>"
            ]
          },
          "metadata": {},
          "output_type": "display_data"
        },
        {
          "data": {
            "image/png": "[encoded data removed]",
            "text/plain": [
              "<Figure size 640x480 with 1 Axes>"
            ]
          },
          "metadata": {},
          "output_type": "display_data"
        }
      ],
      "source": [
        "mean = np.mean(acc)\n",
        "max = np.max(acc)\n",
        "max_idx = np.argmax(acc)\n",
        "print(f\"Mean accuracy: {mean}, Max accuracy: {max}\")\n",
        "plot_metrics(hist[max_idx])"
      ]
    },
    {
      "cell_type": "markdown",
      "metadata": {
        "id": "ll7Z579Skvwt"
      },
      "source": [
        "## Train the model"
      ]
    },
    {
      "cell_type": "code",
      "execution_count": null,
      "metadata": {
        "colab": {
          "base_uri": "https://localhost:8080/"
        },
        "id": "ObpPfN2N2nc5",
        "outputId": "19f808d5-24cb-4aeb-b6e5-ce56ba1b6650"
      },
      "outputs": [
        {
          "name": "stdout",
          "output_type": "stream",
          "text": [
            "Epoch 1/100\n",
            "\u001b[1m881/881\u001b[0m \u001b[32m━━━━━━━━━━━━━━━━━━━━\u001b[0m\u001b[37m\u001b[0m \u001b[1m8s\u001b[0m 8ms/step - accuracy: 0.0809 - loss: 4.0282\n",
            "Epoch 2/100\n",
            "\u001b[1m881/881\u001b[0m \u001b[32m━━━━━━━━━━━━━━━━━━━━\u001b[0m\u001b[37m\u001b[0m \u001b[1m7s\u001b[0m 7ms/step - accuracy: 0.3100 - loss: 2.4192\n",
            "Epoch 3/100\n",
            "\u001b[1m881/881\u001b[0m \u001b[32m━━━━━━━━━━━━━━━━━━━━\u001b[0m\u001b[37m\u001b[0m \u001b[1m7s\u001b[0m 8ms/step - accuracy: 0.4494 - loss: 1.8968\n",
            "Epoch 4/100\n",
            "\u001b[1m881/881\u001b[0m \u001b[32m━━━━━━━━━━━━━━━━━━━━\u001b[0m\u001b[37m\u001b[0m \u001b[1m8s\u001b[0m 9ms/step - accuracy: 0.5119 - loss: 1.6550\n",
            "Epoch 5/100\n",
            "\u001b[1m881/881\u001b[0m \u001b[32m━━━━━━━━━━━━━━━━━━━━\u001b[0m\u001b[37m\u001b[0m \u001b[1m7s\u001b[0m 8ms/step - accuracy: 0.5619 - loss: 1.4737\n",
            "Epoch 6/100\n",
            "\u001b[1m881/881\u001b[0m \u001b[32m━━━━━━━━━━━━━━━━━━━━\u001b[0m\u001b[37m\u001b[0m \u001b[1m7s\u001b[0m 8ms/step - accuracy: 0.5889 - loss: 1.3708\n",
            "Epoch 7/100\n",
            "\u001b[1m881/881\u001b[0m \u001b[32m━━━━━━━━━━━━━━━━━━━━\u001b[0m\u001b[37m\u001b[0m \u001b[1m7s\u001b[0m 8ms/step - accuracy: 0.6110 - loss: 1.2908\n",
            "Epoch 8/100\n",
            "\u001b[1m881/881\u001b[0m \u001b[32m━━━━━━━━━━━━━━━━━━━━\u001b[0m\u001b[37m\u001b[0m \u001b[1m7s\u001b[0m 8ms/step - accuracy: 0.6315 - loss: 1.2316\n",
            "Epoch 9/100\n",
            "\u001b[1m881/881\u001b[0m \u001b[32m━━━━━━━━━━━━━━━━━━━━\u001b[0m\u001b[37m\u001b[0m \u001b[1m7s\u001b[0m 8ms/step - accuracy: 0.6401 - loss: 1.1929\n",
            "Epoch 10/100\n",
            "\u001b[1m881/881\u001b[0m \u001b[32m━━━━━━━━━━━━━━━━━━━━\u001b[0m\u001b[37m\u001b[0m \u001b[1m6s\u001b[0m 7ms/step - accuracy: 0.6578 - loss: 1.1449\n",
            "Epoch 11/100\n",
            "\u001b[1m881/881\u001b[0m \u001b[32m━━━━━━━━━━━━━━━━━━━━\u001b[0m\u001b[37m\u001b[0m \u001b[1m7s\u001b[0m 7ms/step - accuracy: 0.6579 - loss: 1.1274\n",
            "Epoch 12/100\n",
            "\u001b[1m881/881\u001b[0m \u001b[32m━━━━━━━━━━━━━━━━━━━━\u001b[0m\u001b[37m\u001b[0m \u001b[1m7s\u001b[0m 8ms/step - accuracy: 0.6686 - loss: 1.0970\n",
            "Epoch 13/100\n",
            "\u001b[1m881/881\u001b[0m \u001b[32m━━━━━━━━━━━━━━━━━━━━\u001b[0m\u001b[37m\u001b[0m \u001b[1m7s\u001b[0m 8ms/step - accuracy: 0.6765 - loss: 1.0724\n",
            "Epoch 14/100\n",
            "\u001b[1m881/881\u001b[0m \u001b[32m━━━━━━━━━━━━━━━━━━━━\u001b[0m\u001b[37m\u001b[0m \u001b[1m7s\u001b[0m 8ms/step - accuracy: 0.6844 - loss: 1.0597\n",
            "Epoch 15/100\n",
            "\u001b[1m881/881\u001b[0m \u001b[32m━━━━━━━━━━━━━━━━━━━━\u001b[0m\u001b[37m\u001b[0m \u001b[1m7s\u001b[0m 7ms/step - accuracy: 0.6851 - loss: 1.0416\n",
            "Epoch 16/100\n",
            "\u001b[1m881/881\u001b[0m \u001b[32m━━━━━━━━━━━━━━━━━━━━\u001b[0m\u001b[37m\u001b[0m \u001b[1m7s\u001b[0m 8ms/step - accuracy: 0.6893 - loss: 1.0229\n",
            "Epoch 17/100\n",
            "\u001b[1m881/881\u001b[0m \u001b[32m━━━━━━━━━━━━━━━━━━━━\u001b[0m\u001b[37m\u001b[0m \u001b[1m7s\u001b[0m 8ms/step - accuracy: 0.6918 - loss: 1.0135\n",
            "Epoch 18/100\n",
            "\u001b[1m881/881\u001b[0m \u001b[32m━━━━━━━━━━━━━━━━━━━━\u001b[0m\u001b[37m\u001b[0m \u001b[1m7s\u001b[0m 8ms/step - accuracy: 0.6991 - loss: 1.0000\n",
            "Epoch 19/100\n",
            "\u001b[1m881/881\u001b[0m \u001b[32m━━━━━━━━━━━━━━━━━━━━\u001b[0m\u001b[37m\u001b[0m \u001b[1m7s\u001b[0m 8ms/step - accuracy: 0.6970 - loss: 0.9927\n",
            "Epoch 20/100\n",
            "\u001b[1m881/881\u001b[0m \u001b[32m━━━━━━━━━━━━━━━━━━━━\u001b[0m\u001b[37m\u001b[0m \u001b[1m6s\u001b[0m 7ms/step - accuracy: 0.7023 - loss: 0.9822\n",
            "Epoch 21/100\n",
            "\u001b[1m881/881\u001b[0m \u001b[32m━━━━━━━━━━━━━━━━━━━━\u001b[0m\u001b[37m\u001b[0m \u001b[1m7s\u001b[0m 7ms/step - accuracy: 0.7013 - loss: 0.9858\n",
            "Epoch 22/100\n",
            "\u001b[1m881/881\u001b[0m \u001b[32m━━━━━━━━━━━━━━━━━━━━\u001b[0m\u001b[37m\u001b[0m \u001b[1m7s\u001b[0m 8ms/step - accuracy: 0.7065 - loss: 0.9735\n",
            "Epoch 23/100\n",
            "\u001b[1m881/881\u001b[0m \u001b[32m━━━━━━━━━━━━━━━━━━━━\u001b[0m\u001b[37m\u001b[0m \u001b[1m6s\u001b[0m 7ms/step - accuracy: 0.7047 - loss: 0.9705\n",
            "Epoch 24/100\n",
            "\u001b[1m881/881\u001b[0m \u001b[32m━━━━━━━━━━━━━━━━━━━━\u001b[0m\u001b[37m\u001b[0m \u001b[1m7s\u001b[0m 8ms/step - accuracy: 0.7123 - loss: 0.9521\n",
            "Epoch 25/100\n",
            "\u001b[1m881/881\u001b[0m \u001b[32m━━━━━━━━━━━━━━━━━━━━\u001b[0m\u001b[37m\u001b[0m \u001b[1m7s\u001b[0m 8ms/step - accuracy: 0.7116 - loss: 0.9511\n",
            "Epoch 26/100\n",
            "\u001b[1m881/881\u001b[0m \u001b[32m━━━━━━━━━━━━━━━━━━━━\u001b[0m\u001b[37m\u001b[0m \u001b[1m7s\u001b[0m 8ms/step - accuracy: 0.7096 - loss: 0.9539\n",
            "Epoch 27/100\n",
            "\u001b[1m881/881\u001b[0m \u001b[32m━━━━━━━━━━━━━━━━━━━━\u001b[0m\u001b[37m\u001b[0m \u001b[1m7s\u001b[0m 8ms/step - accuracy: 0.7134 - loss: 0.9456\n",
            "Epoch 28/100\n",
            "\u001b[1m881/881\u001b[0m \u001b[32m━━━━━━━━━━━━━━━━━━━━\u001b[0m\u001b[37m\u001b[0m \u001b[1m7s\u001b[0m 8ms/step - accuracy: 0.7164 - loss: 0.9306\n",
            "Epoch 29/100\n",
            "\u001b[1m881/881\u001b[0m \u001b[32m━━━━━━━━━━━━━━━━━━━━\u001b[0m\u001b[37m\u001b[0m \u001b[1m6s\u001b[0m 7ms/step - accuracy: 0.7174 - loss: 0.9366\n",
            "Epoch 30/100\n",
            "\u001b[1m881/881\u001b[0m \u001b[32m━━━━━━━━━━━━━━━━━━━━\u001b[0m\u001b[37m\u001b[0m \u001b[1m6s\u001b[0m 7ms/step - accuracy: 0.7171 - loss: 0.9328\n",
            "Epoch 31/100\n",
            "\u001b[1m881/881\u001b[0m \u001b[32m━━━━━━━━━━━━━━━━━━━━\u001b[0m\u001b[37m\u001b[0m \u001b[1m6s\u001b[0m 7ms/step - accuracy: 0.7205 - loss: 0.9321\n",
            "Epoch 32/100\n",
            "\u001b[1m881/881\u001b[0m \u001b[32m━━━━━━━━━━━━━━━━━━━━\u001b[0m\u001b[37m\u001b[0m \u001b[1m7s\u001b[0m 7ms/step - accuracy: 0.7174 - loss: 0.9324\n",
            "Epoch 33/100\n",
            "\u001b[1m881/881\u001b[0m \u001b[32m━━━━━━━━━━━━━━━━━━━━\u001b[0m\u001b[37m\u001b[0m \u001b[1m7s\u001b[0m 7ms/step - accuracy: 0.7228 - loss: 0.9163\n",
            "Epoch 34/100\n",
            "\u001b[1m881/881\u001b[0m \u001b[32m━━━━━━━━━━━━━━━━━━━━\u001b[0m\u001b[37m\u001b[0m \u001b[1m7s\u001b[0m 8ms/step - accuracy: 0.7228 - loss: 0.9129\n",
            "Epoch 35/100\n",
            "\u001b[1m881/881\u001b[0m \u001b[32m━━━━━━━━━━━━━━━━━━━━\u001b[0m\u001b[37m\u001b[0m \u001b[1m7s\u001b[0m 8ms/step - accuracy: 0.7248 - loss: 0.9149\n",
            "Epoch 36/100\n",
            "\u001b[1m881/881\u001b[0m \u001b[32m━━━━━━━━━━━━━━━━━━━━\u001b[0m\u001b[37m\u001b[0m \u001b[1m7s\u001b[0m 8ms/step - accuracy: 0.7284 - loss: 0.9027\n",
            "Epoch 37/100\n",
            "\u001b[1m881/881\u001b[0m \u001b[32m━━━━━━━━━━━━━━━━━━━━\u001b[0m\u001b[37m\u001b[0m \u001b[1m7s\u001b[0m 8ms/step - accuracy: 0.7267 - loss: 0.8982\n",
            "Epoch 38/100\n",
            "\u001b[1m881/881\u001b[0m \u001b[32m━━━━━━━━━━━━━━━━━━━━\u001b[0m\u001b[37m\u001b[0m \u001b[1m7s\u001b[0m 7ms/step - accuracy: 0.7241 - loss: 0.9134\n",
            "Epoch 39/100\n",
            "\u001b[1m881/881\u001b[0m \u001b[32m━━━━━━━━━━━━━━━━━━━━\u001b[0m\u001b[37m\u001b[0m \u001b[1m6s\u001b[0m 7ms/step - accuracy: 0.7246 - loss: 0.9048\n",
            "Epoch 40/100\n",
            "\u001b[1m881/881\u001b[0m \u001b[32m━━━━━━━━━━━━━━━━━━━━\u001b[0m\u001b[37m\u001b[0m \u001b[1m6s\u001b[0m 7ms/step - accuracy: 0.7271 - loss: 0.8988\n",
            "Epoch 41/100\n",
            "\u001b[1m881/881\u001b[0m \u001b[32m━━━━━━━━━━━━━━━━━━━━\u001b[0m\u001b[37m\u001b[0m \u001b[1m6s\u001b[0m 7ms/step - accuracy: 0.7261 - loss: 0.9039\n",
            "Epoch 42/100\n",
            "\u001b[1m881/881\u001b[0m \u001b[32m━━━━━━━━━━━━━━━━━━━━\u001b[0m\u001b[37m\u001b[0m \u001b[1m6s\u001b[0m 7ms/step - accuracy: 0.7286 - loss: 0.8932\n",
            "Epoch 43/100\n",
            "\u001b[1m881/881\u001b[0m \u001b[32m━━━━━━━━━━━━━━━━━━━━\u001b[0m\u001b[37m\u001b[0m \u001b[1m6s\u001b[0m 7ms/step - accuracy: 0.7293 - loss: 0.8938\n",
            "Epoch 44/100\n",
            "\u001b[1m881/881\u001b[0m \u001b[32m━━━━━━━━━━━━━━━━━━━━\u001b[0m\u001b[37m\u001b[0m \u001b[1m7s\u001b[0m 7ms/step - accuracy: 0.7274 - loss: 0.8973\n",
            "Epoch 45/100\n",
            "\u001b[1m881/881\u001b[0m \u001b[32m━━━━━━━━━━━━━━━━━━━━\u001b[0m\u001b[37m\u001b[0m \u001b[1m7s\u001b[0m 8ms/step - accuracy: 0.7293 - loss: 0.8905\n",
            "Epoch 46/100\n",
            "\u001b[1m881/881\u001b[0m \u001b[32m━━━━━━━━━━━━━━━━━━━━\u001b[0m\u001b[37m\u001b[0m \u001b[1m7s\u001b[0m 8ms/step - accuracy: 0.7308 - loss: 0.8812\n",
            "Epoch 47/100\n",
            "\u001b[1m881/881\u001b[0m \u001b[32m━━━━━━━━━━━━━━━━━━━━\u001b[0m\u001b[37m\u001b[0m \u001b[1m7s\u001b[0m 8ms/step - accuracy: 0.7290 - loss: 0.8930\n",
            "Epoch 48/100\n",
            "\u001b[1m881/881\u001b[0m \u001b[32m━━━━━━━━━━━━━━━━━━━━\u001b[0m\u001b[37m\u001b[0m \u001b[1m7s\u001b[0m 7ms/step - accuracy: 0.7302 - loss: 0.8874\n",
            "Epoch 49/100\n",
            "\u001b[1m881/881\u001b[0m \u001b[32m━━━━━━━━━━━━━━━━━━━━\u001b[0m\u001b[37m\u001b[0m \u001b[1m6s\u001b[0m 7ms/step - accuracy: 0.7321 - loss: 0.8864\n",
            "Epoch 50/100\n",
            "\u001b[1m881/881\u001b[0m \u001b[32m━━━━━━━━━━━━━━━━━━━━\u001b[0m\u001b[37m\u001b[0m \u001b[1m7s\u001b[0m 8ms/step - accuracy: 0.7330 - loss: 0.8851\n",
            "Epoch 51/100\n",
            "\u001b[1m881/881\u001b[0m \u001b[32m━━━━━━━━━━━━━━━━━━━━\u001b[0m\u001b[37m\u001b[0m \u001b[1m7s\u001b[0m 8ms/step - accuracy: 0.7324 - loss: 0.8820\n",
            "Epoch 52/100\n",
            "\u001b[1m881/881\u001b[0m \u001b[32m━━━━━━━━━━━━━━━━━━━━\u001b[0m\u001b[37m\u001b[0m \u001b[1m7s\u001b[0m 8ms/step - accuracy: 0.7328 - loss: 0.8747\n",
            "Epoch 53/100\n",
            "\u001b[1m881/881\u001b[0m \u001b[32m━━━━━━━━━━━━━━━━━━━━\u001b[0m\u001b[37m\u001b[0m \u001b[1m8s\u001b[0m 9ms/step - accuracy: 0.7312 - loss: 0.8849\n",
            "Epoch 54/100\n",
            "\u001b[1m881/881\u001b[0m \u001b[32m━━━━━━━━━━━━━━━━━━━━\u001b[0m\u001b[37m\u001b[0m \u001b[1m7s\u001b[0m 8ms/step - accuracy: 0.7341 - loss: 0.8740\n",
            "Epoch 55/100\n",
            "\u001b[1m881/881\u001b[0m \u001b[32m━━━━━━━━━━━━━━━━━━━━\u001b[0m\u001b[37m\u001b[0m \u001b[1m7s\u001b[0m 8ms/step - accuracy: 0.7328 - loss: 0.8770\n",
            "Epoch 56/100\n",
            "\u001b[1m881/881\u001b[0m \u001b[32m━━━━━━━━━━━━━━━━━━━━\u001b[0m\u001b[37m\u001b[0m \u001b[1m7s\u001b[0m 8ms/step - accuracy: 0.7336 - loss: 0.8775\n"
          ]
        }
      ],
      "source": [
        "epochs = 100\n",
        "batch_size = 100\n",
        "\n",
        "# Store all the trained models\n",
        "all_model = []\n",
        "\n",
        "model = create_model()\n",
        "\n",
        "history = model.fit(X, \n",
        "                    y, \n",
        "                    epochs=epochs, \n",
        "                    batch_size=batch_size, \n",
        "                    callbacks=[tf.keras.callbacks.EarlyStopping(\n",
        "                        monitor='accuracy',\n",
        "                        patience=5,\n",
        "                        min_delta=0.001,\n",
        "                        mode='max',\n",
        "                        restore_best_weights=True\n",
        "                    )])"
      ]
    },
    {
      "cell_type": "markdown",
      "metadata": {
        "id": "lYZ1NSmlkzI8"
      },
      "source": [
        "# Model Evaluation"
      ]
    },
    {
      "cell_type": "code",
      "execution_count": null,
      "metadata": {
        "id": "AwguhlCyHsqA"
      },
      "outputs": [],
      "source": [
        "def plot_confusion_matrix(\n",
        "    model, \n",
        "    X: np.ndarray, \n",
        "    y_true: np.ndarray, \n",
        "    labels: T.Union[str, T.List[str]] =\"auto\"):\n",
        "  \n",
        "  \"\"\"Computes the confusion matrix of the input model.\n",
        "  \n",
        "  Args:\n",
        "    model: the model on which confusion matrix will be computed\n",
        "    X: dataset to evalutate the model\n",
        "    y_true: ground truth values of the dataset\n",
        "    labels: the labels to use in the plot of the confusion matrix\n",
        "    \n",
        "  Returns:\n",
        "    None\n",
        "  \"\"\"\n",
        "\n",
        "  confusion_matrix = tf.math.confusion_matrix(\n",
        "      y_true, \n",
        "      np.argmax(model.predict(X), axis=1),\n",
        "  )\n",
        "\n",
        "  plt.figure(figsize=(15,15))\n",
        "  sbn.heatmap(confusion_matrix, \n",
        "              cmap='Greens', \n",
        "              xticklabels=labels, \n",
        "              yticklabels=labels)\n",
        "  plt.xlabel(\"Prediction\")\n",
        "  plt.ylabel(\"Label\")\n",
        "  plt.show()"
      ]
    },
    {
      "cell_type": "code",
      "execution_count": null,
      "metadata": {
        "colab": {
          "base_uri": "https://localhost:8080/",
          "height": 877
        },
        "id": "aFdp_c3OVNzM",
        "outputId": "72684302-965a-404c-e8d9-a70c5b5b0c1e"
      },
      "outputs": [
        {
          "name": "stdout",
          "output_type": "stream",
          "text": [
            "\u001b[1m2753/2753\u001b[0m \u001b[32m━━━━━━━━━━━━━━━━━━━━\u001b[0m\u001b[37m\u001b[0m \u001b[1m6s\u001b[0m 2ms/step\n"
          ]
        },
        {
          "data": {
            "image/png": "[encoded data removed]",
            "text/plain": [
              "<Figure size 1500x1500 with 2 Axes>"
            ]
          },
          "metadata": {},
          "output_type": "display_data"
        }
      ],
      "source": [
        "plot_confusion_matrix(model, X, y, labels=target_list)"
      ]
    },
    {
      "cell_type": "code",
      "execution_count": null,
      "metadata": {
        "colab": {
          "base_uri": "https://localhost:8080/"
        },
        "id": "TBgr8_6zQtmQ",
        "outputId": "2c0cd132-f357-4175-aff1-575a32cec8a9"
      },
      "outputs": [
        {
          "name": "stdout",
          "output_type": "stream",
          "text": [
            "\u001b[1m307/307\u001b[0m \u001b[32m━━━━━━━━━━━━━━━━━━━━\u001b[0m\u001b[37m\u001b[0m \u001b[1m1s\u001b[0m 2ms/step - accuracy: 0.7951 - loss: 0.6935\n"
          ]
        },
        {
          "data": {
            "text/plain": [
              "[0.7119263410568237, 0.7894253134727478]"
            ]
          },
          "execution_count": 98,
          "metadata": {},
          "output_type": "execute_result"
        }
      ],
      "source": [
        "# Evalute test set performance\n",
        "\n",
        "model.evaluate(x_test, y_test)"
      ]
    },
    {
      "cell_type": "code",
      "execution_count": 118,
      "metadata": {
        "colab": {
          "base_uri": "https://localhost:8080/",
          "height": 968
        },
        "id": "NnrZtaMZ8ke_",
        "outputId": "6216873f-5b0d-4ec2-93d7-9329d98a43fa"
      },
      "outputs": [
        {
          "name": "stdout",
          "output_type": "stream",
          "text": [
            "\u001b[1m307/307\u001b[0m \u001b[32m━━━━━━━━━━━━━━━━━━━━\u001b[0m\u001b[37m\u001b[0m \u001b[1m1s\u001b[0m 2ms/step\n"
          ]
        },
        {
          "data": {
            "image/png": "[encoded data removed]",
            "text/plain": [
              "<Figure size 1500x1500 with 2 Axes>"
            ]
          },
          "metadata": {},
          "output_type": "display_data"
        }
      ],
      "source": [
        "plot_confusion_matrix(model, x_test, y_test, labels=target_list)"
      ]
    },
    {
      "cell_type": "code",
      "execution_count": 119,
      "metadata": {
        "id": "_vLYqg_02qz1"
      },
      "outputs": [
        {
          "name": "stderr",
          "output_type": "stream",
          "text": [
            "WARNING:absl:You are saving your model as an HDF5 file via `model.save()` or `keras.saving.save_model(model)`. This file format is considered legacy. We recommend using instead the native Keras format, e.g. `model.save('my_model.keras')` or `keras.saving.save_model(model, 'my_model.keras')`. \n"
          ]
        }
      ],
      "source": [
        "# Save the model as a file\n",
        "models.save_model(model, model_filename)"
      ]
    },
    {
      "cell_type": "code",
      "execution_count": 120,
      "metadata": {
        "colab": {
          "base_uri": "https://localhost:8080/"
        },
        "id": "xa7vX0TK2t2m",
        "outputId": "6a16593a-e193-44e2-d9f9-f0676607ee6c"
      },
      "outputs": [
        {
          "name": "stderr",
          "output_type": "stream",
          "text": [
            "WARNING:absl:Compiled the loaded model, but the compiled metrics have yet to be built. `model.compile_metrics` will be empty until you train or evaluate the model.\n"
          ]
        },
        {
          "name": "stdout",
          "output_type": "stream",
          "text": [
            "\u001b[1m1/1\u001b[0m \u001b[32m━━━━━━━━━━━━━━━━━━━━\u001b[0m\u001b[37m\u001b[0m \u001b[1m0s\u001b[0m 63ms/step\n",
            "Answer: 36.0  Prediction: 36\n",
            "\u001b[1m1/1\u001b[0m \u001b[32m━━━━━━━━━━━━━━━━━━━━\u001b[0m\u001b[37m\u001b[0m \u001b[1m0s\u001b[0m 10ms/step\n",
            "Answer: 30.0  Prediction: 30\n",
            "\u001b[1m1/1\u001b[0m \u001b[32m━━━━━━━━━━━━━━━━━━━━\u001b[0m\u001b[37m\u001b[0m \u001b[1m0s\u001b[0m 11ms/step\n",
            "Answer: 9.0  Prediction: 4\n",
            "\u001b[1m1/1\u001b[0m \u001b[32m━━━━━━━━━━━━━━━━━━━━\u001b[0m\u001b[37m\u001b[0m \u001b[1m0s\u001b[0m 10ms/step\n",
            "Answer: 19.0  Prediction: 19\n",
            "\u001b[1m1/1\u001b[0m \u001b[32m━━━━━━━━━━━━━━━━━━━━\u001b[0m\u001b[37m\u001b[0m \u001b[1m0s\u001b[0m 11ms/step\n",
            "Answer: 11.0  Prediction: 12\n",
            "\u001b[1m1/1\u001b[0m \u001b[32m━━━━━━━━━━━━━━━━━━━━\u001b[0m\u001b[37m\u001b[0m \u001b[1m0s\u001b[0m 11ms/step\n",
            "Answer: 20.0  Prediction: 20\n",
            "\u001b[1m1/1\u001b[0m \u001b[32m━━━━━━━━━━━━━━━━━━━━\u001b[0m\u001b[37m\u001b[0m \u001b[1m0s\u001b[0m 11ms/step\n",
            "Answer: 12.0  Prediction: 3\n",
            "\u001b[1m1/1\u001b[0m \u001b[32m━━━━━━━━━━━━━━━━━━━━\u001b[0m\u001b[37m\u001b[0m \u001b[1m0s\u001b[0m 11ms/step\n",
            "Answer: 23.0  Prediction: 23\n",
            "\u001b[1m1/1\u001b[0m \u001b[32m━━━━━━━━━━━━━━━━━━━━\u001b[0m\u001b[37m\u001b[0m \u001b[1m0s\u001b[0m 10ms/step\n",
            "Answer: 20.0  Prediction: 20\n",
            "\u001b[1m1/1\u001b[0m \u001b[32m━━━━━━━━━━━━━━━━━━━━\u001b[0m\u001b[37m\u001b[0m \u001b[1m0s\u001b[0m 11ms/step\n",
            "Answer: 13.0  Prediction: 13\n"
          ]
        }
      ],
      "source": [
        "# Load back the model and run it against test set\n",
        "\n",
        "model = models.load_model(model_filename)\n",
        "for i in range(100, 110):\n",
        "    print('Answer:', y_test[i], ' Prediction:', np.argmax(model.predict(np.expand_dims(x_test[i], 0))))"
      ]
    },
    {
      "cell_type": "code",
      "execution_count": 121,
      "metadata": {
        "colab": {
          "base_uri": "https://localhost:8080/"
        },
        "id": "FxAQzVG-8SkM",
        "outputId": "781437fd-fd49-4833-93b5-256df2993110"
      },
      "outputs": [
        {
          "name": "stderr",
          "output_type": "stream",
          "text": [
            "WARNING:absl:Compiled the loaded model, but the compiled metrics have yet to be built. `model.compile_metrics` will be empty until you train or evaluate the model.\n"
          ]
        },
        {
          "name": "stdout",
          "output_type": "stream",
          "text": [
            "INFO:tensorflow:Assets written to: /var/folders/33/wfzcrd1124s6rs_9s5m4j4yh0000gn/T/tmpf_iq1w_p/assets\n"
          ]
        },
        {
          "name": "stderr",
          "output_type": "stream",
          "text": [
            "INFO:tensorflow:Assets written to: /var/folders/33/wfzcrd1124s6rs_9s5m4j4yh0000gn/T/tmpf_iq1w_p/assets\n"
          ]
        },
        {
          "name": "stdout",
          "output_type": "stream",
          "text": [
            "Saved artifact at '/var/folders/33/wfzcrd1124s6rs_9s5m4j4yh0000gn/T/tmpf_iq1w_p'. The following endpoints are available:\n",
            "\n",
            "* Endpoint 'serve'\n",
            "  args_0 (POSITIONAL_ONLY): TensorSpec(shape=(None, 16, 28, 1), dtype=tf.float32, name='input_layer_5')\n",
            "Output Type:\n",
            "  TensorSpec(shape=(None, 38), dtype=tf.float32, name=None)\n",
            "Captures:\n",
            "  13312331024: TensorSpec(shape=(), dtype=tf.resource, name=None)\n",
            "  13312329872: TensorSpec(shape=(), dtype=tf.resource, name=None)\n",
            "  13312343504: TensorSpec(shape=(), dtype=tf.resource, name=None)\n",
            "  6360652048: TensorSpec(shape=(), dtype=tf.resource, name=None)\n",
            "  6360651472: TensorSpec(shape=(), dtype=tf.resource, name=None)\n",
            "  6360651664: TensorSpec(shape=(), dtype=tf.resource, name=None)\n",
            "  6360653584: TensorSpec(shape=(), dtype=tf.resource, name=None)\n",
            "  6360652816: TensorSpec(shape=(), dtype=tf.resource, name=None)\n",
            "  6360654736: TensorSpec(shape=(), dtype=tf.resource, name=None)\n",
            "  6360653968: TensorSpec(shape=(), dtype=tf.resource, name=None)\n",
            "The model is 51.078125 KB\n"
          ]
        },
        {
          "name": "stderr",
          "output_type": "stream",
          "text": [
            "W0000 00:00:1724185576.053509 21759460 tf_tfl_flatbuffer_helpers.cc:392] Ignored output_format.\n",
            "W0000 00:00:1724185576.053688 21759460 tf_tfl_flatbuffer_helpers.cc:395] Ignored drop_control_dependency.\n",
            "2024-08-20 22:26:16.054980: I tensorflow/cc/saved_model/reader.cc:83] Reading SavedModel from: /var/folders/33/wfzcrd1124s6rs_9s5m4j4yh0000gn/T/tmpf_iq1w_p\n",
            "2024-08-20 22:26:16.055693: I tensorflow/cc/saved_model/reader.cc:52] Reading meta graph with tags { serve }\n",
            "2024-08-20 22:26:16.055707: I tensorflow/cc/saved_model/reader.cc:147] Reading SavedModel debug info (if present) from: /var/folders/33/wfzcrd1124s6rs_9s5m4j4yh0000gn/T/tmpf_iq1w_p\n",
            "2024-08-20 22:26:16.062429: I tensorflow/cc/saved_model/loader.cc:236] Restoring SavedModel bundle.\n",
            "2024-08-20 22:26:16.104345: I tensorflow/cc/saved_model/loader.cc:220] Running initialization op on SavedModel bundle at path: /var/folders/33/wfzcrd1124s6rs_9s5m4j4yh0000gn/T/tmpf_iq1w_p\n",
            "2024-08-20 22:26:16.115120: I tensorflow/cc/saved_model/loader.cc:462] SavedModel load for tags { serve }; Status: success: OK. Took 60137 microseconds.\n"
          ]
        }
      ],
      "source": [
        "# Convert model to TF Lite model\n",
        "\n",
        "# model = models.load_model(keras_model_filename)\n",
        "models.load_model(model_filename)\n",
        "converter = tf.lite.TFLiteConverter.from_keras_model(model)\n",
        "\n",
        "# drops by 75% the final size of the model\n",
        "converter.optimizations = [tf.lite.Optimize.DEFAULT]\n",
        "\n",
        "tflite_model = converter.convert()\n",
        "\n",
        "size = open(tflite_filename, 'wb').write(tflite_model)\n",
        "print(f\"The model is {size / 1024} KB\")"
      ]
    },
    {
      "cell_type": "code",
      "execution_count": 123,
      "metadata": {
        "id": "PhH-VbjUeH1R"
      },
      "outputs": [],
      "source": [
        "def test_quantized_model(\n",
        "    model_path: str,\n",
        "    start_idx: int,\n",
        "    end_idx: int,\n",
        "):\n",
        "    \"\"\"Loads and test the tflite model on the given indexes.\n",
        "    \n",
        "    Args:\n",
        "      model_path: the path to the TFLite model\n",
        "      start_idx: starting index to take the samples from x_test\n",
        "      end_idx: ending index for x_test\n",
        "\n",
        "    Returns:\n",
        "      None\n",
        "    \"\"\"\n",
        "\n",
        "    # Load the TFLite model and allocate tensors.\n",
        "    interpreter = tf.lite.Interpreter(model_path=model_path)\n",
        "    interpreter.allocate_tensors()\n",
        "\n",
        "    # Get input and output tensors.\n",
        "    input_details = interpreter.get_input_details()\n",
        "    output_details = interpreter.get_output_details()\n",
        "    \n",
        "    # Test the model\n",
        "    for i in range(start_idx, end_idx):\n",
        "        # Load the input into the model\n",
        "        input_data = np.array(np.expand_dims(x_test[i], 0), dtype=np.float32)\n",
        "        interpreter.set_tensor(input_details[0]['index'], input_data)\n",
        "        \n",
        "        # Invoke the model on the input\n",
        "        interpreter.invoke()\n",
        "        \n",
        "        # The function `get_tensor()` returns a copy of the tensor data.\n",
        "        # Use `tensor()` in order to get a pointer to the tensor.\n",
        "        output_data = interpreter.get_tensor(output_details[0]['index'])\n",
        "        \n",
        "        print(f'Ground truth value: {y_test[i]}\\t\\t'\n",
        "              f'Prediction: {np.argmax(output_data)}')"
      ]
    },
    {
      "cell_type": "code",
      "execution_count": 124,
      "metadata": {
        "colab": {
          "base_uri": "https://localhost:8080/"
        },
        "id": "Wv-Yzoj-iD1t",
        "outputId": "82886ab9-3c2c-46ad-d0ec-7d7d589e64ca"
      },
      "outputs": [
        {
          "name": "stdout",
          "output_type": "stream",
          "text": [
            "Before quantization\n",
            "\u001b[1m1/1\u001b[0m \u001b[32m━━━━━━━━━━━━━━━━━━━━\u001b[0m\u001b[37m\u001b[0m \u001b[1m0s\u001b[0m 12ms/step\n",
            "Answer: 36.0  Prediction: 36\n",
            "\u001b[1m1/1\u001b[0m \u001b[32m━━━━━━━━━━━━━━━━━━━━\u001b[0m\u001b[37m\u001b[0m \u001b[1m0s\u001b[0m 12ms/step\n",
            "Answer: 30.0  Prediction: 30\n",
            "\u001b[1m1/1\u001b[0m \u001b[32m━━━━━━━━━━━━━━━━━━━━\u001b[0m\u001b[37m\u001b[0m \u001b[1m0s\u001b[0m 12ms/step\n",
            "Answer: 9.0  Prediction: 4\n",
            "\u001b[1m1/1\u001b[0m \u001b[32m━━━━━━━━━━━━━━━━━━━━\u001b[0m\u001b[37m\u001b[0m \u001b[1m0s\u001b[0m 11ms/step\n",
            "Answer: 19.0  Prediction: 19\n",
            "\u001b[1m1/1\u001b[0m \u001b[32m━━━━━━━━━━━━━━━━━━━━\u001b[0m\u001b[37m\u001b[0m \u001b[1m0s\u001b[0m 11ms/step\n",
            "Answer: 11.0  Prediction: 12\n",
            "\u001b[1m1/1\u001b[0m \u001b[32m━━━━━━━━━━━━━━━━━━━━\u001b[0m\u001b[37m\u001b[0m \u001b[1m0s\u001b[0m 10ms/step\n",
            "Answer: 20.0  Prediction: 20\n",
            "\u001b[1m1/1\u001b[0m \u001b[32m━━━━━━━━━━━━━━━━━━━━\u001b[0m\u001b[37m\u001b[0m \u001b[1m0s\u001b[0m 11ms/step\n",
            "Answer: 12.0  Prediction: 3\n",
            "\u001b[1m1/1\u001b[0m \u001b[32m━━━━━━━━━━━━━━━━━━━━\u001b[0m\u001b[37m\u001b[0m \u001b[1m0s\u001b[0m 12ms/step\n",
            "Answer: 23.0  Prediction: 23\n",
            "\u001b[1m1/1\u001b[0m \u001b[32m━━━━━━━━━━━━━━━━━━━━\u001b[0m\u001b[37m\u001b[0m \u001b[1m0s\u001b[0m 10ms/step\n",
            "Answer: 20.0  Prediction: 20\n",
            "\u001b[1m1/1\u001b[0m \u001b[32m━━━━━━━━━━━━━━━━━━━━\u001b[0m\u001b[37m\u001b[0m \u001b[1m0s\u001b[0m 11ms/step\n",
            "Answer: 13.0  Prediction: 13\n",
            "After quantization\n",
            "Ground truth value: 36.0\t\tPrediction: 36\n",
            "Ground truth value: 30.0\t\tPrediction: 30\n",
            "Ground truth value: 9.0\t\tPrediction: 4\n",
            "Ground truth value: 19.0\t\tPrediction: 19\n",
            "Ground truth value: 11.0\t\tPrediction: 12\n",
            "Ground truth value: 20.0\t\tPrediction: 20\n",
            "Ground truth value: 12.0\t\tPrediction: 3\n",
            "Ground truth value: 23.0\t\tPrediction: 23\n",
            "Ground truth value: 20.0\t\tPrediction: 20\n",
            "Ground truth value: 13.0\t\tPrediction: 13\n"
          ]
        },
        {
          "name": "stderr",
          "output_type": "stream",
          "text": [
            "INFO: Created TensorFlow Lite XNNPACK delegate for CPU.\n"
          ]
        }
      ],
      "source": [
        "print(\"Before quantization\")\n",
        "for i in range(100, 110):\n",
        "    print('Answer:', y_test[i], ' Prediction:', np.argmax(model.predict(np.expand_dims(x_test[i], 0))))\n",
        "\n",
        "print(\"After quantization\")\n",
        "test_quantized_model(tflite_filename, 100, 110)"
      ]
    },
    {
      "cell_type": "markdown",
      "metadata": {
        "id": "IY38Rn1sHk1Y"
      },
      "source": [
        "## Dump the TFLite model in a C file to see how much space it requires"
      ]
    },
    {
      "cell_type": "code",
      "execution_count": null,
      "metadata": {
        "colab": {
          "base_uri": "https://localhost:8080/"
        },
        "id": "ipTdF5BrQF_T",
        "outputId": "7ce63054-843c-49d5-bfaa-9eafe6631306"
      },
      "outputs": [
        {
          "name": "stdout",
          "output_type": "stream",
          "text": [
            "zsh:1: command not found: apt-get\n"
          ]
        }
      ],
      "source": [
        "!apt-get update && apt-get -qq install xxd"
      ]
    },
    {
      "cell_type": "code",
      "execution_count": null,
      "metadata": {
        "id": "pfv0b6ZdQoH4"
      },
      "outputs": [
        {
          "name": "stdout",
          "output_type": "stream",
          "text": [
            "zsh:1: no such file or directory: /content/embed_model.c\n"
          ]
        }
      ],
      "source": [
        "!xxd -i /content/speech-commands-model.tflite > /content/embed_model.c"
      ]
    },
    {
      "cell_type": "code",
      "execution_count": null,
      "metadata": {
        "colab": {
          "base_uri": "https://localhost:8080/"
        },
        "id": "19aL_KjX_gN9",
        "outputId": "f4da8d74-3b52-45dc-a42e-7fc6958a07f4"
      },
      "outputs": [
        {
          "name": "stdout",
          "output_type": "stream",
          "text": [
            "du: /content/embed_model.c: No such file or directory\n"
          ]
        }
      ],
      "source": [
        "!du -h /content/embed_model.c"
      ]
    }
  ],
  "metadata": {
    "accelerator": "GPU",
    "colab": {
      "collapsed_sections": [
        "diuZbXxB6i0A",
        "be0tgsepiNNg"
      ],
      "name": "speech_recognition.ipynb",
      "provenance": []
    },
    "kernelspec": {
      "display_name": "Python 3 (ipykernel)",
      "language": "python",
      "name": "python3"
    },
    "language_info": {
      "codemirror_mode": {
        "name": "ipython",
        "version": 3
      },
      "file_extension": ".py",
      "mimetype": "text/x-python",
      "name": "python",
      "nbconvert_exporter": "python",
      "pygments_lexer": "ipython3",
      "version": "3.12.4"
    },
    "widgets": {
      "application/vnd.jupyter.widget-state+json": {
        "02f990ddbe864d4da39f5f8149993292": {
          "model_module": "@jupyter-widgets/base",
          "model_module_version": "1.2.0",
          "model_name": "LayoutModel",
          "state": {
            "_model_module": "@jupyter-widgets/base",
            "_model_module_version": "1.2.0",
            "_model_name": "LayoutModel",
            "_view_count": null,
            "_view_module": "@jupyter-widgets/base",
            "_view_module_version": "1.2.0",
            "_view_name": "LayoutView",
            "align_content": null,
            "align_items": null,
            "align_self": null,
            "border": null,
            "bottom": null,
            "display": null,
            "flex": null,
            "flex_flow": null,
            "grid_area": null,
            "grid_auto_columns": null,
            "grid_auto_flow": null,
            "grid_auto_rows": null,
            "grid_column": null,
            "grid_gap": null,
            "grid_row": null,
            "grid_template_areas": null,
            "grid_template_columns": null,
            "grid_template_rows": null,
            "height": null,
            "justify_content": null,
            "justify_items": null,
            "left": null,
            "margin": null,
            "max_height": null,
            "max_width": null,
            "min_height": null,
            "min_width": null,
            "object_fit": null,
            "object_position": null,
            "order": null,
            "overflow": null,
            "overflow_x": null,
            "overflow_y": null,
            "padding": null,
            "right": null,
            "top": null,
            "visibility": null,
            "width": null
          }
        },
        "05f1416828b8497ea9887c1bed261d20": {
          "model_module": "@jupyter-widgets/base",
          "model_module_version": "1.2.0",
          "model_name": "LayoutModel",
          "state": {
            "_model_module": "@jupyter-widgets/base",
            "_model_module_version": "1.2.0",
            "_model_name": "LayoutModel",
            "_view_count": null,
            "_view_module": "@jupyter-widgets/base",
            "_view_module_version": "1.2.0",
            "_view_name": "LayoutView",
            "align_content": null,
            "align_items": null,
            "align_self": null,
            "border": null,
            "bottom": null,
            "display": null,
            "flex": null,
            "flex_flow": null,
            "grid_area": null,
            "grid_auto_columns": null,
            "grid_auto_flow": null,
            "grid_auto_rows": null,
            "grid_column": null,
            "grid_gap": null,
            "grid_row": null,
            "grid_template_areas": null,
            "grid_template_columns": null,
            "grid_template_rows": null,
            "height": null,
            "justify_content": null,
            "justify_items": null,
            "left": null,
            "margin": null,
            "max_height": null,
            "max_width": null,
            "min_height": null,
            "min_width": null,
            "object_fit": null,
            "object_position": null,
            "order": null,
            "overflow": null,
            "overflow_x": null,
            "overflow_y": null,
            "padding": null,
            "right": null,
            "top": null,
            "visibility": null,
            "width": null
          }
        },
        "082f381ba40f4762803f369f054cc987": {
          "model_module": "@jupyter-widgets/controls",
          "model_module_version": "1.5.0",
          "model_name": "DescriptionStyleModel",
          "state": {
            "_model_module": "@jupyter-widgets/controls",
            "_model_module_version": "1.5.0",
            "_model_name": "DescriptionStyleModel",
            "_view_count": null,
            "_view_module": "@jupyter-widgets/base",
            "_view_module_version": "1.2.0",
            "_view_name": "StyleView",
            "description_width": ""
          }
        },
        "08e2daa05c02493fb23b6f22afee9934": {
          "model_module": "@jupyter-widgets/controls",
          "model_module_version": "1.5.0",
          "model_name": "DescriptionStyleModel",
          "state": {
            "_model_module": "@jupyter-widgets/controls",
            "_model_module_version": "1.5.0",
            "_model_name": "DescriptionStyleModel",
            "_view_count": null,
            "_view_module": "@jupyter-widgets/base",
            "_view_module_version": "1.2.0",
            "_view_name": "StyleView",
            "description_width": ""
          }
        },
        "0d1e0cc4415e4fcfb0c7d25e9367debd": {
          "model_module": "@jupyter-widgets/controls",
          "model_module_version": "1.5.0",
          "model_name": "HBoxModel",
          "state": {
            "_dom_classes": [],
            "_model_module": "@jupyter-widgets/controls",
            "_model_module_version": "1.5.0",
            "_model_name": "HBoxModel",
            "_view_count": null,
            "_view_module": "@jupyter-widgets/controls",
            "_view_module_version": "1.5.0",
            "_view_name": "HBoxView",
            "box_style": "",
            "children": [
              "IPY_MODEL_403e8036e011443f9f08bcfe64618d29",
              "IPY_MODEL_4273da32cd9a49b3ae700fb3d6fbedd0",
              "IPY_MODEL_d8f638cdf3dd4c5497cb05a8a0fb7ad0"
            ],
            "layout": "IPY_MODEL_e36e782b71d1498cb496046952d4eec5"
          }
        },
        "1126c99c48ed4c54a42df9e62f1a8b4c": {
          "model_module": "@jupyter-widgets/controls",
          "model_module_version": "1.5.0",
          "model_name": "ProgressStyleModel",
          "state": {
            "_model_module": "@jupyter-widgets/controls",
            "_model_module_version": "1.5.0",
            "_model_name": "ProgressStyleModel",
            "_view_count": null,
            "_view_module": "@jupyter-widgets/base",
            "_view_module_version": "1.2.0",
            "_view_name": "StyleView",
            "bar_color": null,
            "description_width": ""
          }
        },
        "115ba5781eed486799054a89c6ff95d1": {
          "model_module": "@jupyter-widgets/controls",
          "model_module_version": "1.5.0",
          "model_name": "HTMLModel",
          "state": {
            "_dom_classes": [],
            "_model_module": "@jupyter-widgets/controls",
            "_model_module_version": "1.5.0",
            "_model_name": "HTMLModel",
            "_view_count": null,
            "_view_module": "@jupyter-widgets/controls",
            "_view_module_version": "1.5.0",
            "_view_name": "HTMLView",
            "description": "",
            "description_tooltip": null,
            "layout": "IPY_MODEL_5676bbba7e4547f9ac1cf0779ad472d2",
            "placeholder": "​",
            "style": "IPY_MODEL_5036862f720e465a8634e2ff4f2cee9c",
            "value": "Dl Size...: 100%"
          }
        },
        "152c72c8d9d14f928794484d9f46ad03": {
          "model_module": "@jupyter-widgets/controls",
          "model_module_version": "1.5.0",
          "model_name": "HTMLModel",
          "state": {
            "_dom_classes": [],
            "_model_module": "@jupyter-widgets/controls",
            "_model_module_version": "1.5.0",
            "_model_name": "HTMLModel",
            "_view_count": null,
            "_view_module": "@jupyter-widgets/controls",
            "_view_module_version": "1.5.0",
            "_view_name": "HTMLView",
            "description": "",
            "description_tooltip": null,
            "layout": "IPY_MODEL_02f990ddbe864d4da39f5f8149993292",
            "placeholder": "​",
            "style": "IPY_MODEL_e0f06924177e4d2ab42dd20bc9c32148",
            "value": "100%"
          }
        },
        "169d9d2cc5d148969c484fbb8d507064": {
          "model_module": "@jupyter-widgets/controls",
          "model_module_version": "1.5.0",
          "model_name": "DescriptionStyleModel",
          "state": {
            "_model_module": "@jupyter-widgets/controls",
            "_model_module_version": "1.5.0",
            "_model_name": "DescriptionStyleModel",
            "_view_count": null,
            "_view_module": "@jupyter-widgets/base",
            "_view_module_version": "1.2.0",
            "_view_name": "StyleView",
            "description_width": ""
          }
        },
        "1763a9e63423494cb26bd7057cdd1100": {
          "model_module": "@jupyter-widgets/controls",
          "model_module_version": "1.5.0",
          "model_name": "DescriptionStyleModel",
          "state": {
            "_model_module": "@jupyter-widgets/controls",
            "_model_module_version": "1.5.0",
            "_model_name": "DescriptionStyleModel",
            "_view_count": null,
            "_view_module": "@jupyter-widgets/base",
            "_view_module_version": "1.2.0",
            "_view_name": "StyleView",
            "description_width": ""
          }
        },
        "1ccbdef9fe934b5b90d193dfdce9fe33": {
          "model_module": "@jupyter-widgets/controls",
          "model_module_version": "1.5.0",
          "model_name": "HBoxModel",
          "state": {
            "_dom_classes": [],
            "_model_module": "@jupyter-widgets/controls",
            "_model_module_version": "1.5.0",
            "_model_name": "HBoxModel",
            "_view_count": null,
            "_view_module": "@jupyter-widgets/controls",
            "_view_module_version": "1.5.0",
            "_view_name": "HBoxView",
            "box_style": "",
            "children": [
              "IPY_MODEL_92988901f8db4863b99a36e980246686",
              "IPY_MODEL_8201474ddf17463eb39311e00d2d01c8",
              "IPY_MODEL_32c9f9fdb7aa49838dd9001e7a51980b"
            ],
            "layout": "IPY_MODEL_2e792dcb3b9c4b37b943f7d48bfe1f47"
          }
        },
        "21ed5f6ed72146199b23c2f602ef8279": {
          "model_module": "@jupyter-widgets/controls",
          "model_module_version": "1.5.0",
          "model_name": "HBoxModel",
          "state": {
            "_dom_classes": [],
            "_model_module": "@jupyter-widgets/controls",
            "_model_module_version": "1.5.0",
            "_model_name": "HBoxModel",
            "_view_count": null,
            "_view_module": "@jupyter-widgets/controls",
            "_view_module_version": "1.5.0",
            "_view_name": "HBoxView",
            "box_style": "",
            "children": [
              "IPY_MODEL_152c72c8d9d14f928794484d9f46ad03",
              "IPY_MODEL_90de478c64894473a07531da446e3700",
              "IPY_MODEL_f28ebbf31972465dabfd5f768577b2d4"
            ],
            "layout": "IPY_MODEL_7405f4b6e9a34fe38330dbc713c30ef5"
          }
        },
        "26baa2b121854d91a4b3d60353579ae1": {
          "model_module": "@jupyter-widgets/controls",
          "model_module_version": "1.5.0",
          "model_name": "DescriptionStyleModel",
          "state": {
            "_model_module": "@jupyter-widgets/controls",
            "_model_module_version": "1.5.0",
            "_model_name": "DescriptionStyleModel",
            "_view_count": null,
            "_view_module": "@jupyter-widgets/base",
            "_view_module_version": "1.2.0",
            "_view_name": "StyleView",
            "description_width": ""
          }
        },
        "288f79a7a6aa48fa9905203ccc53f0a0": {
          "model_module": "@jupyter-widgets/base",
          "model_module_version": "1.2.0",
          "model_name": "LayoutModel",
          "state": {
            "_model_module": "@jupyter-widgets/base",
            "_model_module_version": "1.2.0",
            "_model_name": "LayoutModel",
            "_view_count": null,
            "_view_module": "@jupyter-widgets/base",
            "_view_module_version": "1.2.0",
            "_view_name": "LayoutView",
            "align_content": null,
            "align_items": null,
            "align_self": null,
            "border": null,
            "bottom": null,
            "display": null,
            "flex": null,
            "flex_flow": null,
            "grid_area": null,
            "grid_auto_columns": null,
            "grid_auto_flow": null,
            "grid_auto_rows": null,
            "grid_column": null,
            "grid_gap": null,
            "grid_row": null,
            "grid_template_areas": null,
            "grid_template_columns": null,
            "grid_template_rows": null,
            "height": null,
            "justify_content": null,
            "justify_items": null,
            "left": null,
            "margin": null,
            "max_height": null,
            "max_width": null,
            "min_height": null,
            "min_width": null,
            "object_fit": null,
            "object_position": null,
            "order": null,
            "overflow": null,
            "overflow_x": null,
            "overflow_y": null,
            "padding": null,
            "right": null,
            "top": null,
            "visibility": null,
            "width": null
          }
        },
        "28b7920d953841c998fc535552ebc430": {
          "model_module": "@jupyter-widgets/controls",
          "model_module_version": "1.5.0",
          "model_name": "HTMLModel",
          "state": {
            "_dom_classes": [],
            "_model_module": "@jupyter-widgets/controls",
            "_model_module_version": "1.5.0",
            "_model_name": "HTMLModel",
            "_view_count": null,
            "_view_module": "@jupyter-widgets/controls",
            "_view_module_version": "1.5.0",
            "_view_name": "HTMLView",
            "description": "",
            "description_tooltip": null,
            "layout": "IPY_MODEL_4208d65f74f640b1bea63f68b77d2fed",
            "placeholder": "​",
            "style": "IPY_MODEL_169d9d2cc5d148969c484fbb8d507064",
            "value": " 4889/4890 [00:01&lt;00:00, 3065.57 examples/s]"
          }
        },
        "2cf5d74e292b4b5ba44e2d64aee66276": {
          "model_module": "@jupyter-widgets/controls",
          "model_module_version": "1.5.0",
          "model_name": "DescriptionStyleModel",
          "state": {
            "_model_module": "@jupyter-widgets/controls",
            "_model_module_version": "1.5.0",
            "_model_name": "DescriptionStyleModel",
            "_view_count": null,
            "_view_module": "@jupyter-widgets/base",
            "_view_module_version": "1.2.0",
            "_view_name": "StyleView",
            "description_width": ""
          }
        },
        "2e792dcb3b9c4b37b943f7d48bfe1f47": {
          "model_module": "@jupyter-widgets/base",
          "model_module_version": "1.2.0",
          "model_name": "LayoutModel",
          "state": {
            "_model_module": "@jupyter-widgets/base",
            "_model_module_version": "1.2.0",
            "_model_name": "LayoutModel",
            "_view_count": null,
            "_view_module": "@jupyter-widgets/base",
            "_view_module_version": "1.2.0",
            "_view_name": "LayoutView",
            "align_content": null,
            "align_items": null,
            "align_self": null,
            "border": null,
            "bottom": null,
            "display": null,
            "flex": null,
            "flex_flow": null,
            "grid_area": null,
            "grid_auto_columns": null,
            "grid_auto_flow": null,
            "grid_auto_rows": null,
            "grid_column": null,
            "grid_gap": null,
            "grid_row": null,
            "grid_template_areas": null,
            "grid_template_columns": null,
            "grid_template_rows": null,
            "height": null,
            "justify_content": null,
            "justify_items": null,
            "left": null,
            "margin": null,
            "max_height": null,
            "max_width": null,
            "min_height": null,
            "min_width": null,
            "object_fit": null,
            "object_position": null,
            "order": null,
            "overflow": null,
            "overflow_x": null,
            "overflow_y": null,
            "padding": null,
            "right": null,
            "top": null,
            "visibility": null,
            "width": null
          }
        },
        "32c9f9fdb7aa49838dd9001e7a51980b": {
          "model_module": "@jupyter-widgets/controls",
          "model_module_version": "1.5.0",
          "model_name": "HTMLModel",
          "state": {
            "_dom_classes": [],
            "_model_module": "@jupyter-widgets/controls",
            "_model_module_version": "1.5.0",
            "_model_name": "HTMLModel",
            "_view_count": null,
            "_view_module": "@jupyter-widgets/controls",
            "_view_module_version": "1.5.0",
            "_view_name": "HTMLView",
            "description": "",
            "description_tooltip": null,
            "layout": "IPY_MODEL_5701351a577d4c788a42f72d8f19b33b",
            "placeholder": "​",
            "style": "IPY_MODEL_26baa2b121854d91a4b3d60353579ae1",
            "value": " 10097/0 [02:07&lt;00:00, 73.13 examples/s]"
          }
        },
        "3369732b9149422d80566f4fbc8db7b0": {
          "model_module": "@jupyter-widgets/controls",
          "model_module_version": "1.5.0",
          "model_name": "ProgressStyleModel",
          "state": {
            "_model_module": "@jupyter-widgets/controls",
            "_model_module_version": "1.5.0",
            "_model_name": "ProgressStyleModel",
            "_view_count": null,
            "_view_module": "@jupyter-widgets/base",
            "_view_module_version": "1.2.0",
            "_view_name": "StyleView",
            "bar_color": null,
            "description_width": ""
          }
        },
        "38a2092df6db406db8be09169b8109cd": {
          "model_module": "@jupyter-widgets/base",
          "model_module_version": "1.2.0",
          "model_name": "LayoutModel",
          "state": {
            "_model_module": "@jupyter-widgets/base",
            "_model_module_version": "1.2.0",
            "_model_name": "LayoutModel",
            "_view_count": null,
            "_view_module": "@jupyter-widgets/base",
            "_view_module_version": "1.2.0",
            "_view_name": "LayoutView",
            "align_content": null,
            "align_items": null,
            "align_self": null,
            "border": null,
            "bottom": null,
            "display": null,
            "flex": null,
            "flex_flow": null,
            "grid_area": null,
            "grid_auto_columns": null,
            "grid_auto_flow": null,
            "grid_auto_rows": null,
            "grid_column": null,
            "grid_gap": null,
            "grid_row": null,
            "grid_template_areas": null,
            "grid_template_columns": null,
            "grid_template_rows": null,
            "height": null,
            "justify_content": null,
            "justify_items": null,
            "left": null,
            "margin": null,
            "max_height": null,
            "max_width": null,
            "min_height": null,
            "min_width": null,
            "object_fit": null,
            "object_position": null,
            "order": null,
            "overflow": null,
            "overflow_x": null,
            "overflow_y": null,
            "padding": null,
            "right": null,
            "top": null,
            "visibility": null,
            "width": null
          }
        },
        "39687c8c6e2f41fd8f072dc8822fe579": {
          "model_module": "@jupyter-widgets/base",
          "model_module_version": "1.2.0",
          "model_name": "LayoutModel",
          "state": {
            "_model_module": "@jupyter-widgets/base",
            "_model_module_version": "1.2.0",
            "_model_name": "LayoutModel",
            "_view_count": null,
            "_view_module": "@jupyter-widgets/base",
            "_view_module_version": "1.2.0",
            "_view_name": "LayoutView",
            "align_content": null,
            "align_items": null,
            "align_self": null,
            "border": null,
            "bottom": null,
            "display": null,
            "flex": null,
            "flex_flow": null,
            "grid_area": null,
            "grid_auto_columns": null,
            "grid_auto_flow": null,
            "grid_auto_rows": null,
            "grid_column": null,
            "grid_gap": null,
            "grid_row": null,
            "grid_template_areas": null,
            "grid_template_columns": null,
            "grid_template_rows": null,
            "height": null,
            "justify_content": null,
            "justify_items": null,
            "left": null,
            "margin": null,
            "max_height": null,
            "max_width": null,
            "min_height": null,
            "min_width": null,
            "object_fit": null,
            "object_position": null,
            "order": null,
            "overflow": null,
            "overflow_x": null,
            "overflow_y": null,
            "padding": null,
            "right": null,
            "top": null,
            "visibility": null,
            "width": null
          }
        },
        "3d7d5e1359754bafaf9446af91037330": {
          "model_module": "@jupyter-widgets/controls",
          "model_module_version": "1.5.0",
          "model_name": "ProgressStyleModel",
          "state": {
            "_model_module": "@jupyter-widgets/controls",
            "_model_module_version": "1.5.0",
            "_model_name": "ProgressStyleModel",
            "_view_count": null,
            "_view_module": "@jupyter-widgets/base",
            "_view_module_version": "1.2.0",
            "_view_name": "StyleView",
            "bar_color": null,
            "description_width": ""
          }
        },
        "3e8892ad45cc4a44b0fb527c7be56c7d": {
          "model_module": "@jupyter-widgets/controls",
          "model_module_version": "1.5.0",
          "model_name": "HTMLModel",
          "state": {
            "_dom_classes": [],
            "_model_module": "@jupyter-widgets/controls",
            "_model_module_version": "1.5.0",
            "_model_name": "HTMLModel",
            "_view_count": null,
            "_view_module": "@jupyter-widgets/controls",
            "_view_module_version": "1.5.0",
            "_view_name": "HTMLView",
            "description": "",
            "description_tooltip": null,
            "layout": "IPY_MODEL_05f1416828b8497ea9887c1bed261d20",
            "placeholder": "​",
            "style": "IPY_MODEL_08e2daa05c02493fb23b6f22afee9934",
            "value": " 85510/85511 [02:20&lt;00:00, 1431.85 examples/s]"
          }
        },
        "403e8036e011443f9f08bcfe64618d29": {
          "model_module": "@jupyter-widgets/controls",
          "model_module_version": "1.5.0",
          "model_name": "HTMLModel",
          "state": {
            "_dom_classes": [],
            "_model_module": "@jupyter-widgets/controls",
            "_model_module_version": "1.5.0",
            "_model_name": "HTMLModel",
            "_view_count": null,
            "_view_module": "@jupyter-widgets/controls",
            "_view_module_version": "1.5.0",
            "_view_name": "HTMLView",
            "description": "",
            "description_tooltip": null,
            "layout": "IPY_MODEL_38a2092df6db406db8be09169b8109cd",
            "placeholder": "​",
            "style": "IPY_MODEL_a89873d4c2184e01adaa511d352f6bb5",
            "value": "Dl Completed...: 100%"
          }
        },
        "4208d65f74f640b1bea63f68b77d2fed": {
          "model_module": "@jupyter-widgets/base",
          "model_module_version": "1.2.0",
          "model_name": "LayoutModel",
          "state": {
            "_model_module": "@jupyter-widgets/base",
            "_model_module_version": "1.2.0",
            "_model_name": "LayoutModel",
            "_view_count": null,
            "_view_module": "@jupyter-widgets/base",
            "_view_module_version": "1.2.0",
            "_view_name": "LayoutView",
            "align_content": null,
            "align_items": null,
            "align_self": null,
            "border": null,
            "bottom": null,
            "display": null,
            "flex": null,
            "flex_flow": null,
            "grid_area": null,
            "grid_auto_columns": null,
            "grid_auto_flow": null,
            "grid_auto_rows": null,
            "grid_column": null,
            "grid_gap": null,
            "grid_row": null,
            "grid_template_areas": null,
            "grid_template_columns": null,
            "grid_template_rows": null,
            "height": null,
            "justify_content": null,
            "justify_items": null,
            "left": null,
            "margin": null,
            "max_height": null,
            "max_width": null,
            "min_height": null,
            "min_width": null,
            "object_fit": null,
            "object_position": null,
            "order": null,
            "overflow": null,
            "overflow_x": null,
            "overflow_y": null,
            "padding": null,
            "right": null,
            "top": null,
            "visibility": null,
            "width": null
          }
        },
        "4273da32cd9a49b3ae700fb3d6fbedd0": {
          "model_module": "@jupyter-widgets/controls",
          "model_module_version": "1.5.0",
          "model_name": "FloatProgressModel",
          "state": {
            "_dom_classes": [],
            "_model_module": "@jupyter-widgets/controls",
            "_model_module_version": "1.5.0",
            "_model_name": "FloatProgressModel",
            "_view_count": null,
            "_view_module": "@jupyter-widgets/controls",
            "_view_module_version": "1.5.0",
            "_view_name": "ProgressView",
            "bar_style": "success",
            "description": "",
            "description_tooltip": null,
            "layout": "IPY_MODEL_7a586561029440a09a6e5ecd92228195",
            "max": 1,
            "min": 0,
            "orientation": "horizontal",
            "style": "IPY_MODEL_3d7d5e1359754bafaf9446af91037330",
            "value": 1
          }
        },
        "42b4f020ae3049319466539b5923cffc": {
          "model_module": "@jupyter-widgets/controls",
          "model_module_version": "1.5.0",
          "model_name": "HBoxModel",
          "state": {
            "_dom_classes": [],
            "_model_module": "@jupyter-widgets/controls",
            "_model_module_version": "1.5.0",
            "_model_name": "HBoxModel",
            "_view_count": null,
            "_view_module": "@jupyter-widgets/controls",
            "_view_module_version": "1.5.0",
            "_view_name": "HBoxView",
            "box_style": "",
            "children": [
              "IPY_MODEL_115ba5781eed486799054a89c6ff95d1",
              "IPY_MODEL_c537623134d94e1ea55a676ee3271f0b",
              "IPY_MODEL_65d260cec9aa44029ef3b0923a2b1e39"
            ],
            "layout": "IPY_MODEL_ab6f7a1b22a3424cb2b381804bc05751"
          }
        },
        "47e79578e3ec407fa7eade747fedec77": {
          "model_module": "@jupyter-widgets/base",
          "model_module_version": "1.2.0",
          "model_name": "LayoutModel",
          "state": {
            "_model_module": "@jupyter-widgets/base",
            "_model_module_version": "1.2.0",
            "_model_name": "LayoutModel",
            "_view_count": null,
            "_view_module": "@jupyter-widgets/base",
            "_view_module_version": "1.2.0",
            "_view_name": "LayoutView",
            "align_content": null,
            "align_items": null,
            "align_self": null,
            "border": null,
            "bottom": null,
            "display": null,
            "flex": null,
            "flex_flow": null,
            "grid_area": null,
            "grid_auto_columns": null,
            "grid_auto_flow": null,
            "grid_auto_rows": null,
            "grid_column": null,
            "grid_gap": null,
            "grid_row": null,
            "grid_template_areas": null,
            "grid_template_columns": null,
            "grid_template_rows": null,
            "height": null,
            "justify_content": null,
            "justify_items": null,
            "left": null,
            "margin": null,
            "max_height": null,
            "max_width": null,
            "min_height": null,
            "min_width": null,
            "object_fit": null,
            "object_position": null,
            "order": null,
            "overflow": null,
            "overflow_x": null,
            "overflow_y": null,
            "padding": null,
            "right": null,
            "top": null,
            "visibility": null,
            "width": "20px"
          }
        },
        "48fc22d8eab042f3937afd92911d3767": {
          "model_module": "@jupyter-widgets/base",
          "model_module_version": "1.2.0",
          "model_name": "LayoutModel",
          "state": {
            "_model_module": "@jupyter-widgets/base",
            "_model_module_version": "1.2.0",
            "_model_name": "LayoutModel",
            "_view_count": null,
            "_view_module": "@jupyter-widgets/base",
            "_view_module_version": "1.2.0",
            "_view_name": "LayoutView",
            "align_content": null,
            "align_items": null,
            "align_self": null,
            "border": null,
            "bottom": null,
            "display": null,
            "flex": null,
            "flex_flow": null,
            "grid_area": null,
            "grid_auto_columns": null,
            "grid_auto_flow": null,
            "grid_auto_rows": null,
            "grid_column": null,
            "grid_gap": null,
            "grid_row": null,
            "grid_template_areas": null,
            "grid_template_columns": null,
            "grid_template_rows": null,
            "height": null,
            "justify_content": null,
            "justify_items": null,
            "left": null,
            "margin": null,
            "max_height": null,
            "max_width": null,
            "min_height": null,
            "min_width": null,
            "object_fit": null,
            "object_position": null,
            "order": null,
            "overflow": null,
            "overflow_x": null,
            "overflow_y": null,
            "padding": null,
            "right": null,
            "top": null,
            "visibility": null,
            "width": null
          }
        },
        "4afdd666bcca43b0ade8d8b714686639": {
          "model_module": "@jupyter-widgets/controls",
          "model_module_version": "1.5.0",
          "model_name": "DescriptionStyleModel",
          "state": {
            "_model_module": "@jupyter-widgets/controls",
            "_model_module_version": "1.5.0",
            "_model_name": "DescriptionStyleModel",
            "_view_count": null,
            "_view_module": "@jupyter-widgets/base",
            "_view_module_version": "1.2.0",
            "_view_name": "StyleView",
            "description_width": ""
          }
        },
        "4c42c073d17840c8af1d268622f58722": {
          "model_module": "@jupyter-widgets/controls",
          "model_module_version": "1.5.0",
          "model_name": "FloatProgressModel",
          "state": {
            "_dom_classes": [],
            "_model_module": "@jupyter-widgets/controls",
            "_model_module_version": "1.5.0",
            "_model_name": "FloatProgressModel",
            "_view_count": null,
            "_view_module": "@jupyter-widgets/controls",
            "_view_module_version": "1.5.0",
            "_view_name": "ProgressView",
            "bar_style": "info",
            "description": "",
            "description_tooltip": null,
            "layout": "IPY_MODEL_77fe1cd73c924f23874607c0f6ea02b3",
            "max": 1,
            "min": 0,
            "orientation": "horizontal",
            "style": "IPY_MODEL_adc52c96e75146ddbe9be02b137d090b",
            "value": 1
          }
        },
        "5036862f720e465a8634e2ff4f2cee9c": {
          "model_module": "@jupyter-widgets/controls",
          "model_module_version": "1.5.0",
          "model_name": "DescriptionStyleModel",
          "state": {
            "_model_module": "@jupyter-widgets/controls",
            "_model_module_version": "1.5.0",
            "_model_name": "DescriptionStyleModel",
            "_view_count": null,
            "_view_module": "@jupyter-widgets/base",
            "_view_module_version": "1.2.0",
            "_view_name": "StyleView",
            "description_width": ""
          }
        },
        "5676bbba7e4547f9ac1cf0779ad472d2": {
          "model_module": "@jupyter-widgets/base",
          "model_module_version": "1.2.0",
          "model_name": "LayoutModel",
          "state": {
            "_model_module": "@jupyter-widgets/base",
            "_model_module_version": "1.2.0",
            "_model_name": "LayoutModel",
            "_view_count": null,
            "_view_module": "@jupyter-widgets/base",
            "_view_module_version": "1.2.0",
            "_view_name": "LayoutView",
            "align_content": null,
            "align_items": null,
            "align_self": null,
            "border": null,
            "bottom": null,
            "display": null,
            "flex": null,
            "flex_flow": null,
            "grid_area": null,
            "grid_auto_columns": null,
            "grid_auto_flow": null,
            "grid_auto_rows": null,
            "grid_column": null,
            "grid_gap": null,
            "grid_row": null,
            "grid_template_areas": null,
            "grid_template_columns": null,
            "grid_template_rows": null,
            "height": null,
            "justify_content": null,
            "justify_items": null,
            "left": null,
            "margin": null,
            "max_height": null,
            "max_width": null,
            "min_height": null,
            "min_width": null,
            "object_fit": null,
            "object_position": null,
            "order": null,
            "overflow": null,
            "overflow_x": null,
            "overflow_y": null,
            "padding": null,
            "right": null,
            "top": null,
            "visibility": null,
            "width": null
          }
        },
        "5701351a577d4c788a42f72d8f19b33b": {
          "model_module": "@jupyter-widgets/base",
          "model_module_version": "1.2.0",
          "model_name": "LayoutModel",
          "state": {
            "_model_module": "@jupyter-widgets/base",
            "_model_module_version": "1.2.0",
            "_model_name": "LayoutModel",
            "_view_count": null,
            "_view_module": "@jupyter-widgets/base",
            "_view_module_version": "1.2.0",
            "_view_name": "LayoutView",
            "align_content": null,
            "align_items": null,
            "align_self": null,
            "border": null,
            "bottom": null,
            "display": null,
            "flex": null,
            "flex_flow": null,
            "grid_area": null,
            "grid_auto_columns": null,
            "grid_auto_flow": null,
            "grid_auto_rows": null,
            "grid_column": null,
            "grid_gap": null,
            "grid_row": null,
            "grid_template_areas": null,
            "grid_template_columns": null,
            "grid_template_rows": null,
            "height": null,
            "justify_content": null,
            "justify_items": null,
            "left": null,
            "margin": null,
            "max_height": null,
            "max_width": null,
            "min_height": null,
            "min_width": null,
            "object_fit": null,
            "object_position": null,
            "order": null,
            "overflow": null,
            "overflow_x": null,
            "overflow_y": null,
            "padding": null,
            "right": null,
            "top": null,
            "visibility": null,
            "width": null
          }
        },
        "582a01c96fc7485da551d2c1fe68e72a": {
          "model_module": "@jupyter-widgets/controls",
          "model_module_version": "1.5.0",
          "model_name": "DescriptionStyleModel",
          "state": {
            "_model_module": "@jupyter-widgets/controls",
            "_model_module_version": "1.5.0",
            "_model_name": "DescriptionStyleModel",
            "_view_count": null,
            "_view_module": "@jupyter-widgets/base",
            "_view_module_version": "1.2.0",
            "_view_name": "StyleView",
            "description_width": ""
          }
        },
        "650127bf9679430bbbade80ecf33d2b6": {
          "model_module": "@jupyter-widgets/controls",
          "model_module_version": "1.5.0",
          "model_name": "DescriptionStyleModel",
          "state": {
            "_model_module": "@jupyter-widgets/controls",
            "_model_module_version": "1.5.0",
            "_model_name": "DescriptionStyleModel",
            "_view_count": null,
            "_view_module": "@jupyter-widgets/base",
            "_view_module_version": "1.2.0",
            "_view_name": "StyleView",
            "description_width": ""
          }
        },
        "65d260cec9aa44029ef3b0923a2b1e39": {
          "model_module": "@jupyter-widgets/controls",
          "model_module_version": "1.5.0",
          "model_name": "HTMLModel",
          "state": {
            "_dom_classes": [],
            "_model_module": "@jupyter-widgets/controls",
            "_model_module_version": "1.5.0",
            "_model_name": "HTMLModel",
            "_view_count": null,
            "_view_module": "@jupyter-widgets/controls",
            "_view_module_version": "1.5.0",
            "_view_name": "HTMLView",
            "description": "",
            "description_tooltip": null,
            "layout": "IPY_MODEL_7606ff9d1fae4a1d9014b43a61004404",
            "placeholder": "​",
            "style": "IPY_MODEL_082f381ba40f4762803f369f054cc987",
            "value": " 2423/2423 [00:44&lt;00:00, 56.11 MiB/s]"
          }
        },
        "680ce27788ed47559ccbb74fb1b41e46": {
          "model_module": "@jupyter-widgets/controls",
          "model_module_version": "1.5.0",
          "model_name": "HTMLModel",
          "state": {
            "_dom_classes": [],
            "_model_module": "@jupyter-widgets/controls",
            "_model_module_version": "1.5.0",
            "_model_name": "HTMLModel",
            "_view_count": null,
            "_view_module": "@jupyter-widgets/controls",
            "_view_module_version": "1.5.0",
            "_view_name": "HTMLView",
            "description": "",
            "description_tooltip": null,
            "layout": "IPY_MODEL_9f177d751e9f4ca5912ab376112e84af",
            "placeholder": "​",
            "style": "IPY_MODEL_2cf5d74e292b4b5ba44e2d64aee66276",
            "value": " 4890/0 [00:33&lt;00:00, 154.79 examples/s]"
          }
        },
        "6ea7524019344be3a37a519a699589c4": {
          "model_module": "@jupyter-widgets/controls",
          "model_module_version": "1.5.0",
          "model_name": "ProgressStyleModel",
          "state": {
            "_model_module": "@jupyter-widgets/controls",
            "_model_module_version": "1.5.0",
            "_model_name": "ProgressStyleModel",
            "_view_count": null,
            "_view_module": "@jupyter-widgets/base",
            "_view_module_version": "1.2.0",
            "_view_name": "StyleView",
            "bar_color": null,
            "description_width": ""
          }
        },
        "70f789b7efc043a2bd905cd3b9edd0a7": {
          "model_module": "@jupyter-widgets/controls",
          "model_module_version": "1.5.0",
          "model_name": "DescriptionStyleModel",
          "state": {
            "_model_module": "@jupyter-widgets/controls",
            "_model_module_version": "1.5.0",
            "_model_name": "DescriptionStyleModel",
            "_view_count": null,
            "_view_module": "@jupyter-widgets/base",
            "_view_module_version": "1.2.0",
            "_view_name": "StyleView",
            "description_width": ""
          }
        },
        "72db5e3aaa00422e984c6c96594610aa": {
          "model_module": "@jupyter-widgets/base",
          "model_module_version": "1.2.0",
          "model_name": "LayoutModel",
          "state": {
            "_model_module": "@jupyter-widgets/base",
            "_model_module_version": "1.2.0",
            "_model_name": "LayoutModel",
            "_view_count": null,
            "_view_module": "@jupyter-widgets/base",
            "_view_module_version": "1.2.0",
            "_view_name": "LayoutView",
            "align_content": null,
            "align_items": null,
            "align_self": null,
            "border": null,
            "bottom": null,
            "display": null,
            "flex": null,
            "flex_flow": null,
            "grid_area": null,
            "grid_auto_columns": null,
            "grid_auto_flow": null,
            "grid_auto_rows": null,
            "grid_column": null,
            "grid_gap": null,
            "grid_row": null,
            "grid_template_areas": null,
            "grid_template_columns": null,
            "grid_template_rows": null,
            "height": null,
            "justify_content": null,
            "justify_items": null,
            "left": null,
            "margin": null,
            "max_height": null,
            "max_width": null,
            "min_height": null,
            "min_width": null,
            "object_fit": null,
            "object_position": null,
            "order": null,
            "overflow": null,
            "overflow_x": null,
            "overflow_y": null,
            "padding": null,
            "right": null,
            "top": null,
            "visibility": null,
            "width": null
          }
        },
        "72e0b17f6ca442b784bc635112a2416f": {
          "model_module": "@jupyter-widgets/controls",
          "model_module_version": "1.5.0",
          "model_name": "HTMLModel",
          "state": {
            "_dom_classes": [],
            "_model_module": "@jupyter-widgets/controls",
            "_model_module_version": "1.5.0",
            "_model_name": "HTMLModel",
            "_view_count": null,
            "_view_module": "@jupyter-widgets/controls",
            "_view_module_version": "1.5.0",
            "_view_name": "HTMLView",
            "description": "",
            "description_tooltip": null,
            "layout": "IPY_MODEL_cb77715818bd4be781aa9cafb5f7ac62",
            "placeholder": "​",
            "style": "IPY_MODEL_df4c61bdd443427fac6693cabc1b0e76",
            "value": ""
          }
        },
        "7405f4b6e9a34fe38330dbc713c30ef5": {
          "model_module": "@jupyter-widgets/base",
          "model_module_version": "1.2.0",
          "model_name": "LayoutModel",
          "state": {
            "_model_module": "@jupyter-widgets/base",
            "_model_module_version": "1.2.0",
            "_model_name": "LayoutModel",
            "_view_count": null,
            "_view_module": "@jupyter-widgets/base",
            "_view_module_version": "1.2.0",
            "_view_name": "LayoutView",
            "align_content": null,
            "align_items": null,
            "align_self": null,
            "border": null,
            "bottom": null,
            "display": null,
            "flex": null,
            "flex_flow": null,
            "grid_area": null,
            "grid_auto_columns": null,
            "grid_auto_flow": null,
            "grid_auto_rows": null,
            "grid_column": null,
            "grid_gap": null,
            "grid_row": null,
            "grid_template_areas": null,
            "grid_template_columns": null,
            "grid_template_rows": null,
            "height": null,
            "justify_content": null,
            "justify_items": null,
            "left": null,
            "margin": null,
            "max_height": null,
            "max_width": null,
            "min_height": null,
            "min_width": null,
            "object_fit": null,
            "object_position": null,
            "order": null,
            "overflow": null,
            "overflow_x": null,
            "overflow_y": null,
            "padding": null,
            "right": null,
            "top": null,
            "visibility": null,
            "width": null
          }
        },
        "7606ff9d1fae4a1d9014b43a61004404": {
          "model_module": "@jupyter-widgets/base",
          "model_module_version": "1.2.0",
          "model_name": "LayoutModel",
          "state": {
            "_model_module": "@jupyter-widgets/base",
            "_model_module_version": "1.2.0",
            "_model_name": "LayoutModel",
            "_view_count": null,
            "_view_module": "@jupyter-widgets/base",
            "_view_module_version": "1.2.0",
            "_view_name": "LayoutView",
            "align_content": null,
            "align_items": null,
            "align_self": null,
            "border": null,
            "bottom": null,
            "display": null,
            "flex": null,
            "flex_flow": null,
            "grid_area": null,
            "grid_auto_columns": null,
            "grid_auto_flow": null,
            "grid_auto_rows": null,
            "grid_column": null,
            "grid_gap": null,
            "grid_row": null,
            "grid_template_areas": null,
            "grid_template_columns": null,
            "grid_template_rows": null,
            "height": null,
            "justify_content": null,
            "justify_items": null,
            "left": null,
            "margin": null,
            "max_height": null,
            "max_width": null,
            "min_height": null,
            "min_width": null,
            "object_fit": null,
            "object_position": null,
            "order": null,
            "overflow": null,
            "overflow_x": null,
            "overflow_y": null,
            "padding": null,
            "right": null,
            "top": null,
            "visibility": null,
            "width": null
          }
        },
        "77fe1cd73c924f23874607c0f6ea02b3": {
          "model_module": "@jupyter-widgets/base",
          "model_module_version": "1.2.0",
          "model_name": "LayoutModel",
          "state": {
            "_model_module": "@jupyter-widgets/base",
            "_model_module_version": "1.2.0",
            "_model_name": "LayoutModel",
            "_view_count": null,
            "_view_module": "@jupyter-widgets/base",
            "_view_module_version": "1.2.0",
            "_view_name": "LayoutView",
            "align_content": null,
            "align_items": null,
            "align_self": null,
            "border": null,
            "bottom": null,
            "display": null,
            "flex": null,
            "flex_flow": null,
            "grid_area": null,
            "grid_auto_columns": null,
            "grid_auto_flow": null,
            "grid_auto_rows": null,
            "grid_column": null,
            "grid_gap": null,
            "grid_row": null,
            "grid_template_areas": null,
            "grid_template_columns": null,
            "grid_template_rows": null,
            "height": null,
            "justify_content": null,
            "justify_items": null,
            "left": null,
            "margin": null,
            "max_height": null,
            "max_width": null,
            "min_height": null,
            "min_width": null,
            "object_fit": null,
            "object_position": null,
            "order": null,
            "overflow": null,
            "overflow_x": null,
            "overflow_y": null,
            "padding": null,
            "right": null,
            "top": null,
            "visibility": null,
            "width": "20px"
          }
        },
        "7a586561029440a09a6e5ecd92228195": {
          "model_module": "@jupyter-widgets/base",
          "model_module_version": "1.2.0",
          "model_name": "LayoutModel",
          "state": {
            "_model_module": "@jupyter-widgets/base",
            "_model_module_version": "1.2.0",
            "_model_name": "LayoutModel",
            "_view_count": null,
            "_view_module": "@jupyter-widgets/base",
            "_view_module_version": "1.2.0",
            "_view_name": "LayoutView",
            "align_content": null,
            "align_items": null,
            "align_self": null,
            "border": null,
            "bottom": null,
            "display": null,
            "flex": null,
            "flex_flow": null,
            "grid_area": null,
            "grid_auto_columns": null,
            "grid_auto_flow": null,
            "grid_auto_rows": null,
            "grid_column": null,
            "grid_gap": null,
            "grid_row": null,
            "grid_template_areas": null,
            "grid_template_columns": null,
            "grid_template_rows": null,
            "height": null,
            "justify_content": null,
            "justify_items": null,
            "left": null,
            "margin": null,
            "max_height": null,
            "max_width": null,
            "min_height": null,
            "min_width": null,
            "object_fit": null,
            "object_position": null,
            "order": null,
            "overflow": null,
            "overflow_x": null,
            "overflow_y": null,
            "padding": null,
            "right": null,
            "top": null,
            "visibility": null,
            "width": "20px"
          }
        },
        "7bc834feca1f45328ee5ac09fa12fe52": {
          "model_module": "@jupyter-widgets/controls",
          "model_module_version": "1.5.0",
          "model_name": "DescriptionStyleModel",
          "state": {
            "_model_module": "@jupyter-widgets/controls",
            "_model_module_version": "1.5.0",
            "_model_name": "DescriptionStyleModel",
            "_view_count": null,
            "_view_module": "@jupyter-widgets/base",
            "_view_module_version": "1.2.0",
            "_view_name": "StyleView",
            "description_width": ""
          }
        },
        "7dce796c099543ec88b20a62a1b92ef2": {
          "model_module": "@jupyter-widgets/base",
          "model_module_version": "1.2.0",
          "model_name": "LayoutModel",
          "state": {
            "_model_module": "@jupyter-widgets/base",
            "_model_module_version": "1.2.0",
            "_model_name": "LayoutModel",
            "_view_count": null,
            "_view_module": "@jupyter-widgets/base",
            "_view_module_version": "1.2.0",
            "_view_name": "LayoutView",
            "align_content": null,
            "align_items": null,
            "align_self": null,
            "border": null,
            "bottom": null,
            "display": null,
            "flex": null,
            "flex_flow": null,
            "grid_area": null,
            "grid_auto_columns": null,
            "grid_auto_flow": null,
            "grid_auto_rows": null,
            "grid_column": null,
            "grid_gap": null,
            "grid_row": null,
            "grid_template_areas": null,
            "grid_template_columns": null,
            "grid_template_rows": null,
            "height": null,
            "justify_content": null,
            "justify_items": null,
            "left": null,
            "margin": null,
            "max_height": null,
            "max_width": null,
            "min_height": null,
            "min_width": null,
            "object_fit": null,
            "object_position": null,
            "order": null,
            "overflow": null,
            "overflow_x": null,
            "overflow_y": null,
            "padding": null,
            "right": null,
            "top": null,
            "visibility": null,
            "width": "20px"
          }
        },
        "8201474ddf17463eb39311e00d2d01c8": {
          "model_module": "@jupyter-widgets/controls",
          "model_module_version": "1.5.0",
          "model_name": "FloatProgressModel",
          "state": {
            "_dom_classes": [],
            "_model_module": "@jupyter-widgets/controls",
            "_model_module_version": "1.5.0",
            "_model_name": "FloatProgressModel",
            "_view_count": null,
            "_view_module": "@jupyter-widgets/controls",
            "_view_module_version": "1.5.0",
            "_view_name": "ProgressView",
            "bar_style": "info",
            "description": "",
            "description_tooltip": null,
            "layout": "IPY_MODEL_7dce796c099543ec88b20a62a1b92ef2",
            "max": 1,
            "min": 0,
            "orientation": "horizontal",
            "style": "IPY_MODEL_c4eabbcc50b145679d4cf862aff34476",
            "value": 1
          }
        },
        "82a570256dc34d76a7fbf56524d0f3d5": {
          "model_module": "@jupyter-widgets/controls",
          "model_module_version": "1.5.0",
          "model_name": "FloatProgressModel",
          "state": {
            "_dom_classes": [],
            "_model_module": "@jupyter-widgets/controls",
            "_model_module_version": "1.5.0",
            "_model_name": "FloatProgressModel",
            "_view_count": null,
            "_view_module": "@jupyter-widgets/controls",
            "_view_module_version": "1.5.0",
            "_view_name": "ProgressView",
            "bar_style": "info",
            "description": "",
            "description_tooltip": null,
            "layout": "IPY_MODEL_b1a916d2ae1842cd9f42e37f4c4cd7c7",
            "max": 1,
            "min": 0,
            "orientation": "horizontal",
            "style": "IPY_MODEL_1126c99c48ed4c54a42df9e62f1a8b4c",
            "value": 1
          }
        },
        "8502621448a74334b75c82cdf87328bb": {
          "model_module": "@jupyter-widgets/base",
          "model_module_version": "1.2.0",
          "model_name": "LayoutModel",
          "state": {
            "_model_module": "@jupyter-widgets/base",
            "_model_module_version": "1.2.0",
            "_model_name": "LayoutModel",
            "_view_count": null,
            "_view_module": "@jupyter-widgets/base",
            "_view_module_version": "1.2.0",
            "_view_name": "LayoutView",
            "align_content": null,
            "align_items": null,
            "align_self": null,
            "border": null,
            "bottom": null,
            "display": null,
            "flex": null,
            "flex_flow": null,
            "grid_area": null,
            "grid_auto_columns": null,
            "grid_auto_flow": null,
            "grid_auto_rows": null,
            "grid_column": null,
            "grid_gap": null,
            "grid_row": null,
            "grid_template_areas": null,
            "grid_template_columns": null,
            "grid_template_rows": null,
            "height": null,
            "justify_content": null,
            "justify_items": null,
            "left": null,
            "margin": null,
            "max_height": null,
            "max_width": null,
            "min_height": null,
            "min_width": null,
            "object_fit": null,
            "object_position": null,
            "order": null,
            "overflow": null,
            "overflow_x": null,
            "overflow_y": null,
            "padding": null,
            "right": null,
            "top": null,
            "visibility": null,
            "width": null
          }
        },
        "87d414b67437424a88ea870a04f2c311": {
          "model_module": "@jupyter-widgets/base",
          "model_module_version": "1.2.0",
          "model_name": "LayoutModel",
          "state": {
            "_model_module": "@jupyter-widgets/base",
            "_model_module_version": "1.2.0",
            "_model_name": "LayoutModel",
            "_view_count": null,
            "_view_module": "@jupyter-widgets/base",
            "_view_module_version": "1.2.0",
            "_view_name": "LayoutView",
            "align_content": null,
            "align_items": null,
            "align_self": null,
            "border": null,
            "bottom": null,
            "display": null,
            "flex": null,
            "flex_flow": null,
            "grid_area": null,
            "grid_auto_columns": null,
            "grid_auto_flow": null,
            "grid_auto_rows": null,
            "grid_column": null,
            "grid_gap": null,
            "grid_row": null,
            "grid_template_areas": null,
            "grid_template_columns": null,
            "grid_template_rows": null,
            "height": null,
            "justify_content": null,
            "justify_items": null,
            "left": null,
            "margin": null,
            "max_height": null,
            "max_width": null,
            "min_height": null,
            "min_width": null,
            "object_fit": null,
            "object_position": null,
            "order": null,
            "overflow": null,
            "overflow_x": null,
            "overflow_y": null,
            "padding": null,
            "right": null,
            "top": null,
            "visibility": null,
            "width": null
          }
        },
        "87e23f3b24bf42a4b649e741752ad96c": {
          "model_module": "@jupyter-widgets/controls",
          "model_module_version": "1.5.0",
          "model_name": "HTMLModel",
          "state": {
            "_dom_classes": [],
            "_model_module": "@jupyter-widgets/controls",
            "_model_module_version": "1.5.0",
            "_model_name": "HTMLModel",
            "_view_count": null,
            "_view_module": "@jupyter-widgets/controls",
            "_view_module_version": "1.5.0",
            "_view_name": "HTMLView",
            "description": "",
            "description_tooltip": null,
            "layout": "IPY_MODEL_39687c8c6e2f41fd8f072dc8822fe579",
            "placeholder": "​",
            "style": "IPY_MODEL_7bc834feca1f45328ee5ac09fa12fe52",
            "value": ""
          }
        },
        "8b1df2c884b44edda758a1172697601a": {
          "model_module": "@jupyter-widgets/controls",
          "model_module_version": "1.5.0",
          "model_name": "ProgressStyleModel",
          "state": {
            "_model_module": "@jupyter-widgets/controls",
            "_model_module_version": "1.5.0",
            "_model_name": "ProgressStyleModel",
            "_view_count": null,
            "_view_module": "@jupyter-widgets/base",
            "_view_module_version": "1.2.0",
            "_view_name": "StyleView",
            "bar_color": null,
            "description_width": ""
          }
        },
        "90de478c64894473a07531da446e3700": {
          "model_module": "@jupyter-widgets/controls",
          "model_module_version": "1.5.0",
          "model_name": "FloatProgressModel",
          "state": {
            "_dom_classes": [],
            "_model_module": "@jupyter-widgets/controls",
            "_model_module_version": "1.5.0",
            "_model_name": "FloatProgressModel",
            "_view_count": null,
            "_view_module": "@jupyter-widgets/controls",
            "_view_module_version": "1.5.0",
            "_view_name": "ProgressView",
            "bar_style": "danger",
            "description": "",
            "description_tooltip": null,
            "layout": "IPY_MODEL_e7ccd2b99fd340b6b1b51c688ae81728",
            "max": 10102,
            "min": 0,
            "orientation": "horizontal",
            "style": "IPY_MODEL_8b1df2c884b44edda758a1172697601a",
            "value": 10101
          }
        },
        "926c53d1bea54f1c958eb1623de9f5eb": {
          "model_module": "@jupyter-widgets/controls",
          "model_module_version": "1.5.0",
          "model_name": "FloatProgressModel",
          "state": {
            "_dom_classes": [],
            "_model_module": "@jupyter-widgets/controls",
            "_model_module_version": "1.5.0",
            "_model_name": "FloatProgressModel",
            "_view_count": null,
            "_view_module": "@jupyter-widgets/controls",
            "_view_module_version": "1.5.0",
            "_view_name": "ProgressView",
            "bar_style": "danger",
            "description": "",
            "description_tooltip": null,
            "layout": "IPY_MODEL_efccef0040b24b488993779905fa145e",
            "max": 4890,
            "min": 0,
            "orientation": "horizontal",
            "style": "IPY_MODEL_6ea7524019344be3a37a519a699589c4",
            "value": 4889
          }
        },
        "92988901f8db4863b99a36e980246686": {
          "model_module": "@jupyter-widgets/controls",
          "model_module_version": "1.5.0",
          "model_name": "HTMLModel",
          "state": {
            "_dom_classes": [],
            "_model_module": "@jupyter-widgets/controls",
            "_model_module_version": "1.5.0",
            "_model_name": "HTMLModel",
            "_view_count": null,
            "_view_module": "@jupyter-widgets/controls",
            "_view_module_version": "1.5.0",
            "_view_name": "HTMLView",
            "description": "",
            "description_tooltip": null,
            "layout": "IPY_MODEL_72db5e3aaa00422e984c6c96594610aa",
            "placeholder": "​",
            "style": "IPY_MODEL_582a01c96fc7485da551d2c1fe68e72a",
            "value": ""
          }
        },
        "9afc5e4fa3774f08b35cc815cc665ef7": {
          "model_module": "@jupyter-widgets/base",
          "model_module_version": "1.2.0",
          "model_name": "LayoutModel",
          "state": {
            "_model_module": "@jupyter-widgets/base",
            "_model_module_version": "1.2.0",
            "_model_name": "LayoutModel",
            "_view_count": null,
            "_view_module": "@jupyter-widgets/base",
            "_view_module_version": "1.2.0",
            "_view_name": "LayoutView",
            "align_content": null,
            "align_items": null,
            "align_self": null,
            "border": null,
            "bottom": null,
            "display": null,
            "flex": null,
            "flex_flow": null,
            "grid_area": null,
            "grid_auto_columns": null,
            "grid_auto_flow": null,
            "grid_auto_rows": null,
            "grid_column": null,
            "grid_gap": null,
            "grid_row": null,
            "grid_template_areas": null,
            "grid_template_columns": null,
            "grid_template_rows": null,
            "height": null,
            "justify_content": null,
            "justify_items": null,
            "left": null,
            "margin": null,
            "max_height": null,
            "max_width": null,
            "min_height": null,
            "min_width": null,
            "object_fit": null,
            "object_position": null,
            "order": null,
            "overflow": null,
            "overflow_x": null,
            "overflow_y": null,
            "padding": null,
            "right": null,
            "top": null,
            "visibility": null,
            "width": null
          }
        },
        "9eef7276fab14f6d95a30f96fe09f9f3": {
          "model_module": "@jupyter-widgets/controls",
          "model_module_version": "1.5.0",
          "model_name": "ProgressStyleModel",
          "state": {
            "_model_module": "@jupyter-widgets/controls",
            "_model_module_version": "1.5.0",
            "_model_name": "ProgressStyleModel",
            "_view_count": null,
            "_view_module": "@jupyter-widgets/base",
            "_view_module_version": "1.2.0",
            "_view_name": "StyleView",
            "bar_color": null,
            "description_width": ""
          }
        },
        "9f177d751e9f4ca5912ab376112e84af": {
          "model_module": "@jupyter-widgets/base",
          "model_module_version": "1.2.0",
          "model_name": "LayoutModel",
          "state": {
            "_model_module": "@jupyter-widgets/base",
            "_model_module_version": "1.2.0",
            "_model_name": "LayoutModel",
            "_view_count": null,
            "_view_module": "@jupyter-widgets/base",
            "_view_module_version": "1.2.0",
            "_view_name": "LayoutView",
            "align_content": null,
            "align_items": null,
            "align_self": null,
            "border": null,
            "bottom": null,
            "display": null,
            "flex": null,
            "flex_flow": null,
            "grid_area": null,
            "grid_auto_columns": null,
            "grid_auto_flow": null,
            "grid_auto_rows": null,
            "grid_column": null,
            "grid_gap": null,
            "grid_row": null,
            "grid_template_areas": null,
            "grid_template_columns": null,
            "grid_template_rows": null,
            "height": null,
            "justify_content": null,
            "justify_items": null,
            "left": null,
            "margin": null,
            "max_height": null,
            "max_width": null,
            "min_height": null,
            "min_width": null,
            "object_fit": null,
            "object_position": null,
            "order": null,
            "overflow": null,
            "overflow_x": null,
            "overflow_y": null,
            "padding": null,
            "right": null,
            "top": null,
            "visibility": null,
            "width": null
          }
        },
        "a1f6c525c69e4d9282714a6be9d048c1": {
          "model_module": "@jupyter-widgets/controls",
          "model_module_version": "1.5.0",
          "model_name": "HBoxModel",
          "state": {
            "_dom_classes": [],
            "_model_module": "@jupyter-widgets/controls",
            "_model_module_version": "1.5.0",
            "_model_name": "HBoxModel",
            "_view_count": null,
            "_view_module": "@jupyter-widgets/controls",
            "_view_module_version": "1.5.0",
            "_view_name": "HBoxView",
            "box_style": "",
            "children": [
              "IPY_MODEL_df1fac49d5d045c09df74677a397dde2",
              "IPY_MODEL_cb44cdac87d94b1eac5ec8b17a989c31",
              "IPY_MODEL_3e8892ad45cc4a44b0fb527c7be56c7d"
            ],
            "layout": "IPY_MODEL_48fc22d8eab042f3937afd92911d3767"
          }
        },
        "a89873d4c2184e01adaa511d352f6bb5": {
          "model_module": "@jupyter-widgets/controls",
          "model_module_version": "1.5.0",
          "model_name": "DescriptionStyleModel",
          "state": {
            "_model_module": "@jupyter-widgets/controls",
            "_model_module_version": "1.5.0",
            "_model_name": "DescriptionStyleModel",
            "_view_count": null,
            "_view_module": "@jupyter-widgets/base",
            "_view_module_version": "1.2.0",
            "_view_name": "StyleView",
            "description_width": ""
          }
        },
        "ab13cb424ba54b678428e144cac7775a": {
          "model_module": "@jupyter-widgets/base",
          "model_module_version": "1.2.0",
          "model_name": "LayoutModel",
          "state": {
            "_model_module": "@jupyter-widgets/base",
            "_model_module_version": "1.2.0",
            "_model_name": "LayoutModel",
            "_view_count": null,
            "_view_module": "@jupyter-widgets/base",
            "_view_module_version": "1.2.0",
            "_view_name": "LayoutView",
            "align_content": null,
            "align_items": null,
            "align_self": null,
            "border": null,
            "bottom": null,
            "display": null,
            "flex": null,
            "flex_flow": null,
            "grid_area": null,
            "grid_auto_columns": null,
            "grid_auto_flow": null,
            "grid_auto_rows": null,
            "grid_column": null,
            "grid_gap": null,
            "grid_row": null,
            "grid_template_areas": null,
            "grid_template_columns": null,
            "grid_template_rows": null,
            "height": null,
            "justify_content": null,
            "justify_items": null,
            "left": null,
            "margin": null,
            "max_height": null,
            "max_width": null,
            "min_height": null,
            "min_width": null,
            "object_fit": null,
            "object_position": null,
            "order": null,
            "overflow": null,
            "overflow_x": null,
            "overflow_y": null,
            "padding": null,
            "right": null,
            "top": null,
            "visibility": null,
            "width": null
          }
        },
        "ab6f7a1b22a3424cb2b381804bc05751": {
          "model_module": "@jupyter-widgets/base",
          "model_module_version": "1.2.0",
          "model_name": "LayoutModel",
          "state": {
            "_model_module": "@jupyter-widgets/base",
            "_model_module_version": "1.2.0",
            "_model_name": "LayoutModel",
            "_view_count": null,
            "_view_module": "@jupyter-widgets/base",
            "_view_module_version": "1.2.0",
            "_view_name": "LayoutView",
            "align_content": null,
            "align_items": null,
            "align_self": null,
            "border": null,
            "bottom": null,
            "display": null,
            "flex": null,
            "flex_flow": null,
            "grid_area": null,
            "grid_auto_columns": null,
            "grid_auto_flow": null,
            "grid_auto_rows": null,
            "grid_column": null,
            "grid_gap": null,
            "grid_row": null,
            "grid_template_areas": null,
            "grid_template_columns": null,
            "grid_template_rows": null,
            "height": null,
            "justify_content": null,
            "justify_items": null,
            "left": null,
            "margin": null,
            "max_height": null,
            "max_width": null,
            "min_height": null,
            "min_width": null,
            "object_fit": null,
            "object_position": null,
            "order": null,
            "overflow": null,
            "overflow_x": null,
            "overflow_y": null,
            "padding": null,
            "right": null,
            "top": null,
            "visibility": null,
            "width": null
          }
        },
        "adc52c96e75146ddbe9be02b137d090b": {
          "model_module": "@jupyter-widgets/controls",
          "model_module_version": "1.5.0",
          "model_name": "ProgressStyleModel",
          "state": {
            "_model_module": "@jupyter-widgets/controls",
            "_model_module_version": "1.5.0",
            "_model_name": "ProgressStyleModel",
            "_view_count": null,
            "_view_module": "@jupyter-widgets/base",
            "_view_module_version": "1.2.0",
            "_view_name": "StyleView",
            "bar_color": null,
            "description_width": ""
          }
        },
        "b02f05313faa42569416ae4c3bdc2b00": {
          "model_module": "@jupyter-widgets/base",
          "model_module_version": "1.2.0",
          "model_name": "LayoutModel",
          "state": {
            "_model_module": "@jupyter-widgets/base",
            "_model_module_version": "1.2.0",
            "_model_name": "LayoutModel",
            "_view_count": null,
            "_view_module": "@jupyter-widgets/base",
            "_view_module_version": "1.2.0",
            "_view_name": "LayoutView",
            "align_content": null,
            "align_items": null,
            "align_self": null,
            "border": null,
            "bottom": null,
            "display": null,
            "flex": null,
            "flex_flow": null,
            "grid_area": null,
            "grid_auto_columns": null,
            "grid_auto_flow": null,
            "grid_auto_rows": null,
            "grid_column": null,
            "grid_gap": null,
            "grid_row": null,
            "grid_template_areas": null,
            "grid_template_columns": null,
            "grid_template_rows": null,
            "height": null,
            "justify_content": null,
            "justify_items": null,
            "left": null,
            "margin": null,
            "max_height": null,
            "max_width": null,
            "min_height": null,
            "min_width": null,
            "object_fit": null,
            "object_position": null,
            "order": null,
            "overflow": null,
            "overflow_x": null,
            "overflow_y": null,
            "padding": null,
            "right": null,
            "top": null,
            "visibility": null,
            "width": null
          }
        },
        "b1a916d2ae1842cd9f42e37f4c4cd7c7": {
          "model_module": "@jupyter-widgets/base",
          "model_module_version": "1.2.0",
          "model_name": "LayoutModel",
          "state": {
            "_model_module": "@jupyter-widgets/base",
            "_model_module_version": "1.2.0",
            "_model_name": "LayoutModel",
            "_view_count": null,
            "_view_module": "@jupyter-widgets/base",
            "_view_module_version": "1.2.0",
            "_view_name": "LayoutView",
            "align_content": null,
            "align_items": null,
            "align_self": null,
            "border": null,
            "bottom": null,
            "display": null,
            "flex": null,
            "flex_flow": null,
            "grid_area": null,
            "grid_auto_columns": null,
            "grid_auto_flow": null,
            "grid_auto_rows": null,
            "grid_column": null,
            "grid_gap": null,
            "grid_row": null,
            "grid_template_areas": null,
            "grid_template_columns": null,
            "grid_template_rows": null,
            "height": null,
            "justify_content": null,
            "justify_items": null,
            "left": null,
            "margin": null,
            "max_height": null,
            "max_width": null,
            "min_height": null,
            "min_width": null,
            "object_fit": null,
            "object_position": null,
            "order": null,
            "overflow": null,
            "overflow_x": null,
            "overflow_y": null,
            "padding": null,
            "right": null,
            "top": null,
            "visibility": null,
            "width": "20px"
          }
        },
        "b36d78e8817645b292ff128ef86b3f5c": {
          "model_module": "@jupyter-widgets/controls",
          "model_module_version": "1.5.0",
          "model_name": "HBoxModel",
          "state": {
            "_dom_classes": [],
            "_model_module": "@jupyter-widgets/controls",
            "_model_module_version": "1.5.0",
            "_model_name": "HBoxModel",
            "_view_count": null,
            "_view_module": "@jupyter-widgets/controls",
            "_view_module_version": "1.5.0",
            "_view_name": "HBoxView",
            "box_style": "",
            "children": [
              "IPY_MODEL_87e23f3b24bf42a4b649e741752ad96c",
              "IPY_MODEL_4c42c073d17840c8af1d268622f58722",
              "IPY_MODEL_680ce27788ed47559ccbb74fb1b41e46"
            ],
            "layout": "IPY_MODEL_f79d7326371248c5bb0f731e2b4f4a15"
          }
        },
        "ba8e627c2a2249768b81450193bbb919": {
          "model_module": "@jupyter-widgets/base",
          "model_module_version": "1.2.0",
          "model_name": "LayoutModel",
          "state": {
            "_model_module": "@jupyter-widgets/base",
            "_model_module_version": "1.2.0",
            "_model_name": "LayoutModel",
            "_view_count": null,
            "_view_module": "@jupyter-widgets/base",
            "_view_module_version": "1.2.0",
            "_view_name": "LayoutView",
            "align_content": null,
            "align_items": null,
            "align_self": null,
            "border": null,
            "bottom": null,
            "display": null,
            "flex": null,
            "flex_flow": null,
            "grid_area": null,
            "grid_auto_columns": null,
            "grid_auto_flow": null,
            "grid_auto_rows": null,
            "grid_column": null,
            "grid_gap": null,
            "grid_row": null,
            "grid_template_areas": null,
            "grid_template_columns": null,
            "grid_template_rows": null,
            "height": null,
            "justify_content": null,
            "justify_items": null,
            "left": null,
            "margin": null,
            "max_height": null,
            "max_width": null,
            "min_height": null,
            "min_width": null,
            "object_fit": null,
            "object_position": null,
            "order": null,
            "overflow": null,
            "overflow_x": null,
            "overflow_y": null,
            "padding": null,
            "right": null,
            "top": null,
            "visibility": null,
            "width": null
          }
        },
        "be15ddece2584426a92ad313c5eb779a": {
          "model_module": "@jupyter-widgets/controls",
          "model_module_version": "1.5.0",
          "model_name": "HTMLModel",
          "state": {
            "_dom_classes": [],
            "_model_module": "@jupyter-widgets/controls",
            "_model_module_version": "1.5.0",
            "_model_name": "HTMLModel",
            "_view_count": null,
            "_view_module": "@jupyter-widgets/controls",
            "_view_module_version": "1.5.0",
            "_view_name": "HTMLView",
            "description": "",
            "description_tooltip": null,
            "layout": "IPY_MODEL_ef6b78adc5994a9696f70a6689555268",
            "placeholder": "​",
            "style": "IPY_MODEL_4afdd666bcca43b0ade8d8b714686639",
            "value": " 85499/0 [09:28&lt;00:00, 153.98 examples/s]"
          }
        },
        "c4eabbcc50b145679d4cf862aff34476": {
          "model_module": "@jupyter-widgets/controls",
          "model_module_version": "1.5.0",
          "model_name": "ProgressStyleModel",
          "state": {
            "_model_module": "@jupyter-widgets/controls",
            "_model_module_version": "1.5.0",
            "_model_name": "ProgressStyleModel",
            "_view_count": null,
            "_view_module": "@jupyter-widgets/base",
            "_view_module_version": "1.2.0",
            "_view_name": "StyleView",
            "bar_color": null,
            "description_width": ""
          }
        },
        "c537623134d94e1ea55a676ee3271f0b": {
          "model_module": "@jupyter-widgets/controls",
          "model_module_version": "1.5.0",
          "model_name": "FloatProgressModel",
          "state": {
            "_dom_classes": [],
            "_model_module": "@jupyter-widgets/controls",
            "_model_module_version": "1.5.0",
            "_model_name": "FloatProgressModel",
            "_view_count": null,
            "_view_module": "@jupyter-widgets/controls",
            "_view_module_version": "1.5.0",
            "_view_name": "ProgressView",
            "bar_style": "success",
            "description": "",
            "description_tooltip": null,
            "layout": "IPY_MODEL_47e79578e3ec407fa7eade747fedec77",
            "max": 1,
            "min": 0,
            "orientation": "horizontal",
            "style": "IPY_MODEL_3369732b9149422d80566f4fbc8db7b0",
            "value": 1
          }
        },
        "cb44cdac87d94b1eac5ec8b17a989c31": {
          "model_module": "@jupyter-widgets/controls",
          "model_module_version": "1.5.0",
          "model_name": "FloatProgressModel",
          "state": {
            "_dom_classes": [],
            "_model_module": "@jupyter-widgets/controls",
            "_model_module_version": "1.5.0",
            "_model_name": "FloatProgressModel",
            "_view_count": null,
            "_view_module": "@jupyter-widgets/controls",
            "_view_module_version": "1.5.0",
            "_view_name": "ProgressView",
            "bar_style": "danger",
            "description": "",
            "description_tooltip": null,
            "layout": "IPY_MODEL_87d414b67437424a88ea870a04f2c311",
            "max": 85511,
            "min": 0,
            "orientation": "horizontal",
            "style": "IPY_MODEL_9eef7276fab14f6d95a30f96fe09f9f3",
            "value": 85510
          }
        },
        "cb77715818bd4be781aa9cafb5f7ac62": {
          "model_module": "@jupyter-widgets/base",
          "model_module_version": "1.2.0",
          "model_name": "LayoutModel",
          "state": {
            "_model_module": "@jupyter-widgets/base",
            "_model_module_version": "1.2.0",
            "_model_name": "LayoutModel",
            "_view_count": null,
            "_view_module": "@jupyter-widgets/base",
            "_view_module_version": "1.2.0",
            "_view_name": "LayoutView",
            "align_content": null,
            "align_items": null,
            "align_self": null,
            "border": null,
            "bottom": null,
            "display": null,
            "flex": null,
            "flex_flow": null,
            "grid_area": null,
            "grid_auto_columns": null,
            "grid_auto_flow": null,
            "grid_auto_rows": null,
            "grid_column": null,
            "grid_gap": null,
            "grid_row": null,
            "grid_template_areas": null,
            "grid_template_columns": null,
            "grid_template_rows": null,
            "height": null,
            "justify_content": null,
            "justify_items": null,
            "left": null,
            "margin": null,
            "max_height": null,
            "max_width": null,
            "min_height": null,
            "min_width": null,
            "object_fit": null,
            "object_position": null,
            "order": null,
            "overflow": null,
            "overflow_x": null,
            "overflow_y": null,
            "padding": null,
            "right": null,
            "top": null,
            "visibility": null,
            "width": null
          }
        },
        "d8f638cdf3dd4c5497cb05a8a0fb7ad0": {
          "model_module": "@jupyter-widgets/controls",
          "model_module_version": "1.5.0",
          "model_name": "HTMLModel",
          "state": {
            "_dom_classes": [],
            "_model_module": "@jupyter-widgets/controls",
            "_model_module_version": "1.5.0",
            "_model_name": "HTMLModel",
            "_view_count": null,
            "_view_module": "@jupyter-widgets/controls",
            "_view_module_version": "1.5.0",
            "_view_name": "HTMLView",
            "description": "",
            "description_tooltip": null,
            "layout": "IPY_MODEL_ab13cb424ba54b678428e144cac7775a",
            "placeholder": "​",
            "style": "IPY_MODEL_70f789b7efc043a2bd905cd3b9edd0a7",
            "value": " 2/2 [00:44&lt;00:00, 25.08s/ url]"
          }
        },
        "d99f40914acd40f9bbdb4c75dfd266f4": {
          "model_module": "@jupyter-widgets/controls",
          "model_module_version": "1.5.0",
          "model_name": "HBoxModel",
          "state": {
            "_dom_classes": [],
            "_model_module": "@jupyter-widgets/controls",
            "_model_module_version": "1.5.0",
            "_model_name": "HBoxModel",
            "_view_count": null,
            "_view_module": "@jupyter-widgets/controls",
            "_view_module_version": "1.5.0",
            "_view_name": "HBoxView",
            "box_style": "",
            "children": [
              "IPY_MODEL_ea26d0c8fdc04114890f673c9d618c39",
              "IPY_MODEL_926c53d1bea54f1c958eb1623de9f5eb",
              "IPY_MODEL_28b7920d953841c998fc535552ebc430"
            ],
            "layout": "IPY_MODEL_288f79a7a6aa48fa9905203ccc53f0a0"
          }
        },
        "df1fac49d5d045c09df74677a397dde2": {
          "model_module": "@jupyter-widgets/controls",
          "model_module_version": "1.5.0",
          "model_name": "HTMLModel",
          "state": {
            "_dom_classes": [],
            "_model_module": "@jupyter-widgets/controls",
            "_model_module_version": "1.5.0",
            "_model_name": "HTMLModel",
            "_view_count": null,
            "_view_module": "@jupyter-widgets/controls",
            "_view_module_version": "1.5.0",
            "_view_name": "HTMLView",
            "description": "",
            "description_tooltip": null,
            "layout": "IPY_MODEL_b02f05313faa42569416ae4c3bdc2b00",
            "placeholder": "​",
            "style": "IPY_MODEL_650127bf9679430bbbade80ecf33d2b6",
            "value": "100%"
          }
        },
        "df4c61bdd443427fac6693cabc1b0e76": {
          "model_module": "@jupyter-widgets/controls",
          "model_module_version": "1.5.0",
          "model_name": "DescriptionStyleModel",
          "state": {
            "_model_module": "@jupyter-widgets/controls",
            "_model_module_version": "1.5.0",
            "_model_name": "DescriptionStyleModel",
            "_view_count": null,
            "_view_module": "@jupyter-widgets/base",
            "_view_module_version": "1.2.0",
            "_view_name": "StyleView",
            "description_width": ""
          }
        },
        "e0f06924177e4d2ab42dd20bc9c32148": {
          "model_module": "@jupyter-widgets/controls",
          "model_module_version": "1.5.0",
          "model_name": "DescriptionStyleModel",
          "state": {
            "_model_module": "@jupyter-widgets/controls",
            "_model_module_version": "1.5.0",
            "_model_name": "DescriptionStyleModel",
            "_view_count": null,
            "_view_module": "@jupyter-widgets/base",
            "_view_module_version": "1.2.0",
            "_view_name": "StyleView",
            "description_width": ""
          }
        },
        "e36e782b71d1498cb496046952d4eec5": {
          "model_module": "@jupyter-widgets/base",
          "model_module_version": "1.2.0",
          "model_name": "LayoutModel",
          "state": {
            "_model_module": "@jupyter-widgets/base",
            "_model_module_version": "1.2.0",
            "_model_name": "LayoutModel",
            "_view_count": null,
            "_view_module": "@jupyter-widgets/base",
            "_view_module_version": "1.2.0",
            "_view_name": "LayoutView",
            "align_content": null,
            "align_items": null,
            "align_self": null,
            "border": null,
            "bottom": null,
            "display": null,
            "flex": null,
            "flex_flow": null,
            "grid_area": null,
            "grid_auto_columns": null,
            "grid_auto_flow": null,
            "grid_auto_rows": null,
            "grid_column": null,
            "grid_gap": null,
            "grid_row": null,
            "grid_template_areas": null,
            "grid_template_columns": null,
            "grid_template_rows": null,
            "height": null,
            "justify_content": null,
            "justify_items": null,
            "left": null,
            "margin": null,
            "max_height": null,
            "max_width": null,
            "min_height": null,
            "min_width": null,
            "object_fit": null,
            "object_position": null,
            "order": null,
            "overflow": null,
            "overflow_x": null,
            "overflow_y": null,
            "padding": null,
            "right": null,
            "top": null,
            "visibility": null,
            "width": null
          }
        },
        "e7ccd2b99fd340b6b1b51c688ae81728": {
          "model_module": "@jupyter-widgets/base",
          "model_module_version": "1.2.0",
          "model_name": "LayoutModel",
          "state": {
            "_model_module": "@jupyter-widgets/base",
            "_model_module_version": "1.2.0",
            "_model_name": "LayoutModel",
            "_view_count": null,
            "_view_module": "@jupyter-widgets/base",
            "_view_module_version": "1.2.0",
            "_view_name": "LayoutView",
            "align_content": null,
            "align_items": null,
            "align_self": null,
            "border": null,
            "bottom": null,
            "display": null,
            "flex": null,
            "flex_flow": null,
            "grid_area": null,
            "grid_auto_columns": null,
            "grid_auto_flow": null,
            "grid_auto_rows": null,
            "grid_column": null,
            "grid_gap": null,
            "grid_row": null,
            "grid_template_areas": null,
            "grid_template_columns": null,
            "grid_template_rows": null,
            "height": null,
            "justify_content": null,
            "justify_items": null,
            "left": null,
            "margin": null,
            "max_height": null,
            "max_width": null,
            "min_height": null,
            "min_width": null,
            "object_fit": null,
            "object_position": null,
            "order": null,
            "overflow": null,
            "overflow_x": null,
            "overflow_y": null,
            "padding": null,
            "right": null,
            "top": null,
            "visibility": null,
            "width": null
          }
        },
        "e925e9563d794cadbea985c038421f53": {
          "model_module": "@jupyter-widgets/controls",
          "model_module_version": "1.5.0",
          "model_name": "DescriptionStyleModel",
          "state": {
            "_model_module": "@jupyter-widgets/controls",
            "_model_module_version": "1.5.0",
            "_model_name": "DescriptionStyleModel",
            "_view_count": null,
            "_view_module": "@jupyter-widgets/base",
            "_view_module_version": "1.2.0",
            "_view_name": "StyleView",
            "description_width": ""
          }
        },
        "ea26d0c8fdc04114890f673c9d618c39": {
          "model_module": "@jupyter-widgets/controls",
          "model_module_version": "1.5.0",
          "model_name": "HTMLModel",
          "state": {
            "_dom_classes": [],
            "_model_module": "@jupyter-widgets/controls",
            "_model_module_version": "1.5.0",
            "_model_name": "HTMLModel",
            "_view_count": null,
            "_view_module": "@jupyter-widgets/controls",
            "_view_module_version": "1.5.0",
            "_view_name": "HTMLView",
            "description": "",
            "description_tooltip": null,
            "layout": "IPY_MODEL_8502621448a74334b75c82cdf87328bb",
            "placeholder": "​",
            "style": "IPY_MODEL_1763a9e63423494cb26bd7057cdd1100",
            "value": "100%"
          }
        },
        "ef6b78adc5994a9696f70a6689555268": {
          "model_module": "@jupyter-widgets/base",
          "model_module_version": "1.2.0",
          "model_name": "LayoutModel",
          "state": {
            "_model_module": "@jupyter-widgets/base",
            "_model_module_version": "1.2.0",
            "_model_name": "LayoutModel",
            "_view_count": null,
            "_view_module": "@jupyter-widgets/base",
            "_view_module_version": "1.2.0",
            "_view_name": "LayoutView",
            "align_content": null,
            "align_items": null,
            "align_self": null,
            "border": null,
            "bottom": null,
            "display": null,
            "flex": null,
            "flex_flow": null,
            "grid_area": null,
            "grid_auto_columns": null,
            "grid_auto_flow": null,
            "grid_auto_rows": null,
            "grid_column": null,
            "grid_gap": null,
            "grid_row": null,
            "grid_template_areas": null,
            "grid_template_columns": null,
            "grid_template_rows": null,
            "height": null,
            "justify_content": null,
            "justify_items": null,
            "left": null,
            "margin": null,
            "max_height": null,
            "max_width": null,
            "min_height": null,
            "min_width": null,
            "object_fit": null,
            "object_position": null,
            "order": null,
            "overflow": null,
            "overflow_x": null,
            "overflow_y": null,
            "padding": null,
            "right": null,
            "top": null,
            "visibility": null,
            "width": null
          }
        },
        "efccef0040b24b488993779905fa145e": {
          "model_module": "@jupyter-widgets/base",
          "model_module_version": "1.2.0",
          "model_name": "LayoutModel",
          "state": {
            "_model_module": "@jupyter-widgets/base",
            "_model_module_version": "1.2.0",
            "_model_name": "LayoutModel",
            "_view_count": null,
            "_view_module": "@jupyter-widgets/base",
            "_view_module_version": "1.2.0",
            "_view_name": "LayoutView",
            "align_content": null,
            "align_items": null,
            "align_self": null,
            "border": null,
            "bottom": null,
            "display": null,
            "flex": null,
            "flex_flow": null,
            "grid_area": null,
            "grid_auto_columns": null,
            "grid_auto_flow": null,
            "grid_auto_rows": null,
            "grid_column": null,
            "grid_gap": null,
            "grid_row": null,
            "grid_template_areas": null,
            "grid_template_columns": null,
            "grid_template_rows": null,
            "height": null,
            "justify_content": null,
            "justify_items": null,
            "left": null,
            "margin": null,
            "max_height": null,
            "max_width": null,
            "min_height": null,
            "min_width": null,
            "object_fit": null,
            "object_position": null,
            "order": null,
            "overflow": null,
            "overflow_x": null,
            "overflow_y": null,
            "padding": null,
            "right": null,
            "top": null,
            "visibility": null,
            "width": null
          }
        },
        "f12b385712c3492b99ea12d9795483d2": {
          "model_module": "@jupyter-widgets/controls",
          "model_module_version": "1.5.0",
          "model_name": "HBoxModel",
          "state": {
            "_dom_classes": [],
            "_model_module": "@jupyter-widgets/controls",
            "_model_module_version": "1.5.0",
            "_model_name": "HBoxModel",
            "_view_count": null,
            "_view_module": "@jupyter-widgets/controls",
            "_view_module_version": "1.5.0",
            "_view_name": "HBoxView",
            "box_style": "",
            "children": [
              "IPY_MODEL_72e0b17f6ca442b784bc635112a2416f",
              "IPY_MODEL_82a570256dc34d76a7fbf56524d0f3d5",
              "IPY_MODEL_be15ddece2584426a92ad313c5eb779a"
            ],
            "layout": "IPY_MODEL_ba8e627c2a2249768b81450193bbb919"
          }
        },
        "f28ebbf31972465dabfd5f768577b2d4": {
          "model_module": "@jupyter-widgets/controls",
          "model_module_version": "1.5.0",
          "model_name": "HTMLModel",
          "state": {
            "_dom_classes": [],
            "_model_module": "@jupyter-widgets/controls",
            "_model_module_version": "1.5.0",
            "_model_name": "HTMLModel",
            "_view_count": null,
            "_view_module": "@jupyter-widgets/controls",
            "_view_module_version": "1.5.0",
            "_view_name": "HTMLView",
            "description": "",
            "description_tooltip": null,
            "layout": "IPY_MODEL_9afc5e4fa3774f08b35cc815cc665ef7",
            "placeholder": "​",
            "style": "IPY_MODEL_e925e9563d794cadbea985c038421f53",
            "value": " 10101/10102 [00:02&lt;00:00, 2827.83 examples/s]"
          }
        },
        "f79d7326371248c5bb0f731e2b4f4a15": {
          "model_module": "@jupyter-widgets/base",
          "model_module_version": "1.2.0",
          "model_name": "LayoutModel",
          "state": {
            "_model_module": "@jupyter-widgets/base",
            "_model_module_version": "1.2.0",
            "_model_name": "LayoutModel",
            "_view_count": null,
            "_view_module": "@jupyter-widgets/base",
            "_view_module_version": "1.2.0",
            "_view_name": "LayoutView",
            "align_content": null,
            "align_items": null,
            "align_self": null,
            "border": null,
            "bottom": null,
            "display": null,
            "flex": null,
            "flex_flow": null,
            "grid_area": null,
            "grid_auto_columns": null,
            "grid_auto_flow": null,
            "grid_auto_rows": null,
            "grid_column": null,
            "grid_gap": null,
            "grid_row": null,
            "grid_template_areas": null,
            "grid_template_columns": null,
            "grid_template_rows": null,
            "height": null,
            "justify_content": null,
            "justify_items": null,
            "left": null,
            "margin": null,
            "max_height": null,
            "max_width": null,
            "min_height": null,
            "min_width": null,
            "object_fit": null,
            "object_position": null,
            "order": null,
            "overflow": null,
            "overflow_x": null,
            "overflow_y": null,
            "padding": null,
            "right": null,
            "top": null,
            "visibility": null,
            "width": null
          }
        }
      }
    }
  },
  "nbformat": 4,
  "nbformat_minor": 0
}
